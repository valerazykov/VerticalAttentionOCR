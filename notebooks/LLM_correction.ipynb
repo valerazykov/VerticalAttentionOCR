{
 "cells": [
  {
   "cell_type": "code",
   "execution_count": 10,
   "metadata": {
    "execution": {
     "iopub.execute_input": "2024-12-02T11:56:05.270312Z",
     "iopub.status.busy": "2024-12-02T11:56:05.269313Z",
     "iopub.status.idle": "2024-12-02T11:56:05.565671Z",
     "shell.execute_reply": "2024-12-02T11:56:05.564725Z",
     "shell.execute_reply.started": "2024-12-02T11:56:05.270312Z"
    }
   },
   "outputs": [],
   "source": [
    "import requests\n",
    "import json\n",
    "import os\n",
    "from pathlib import Path\n",
    "import editdistance\n",
    "import pickle"
   ]
  },
  {
   "cell_type": "code",
   "execution_count": 2,
   "metadata": {},
   "outputs": [],
   "source": [
    "tokens = json.loads(requests.post(\n",
    "    'https://openai-proxy.tcsbank.ru/auth/v1/token',\n",
    "    json={\n",
    "        'username': f\"{os.getenv(\"GREENPLUM_USER\")}@tcsbank.ru\",\n",
    "        'password': os.getenv(\"GREENPLUM_PASSWORD\")\n",
    "    }).text\n",
    ")"
   ]
  },
  {
   "cell_type": "code",
   "execution_count": 3,
   "metadata": {},
   "outputs": [],
   "source": [
    "headers = {\n",
    "    \"Authorization\": f\"Bearer {tokens['access_token']}\",  # Укажите реальный токен\n",
    "    \"Content-Type\": \"application/json\"\n",
    "}"
   ]
  },
  {
   "cell_type": "code",
   "execution_count": 4,
   "metadata": {
    "execution": {
     "iopub.execute_input": "2024-12-02T11:56:14.698669Z",
     "iopub.status.busy": "2024-12-02T11:56:14.698669Z",
     "iopub.status.idle": "2024-12-02T11:56:14.721157Z",
     "shell.execute_reply": "2024-12-02T11:56:14.719156Z",
     "shell.execute_reply.started": "2024-12-02T11:56:14.698669Z"
    }
   },
   "outputs": [],
   "source": [
    "train_names = ['11', '15', '17', '17об', '18об', '19', '19об', '20', '20об', '21', '21об', '22', '23', '23об', '24', '24об', '25', '25об', '26', '26об', '27', '27об', '28', '28об', '29', '29об', '2об', '30об', '31', '31об', '32', '32об', '33', '33об', '34', '34об', '35', '35об', '36', '38', '38об', '39', '39об', '40', '40об', '41', '41об', '42', '42об', '43', '43об', '44', '45об', '46', '46об', '47', '47об', '48', '48об', '49', '49об', '50', '50об', '51', '51об', '52', '52об', '53', '53об', '54', '54об', '55', '55об', '56', '56об', '57', '57об', '58']\n",
    "val_names = ['58об', '59', '59об', '60', '60об']\n",
    "test_names = ['61', '75', '75об', '7об', '95']\n",
    "\n",
    "# train_names = ['11', '15', '17', '17об', '18', '18об', '19', '19об', '20', '20об', '21', '21об', '22', '22об', '23', '23об', '24', '24об', '25', '25об', '26', '26об', '27', '27об', '28', '28об', '29', '29об', '2об', '30', '30об', '31', '31об', '32', '32об', '33', '33об', '34', '34об', '35', '35об', '36', '38', '38об', '39', '39об', '40', '40об', '41', '41об', '42', '42об', '43', '43об', '44', '45об', '46', '46об', '47', '47об', '48', '48об', '49', '49об', '50', '50об', '51', '51об', '52', '52об', '53', '53об', '54', '54об', '55', '55об', '56', '56об', '57', '57об', '58', '58об']\n",
    "# val_names = ['59', '59об', '60', '60об']\n",
    "# #test_names = ['61', '75', '75об', '7об', '88об', '95']\n",
    "# test_names = ['61', '75', '75об', '7об', '95']"
   ]
  },
  {
   "cell_type": "code",
   "execution_count": 5,
   "metadata": {
    "execution": {
     "iopub.execute_input": "2024-12-02T11:57:51.618838Z",
     "iopub.status.busy": "2024-12-02T11:57:51.617854Z",
     "iopub.status.idle": "2024-12-02T11:57:51.641178Z",
     "shell.execute_reply": "2024-12-02T11:57:51.639177Z",
     "shell.execute_reply.started": "2024-12-02T11:57:51.618838Z"
    }
   },
   "outputs": [],
   "source": [
    "def get_human_and_model_pages(names, texts_path=\"../../Подстрочник/Дневник_С-К/438-1-219\", prefix=\"438-1-219 л\", skip_hashtag=True):\n",
    "    texts_path = Path(texts_path)\n",
    "    human_pages = []\n",
    "    model_pages = []\n",
    "\n",
    "    for name in names:\n",
    "        human_lines_filtered = []\n",
    "        model_lines_filtered = []\n",
    "        human_path = texts_path / \"Human_text\" / f\"{prefix}{name}.txt\"\n",
    "        model_path = texts_path / \"Model_text\" / f\"{prefix}{name}.txt\"\n",
    "        assert human_path.is_file()\n",
    "        assert model_path.is_file()\n",
    "        with open(human_path, \"r\", encoding=\"utf-8-sig\") as human_file:\n",
    "            human_lines = human_file.readlines()\n",
    "        with open(model_path, \"r\", encoding=\"utf-8-sig\") as model_file:\n",
    "            model_lines = model_file.readlines()\n",
    "\n",
    "        # Убираем пустую строку в конце\n",
    "        if human_lines[-1].strip() == \"\":\n",
    "            human_lines = human_lines[:-1]\n",
    "        if model_lines[-1].strip() == \"\":\n",
    "            model_lines = model_lines[:-1]\n",
    "\n",
    "        if len(human_lines) != len(model_lines) or len(model_lines) == 0:\n",
    "            print(f\"len(human_lines) != len(model_lines) or len(model_lines) == 0 for {name}\")\n",
    "            continue\n",
    "\n",
    "        for human_line, model_line in zip(human_lines, model_lines):\n",
    "            human_line = human_line.replace(\"\\u200b\", \"\").strip()\n",
    "            model_line = model_line.replace(\"\\u200b\", \"\").strip()\n",
    "            if skip_hashtag and \"#\" in human_line:\n",
    "                continue\n",
    "            if human_line[-1] == \"$\":\n",
    "                human_line = human_line[:-1]\n",
    "            if model_line[-1] == \"$\":\n",
    "                model_line = model_line[:-1]\n",
    "            human_lines_filtered.append(human_line)\n",
    "            model_lines_filtered.append(model_line)\n",
    "\n",
    "        human_pages.append(\"\\n\".join(human_lines_filtered))\n",
    "        model_pages.append(\"\\n\".join(model_lines_filtered))\n",
    "\n",
    "    return human_pages, model_pages"
   ]
  },
  {
   "cell_type": "code",
   "execution_count": 6,
   "metadata": {
    "execution": {
     "iopub.execute_input": "2024-12-02T11:57:31.891181Z",
     "iopub.status.busy": "2024-12-02T11:57:31.890179Z",
     "iopub.status.idle": "2024-12-02T11:57:31.900498Z",
     "shell.execute_reply": "2024-12-02T11:57:31.899487Z",
     "shell.execute_reply.started": "2024-12-02T11:57:31.891181Z"
    }
   },
   "outputs": [],
   "source": [
    "def calc_cer_from_pages(human_pages, model_pages, by_lines=True):\n",
    "    cer_sum = 0\n",
    "    n_chars_gt = 0\n",
    "    for human_page, model_page in zip(human_pages, model_pages, strict=True):\n",
    "        human_page = human_page.strip()\n",
    "        model_page = model_page.strip()\n",
    "        if by_lines:\n",
    "            for human_line, model_line in zip(human_page.split(\"\\n\"), model_page.split(\"\\n\"), strict=True):\n",
    "                cer_sum += editdistance.eval(human_line, model_line)\n",
    "                n_chars_gt += len(human_line)\n",
    "        else:\n",
    "            human_page = human_page.replace(\"\\n\", \" \")\n",
    "            model_page = model_page.replace(\"\\n\", \" \")\n",
    "            cer_sum += editdistance.eval(human_page, model_page)\n",
    "            n_chars_gt += len(human_page)\n",
    "    return cer_sum / n_chars_gt"
   ]
  },
  {
   "cell_type": "code",
   "execution_count": 7,
   "metadata": {
    "execution": {
     "iopub.execute_input": "2024-12-02T11:57:32.716676Z",
     "iopub.status.busy": "2024-12-02T11:57:32.715744Z",
     "iopub.status.idle": "2024-12-02T11:57:32.730677Z",
     "shell.execute_reply": "2024-12-02T11:57:32.729708Z",
     "shell.execute_reply.started": "2024-12-02T11:57:32.716676Z"
    }
   },
   "outputs": [
    {
     "name": "stderr",
     "output_type": "stream",
     "text": [
      "<>:5: SyntaxWarning: invalid escape sequence '\\['\n",
      "<>:5: SyntaxWarning: invalid escape sequence '\\['\n",
      "/var/folders/pp/0c5gvmy13ddcb_0yx8m9lfkw0000gq/T/ipykernel_37444/534092124.py:5: SyntaxWarning: invalid escape sequence '\\['\n",
      "  str = re.sub('([\\[\\]{}/\\\\()\\\"\\'&+*=<>?.;:,!\\-—_€#%°])', r' \\1 ', str)\n"
     ]
    }
   ],
   "source": [
    "import re\n",
    "\n",
    "\n",
    "def format_string_for_wer(str):\n",
    "    str = re.sub('([\\[\\]{}/\\\\()\\\"\\'&+*=<>?.;:,!\\-—_€#%°])', r' \\1 ', str)\n",
    "    str = re.sub('([ \\n])+', \" \", str).strip()\n",
    "    return str\n",
    "\n",
    "\n",
    "def edit_wer_from_list(truth, pred):\n",
    "    edit = 0\n",
    "    for pred, gt in zip(pred, truth):\n",
    "        gt = format_string_for_wer(gt)\n",
    "        pred = format_string_for_wer(pred)\n",
    "        gt = gt.split(\" \")\n",
    "        pred = pred.split(\" \")\n",
    "        edit += editdistance.eval(gt, pred)\n",
    "    return edit\n",
    "\n",
    "\n",
    "def nb_words_from_list(list_gt):\n",
    "    len_ = 0\n",
    "    for gt in list_gt:\n",
    "        gt = format_string_for_wer(gt)\n",
    "        gt = gt.split(\" \")\n",
    "        len_ += len(gt)\n",
    "    return len_\n",
    "\n",
    "def wer_from_list_str(str_gt, str_pred):\n",
    "    len_ = 0\n",
    "    edit = 0\n",
    "    for pred, gt in zip(str_pred, str_gt):\n",
    "        gt = format_string_for_wer(gt)\n",
    "        pred = format_string_for_wer(pred)\n",
    "        gt = gt.split(\" \")\n",
    "        pred = pred.split(\" \")\n",
    "        edit += editdistance.eval(gt, pred)\n",
    "        len_ += len(gt)\n",
    "    cer = edit / len_\n",
    "    return cer"
   ]
  },
  {
   "cell_type": "code",
   "execution_count": 8,
   "metadata": {
    "execution": {
     "iopub.execute_input": "2024-12-02T11:57:33.691390Z",
     "iopub.status.busy": "2024-12-02T11:57:33.691390Z",
     "iopub.status.idle": "2024-12-02T11:57:33.713391Z",
     "shell.execute_reply": "2024-12-02T11:57:33.711417Z",
     "shell.execute_reply.started": "2024-12-02T11:57:33.691390Z"
    }
   },
   "outputs": [],
   "source": [
    "def calc_wer_from_pages(human_pages, model_pages):\n",
    "    human_lines = []\n",
    "    model_lines = []\n",
    "    for human_page, model_page in zip(human_pages, model_pages, strict=True):\n",
    "        human_page = human_page.strip()\n",
    "        model_page = model_page.strip()\n",
    "        for human_line, model_line in zip(human_page.split(\"\\n\"), model_page.split(\"\\n\"), strict=True):\n",
    "            human_lines.append(human_line)\n",
    "            model_lines.append(model_line)\n",
    "    return wer_from_list_str(human_lines, model_lines)"
   ]
  },
  {
   "cell_type": "code",
   "execution_count": null,
   "metadata": {
    "execution": {
     "iopub.execute_input": "2024-12-02T11:57:56.171819Z",
     "iopub.status.busy": "2024-12-02T11:57:56.170804Z",
     "iopub.status.idle": "2024-12-02T11:57:56.204822Z",
     "shell.execute_reply": "2024-12-02T11:57:56.202802Z",
     "shell.execute_reply.started": "2024-12-02T11:57:56.171819Z"
    }
   },
   "outputs": [],
   "source": [
    "human_pages_val, model_pages_val = get_human_and_model_pages(val_names)\n",
    "human_pages_test, model_pages_test = get_human_and_model_pages(test_names)"
   ]
  },
  {
   "cell_type": "code",
   "execution_count": null,
   "metadata": {
    "execution": {
     "iopub.execute_input": "2024-12-02T11:57:56.211865Z",
     "iopub.status.busy": "2024-12-02T11:57:56.210816Z",
     "iopub.status.idle": "2024-12-02T11:57:56.269261Z",
     "shell.execute_reply": "2024-12-02T11:57:56.267264Z",
     "shell.execute_reply.started": "2024-12-02T11:57:56.211865Z"
    }
   },
   "outputs": [
    {
     "data": {
      "text/plain": [
       "0.28349584687612855"
      ]
     },
     "execution_count": 34,
     "metadata": {},
     "output_type": "execute_result"
    }
   ],
   "source": [
    "calc_cer_from_pages(human_pages_val, model_pages_val)"
   ]
  },
  {
   "cell_type": "code",
   "execution_count": null,
   "metadata": {},
   "outputs": [
    {
     "data": {
      "text/plain": [
       "0.22167200699097"
      ]
     },
     "execution_count": 35,
     "metadata": {},
     "output_type": "execute_result"
    }
   ],
   "source": [
    "calc_cer_from_pages(human_pages_test, model_pages_test)"
   ]
  },
  {
   "cell_type": "code",
   "execution_count": 10,
   "metadata": {},
   "outputs": [],
   "source": [
    "def make_system_prompt(human_pages, model_pages):\n",
    "    prompt = f\"\"\"Твоя задача - корректировать входной текст, исправляя в нем ошибки.\n",
    "Это текст, распознанный моделью компьютерного зрения с рукописей. Рукописи написаны на русском языке 19 века (также иногда присутствуют другие языки).\n",
    "Цель - получить максимально близкий к рукописи вариант расшифровки.\n",
    "Модель допускает много ошибок в распознавании символов.\n",
    "Исправляй только самые явные и понятные места. Если фрагмент текста сложно разобрать, то сохраняй его в том же виде, в котором и получил.\n",
    "Сохраняй имена собственные и числительные как есть. Сохраняй исходную последовательность слов.\"\"\"\n",
    "    examples = \"Примеры:\\n\"\n",
    "    for i, (human_page, model_page) in enumerate(zip(human_pages, model_pages, strict=True)):\n",
    "        for human_line, model_line in zip(human_page.split(\"\\n\"), model_page.split(\"\\n\"), strict=True):\n",
    "            human_line = human_line.strip()\n",
    "            model_line = model_line.strip()\n",
    "            examples += f\"{model_line} -> {human_line}\\n\"\n",
    "    return prompt + \"\\n\\n\" + examples"
   ]
  },
  {
   "cell_type": "code",
   "execution_count": 11,
   "metadata": {},
   "outputs": [
    {
     "ename": "NameError",
     "evalue": "name 'human_pages_val' is not defined",
     "output_type": "error",
     "traceback": [
      "\u001b[0;31m---------------------------------------------------------------------------\u001b[0m",
      "\u001b[0;31mNameError\u001b[0m                                 Traceback (most recent call last)",
      "Cell \u001b[0;32mIn[11], line 1\u001b[0m\n\u001b[0;32m----> 1\u001b[0m system_prompt \u001b[38;5;241m=\u001b[39m make_system_prompt(\u001b[43mhuman_pages_val\u001b[49m, model_pages_val)\n\u001b[1;32m      2\u001b[0m \u001b[38;5;28mprint\u001b[39m(system_prompt)\n",
      "\u001b[0;31mNameError\u001b[0m: name 'human_pages_val' is not defined"
     ]
    }
   ],
   "source": [
    "system_prompt = make_system_prompt(human_pages_val, model_pages_val)\n",
    "print(system_prompt)"
   ]
  },
  {
   "cell_type": "markdown",
   "metadata": {
    "jp-MarkdownHeadingCollapsed": true
   },
   "source": [
    "## Обрабатывем тестовые строки независимо"
   ]
  },
  {
   "cell_type": "code",
   "execution_count": 15,
   "metadata": {},
   "outputs": [],
   "source": [
    "def get_response(question, access_token=tokens[\"access_token\"], system_prompt=system_prompt, temperature=0, model=\"chatgpt-4o-latest\", print_errors=True):\n",
    "    response = json.loads(\n",
    "        requests.post(\n",
    "            'https://openai-proxy.tcsbank.ru/public/v1/chat/completions', \n",
    "            headers={\n",
    "                \"Authorization\": f\"Bearer {access_token}\",\n",
    "                \"Content-Type\": \"application/json\",\n",
    "                \"x-proxy-mask-critical-data\": \"1\",\n",
    "                \"x-proxy-unmask-critical-data\": \"1\",\n",
    "            },\n",
    "            json={\n",
    "                \"model\": model,\n",
    "                \"messages\": [\n",
    "                    {\"role\": \"system\", \"content\": system_prompt},\n",
    "                    {\"role\": \"user\",  \"content\": question}\n",
    "                ],\n",
    "                \"temperature\": temperature,\n",
    "            },\n",
    "        ).text\n",
    "    )\n",
    "    if \"choices\" not in response:\n",
    "        if print_errors:\n",
    "            print(response)\n",
    "        return None\n",
    "    return response[\"choices\"][0][\"message\"][\"content\"]"
   ]
  },
  {
   "cell_type": "code",
   "execution_count": 16,
   "metadata": {},
   "outputs": [
    {
     "name": "stdout",
     "output_type": "stream",
     "text": [
      "Мартъ. 3-го. Уѣхалъ въ Петербургъ, ибо дѣло приняло дурной.\n"
     ]
    }
   ],
   "source": [
    "print(get_response(model_pages_test[3].split(\"\\n\")[0] + \" -> \"))"
   ]
  },
  {
   "cell_type": "code",
   "execution_count": 17,
   "metadata": {},
   "outputs": [],
   "source": [
    "from tqdm import tqdm\n",
    "import time\n",
    "\n",
    "\n",
    "def get_correction(\n",
    "    model_pages,\n",
    "    **get_response_kwargs\n",
    "):\n",
    "    corrected_pages = []\n",
    "    for model_page in tqdm(model_pages):\n",
    "        corrected_lines = []\n",
    "        for model_line in tqdm(model_page.split(\"\\n\"), leave=False):\n",
    "            model_line = model_line.strip()\n",
    "            corrected_line = get_response(model_line + \" -> \", **get_response_kwargs)\n",
    "            if corrected_line is None:\n",
    "                time.sleep(10)\n",
    "                corrected_line = get_response(model_line + \" -> \", **get_response_kwargs)\n",
    "                if corrected_line is None:\n",
    "                    raise Exception(f\"Could not get response for {model_line}\")\n",
    "            corrected_lines.append(corrected_line)\n",
    "        corrected_pages.append(\"\\n\".join(corrected_lines))\n",
    "    return corrected_pages"
   ]
  },
  {
   "cell_type": "code",
   "execution_count": 104,
   "metadata": {},
   "outputs": [
    {
     "name": "stderr",
     "output_type": "stream",
     "text": [
      "100%|██████████| 5/5 [09:10<00:00, 110.12s/it]\n"
     ]
    }
   ],
   "source": [
    "corrected_pages_test = get_correction(model_pages_test, print_errors=False)"
   ]
  },
  {
   "cell_type": "code",
   "execution_count": 105,
   "metadata": {},
   "outputs": [
    {
     "name": "stdout",
     "output_type": "stream",
     "text": [
      "ok\n",
      "ok\n",
      "ok\n",
      "ok\n",
      "ok\n"
     ]
    }
   ],
   "source": [
    "for human_page, corrected_page in zip(human_pages_test, corrected_pages_test, strict=True):\n",
    "    human_lines = human_page.strip().split(\"\\n\")\n",
    "    corrected_lines = corrected_page.strip().split(\"\\n\")\n",
    "    if len(human_lines) == len(corrected_lines):\n",
    "        print(\"ok\")\n",
    "    else:\n",
    "        print(\"not ok: \", end=\"\")\n",
    "        print(len(human_lines), len(corrected_lines))"
   ]
  },
  {
   "cell_type": "code",
   "execution_count": 106,
   "metadata": {},
   "outputs": [
    {
     "name": "stdout",
     "output_type": "stream",
     "text": [
      "CER до GPT:     0.2167\n",
      "CER после GPT:  0.2150\n"
     ]
    }
   ],
   "source": [
    "# отдельные строки как примеры\n",
    "print(f\"CER до GPT:    {calc_cer_from_pages(human_pages_test, model_pages_test, by_lines=False) : .4f}\")\n",
    "print(f\"CER после GPT: {calc_cer_from_pages(human_pages_test, corrected_pages_test, by_lines=False) : .4f}\")"
   ]
  },
  {
   "cell_type": "code",
   "execution_count": 112,
   "metadata": {},
   "outputs": [
    {
     "name": "stdout",
     "output_type": "stream",
     "text": [
      "WER до GPT:     0.5991\n",
      "WER после GPT:  0.5178\n"
     ]
    }
   ],
   "source": [
    "# отдельные строки как примеры\n",
    "print(f\"WER до GPT:    {calc_wer_from_pages(human_pages_test, model_pages_test) : .4f}\")\n",
    "print(f\"WER после GPT: {calc_wer_from_pages(human_pages_test, corrected_pages_test) : .4f}\")"
   ]
  },
  {
   "cell_type": "code",
   "execution_count": null,
   "metadata": {},
   "outputs": [
    {
     "name": "stdout",
     "output_type": "stream",
     "text": [
      " 0.2167\n",
      " 0.2636\n"
     ]
    }
   ],
   "source": [
    "# целые страницы как примеры\n",
    "print(f\"{calc_cer_from_pages(human_pages_test, model_pages_test, by_lines=False) : .4f}\")\n",
    "print(f\"{calc_cer_from_pages(human_pages_test, corrected_pages_test, by_lines=False) : .4f}\")"
   ]
  },
  {
   "cell_type": "code",
   "execution_count": 107,
   "metadata": {},
   "outputs": [
    {
     "name": "stdout",
     "output_type": "stream",
     "text": [
      "Model:   Рябикова\n",
      "ChatGPT: Рябикова\n",
      "Human:   Рябчикова\n",
      "\n",
      "Model:   Онь дсиля въ работникахъ и конца, и кроалъ что-т\n",
      "ChatGPT: Онъ дѣлялъ въ работникахъ и конца, и края что-то.\n",
      "Human:   Онъ де жилъ въ работникахъ у купца ; укралъ что-то\n",
      "\n",
      "Model:   ителъ удосилъ его палкой-по Голавѣ отъ чеи у не..\n",
      "ChatGPT: ителъ ударилъ его палкой по головѣ, отъ чего у не...\n",
      "Human:   и тотъ ударилъ его палкою по головѣ, отчаго у него\n",
      "\n",
      "Model:   и дѣлилаь удто бѣлая горянька. Обранясе къ Губер-\n",
      "ChatGPT: и дѣлилась, будто бѣлая горлинка. Обращаясь къ Губер-\n",
      "Human:   и сдѣлалась будто бѣлая горячка. Обратясь къ губер-\n",
      "\n",
      "Model:   натору. В - вросодъ въ, А ріес le . Смумаюсь.\n",
      "ChatGPT: натору. Въ – вопросъ въ А. Ріешѣніе. Сомневаюсь.\n",
      "Human:   натору: В – f! Prens-le, pince-le! – Слушаюсь.\n",
      "\n",
      "Model:   Болья никакилъ раторяженійи не было сцѣлано. Вороемъ\n",
      "ChatGPT: Большаго никакихъ распоряженій не было сдѣлано. Воробьемъ\n",
      "Human:   Болѣе никакихъ распоряженій и не было сдѣлано. Впрочемъ,\n",
      "\n",
      "Model:   « гасовые возватлѣтсь на преженія мѣста – ибо\n",
      "ChatGPT: «Гласные возвратились на прежнія мѣста – ибо\n",
      "Human:   и часовые возвратились на прежніе мѣста – ибо\n",
      "\n",
      "Model:   въ прочиньномъ слугаѣ и острожные остались бы беъ.1\n",
      "ChatGPT: въ прочайшемъ случаѣ и острожные остались бы безъ.\n",
      "Human:   въ противномъ случаѣ и острожные остались бы безъ\n",
      "\n",
      "Model:   всякагю кожаува. ie\n",
      "ChatGPT: всякаго кожуха.\n",
      "Human:   всякаго караула.\n",
      "\n",
      "Model:   .Вечеромъ литалъ піэссу – ядѣ чревынойно\n",
      "ChatGPT: Вечеромъ читалъ піэссу – ядѣ чрезвычайно\n",
      "Human:   Вечеромъ читалъ піэссу – Дядѣ чрезвычайно\n",
      "\n",
      "Model:   понравилась. – бекаеру также.\n",
      "ChatGPT: понравилась. – Беккеру также.\n",
      "Human:   понравилась – Беккеру также.\n",
      "\n",
      "Model:   10-г. утромъ выѣхалъ въ дѣекаеевское. Почвалъ в\n",
      "ChatGPT: 10-го. Утромъ выѣхалъ въ Дѣдкаевское. Почивалъ в...\n",
      "Human:   10-го утромъ выѣхалъ въ Алексеевское. Ночевалъ въ\n",
      "\n",
      "Model:   1856. Годъ май.\n",
      "ChatGPT: 1856. Годъ. Май.\n",
      "Human:   1856 годъ. Май\n",
      "\n",
      "Model:   д2. 23е – У 25. 26е. Въ Воскресенскомъ хлоно-\n",
      "ChatGPT: 23е. 25е. 26е. Въ Воскресенскомъ хлѣбо-\n",
      "Human:   21. 22. 23е. 24. 25. 26е. Въ Воскресенскомъ. Хлопо-\n",
      "\n",
      "Model:   25г. Пустилъ Заводъ. Вечеромъ прiѣхалъ Ѳедоръ изъ\n",
      "ChatGPT: 25-е. Пустилъ Заводъ. Вечеромъ пріѣхалъ Ѳедоръ изъ\n",
      "Human:   25е. Пустилъ Заводъ. Вечеромъ пріѣхалъ Ѳедоръ изъ\n",
      "\n",
      "Model:   Стемой - тамъ в сi подышается. Въ Воскресенскомъ\n",
      "ChatGPT: Стемной – тамъ въ сѣни подышается. Въ Воскресенскомъ\n",
      "Human:   Степной - тамъ всё подвигается. Въ Воскресенскомъ\n",
      "\n",
      "Model:   съ Феврался постутилъ и управлястъ Зерунъ.\n",
      "ChatGPT: Съ февраля поступилъ и управлялъ Зерунъ.\n",
      "Human:   съ февраля поступилъ и управляетъ Зерунъ.\n",
      "\n",
      "Model:   4тло идеть завольна хорошо. Садку сдѣлалъ по\n",
      "ChatGPT: Дѣло идётъ довольно хорошо. Садку сдѣлалъ по\n",
      "Human:   У него идетъ довольно хорошо. Садку сдѣлалъ по\n",
      "\n",
      "Model:   прачоій Сторонѣ ларка отъдома къ ренѣ. Около-\n",
      "ChatGPT: прачечной сторонѣ ларка отъ дома къ рѣкѣ. Около-\n",
      "Human:   правой сторонѣ парка отъ дома къ рѣкѣ. Около\n",
      "\n",
      "Model:   дома проводить тоссе. Ставили Кри мнѣ Туле\n",
      "ChatGPT: дома проводить время. Ставили крестъ мнѣ Туле.\n",
      "Human:   дома проводитъ шоссе. Ставили при мнѣ тум-\n",
      "\n",
      "Model:   бы оть дома къ Копонинѣ.\n",
      "ChatGPT: бы отъ дома къ Копонину.\n",
      "Human:   бы отъ дома къ конюшнѣ.\n",
      "\n",
      "Model:   i чано утру выѣхалъ въ Москву. Послалъ за\n",
      "ChatGPT: И рано утромъ выѣхалъ въ Москву. Послалъ за\n",
      "Human:   27е. По утру выѣхалъ въ Москву. Послалъ за\n",
      "\n",
      "Model:   Кавъ кимь который – явился съ предноженіемъ отъ\n",
      "ChatGPT: Кавъ кимъ, который явился съ предложеніемъ отъ\n",
      "Human:   Ковскимъ, который явился съ предложеніемъ отъ\n",
      "\n",
      "Model:   Ивача Пенелева о тирѣ. Сатомъ отѣъужанію\n",
      "ChatGPT: Ивача Пенелева о тирѣ. Съ этимъ отъѣзжанію\n",
      "Human:   Ивана Шепелева о мирѣ. Самсонъ отъѣзжаетъ\n",
      "\n",
      "Model:   съ Ревель. Кучилъ ему серебряныхъ вецій на 180.\n",
      "ChatGPT: съ Ревеля. Купилъ ему серебряныхъ вещей на 180.\n",
      "Human:   въ Ревель, купилъ ему серебряныхъ вещей на 180 р.\n",
      "\n",
      "Model:   с У Сазикова. Опедалъ Куботъ дни парвуки-\n",
      "ChatGPT: съ У Сазикова. Обедалъ. Кубокъ для церкви.\n",
      "Human:   сереб. у Садикова. Отдалъ кубокъ для нарѣзки\n",
      "\n",
      "Model:   накнися Самной лову. хадиить\n",
      "ChatGPT: наклонился со мной ловить. ходить\n",
      "Human:   надписи Самойлову. Надпись: \n",
      "\n",
      "Model:   3а снасніе почибавмихъ – Таланиц 1.\n",
      "ChatGPT: За счастіе погибающихъ – Талантія.\n",
      "Human:   За Спасеніе погибавшихъ – таланту В.В.\n",
      "\n",
      "Model:   Са-нойsло ва презнательные А. В. Сухово– Ко.\n",
      "ChatGPT: Самойслово признательные А. В. Сухово–Ко.\n",
      "Human:   Самойлова признательные А.В. Сухово-Ко-\n",
      "\n",
      "Model:   23е. Сборы, на Выксу. Проищаные съ Санелономъ.\n",
      "ChatGPT: 23-е. Сборы на Выксу. Прощанье съ Санелономъ.\n",
      "Human:   28е. Сборы на Выксу. Прощаніе съ Самсономъ.\n",
      "\n",
      "Model:   тодалъ ъ тудъ патаки но 180 к. сереб, и те р. сер.а\n",
      "ChatGPT: отдалъ туда пятаки на 180 к. сереб., и те р. сер.\n",
      "Human:   Продалъ 1 т. пудов патоки по 1.80 к. сер. и 1 т. р. сереб.\n",
      "\n",
      "Model:   вшсъ Рерстеру въ уплашу за апторать. Къ Саз\n",
      "ChatGPT: въсь Рейстеру въ уплату за аппаратъ. Къ Саз\n",
      "Human:   внесъ Ферстеру въ уплату за аппараты къ сахаръ-\n",
      "\n",
      "Model:   ному Lаводу. Вечеромь выкъхалъ на Выксиуъаи\n",
      "ChatGPT: нову Заводу. Вечеромъ выѣхалъ на Выксу.\n",
      "Human:   ному Заводу. Вечеромъ выѣхалъ на Выксу. \n",
      "\n",
      "Model:   24е.3ъ дорогъ. Хыюдно. простудался. Встрѣча въ\n",
      "ChatGPT: 24-е. Зъ дорогъ. Холодно. Простудился. Встрѣча въ\n",
      "Human:   29е. Въ дорогѣ. Холодно. Простудился. Встрѣча въ Вла-\n",
      "\n",
      "Model:   дувверѣ съ какимъ ополченскимъ о фидероме\n",
      "ChatGPT: доверіе съ какимъ ополченскимъ офицеромъ\n",
      "Human:   димірѣ съ какимъ ополченскимъ офицеромъ.\n",
      "\n",
      "Model:   Потулярность и всобщая, извѣсниеотъ Кренной\n",
      "ChatGPT: Популярность и всеобщая извѣстность отъ Кренной\n",
      "Human:   Популярность и всеобщая извѣстность Кречинского.\n",
      "\n",
      "Model:   Его ужа играли вовсй Россіи. Успѣхъ одинъ весен\n",
      "ChatGPT: Его уже играли во всей Россіи. Успѣхъ одинъ весен.\n",
      "Human:   Его уже играютъ во всей Россіи. Успѣхъ одинъ вездѣ.\n",
      "\n",
      "Model:   30е. въ 11 часовъ утра никѣмъ неождашный.\n",
      "ChatGPT: 30-е. Въ 11 часовъ утра никѣмъ неожидаемый.\n",
      "Human:   30е въ 11 часовъ утра никѣмъ неожиданный пріе-\n",
      "\n",
      "Model:   халъ на Выксу - отецъ былъ радъ онъ посторѣй\n",
      "ChatGPT: халъ на Выксу – отецъ былъ радъ, онъ постарѣл.\n",
      "Human:   халъ на Выксу - отецъ былъ радъ, онъ постарѣлъ\n",
      "\n",
      "Model:   иѣсколько потолстѣлъ и въ голось замѣжна нере-\n",
      "ChatGPT: нѣсколько потолстѣлъ, и въ голосѣ замѣтна нѣкая\n",
      "Human:   нѣсколько потолстѣлъ и въ голосѣ нѣсколько перемѣнился,\n",
      "\n",
      "Model:   нѣтъ твердости. На Выксѣ семра соловая,\n",
      "ChatGPT: нѣтъ твердости. На Выксѣ зима суровая,\n",
      "Human:   нѣтъ твердости. На Выксѣ сосѣди Соловые, сестра\n",
      "\n",
      "Model:   Сальяцъ. Пнк. Тепелилъ и в миховскій. Пиколой\n",
      "ChatGPT: Сальяцъ. Пнк. Тепелилъ и въ Миховскій. Пиколой.\n",
      "Human:   Сальясъ, Ник. Шепелевъ и Дмоховскій. Николай\n",
      "\n",
      "Model:   Гроть 1е. Рано утромъсъ гориныемъ выѣхалъ на сио.\n",
      "ChatGPT: Гротъ 1е. Рано утромъ съ Гориновымъ выѣхалъ на село.\n",
      "Human:   Іюнь. 1е. Рано утромъ съ Соринымъ выѣхалъ на Снаведь.\n",
      "\n",
      "Model:   Мвгупть. 3гo. Уѣхалъ въ Петербургъ ибо дѣло приняло дурной\n",
      "ChatGPT: Мартъ. 3-го. Уѣхалъ въ Петербургъ, ибо дѣло приняло дурной\n",
      "Human:   Августъ 3го. Уѣхалъ въ Петербургъ, ибо дѣло приняло дурной\n",
      "\n",
      "Model:   оборомъ въ Мни 1öen. Натало тяжекое время. Сѣрвсаколо-\n",
      "ChatGPT: оборомъ въ Мнѣ. Настало тяжкое время. Сѣрвсаколо-\n",
      "Human:   оборотъ въ Мин. Юст. Настало тяжелое время. Связь съ Голи-\n",
      "\n",
      "Model:   крѣнокъ. Ходилъ нѣсколько разъ греть на подку – и\n",
      "ChatGPT: крѣнокъ. Ходилъ нѣсколько разъ грѣться на подку – и\n",
      "Human:   крѣпокъ. Ходилъ нѣсколько разъ гресть на лодку - и\n",
      "\n",
      "Model:   купался въ шѣѣ до наловмы Августа.\n",
      "ChatGPT: купался въ рѣкѣ до половины Августа.\n",
      "Human:   купался въ Невѣ съ половины августа.\n",
      "\n",
      "Model:   Сенслябрь. Въ Петербургѣ. Подалъ запику М. Фв о\n",
      "ChatGPT: Сентябрь. Въ Петербургѣ. Подалъ записку М. Ф. о\n",
      "Human:   Сентябрь. Въ Петербургѣ. Подалъ записку м. ф-ов о\n",
      "\n",
      "Model:   предкриятіи въ 8ж. Россіи. Отаровили на Выксу и\n",
      "ChatGPT: предпріятіи въ Юж. Россіи. Остановились на Выксѣ и\n",
      "Human:   предпрiятiи въ Юж. Россiи. Отправился на Выксу и\n",
      "\n",
      "Model:   заклочилъ у словсе съ vнк. Иется. Прiѣхалъ обранна\n",
      "ChatGPT: заключилъ у словесъ съ Инкомъ. Еду. Пріѣхалъ обратно.\n",
      "Human:   заключилъ условие с Ник. Шепел. Прiѣхалъ обратно\n",
      "\n",
      "Model:   въ Петербургъ. 13ге. Нояюря. Сововые сыня и мамаковъ\n",
      "ChatGPT: въ Петербургъ. 13-е. Ноября. Совѣщаніе съ сыномъ и Мамоновым.\n",
      "Human:   въ Петербургъ 13го ноября. Соловые. Соня и Маменька въ\n",
      "\n",
      "Model:   Петербургѣ. Жиднь въ свстицѣ Демдова. Постояно\n",
      "ChatGPT: Петербургѣ. Жизнь въ свѣтѣ Демидова. Постоянно\n",
      "Human:   Петербургѣ. Жизнь въ гостиницѣ Демидова. Постановилъ\n",
      "\n",
      "Model:   ходилъ въ Дерошу но устрамъ. Окочилъ 2оп и 3 м Ѳекетъ.\n",
      "ChatGPT: Ходилъ въ Дерошу на утреню. Окончилъ 2-й часъ и 3-й мѣсяцъ Фекетъ.\n",
      "Human:   ходить къ Депону по утрамъ. Окончилъ 2ой и 3iй актъ. \n",
      "\n",
      "Model:   Дѣло въ Гомуд. Солѣтѣ. вбр Торги на вичновые\n",
      "ChatGPT: Дѣло въ Гомудѣ. Совѣтѣ. Въ Торги на вѣщевые\n",
      "Human:   Дѣло въ Госуд. Советѣ. Декабрь Торги на винтовые\n",
      "\n",
      "Model:   Корабни. Конывъ и Шульчмъ въ Петербургѣ. Декабрь.\n",
      "ChatGPT: Корабли. Конывъ и Шульцъ въ Петербургѣ. Декабрь.\n",
      "Human:   корабли. Копьевъ и Шульгинъ въ Петербургѣ. Декабрь. \n",
      "\n",
      "Model:   возвранинся въ Москву.\n",
      "ChatGPT: возвратился въ Москву.\n",
      "Human:   Возвратился въ Москву. \n",
      "\n",
      "Model:   12f4. Годъ. Новый годъ нажелзной дорогѣ. Былъ въ Доскре-\n",
      "ChatGPT: 1854. Годъ. Новый годъ на желѣзной дорогѣ. Былъ въ Москве.\n",
      "Human:   1854 годъ. Новый годъ на желѣзной дорогѣ. Былъ в Воскре-\n",
      "\n",
      "Model:   сискомъ. 15 чеила выѣхалъ на Выксу. Амнлte Гол.\n",
      "ChatGPT: спискомъ. 15 числа выѣхалъ на Выксу. Аминте Гол.\n",
      "Human:   сенскомъ. 15 числа выѣхал на Выксу. Anette Гол. \n",
      "\n",
      "Model:   Ныеса читалась въ уепѣхомъ. Въ оРевранѣ,\n",
      "ChatGPT: Нъеса читалась съ успѣхомъ. Въ Ореврані,\n",
      "Human:   Пьесса читалась съ успехомъ. Въ февралѣ\n",
      "\n",
      "Model:   должъ былъ ѣхатъ въ Москку по полоду насавшается\n",
      "ChatGPT: долженъ былъ ѣхать въ Москву по поводу насущается\n",
      "Human:   долженъ былъ выѣхать въ Москву по поводу начавшагося\n",
      "\n",
      "Model:   Слѣхмвся. Вздилъ на нѣскольоо дней въ Пентербургъ.\n",
      "ChatGPT: Слѣхался. Ъздилъ на нѣсколько дней въ Петербургъ.\n",
      "Human:   слѣдствiя. Ѣздилъ на нѣсколько дней в Петербургъ.\n",
      "\n",
      "Model:   Нталъ охоимисьихъ вещю ченобы охотиться.\n",
      "ChatGPT: Наталъ охотничьихъ вещей, чтобы охотиться.\n",
      "Human:   Покупалъ охотничьихѣ вещей, чтобы охотиться. \n",
      "\n",
      "Model:   2гo мадна на первой не дѣли воротилси въ Москву.\n",
      "ChatGPT: 2-го марта на первой недѣле воротился въ Москву.\n",
      "Human:   1гo марта на первой недѣлѣ воротился въ Москву. \n",
      "\n",
      "Model:   для пріiема Дамь. Онъ пріѣхали поздно. Обѣдали въ 6-м часу был\n",
      "ChatGPT: для пріема Дамъ. Онъ пріѣхалъ поздно. Обѣдали въ 6-м часу. Был...\n",
      "Human:   для пріема дамъ. Онѣ пріѣхали поздно. Обѣдали въ 6мъ часу – было\n",
      "\n",
      "Model:   довольна весел. – Я очно вечеко игралъ въ карты\n",
      "ChatGPT: довольно весел. – Я очно вечеромъ игралъ въ карты.\n",
      "Human:   довольно весело. – Я очень весело игралъ въ карты. –\n",
      "\n",
      "Model:   нѣлтъ яЯ отправичъ Семна нъ В Туму Запродать будущаго Cахора\n",
      "ChatGPT: нѣлтъ я. Я отправилъ Семена въ Тулу запродать будущаго сахара.\n",
      "Human:   нѣтъ. Я отправилъ Семена Ив. въ Тулу запродать будущаго сахара.\n",
      "\n",
      "Model:   228-е Лmmи яяшалъ рао Споляничалъ. Рапимывалъ и отпровилъ Выю-\n",
      "ChatGPT: 228-е. Лѣтомъ я езжалъ рано. Сполянничалъ, размышлялъ и отправилъ въ Выю-\n",
      "Human:   28е. Всталъ рано. Столярничалъ. Разсчитывалъ и отправилъ Вык-\n",
      "\n",
      "Model:   Симкилъ 18 человѣсъ. Но обратныхъ пододовъ ратробовалъ изъ Москвы\n",
      "ChatGPT: Симкилъ 18 человѣкъ. Но обратныхъ подводъ потребовалъ изъ Москвы.\n",
      "Human:   сунскихъ 18 человѣкъ. На обратныхъ подводахъ затребовалъ изъ Москвы\n",
      "\n",
      "Model:   Либили, картинъ, броизу. Естя прѣ пиводь буду жить 7 Россіи – накъ\n",
      "ChatGPT: Либрии, картинъ, бронзу. Если при выводѣ буду жить въ Россіи – такъ\n",
      "Human:   мебель, картины, бронзу. Если я гдѣ-нибудь буду жить въ Россіи – такъ\n",
      "\n",
      "Model:   это сдѣся – въ кобылимкѣ..\n",
      "ChatGPT: это здѣсь – въ Кобылинкѣ.\n",
      "Human:   это здѣсь – въ Кобылинкѣ.\n",
      "\n",
      "Model:   Замѣчательныой раскаръ О помещикѣ Малиновскомъ убинноъ се\n",
      "ChatGPT: Замѣчательной разсказъ о помещикѣ Малиновскомъ, убившемъ се-\n",
      "Human:   Замѣчательный расказъ о помѣщикѣ Маниловскому, убитомъ его\n",
      "\n",
      "Model:   костьяноми. Какъ Замѣнно это было Сильной странно.\n",
      "ChatGPT: костьяными. Какъ замѣтно это было сильно странно.\n",
      "Human:   крестьянами. Какъ замѣтно это была сильная, страшно\n",
      "\n",
      "Model:   4.онъ довева Крестьямъ до большаго блаю состоянія и богати.\n",
      "ChatGPT: 4. Онъ довелъ крестьянъ до большаго благосостоянія и богатства.\n",
      "Human:   онъ довелъ крестьянъ до большого благосостоянія и богат-\n",
      "\n",
      "Model:   1ства, получилъ имѣніе разоренное– и кресетьяхъ противишотія –\n",
      "ChatGPT: имѣніе разоренное – и крестьянахъ противящихся –\n",
      "Human:   ства, получивъ имѣніе разоренное и крестьянъ прожившихся.\n",
      "\n"
     ]
    }
   ],
   "source": [
    "for model_page, corrected_page, human_page in zip(model_pages_test, corrected_pages_test, human_pages_test, strict=True):\n",
    "    for model_line, corrected_line, human_line in zip(model_page.split(\"\\n\"), corrected_page.split(\"\\n\"), human_page.split(\"\\n\"), strict=True):\n",
    "        print(f\"Model:   {model_line}\")\n",
    "        print(f\"ChatGPT: {corrected_line}\")\n",
    "        print(f\"Human:   {human_line}\")\n",
    "        print()"
   ]
  },
  {
   "cell_type": "code",
   "execution_count": null,
   "metadata": {},
   "outputs": [],
   "source": [
    "# with open(\"corrected_pages_test.pkl\", \"wb\") as f:\n",
    "#     pickle.dump(corrected_pages_test, f)"
   ]
  },
  {
   "cell_type": "code",
   "execution_count": null,
   "metadata": {
    "execution": {
     "iopub.execute_input": "2024-12-02T11:59:04.594077Z",
     "iopub.status.busy": "2024-12-02T11:59:04.594077Z",
     "iopub.status.idle": "2024-12-02T11:59:04.617394Z",
     "shell.execute_reply": "2024-12-02T11:59:04.615263Z",
     "shell.execute_reply.started": "2024-12-02T11:59:04.594077Z"
    }
   },
   "outputs": [
    {
     "data": {
      "text/plain": [
       "['Рябикова\\nОнъ дѣлялъ въ работникахъ и конца, и края что-то.\\nителъ ударилъ его палкой по головѣ, отъ чего у не...\\nи дѣлилась, будто бѣлая горлинка. Обращаясь къ Губер-\\nнатору. Въ – вопросъ въ А. Ріешѣніе. Сомневаюсь.\\nБольшаго никакихъ распоряженій не было сдѣлано. Воробьемъ\\n«Гласные возвратились на прежнія мѣста – ибо\\nвъ прочайшемъ случаѣ и острожные остались бы безъ.\\nвсякаго кожуха.\\nВечеромъ читалъ піэссу – ядѣ чрезвычайно\\nпонравилась. – Беккеру также.\\n10-го. Утромъ выѣхалъ въ Дѣдкаевское. Почивалъ в...',\n",
       " '1856. Годъ. Май.\\n23е. 25е. 26е. Въ Воскресенскомъ хлѣбо-\\n25-е. Пустилъ Заводъ. Вечеромъ пріѣхалъ Ѳедоръ изъ\\nСтемной – тамъ въ сѣни подышается. Въ Воскресенскомъ\\nСъ февраля поступилъ и управлялъ Зерунъ.\\nДѣло идётъ довольно хорошо. Садку сдѣлалъ по\\nпрачечной сторонѣ ларка отъ дома къ рѣкѣ. Около-\\nдома проводить время. Ставили крестъ мнѣ Туле.\\nбы отъ дома къ Копонину.\\nИ рано утромъ выѣхалъ въ Москву. Послалъ за\\nКавъ кимъ, который явился съ предложеніемъ отъ\\nИвача Пенелева о тирѣ. Съ этимъ отъѣзжанію\\nсъ Ревеля. Купилъ ему серебряныхъ вещей на 180.\\nсъ У Сазикова. Обедалъ. Кубокъ для церкви.\\nнаклонился со мной ловить. ходить\\nЗа счастіе погибающихъ – Талантія.\\nСамойслово признательные А. В. Сухово–Ко.\\n23-е. Сборы на Выксу. Прощанье съ Санелономъ.\\nотдалъ туда пятаки на 180 к. сереб., и те р. сер.\\nвъсь Рейстеру въ уплату за аппаратъ. Къ Саз\\nнову Заводу. Вечеромъ выѣхалъ на Выксу.',\n",
       " '24-е. Зъ дорогъ. Холодно. Простудился. Встрѣча въ\\nдоверіе съ какимъ ополченскимъ офицеромъ\\nПопулярность и всеобщая извѣстность отъ Кренной\\nЕго уже играли во всей Россіи. Успѣхъ одинъ весен.\\n30-е. Въ 11 часовъ утра никѣмъ неожидаемый.\\nхалъ на Выксу – отецъ былъ радъ, онъ постарѣл.\\nнѣсколько потолстѣлъ, и въ голосѣ замѣтна нѣкая\\nнѣтъ твердости. На Выксѣ зима суровая,\\nСальяцъ. Пнк. Тепелилъ и въ Миховскій. Пиколой.\\nГротъ 1е. Рано утромъ съ Гориновымъ выѣхалъ на село.',\n",
       " 'Мартъ. 3-го. Уѣхалъ въ Петербургъ, ибо дѣло приняло дурной\\nоборомъ въ Мнѣ. Настало тяжкое время. Сѣрвсаколо-\\nкрѣнокъ. Ходилъ нѣсколько разъ грѣться на подку – и\\nкупался въ рѣкѣ до половины Августа.\\nСентябрь. Въ Петербургѣ. Подалъ записку М. Ф. о\\nпредпріятіи въ Юж. Россіи. Остановились на Выксѣ и\\nзаключилъ у словесъ съ Инкомъ. Еду. Пріѣхалъ обратно.\\nвъ Петербургъ. 13-е. Ноября. Совѣщаніе съ сыномъ и Мамоновым.\\nПетербургѣ. Жизнь въ свѣтѣ Демидова. Постоянно\\nХодилъ въ Дерошу на утреню. Окончилъ 2-й часъ и 3-й мѣсяцъ Фекетъ.\\nДѣло въ Гомудѣ. Совѣтѣ. Въ Торги на вѣщевые\\nКорабли. Конывъ и Шульцъ въ Петербургѣ. Декабрь.\\nвозвратился въ Москву.\\n1854. Годъ. Новый годъ на желѣзной дорогѣ. Былъ въ Москве.\\nспискомъ. 15 числа выѣхалъ на Выксу. Аминте Гол.\\nНъеса читалась съ успѣхомъ. Въ Ореврані,\\nдолженъ былъ ѣхать въ Москву по поводу насущается\\nСлѣхался. Ъздилъ на нѣсколько дней въ Петербургъ.\\nНаталъ охотничьихъ вещей, чтобы охотиться.\\n2-го марта на первой недѣле воротился въ Москву.',\n",
       " 'для пріема Дамъ. Онъ пріѣхалъ поздно. Обѣдали въ 6-м часу. Был...\\nдовольно весел. – Я очно вечеромъ игралъ въ карты.\\nнѣлтъ я. Я отправилъ Семена въ Тулу запродать будущаго сахара.\\n228-е. Лѣтомъ я езжалъ рано. Сполянничалъ, размышлялъ и отправилъ въ Выю-\\nСимкилъ 18 человѣкъ. Но обратныхъ подводъ потребовалъ изъ Москвы.\\nЛибрии, картинъ, бронзу. Если при выводѣ буду жить въ Россіи – такъ\\nэто здѣсь – въ Кобылинкѣ.\\nЗамѣчательной разсказъ о помещикѣ Малиновскомъ, убившемъ се-\\nкостьяными. Какъ замѣтно это было сильно странно.\\n4. Онъ довелъ крестьянъ до большаго благосостоянія и богатства.\\nимѣніе разоренное – и крестьянахъ противящихся –']"
      ]
     },
     "execution_count": 16,
     "metadata": {},
     "output_type": "execute_result"
    }
   ],
   "source": [
    "# import pickle\n",
    "\n",
    "\n",
    "# with open(\"corrected_pages_test.pkl\", \"rb\") as f:\n",
    "#     loaded = pickle.load(f)\n",
    "\n",
    "# loaded"
   ]
  },
  {
   "cell_type": "markdown",
   "metadata": {
    "jp-MarkdownHeadingCollapsed": true
   },
   "source": [
    "## При коррекции тестовых строк учитывеем историю"
   ]
  },
  {
   "cell_type": "code",
   "execution_count": 28,
   "metadata": {},
   "outputs": [],
   "source": [
    "def get_response_v2(\n",
    "    question,\n",
    "    conversation_history=None,\n",
    "    access_token=tokens[\"access_token\"],\n",
    "    system_prompt=system_prompt,\n",
    "    temperature=0,\n",
    "    model=\"chatgpt-4o-latest\",\n",
    "    print_errors=True\n",
    "):\n",
    "    # Если история разговора отсутствует, инициализируем ее с системным сообщением\n",
    "    if conversation_history is None:\n",
    "        conversation_history = [{\"role\": \"system\", \"content\": system_prompt}]\n",
    "    # Добавляем вопрос пользователя в историю разговора\n",
    "    conversation_history.append({\"role\": \"user\", \"content\": question})\n",
    "\n",
    "    response = requests.post(\n",
    "        'https://openai-proxy.tcsbank.ru/public/v1/chat/completions', \n",
    "        headers={\n",
    "            \"Authorization\": f\"Bearer {access_token}\",\n",
    "            \"Content-Type\": \"application/json\",\n",
    "            \"x-proxy-mask-critical-data\": \"1\",\n",
    "            \"x-proxy-unmask-critical-data\": \"1\",\n",
    "        },\n",
    "        json={\n",
    "            \"model\": model,\n",
    "            \"messages\": conversation_history,\n",
    "            \"temperature\": temperature,\n",
    "        },\n",
    "    ).json()\n",
    "    if \"choices\" not in response:\n",
    "        if print_errors:\n",
    "            print(response)\n",
    "        return None, conversation_history[:-1]\n",
    "    \n",
    "    assistant_message = response[\"choices\"][0][\"message\"][\"content\"]\n",
    "    conversation_history.append({\"role\": \"assistant\", \"content\": assistant_message + \"\\n\"})\n",
    "    \n",
    "    return assistant_message, conversation_history"
   ]
  },
  {
   "cell_type": "code",
   "execution_count": 38,
   "metadata": {},
   "outputs": [],
   "source": [
    "from tqdm import tqdm\n",
    "import time\n",
    "\n",
    "\n",
    "def get_correction_v2(\n",
    "    model_pages,\n",
    "    sleep_seconds=10,\n",
    "    n_tries=4,\n",
    "    **get_response_kwargs\n",
    "):\n",
    "    corrected_pages = []\n",
    "    conversation_history = None\n",
    "    for model_page in tqdm(model_pages):\n",
    "        corrected_lines = []\n",
    "        for model_line in tqdm(model_page.split(\"\\n\"), leave=False):\n",
    "            model_line = model_line.strip()\n",
    "\n",
    "            for try_n in range(n_tries):\n",
    "                corrected_line, conversation_history = get_response_v2(\n",
    "                    model_line + \" -> \", conversation_history, **get_response_kwargs\n",
    "                )\n",
    "                if corrected_line is not None:\n",
    "                    break\n",
    "                elif try_n == n_tries - 1:\n",
    "                    # last try faliled\n",
    "                    raise Exception(f\"Could not get response for {model_line}\")\n",
    "                else:\n",
    "                    time.sleep(sleep_seconds)\n",
    "\n",
    "            corrected_lines.append(corrected_line)\n",
    "        corrected_pages.append(\"\\n\".join(corrected_lines))\n",
    "    return corrected_pages"
   ]
  },
  {
   "cell_type": "code",
   "execution_count": 54,
   "metadata": {},
   "outputs": [
    {
     "name": "stderr",
     "output_type": "stream",
     "text": [
      "100%|██████████| 1/1 [01:27<00:00, 87.44s/it]\n"
     ]
    }
   ],
   "source": [
    "c = get_correction_v2([model_pages_test[0]], print_errors=False)"
   ]
  },
  {
   "cell_type": "code",
   "execution_count": null,
   "metadata": {},
   "outputs": [],
   "source": []
  },
  {
   "cell_type": "code",
   "execution_count": 56,
   "metadata": {},
   "outputs": [
    {
     "name": "stdout",
     "output_type": "stream",
     "text": [
      "Рябикова\n",
      "Онъ дѣлялъ въ работникахъ и конца, и края что-то\n",
      "итель ударилъ его палкой по головѣ, отъ чего у не...\n",
      "и дѣлилась, будто бѣлая горлинка. Обращаясь къ Губер-\n",
      "натору. Въ вѣросходъ въ. А рѣшилъ. Смущаюсь.\n",
      "Больше никакихъ распоряженій не было сдѣлано. Вороемъ\n",
      "«Гласные возвратились на прежнія мѣста – ибо\n",
      "въ прочемъ случаѣ и острожные остались бы безъ.\n",
      "всякаго кожуха. \n",
      ".Вечеромъ читалъ піэссу – ядѣ чрезвычайно\n",
      "понравилась. – Беккеру также.\n",
      "10-го. Утромъ выѣхалъ въ Дѣдюхинское. Почувствовалъ в\n"
     ]
    }
   ],
   "source": [
    "print(c[0])"
   ]
  },
  {
   "cell_type": "code",
   "execution_count": 57,
   "metadata": {},
   "outputs": [
    {
     "name": "stderr",
     "output_type": "stream",
     "text": [
      "100%|██████████| 5/5 [12:13<00:00, 146.67s/it]\n"
     ]
    }
   ],
   "source": [
    "corrected_pages_test = get_correction_v2(model_pages_test, print_errors=False)"
   ]
  },
  {
   "cell_type": "code",
   "execution_count": 58,
   "metadata": {},
   "outputs": [
    {
     "name": "stdout",
     "output_type": "stream",
     "text": [
      "Рябикова\n",
      "Онъ дѣлялъ въ работникахъ и конца, и края что-то\n",
      "итель ударилъ его палкой по головѣ, отъ чего у не...\n",
      "и дѣлилась, будто бѣлая горлинка. Обращаясь къ Губер-\n",
      "натору. Въ вопросѣ въ А... Смутился.\n",
      "Больше никакихъ распоряженій не было сдѣлано. Вороемъ\n",
      "«Газовые возвратились на прежнія мѣста – ибо\n",
      "въ прочемъ случаѣ и острожные остались бы безъ.\n",
      "всякаго кожуха.\n",
      "Вечеромъ читалъ піэссу – ядѣ чрезвычайно\n",
      "понравилась. – Беккеру также.\n",
      "10-го. Утромъ выѣхалъ въ Дѣдюхинское. Почивалъ в\n"
     ]
    }
   ],
   "source": [
    "print(corrected_pages_test[0])"
   ]
  },
  {
   "cell_type": "code",
   "execution_count": 59,
   "metadata": {},
   "outputs": [
    {
     "name": "stdout",
     "output_type": "stream",
     "text": [
      "ok\n",
      "ok\n",
      "ok\n",
      "ok\n",
      "ok\n"
     ]
    }
   ],
   "source": [
    "for human_page, corrected_page in zip(human_pages_test, corrected_pages_test, strict=True):\n",
    "    human_lines = human_page.strip().split(\"\\n\")\n",
    "    corrected_lines = corrected_page.strip().split(\"\\n\")\n",
    "    if len(human_lines) == len(corrected_lines):\n",
    "        print(\"ok\")\n",
    "    else:\n",
    "        print(\"not ok: \", end=\"\")\n",
    "        print(len(human_lines), len(corrected_lines))"
   ]
  },
  {
   "cell_type": "code",
   "execution_count": 60,
   "metadata": {},
   "outputs": [
    {
     "name": "stdout",
     "output_type": "stream",
     "text": [
      "CER до GPT:     0.2167\n",
      "CER после GPT:  0.2062\n"
     ]
    }
   ],
   "source": [
    "# отдельные строки как примеры, учитываем историю\n",
    "print(f\"CER до GPT:    {calc_cer_from_pages(human_pages_test, model_pages_test, by_lines=False) : .4f}\")\n",
    "print(f\"CER после GPT: {calc_cer_from_pages(human_pages_test, corrected_pages_test, by_lines=False) : .4f}\")"
   ]
  },
  {
   "cell_type": "code",
   "execution_count": 61,
   "metadata": {},
   "outputs": [
    {
     "name": "stdout",
     "output_type": "stream",
     "text": [
      "WER до GPT:     0.5991\n",
      "WER после GPT:  0.4879\n"
     ]
    }
   ],
   "source": [
    "# отдельные строки как примеры, учитываем историю\n",
    "print(f\"WER до GPT:    {calc_wer_from_pages(human_pages_test, model_pages_test) : .4f}\")\n",
    "print(f\"WER после GPT: {calc_wer_from_pages(human_pages_test, corrected_pages_test) : .4f}\")"
   ]
  },
  {
   "cell_type": "code",
   "execution_count": 62,
   "metadata": {},
   "outputs": [
    {
     "name": "stdout",
     "output_type": "stream",
     "text": [
      "Model:   Рябикова\n",
      "ChatGPT: Рябикова\n",
      "Human:   Рябчикова\n",
      "\n",
      "Model:   Онь дсиля въ работникахъ и конца, и кроалъ что-т\n",
      "ChatGPT: Онъ дѣлялъ въ работникахъ и конца, и края что-то\n",
      "Human:   Онъ де жилъ въ работникахъ у купца ; укралъ что-то\n",
      "\n",
      "Model:   ителъ удосилъ его палкой-по Голавѣ отъ чеи у не..\n",
      "ChatGPT: итель ударилъ его палкой по головѣ, отъ чего у не...\n",
      "Human:   и тотъ ударилъ его палкою по головѣ, отчаго у него\n",
      "\n",
      "Model:   и дѣлилаь удто бѣлая горянька. Обранясе къ Губер-\n",
      "ChatGPT: и дѣлилась, будто бѣлая горлинка. Обращаясь къ Губер-\n",
      "Human:   и сдѣлалась будто бѣлая горячка. Обратясь къ губер-\n",
      "\n",
      "Model:   натору. В - вросодъ въ, А ріес le . Смумаюсь.\n",
      "ChatGPT: натору. Въ вопросѣ въ А... Смутился.\n",
      "Human:   натору: В – f! Prens-le, pince-le! – Слушаюсь.\n",
      "\n",
      "Model:   Болья никакилъ раторяженійи не было сцѣлано. Вороемъ\n",
      "ChatGPT: Больше никакихъ распоряженій не было сдѣлано. Вороемъ\n",
      "Human:   Болѣе никакихъ распоряженій и не было сдѣлано. Впрочемъ,\n",
      "\n",
      "Model:   « гасовые возватлѣтсь на преженія мѣста – ибо\n",
      "ChatGPT: «Газовые возвратились на прежнія мѣста – ибо\n",
      "Human:   и часовые возвратились на прежніе мѣста – ибо\n",
      "\n",
      "Model:   въ прочиньномъ слугаѣ и острожные остались бы беъ.1\n",
      "ChatGPT: въ прочемъ случаѣ и острожные остались бы безъ.\n",
      "Human:   въ противномъ случаѣ и острожные остались бы безъ\n",
      "\n",
      "Model:   всякагю кожаува. ie\n",
      "ChatGPT: всякаго кожуха.\n",
      "Human:   всякаго караула.\n",
      "\n",
      "Model:   .Вечеромъ литалъ піэссу – ядѣ чревынойно\n",
      "ChatGPT: Вечеромъ читалъ піэссу – ядѣ чрезвычайно\n",
      "Human:   Вечеромъ читалъ піэссу – Дядѣ чрезвычайно\n",
      "\n",
      "Model:   понравилась. – бекаеру также.\n",
      "ChatGPT: понравилась. – Беккеру также.\n",
      "Human:   понравилась – Беккеру также.\n",
      "\n",
      "Model:   10-г. утромъ выѣхалъ въ дѣекаеевское. Почвалъ в\n",
      "ChatGPT: 10-го. Утромъ выѣхалъ въ Дѣдюхинское. Почивалъ в\n",
      "Human:   10-го утромъ выѣхалъ въ Алексеевское. Ночевалъ въ\n",
      "\n",
      "Model:   1856. Годъ май.\n",
      "ChatGPT: 1856. Годъ. Май.\n",
      "Human:   1856 годъ. Май\n",
      "\n",
      "Model:   д2. 23е – У 25. 26е. Въ Воскресенскомъ хлоно-\n",
      "ChatGPT: 23е. 25. 26е. Въ Воскресенскомъ хлѣбо-\n",
      "Human:   21. 22. 23е. 24. 25. 26е. Въ Воскресенскомъ. Хлопо-\n",
      "\n",
      "Model:   25г. Пустилъ Заводъ. Вечеромъ прiѣхалъ Ѳедоръ изъ\n",
      "ChatGPT: 25-го. Пустилъ Заводъ. Вечеромъ пріѣхалъ Ѳедоръ изъ\n",
      "Human:   25е. Пустилъ Заводъ. Вечеромъ пріѣхалъ Ѳедоръ изъ\n",
      "\n",
      "Model:   Стемой - тамъ в сi подышается. Въ Воскресенскомъ\n",
      "ChatGPT: Съ темой – тамъ всѣ подышаются. Въ Воскресенскомъ\n",
      "Human:   Степной - тамъ всё подвигается. Въ Воскресенскомъ\n",
      "\n",
      "Model:   съ Феврался постутилъ и управлястъ Зерунъ.\n",
      "ChatGPT: Съ февраля поступилъ и управлялъ Зерунъ.\n",
      "Human:   съ февраля поступилъ и управляетъ Зерунъ.\n",
      "\n",
      "Model:   4тло идеть завольна хорошо. Садку сдѣлалъ по\n",
      "ChatGPT: Дѣло идётъ довольно хорошо. Садку сдѣлалъ по\n",
      "Human:   У него идетъ довольно хорошо. Садку сдѣлалъ по\n",
      "\n",
      "Model:   прачоій Сторонѣ ларка отъдома къ ренѣ. Около-\n",
      "ChatGPT: правой сторонѣ ларка отъ дома къ рѣкѣ. Около-\n",
      "Human:   правой сторонѣ парка отъ дома къ рѣкѣ. Около\n",
      "\n",
      "Model:   дома проводить тоссе. Ставили Кри мнѣ Туле\n",
      "ChatGPT: дома проводить время. Ставили крыши мнѣ, Туле\n",
      "Human:   дома проводитъ шоссе. Ставили при мнѣ тум-\n",
      "\n",
      "Model:   бы оть дома къ Копонинѣ.\n",
      "ChatGPT: бы отъ дома къ Копонинѣ.\n",
      "Human:   бы отъ дома къ конюшнѣ.\n",
      "\n",
      "Model:   i чано утру выѣхалъ въ Москву. Послалъ за\n",
      "ChatGPT: И рано утромъ выѣхалъ въ Москву. Послалъ за\n",
      "Human:   27е. По утру выѣхалъ въ Москву. Послалъ за\n",
      "\n",
      "Model:   Кавъ кимь который – явился съ предноженіемъ отъ\n",
      "ChatGPT: Кавъкимъ, который явился съ предложеніемъ отъ\n",
      "Human:   Ковскимъ, который явился съ предложеніемъ отъ\n",
      "\n",
      "Model:   Ивача Пенелева о тирѣ. Сатомъ отѣъужанію\n",
      "ChatGPT: Ивача Пенелева о тирѣ. Съ этимъ отъѣзжанію\n",
      "Human:   Ивана Шепелева о мирѣ. Самсонъ отъѣзжаетъ\n",
      "\n",
      "Model:   съ Ревель. Кучилъ ему серебряныхъ вецій на 180.\n",
      "ChatGPT: съ Ревеля. Купилъ ему серебряныхъ вещей на 180.\n",
      "Human:   въ Ревель, купилъ ему серебряныхъ вещей на 180 р.\n",
      "\n",
      "Model:   с У Сазикова. Опедалъ Куботъ дни парвуки-\n",
      "ChatGPT: у Сазикова. Описалъ Кубокъ для парвуки-\n",
      "Human:   сереб. у Садикова. Отдалъ кубокъ для нарѣзки\n",
      "\n",
      "Model:   накнися Самной лову. хадиить\n",
      "ChatGPT: наклоняясь со мною ловилъ. Ходить\n",
      "Human:   надписи Самойлову. Надпись: \n",
      "\n",
      "Model:   3а снасніе почибавмихъ – Таланиц 1.\n",
      "ChatGPT: За снастіе погибающихъ – Талантъ 1.\n",
      "Human:   За Спасеніе погибавшихъ – таланту В.В.\n",
      "\n",
      "Model:   Са-нойsло ва презнательные А. В. Сухово– Ко.\n",
      "ChatGPT: Съ самой слова признательные А. В. Сухово–Ко.\n",
      "Human:   Самойлова признательные А.В. Сухово-Ко-\n",
      "\n",
      "Model:   23е. Сборы, на Выксу. Проищаные съ Санелономъ.\n",
      "ChatGPT: 23е. Сборы на Выксу. Прощаніе съ Санелономъ.\n",
      "Human:   28е. Сборы на Выксу. Прощаніе съ Самсономъ.\n",
      "\n",
      "Model:   тодалъ ъ тудъ патаки но 180 к. сереб, и те р. сер.а\n",
      "ChatGPT: Отдалъ туда пятаки на 180 к. серебра и те р. серебра.\n",
      "Human:   Продалъ 1 т. пудов патоки по 1.80 к. сер. и 1 т. р. сереб.\n",
      "\n",
      "Model:   вшсъ Рерстеру въ уплашу за апторать. Къ Саз\n",
      "ChatGPT: всё Рерстеру въ уплату за аппаратъ. Къ Саз-\n",
      "Human:   внесъ Ферстеру въ уплату за аппараты къ сахаръ-\n",
      "\n",
      "Model:   ному Lаводу. Вечеромь выкъхалъ на Выксиуъаи\n",
      "ChatGPT: ному Заводу. Вечеромъ выѣхалъ на Выксу.\n",
      "Human:   ному Заводу. Вечеромъ выѣхалъ на Выксу. \n",
      "\n",
      "Model:   24е.3ъ дорогъ. Хыюдно. простудался. Встрѣча въ\n",
      "ChatGPT: 24е. Съ дорогъ. Холодно. Простудился. Встрѣча въ\n",
      "Human:   29е. Въ дорогѣ. Холодно. Простудился. Встрѣча въ Вла-\n",
      "\n",
      "Model:   дувверѣ съ какимъ ополченскимъ о фидероме\n",
      "ChatGPT: доверіи съ какимъ-то ополченскимъ офицером.\n",
      "Human:   димірѣ съ какимъ ополченскимъ офицеромъ.\n",
      "\n",
      "Model:   Потулярность и всобщая, извѣсниеотъ Кренной\n",
      "ChatGPT: Популярность и всеобщая извѣстность отъ Кренной\n",
      "Human:   Популярность и всеобщая извѣстность Кречинского.\n",
      "\n",
      "Model:   Его ужа играли вовсй Россіи. Успѣхъ одинъ весен\n",
      "ChatGPT: Его уже играли во всей Россіи. Успѣхъ одинъ весен.\n",
      "Human:   Его уже играютъ во всей Россіи. Успѣхъ одинъ вездѣ.\n",
      "\n",
      "Model:   30е. въ 11 часовъ утра никѣмъ неождашный.\n",
      "ChatGPT: 30е. Въ 11 часовъ утра никѣмъ неожидаемый.\n",
      "Human:   30е въ 11 часовъ утра никѣмъ неожиданный пріе-\n",
      "\n",
      "Model:   халъ на Выксу - отецъ былъ радъ онъ посторѣй\n",
      "ChatGPT: ехалъ на Выксу – отецъ былъ радъ, онъ постарѣл.\n",
      "Human:   халъ на Выксу - отецъ былъ радъ, онъ постарѣлъ\n",
      "\n",
      "Model:   иѣсколько потолстѣлъ и въ голось замѣжна нере-\n",
      "ChatGPT: и нѣсколько потолстѣлъ, и въ голосѣ замѣтна нѣре-\n",
      "Human:   нѣсколько потолстѣлъ и въ голосѣ нѣсколько перемѣнился,\n",
      "\n",
      "Model:   нѣтъ твердости. На Выксѣ семра соловая,\n",
      "ChatGPT: нѣтъ твердости. На Выксѣ зима суровая,\n",
      "Human:   нѣтъ твердости. На Выксѣ сосѣди Соловые, сестра\n",
      "\n",
      "Model:   Сальяцъ. Пнк. Тепелилъ и в миховскій. Пиколой\n",
      "ChatGPT: Сальяцъ. Печь. Теплился и въ мѣховскій. Покой.\n",
      "Human:   Сальясъ, Ник. Шепелевъ и Дмоховскій. Николай\n",
      "\n",
      "Model:   Гроть 1е. Рано утромъсъ гориныемъ выѣхалъ на сио.\n",
      "ChatGPT: Гротъ 1е. Рано утромъ съ Гориньемъ выѣхалъ на село.\n",
      "Human:   Іюнь. 1е. Рано утромъ съ Соринымъ выѣхалъ на Снаведь.\n",
      "\n",
      "Model:   Мвгупть. 3гo. Уѣхалъ въ Петербургъ ибо дѣло приняло дурной\n",
      "ChatGPT: Могутъ. 3-го. Уѣхалъ въ Петербургъ, ибо дѣло приняло дурной\n",
      "Human:   Августъ 3го. Уѣхалъ въ Петербургъ, ибо дѣло приняло дурной\n",
      "\n",
      "Model:   оборомъ въ Мни 1öen. Натало тяжекое время. Сѣрвсаколо-\n",
      "ChatGPT: оборотъ въ мнѣ. Началось тяжёлое время. Сѣрьёзно коло-\n",
      "Human:   оборотъ въ Мин. Юст. Настало тяжелое время. Связь съ Голи-\n",
      "\n",
      "Model:   крѣнокъ. Ходилъ нѣсколько разъ греть на подку – и\n",
      "ChatGPT: крѣнокъ. Ходилъ нѣсколько разъ грѣться на подку – и\n",
      "Human:   крѣпокъ. Ходилъ нѣсколько разъ гресть на лодку - и\n",
      "\n",
      "Model:   купался въ шѣѣ до наловмы Августа.\n",
      "ChatGPT: купался въ рѣкѣ до половины Августа.\n",
      "Human:   купался въ Невѣ съ половины августа.\n",
      "\n",
      "Model:   Сенслябрь. Въ Петербургѣ. Подалъ запику М. Фв о\n",
      "ChatGPT: Сентябрь. Въ Петербургѣ. Подалъ записку М. Ф. о\n",
      "Human:   Сентябрь. Въ Петербургѣ. Подалъ записку м. ф-ов о\n",
      "\n",
      "Model:   предкриятіи въ 8ж. Россіи. Отаровили на Выксу и\n",
      "ChatGPT: предпріятіи въ Юж. Россіи. Отправили на Выксу и\n",
      "Human:   предпрiятiи въ Юж. Россiи. Отправился на Выксу и\n",
      "\n",
      "Model:   заклочилъ у словсе съ vнк. Иется. Прiѣхалъ обранна\n",
      "ChatGPT: заключилъ условіе съ инж. Иется. Пріѣхалъ обратно.\n",
      "Human:   заключилъ условие с Ник. Шепел. Прiѣхалъ обратно\n",
      "\n",
      "Model:   въ Петербургъ. 13ге. Нояюря. Сововые сыня и мамаковъ\n",
      "ChatGPT: въ Петербургъ. 13-го Ноября. Совѣщаніе съ сыномъ и Мамаковым.\n",
      "Human:   въ Петербургъ 13го ноября. Соловые. Соня и Маменька въ\n",
      "\n",
      "Model:   Петербургѣ. Жиднь въ свстицѣ Демдова. Постояно\n",
      "ChatGPT: Петербургѣ. Жизнь въ свѣтлицѣ Демидова. Постоянно\n",
      "Human:   Петербургѣ. Жизнь въ гостиницѣ Демидова. Постановилъ\n",
      "\n",
      "Model:   ходилъ въ Дерошу но устрамъ. Окочилъ 2оп и 3 м Ѳекетъ.\n",
      "ChatGPT: ходилъ въ Дерошу по утрамъ. Окончилъ 2-й и 3-й мѣсяцъ.\n",
      "Human:   ходить къ Депону по утрамъ. Окончилъ 2ой и 3iй актъ. \n",
      "\n",
      "Model:   Дѣло въ Гомуд. Солѣтѣ. вбр Торги на вичновые\n",
      "ChatGPT: Дѣло въ Гомель. Совѣтѣ. Въ Торги на вѣщевые\n",
      "Human:   Дѣло въ Госуд. Советѣ. Декабрь Торги на винтовые\n",
      "\n",
      "Model:   Корабни. Конывъ и Шульчмъ въ Петербургѣ. Декабрь.\n",
      "ChatGPT: Корабли. Коновъ и Шульцъ въ Петербургѣ. Декабрь.\n",
      "Human:   корабли. Копьевъ и Шульгинъ въ Петербургѣ. Декабрь. \n",
      "\n",
      "Model:   возвранинся въ Москву.\n",
      "ChatGPT: возвратился въ Москву.\n",
      "Human:   Возвратился въ Москву. \n",
      "\n",
      "Model:   12f4. Годъ. Новый годъ нажелзной дорогѣ. Былъ въ Доскре-\n",
      "ChatGPT: 1854. Годъ. Новый годъ на желѣзной дорогѣ. Былъ въ Москве.\n",
      "Human:   1854 годъ. Новый годъ на желѣзной дорогѣ. Былъ в Воскре-\n",
      "\n",
      "Model:   сискомъ. 15 чеила выѣхалъ на Выксу. Амнлte Гол.\n",
      "ChatGPT: спискомъ. 15-го числа выѣхалъ на Выксу. Аннѣ Гол.\n",
      "Human:   сенскомъ. 15 числа выѣхал на Выксу. Anette Гол. \n",
      "\n",
      "Model:   Ныеса читалась въ уепѣхомъ. Въ оРевранѣ,\n",
      "ChatGPT: Пьеса читалась съ успѣхомъ. Въ Февралѣ,\n",
      "Human:   Пьесса читалась съ успехомъ. Въ февралѣ\n",
      "\n",
      "Model:   должъ былъ ѣхатъ въ Москку по полоду насавшается\n",
      "ChatGPT: долженъ былъ ѣхать въ Москву по поводу насущается\n",
      "Human:   долженъ былъ выѣхать въ Москву по поводу начавшагося\n",
      "\n",
      "Model:   Слѣхмвся. Вздилъ на нѣскольоо дней въ Пентербургъ.\n",
      "ChatGPT: Съ лѣгкостью. Въѣхалъ на нѣсколько дней въ Петербургъ.\n",
      "Human:   слѣдствiя. Ѣздилъ на нѣсколько дней в Петербургъ.\n",
      "\n",
      "Model:   Нталъ охоимисьихъ вещю ченобы охотиться.\n",
      "ChatGPT: Снялъ охотничьихъ вещей, чтобы охотиться.\n",
      "Human:   Покупалъ охотничьихѣ вещей, чтобы охотиться. \n",
      "\n",
      "Model:   2гo мадна на первой не дѣли воротилси въ Москву.\n",
      "ChatGPT: 2-го марта на первой недѣле воротился въ Москву.\n",
      "Human:   1гo марта на первой недѣлѣ воротился въ Москву. \n",
      "\n",
      "Model:   для пріiема Дамь. Онъ пріѣхали поздно. Обѣдали въ 6-м часу был\n",
      "ChatGPT: для пріёма дамъ. Они пріѣхали поздно. Обѣдали въ 6-м часу. Был\n",
      "Human:   для пріема дамъ. Онѣ пріѣхали поздно. Обѣдали въ 6мъ часу – было\n",
      "\n",
      "Model:   довольна весел. – Я очно вечеко игралъ въ карты\n",
      "ChatGPT: довольно весел. – Я очно вечеромъ игралъ въ карты.\n",
      "Human:   довольно весело. – Я очень весело игралъ въ карты. –\n",
      "\n",
      "Model:   нѣлтъ яЯ отправичъ Семна нъ В Туму Запродать будущаго Cахора\n",
      "ChatGPT: Нѣлъ я. Я отправилъ Семена въ Тулу запродать будущаго сахара.\n",
      "Human:   нѣтъ. Я отправилъ Семена Ив. въ Тулу запродать будущаго сахара.\n",
      "\n",
      "Model:   228-е Лmmи яяшалъ рао Споляничалъ. Рапимывалъ и отпровилъ Выю-\n",
      "ChatGPT: 28-е. Лѣтомъ я решалъ разное. Споряничалъ. Расписывалъ и отправилъ Выю-\n",
      "Human:   28е. Всталъ рано. Столярничалъ. Разсчитывалъ и отправилъ Вык-\n",
      "\n",
      "Model:   Симкилъ 18 человѣсъ. Но обратныхъ пододовъ ратробовалъ изъ Москвы\n",
      "ChatGPT: Снялъ 18 человѣкъ. На обратныхъ поездахъ попробовалъ изъ Москвы.\n",
      "Human:   сунскихъ 18 человѣкъ. На обратныхъ подводахъ затребовалъ изъ Москвы\n",
      "\n",
      "Model:   Либили, картинъ, броизу. Естя прѣ пиводь буду жить 7 Россіи – накъ\n",
      "ChatGPT: Купили картинъ, бронзу. Если при поводѣ буду жить въ Россіи – такъ\n",
      "Human:   мебель, картины, бронзу. Если я гдѣ-нибудь буду жить въ Россіи – такъ\n",
      "\n",
      "Model:   это сдѣся – въ кобылимкѣ..\n",
      "ChatGPT: это здѣсь – въ Кобылинкѣ.\n",
      "Human:   это здѣсь – въ Кобылинкѣ.\n",
      "\n",
      "Model:   Замѣчательныой раскаръ О помещикѣ Малиновскомъ убинноъ се\n",
      "ChatGPT: Замѣчательной рассказъ о помещикѣ Малиновскомъ, убившемъ се...\n",
      "Human:   Замѣчательный расказъ о помѣщикѣ Маниловскому, убитомъ его\n",
      "\n",
      "Model:   костьяноми. Какъ Замѣнно это было Сильной странно.\n",
      "ChatGPT: костями. Какъ замѣтно это было сильно странно.\n",
      "Human:   крестьянами. Какъ замѣтно это была сильная, страшно\n",
      "\n",
      "Model:   4.онъ довева Крестьямъ до большаго блаю состоянія и богати.\n",
      "ChatGPT: Онъ довелъ крестьянъ до большаго благосостоянія и богатства.\n",
      "Human:   онъ довелъ крестьянъ до большого благосостоянія и богат-\n",
      "\n",
      "Model:   1ства, получилъ имѣніе разоренное– и кресетьяхъ противишотія –\n",
      "ChatGPT: состоянія, получилъ имѣніе разоренное – и крестьянъ противящихся –\n",
      "Human:   ства, получивъ имѣніе разоренное и крестьянъ прожившихся.\n",
      "\n"
     ]
    }
   ],
   "source": [
    "for model_page, corrected_page, human_page in zip(model_pages_test, corrected_pages_test, human_pages_test, strict=True):\n",
    "    for model_line, corrected_line, human_line in zip(model_page.split(\"\\n\"), corrected_page.split(\"\\n\"), human_page.split(\"\\n\"), strict=True):\n",
    "        print(f\"Model:   {model_line}\")\n",
    "        print(f\"ChatGPT: {corrected_line}\")\n",
    "        print(f\"Human:   {human_line}\")\n",
    "        print()"
   ]
  },
  {
   "cell_type": "markdown",
   "metadata": {},
   "source": [
    "## Коррекция после фикса с паддингом"
   ]
  },
  {
   "cell_type": "code",
   "execution_count": 11,
   "metadata": {},
   "outputs": [],
   "source": [
    "eval_results_path = Path(\"/Users/v.p.zykov/Downloads/telegram\")\n",
    "\n",
    "with open(eval_results_path / \"eval_train.pkl\", \"rb\") as f:\n",
    "    eval_train = pickle.load(f)\n",
    "\n",
    "with open(eval_results_path / \"eval_test.pkl\", \"rb\") as f:\n",
    "    eval_test = pickle.load(f)\n",
    "\n",
    "with open(eval_results_path / \"eval_val.pkl\", \"rb\") as f:\n",
    "    eval_val = pickle.load(f)"
   ]
  },
  {
   "cell_type": "code",
   "execution_count": 12,
   "metadata": {},
   "outputs": [
    {
     "data": {
      "text/plain": [
       "dict_keys(['str_preds', 'str_gt', 'cer', 'wer', 'cers', 'wers'])"
      ]
     },
     "execution_count": 12,
     "metadata": {},
     "output_type": "execute_result"
    }
   ],
   "source": [
    "eval_test.keys()"
   ]
  },
  {
   "cell_type": "code",
   "execution_count": 13,
   "metadata": {},
   "outputs": [],
   "source": [
    "import sys\n",
    "sys.path.append('..')\n",
    "\n",
    "from basic.utils import edit_cer_from_list, nb_chars_from_list, edit_wer_from_list, nb_words_from_list"
   ]
  },
  {
   "cell_type": "code",
   "execution_count": 14,
   "metadata": {},
   "outputs": [],
   "source": [
    "def calc_cer_from_list(gt: list[str], pred: list[str]):\n",
    "    return edit_cer_from_list(gt, pred) / nb_chars_from_list(gt)\n",
    "\n",
    "def calc_wer_from_list(gt: list[str], pred: list[str]):\n",
    "    return edit_wer_from_list(gt, pred) / nb_words_from_list(gt)"
   ]
  },
  {
   "cell_type": "code",
   "execution_count": 15,
   "metadata": {},
   "outputs": [],
   "source": [
    "assert calc_cer_from_list(eval_test[\"str_gt\"], eval_test[\"str_preds\"]) == eval_test[\"cer\"]"
   ]
  },
  {
   "cell_type": "code",
   "execution_count": 16,
   "metadata": {},
   "outputs": [],
   "source": [
    "assert calc_wer_from_list(eval_test[\"str_gt\"], eval_test[\"str_preds\"]) == eval_test[\"wer\"]"
   ]
  },
  {
   "cell_type": "code",
   "execution_count": 44,
   "metadata": {},
   "outputs": [],
   "source": [
    "def make_system_prompt_v2(val_gt: list[str], val_preds: list[str], train_gt: list[str], train_preds: list[str], limit_train_lines=250):\n",
    "    prompt = f\"\"\"Твоя задача - корректировать входной текст, исправляя в нем ошибки.\n",
    "Это текст, распознанный моделью компьютерного зрения с рукописей. Рукописи написаны на русском языке 19 века (также иногда присутствуют другие языки).\n",
    "Цель - получить максимально близкий к рукописи вариант расшифровки.\n",
    "Модель допускает ошибки в распознавании символов.\n",
    "Исправляй только самые явные и понятные места. Если фрагмент текста сложно разобрать, то сохраняй его в том же виде, в котором и получил.\n",
    "Сохраняй имена собственные и числительные как есть. Сохраняй исходную последовательность слов.\n",
    "Тебе будут подаваться строки, расспознанные моделью компьютерного зрения, к которым в конце добавлены символы \" -> \". Тебе нужно вернуть исправленную строку.\"\"\"\n",
    "    # examples = \"Правильный текст из обучающей выборки:\\n\"\n",
    "    # for i, (human_line, model_line) in enumerate(zip(train_gt, train_preds, strict=True)):\n",
    "    #     examples += f\"{human_line}\\n\"\n",
    "    #     if i + 1 >= limit_train_lines:\n",
    "    #         break\n",
    "    # examples += \"\\n\\nПримеры исправлений, требующихся от тебя:\\n\"\n",
    "    # for i, (human_line, model_line) in enumerate(zip(val_gt, val_preds, strict=True)):\n",
    "    #     examples += f\"{model_line} -> {human_line}\\n\"\n",
    "    train_gt = train_gt[:limit_train_lines]\n",
    "    train_preds = train_preds[:limit_train_lines]\n",
    "    gt = train_gt + val_gt\n",
    "    preds = train_preds + val_preds\n",
    "    examples = \"Примеры:\\n\"\n",
    "    for i, (human_line, model_line) in enumerate(zip(gt, preds, strict=True)):\n",
    "        examples += f\"{model_line} -> {human_line}\\n\"\n",
    "    return prompt + \"\\n\\n\" + examples"
   ]
  },
  {
   "cell_type": "code",
   "execution_count": 45,
   "metadata": {},
   "outputs": [
    {
     "data": {
      "text/plain": [
       "1599"
      ]
     },
     "execution_count": 45,
     "metadata": {},
     "output_type": "execute_result"
    }
   ],
   "source": [
    "len(eval_train[\"str_preds\"])"
   ]
  },
  {
   "cell_type": "code",
   "execution_count": 46,
   "metadata": {
    "scrolled": true
   },
   "outputs": [
    {
     "name": "stdout",
     "output_type": "stream",
     "text": [
      "Твоя задача - корректировать входной текст, исправляя в нем ошибки.\n",
      "Это текст, распознанный моделью компьютерного зрения с рукописей. Рукописи написаны на русском языке 19 века (также иногда присутствуют другие языки).\n",
      "Цель - получить максимально близкий к рукописи вариант расшифровки.\n",
      "Модель допускает ошибки в распознавании символов.\n",
      "Исправляй только самые явные и понятные места. Если фрагмент текста сложно разобрать, то сохраняй его в том же виде, в котором и получил.\n",
      "Сохраняй имена собственные и числительные как есть. Сохраняй исходную последовательность слов.\n",
      "Тебе будут подаваться строки, расспознанные моделью компьютерного зрения, к которым в конце добавлены символы \" -> \". Тебе нужно вернуть исправленную строку.\n",
      "\n",
      "Примеры:\n",
      "вечеръ. Всталъ въ 6-м часу. -> вечеръ. Всталъ въ 6мъ часу.\n",
      "21е. Перемѣна погоды. Довдикъ. Свѣжо. Всталъ -> 21е. Перемѣна погоды. Дождикъ, свѣжо, всталъ\n",
      "въ 6-тъ часу. Купался къ дождь. Гредъ очень мало. Чув- -> въ 6мъ часу. Купался в дождь. Гребъ очень мало. Чув-\n",
      "ствуя холодъ прошелъ по Александровскому Саду -> ствуя холодъ противъ по Александровскому саду.\n",
      "З раза. Согрѣлся. Я ощутилъ крѣпость. Переводъ шелъ -> 3 раза. Согрѣлся и ощутилъ крѣпость. Переводъ шелъ\n",
      "отлично. – – Чувство крѣпостивовесь день -> отлично. – Чувство крѣпости во весь день.\n",
      "22-е, 3 . 14-е. Ообенно нечервствовъ себя хорошо – былъ -> 22е, 23е. 24е Особенно не чувствов. себя хорошо - былъ\n",
      "малькій флюсъ. 24-е. не купался. Алишолай пріѣхалъ съ Выкве. -> маленькiй флюсъ. 24е. Не купался. Николай прiѣхалъ съ Выксы.\n",
      "24-е. Получилъ копію съ разбойнинаской бумано. и сѣлъ -> 24е. Получилъ копiю съ разбойнической бумаги и сѣлъ\n",
      "писать отпоръ. 25-е. 26-е. Писалъ отпоръ, работа -> писать отпоръ. 25е – 26е. Писалъ отпоръ, работа\n",
      "тяжелая. Сила шло на убыль. -> тяжелая. Сила шла на убыль.\n",
      "27. День лѣтній. вода согрѣлась. Купелся пореди -> 27. День лѣтнiй. Вода согрѣлась. Купался посреди\n",
      "рѣки, плылъ въ длину. Въ купанье чувствовалъ себя хорошо -> рѣки, плылъ въ длину. От купанья чувствовалъ себя хорошо\n",
      "подномъ худо. Вечеръ кудный, пеплый. – съ теплк. налодкѣ. -> подконец худо. Вечеръ чудный, теплый. - Шепелев на лодкѣ\n",
      "28. День лѣтній. Вода 16-е. купался середъ рѣки. -> 28. День летнiй. Вода 16 °. Купался серёдъ рѣки.\n",
      "Отправилъ отпоръ въ Петербургъ. Чувствовалъ себя -> Отправилъ отпоръ въ Петербургъ. Чувствовалъ себя\n",
      "средственно. Вечеръ лѣтній чудный. –. -> средственно. Вечеръ лѣтнiй чудесный.\n",
      "21-е. Утро судно. Всталъ въ 5 час. Купался въ Лужикахъ, -> 29е. Утро чудное. Всталъ въ 5 час. Купался в Лужникахъ.\n",
      "Кн Катъ. Гагарина было у Графа. Блудова. Днемъ -> Кн. Кат. Гагарина была у графа Блудова. Днемъ\n",
      "работалъ Гиматику. Вечеромъ котали на лодкѣ -> работалъ Гимнастику. Вечеромъ катался на лодкѣ\n",
      "отлично. Возвращаясь чувствовалъ себѣ легко и -> отлично. Возвращаясь, чувствовалъ себя легко и\n",
      "Духомъ былъ у самой природы. -> Духомъ былъ у cамой природы.\n",
      "30е. На лобкѣ. Купался середъ рѣки. -> 30е. На лодкѣ. Купался середъ рѣки.\n",
      "31е. На лоднѣ. Купался середъ рѣко. Воздухъ холоденъ -> 31е. На лодкѣ. Купался середъ рѣки. Воздухъ холоденъ,\n",
      "вода еще тёпла. Гимнастика. Купался въ -> вода еще тёпла. Гимнастика. Купался въ\n",
      "купатья всенъ фруаты и не забогщъ ни о чемь. -> купаться, ѣстъ фрукты и не забочусь ни о чемъ.\n",
      "23 число пріѣхала Сеатръ Соня. Провожаю -> 23-е число. Прiѣхала сестра Соня. Продолжаю\n",
      "утрами ходизтнъ на лодку и гресть. Встеръ -> утрами ходить на лодку и гресть. Вѣтеръ\n",
      "и холодъ. Эта п рогулка производитъ на мн -> и холодъ. Эта прогулка производит на меня\n",
      "тожевблйяса, какъ купаны. Се ложу въ пегкомъ -> то же влiян, какъ купанiе. Я хожу въ легкомъ\n",
      "палоръ и скидаю его. Сначала озябаго самъ и -> пальто и скидаю его. Сначала озябаю самъ и\n",
      "особенто руки, но пототъ всё крѣпнетъ, и я -> особенно руки, но потомъ всё крѣпнетъ, и я\n",
      "–возвращаюсь въ хорошенъ состяніи. Скоро кончил -> возвращаюсь въ хорошемъ состоянiи ... - Скоро кончится\n",
      "и rребная работа. Надо будетъ нойти себѣ рукодѣльые. -> и гребля работа. Надо будетъ найти себѣ рукодѣлiе.\n",
      "празными разговорами. Выслань на Выкмъ картины. -> праздными разговорами. Высланы на Выксу картины.\n",
      "27-е. Всталъ рано и отправлянли въ домъ, гдѣ и -> 27-е. Всталъ рано и отправился въ домъ, гдѣ и\n",
      "завтраковъ. – . Обѣдалъ у сестры. -> завтракалъ. - Обѣдалъ у сестры.\n",
      "20-е. Число разстромъ вѣстью изъ Петербурга -> 28е число. Разстроенъ вѣстью изъ Петербурга.\n",
      "17е. Изъ Степи, привели лошадей. - Anaїs, письмо -> 17е. Изъ Степи привели лошадей. - Anaїs, письмо\n",
      "къ Сонѣ о полученіи ею медали. Яшвиль пріѣхалъ изъ -> къ Сонѣ о полученіи ею медали. Яшвиль пріѣхалъ изъ\n",
      "жительное въ теченіе нѣсколькихъ дней. -> жительное въ теченіе нѣсколькихъ дней.\n",
      "18е. Всталъ рано. Полный туалетъ. – Свѣжо и крѣпко. -> 18е. Всталъ рано. Полный туалетъ. – Свѣжо и крѣпко.\n",
      "Въ Гимнастикѣ движенье хорошо. P.f. 80. –. -> Въ Гимнастикѣ движенье хорошо. P.f. 80. –.\n",
      "Вечеръ у Потулова. -> Вечеръ у Потулова.\n",
      "Victor. Вина не пилъ, ѣлъ немного – послѣ -> Victor. Вина не пилъ, ѣлъ немного – послѣ\n",
      "обѣда хорошо. Легъ въ 10 ч. -> обѣда хорошо. Легъ въ 10 ч.\n",
      "21е. Читалъ піэссу Садовскому – неудача. -> 21е. Читалъ піэссу Садовскому – неудача.\n",
      "До конца мѣсяца состояніе среднее. -> До конца мѣсяца состояніе среднее.\n",
      "Переводъ шелъ мало -> Переводъ шелъ мало.\n",
      "Ноябрь. 1. 2. 3е прошли въ суматохѣ внѣшно- -> Ноябрь. 1. 2. 3е прошли въ суматохѣ внѣшно-\n",
      "сти и безсознательности. Началъ столярничать. -> сти и безсознательности. Началъ столярничать.\n",
      "4е. Получилъ утромъ свободу. Плацъ-адъютантъ -> 4е. Получилъ утромъ свободу. Плацъ-адъютантъ\n",
      "Дьячконскій, арестовавшій меня, пріѣхалъ на -> Дьячконскій, арестовавшій меня, пріѣхалъ на\n",
      "гауптвахту и самъ привезъ въ домъ къ Ма- -> гауптвахту и самъ привезъ въ домъ къ Ма-\n",
      "тушкѣ. Обѣдали вмѣстѣ Самсонъ и Поту- -> тушкѣ. Обѣдали вмѣстѣ Самсонъ и Поту-\n",
      "ловъ. Гимнастика шла хорошо, во многихъ -> ловъ. Гимнастика шла хорошо, во многихъ\n",
      "движеніяхъ есть успѣхи. Въ это время -> движеніяхъ есть успѣхи. Въ это время\n",
      "сталъ прыгать чрезъ лошадь чисто. –. -> сталъ прыгать чрезъ лошадь чисто. –.\n",
      "5е. Маменька уѣхала въ Петербургъ обратно. –. -> 5е. Маменька уѣхала въ Петербургъ обратно. –.\n",
      "6е. Столярничалъ мало. Вечеромъ у Пуаре – -> 6е. Столярничалъ мало. Вечеромъ у Пуаре –\n",
      "борьба съ Пуаре. Я его поборолъ. Спалъ крѣпко. -> борьба съ Пуаре. Я его поборолъ. Спалъ крѣпко.\n",
      "† 7e. Всталъ сильно. Столярничалъ -> † 7e. Всталъ сильно. Столярничалъ. – P.f.\n",
      "Былъ у Луизы. – Это её день. -> Былъ у Луизы. – Это её день.\n",
      "8е. Столярничалъ – обѣдалъ у Самсона. -> 8е. Столярничалъ – обѣдалъ у Самсона.\n",
      "Довольно въ духѣ. Антонъ Голиц. пріѣхалъ -> Довольно въ духѣ. Антонъ Голиц. пріѣхалъ\n",
      "изъ Петербурга. Вечеръ вмѣстѣ. -> изъ Петербурга. Вечеръ вмѣстѣ.\n",
      "9е. Всталъ рано. Довольно сильно. Ничего не -> 9е. Всталъ рано. Довольно сильно. Ничего не\n",
      "дѣлалъ. Подалъ просьбу въ Над. судъ. Въ Гимнастикѣ -> дѣлалъ. Подалъ просьбу въ Над. судъ. Въ Гимнастикѣ\n",
      "не работалъ. Антонъ Голиц. уѣхалъ въ Гжатскъ. -> не работалъ. Антонъ Голиц. уѣхалъ въ Гжатскъ.\n",
      "10е. Всталъ рано - ничего не дѣлалъ. Вечеромъ въ -> 10е. Всталъ рано - ничего не дѣлалъ. Вечеромъ въ\n",
      "Гимнастикѣ у Пуаре. Чувствовалъ себя -> Гимнастикѣ у Пуаре. Чувствовалъ себя\n",
      "Сильно. Прыгалихорошо. – Сильной слѣсъ и къ вечеру -> сильно. Прыгалъ хорошо. – . Сильный снѣгъ и къ вечеру\n",
      "Морозъ. … Вечеру у кн. Кат. Гаrариной и влатъ. Мnдре. -> морозъ. – Вечеръ у кн. Кат. Гагариной и Нат. Андре.\n",
      "Соловой. -> Соловой. –\n",
      "11е. Хлопоты по устройству дома разгадца -> 11е. Хлопоты по устройству дома разладица\n",
      "весь день въ хлопотахъ. Вереромъ со ап. Въ духѣ -> вѣсь день въ хлопотахъ. Вечеромъ съ An. въ духѣ\n",
      "и силѣ. Запрошеденія дни работая въ Еленатикѣ -> и силѣ. За прошедшіе дни, работая въ Гимнастикѣ\n",
      "такъ укрѣтился, что всѣ дни был въ силѣ и -> такъ укрѣпился, что всё дни былъ въ силѣ и,\n",
      "кажется сильнѣе вѣта. – эти дни Вf. 100° -> кажется, сильнѣе лета. – Эти дни Pf 100°\n",
      "12. тала дима. Самой путь. -> 12. Стала зима. Санный путь.\n",
      "хлопоты по устрой ству дома. – . Всь день. –. -> Хлопоты по устройству дома. – Вѣсь день. –\n",
      "Вечеромъ до 28 часовъ у Кат. Гаrарной. -> Вечеромъ до 2х часовъ у Кат. Гагариной.\n",
      "13-е. Странная головная боль вѣсь день. – -> 13е. Странная головная боль вѣсь день. –\n",
      "стонмость натоки по пробѣ сдѣлаюсь -> Стоимость патоки по пробѣ, сдѣланной\n",
      "Ведоромъ. – . на сей годъ: На Заварику 114. 4 -> Ѳедоромъ – на сей годъ: на заварку 114 пудъ.\n",
      "мѣсу 16го. На 130 3 р. Асс. 20 00 -> лѣсу 16 п по 1,30 - р. ас.           20.80. –\n",
      "уней 3-тo 1 25315 -> угля 3 п. 1,25                     3.75.\n",
      "Кислорси 32е. о 17 1/5.60. Расходу на идѣ -> кислоты 32ф. 0,17                5.60.    Расходу на пудъ.\n",
      "Гровъ ло. 32 . 14 р. Ас. 49. полаая варитъ въ -> дровъ ело.3  14 р. ас.    –         49.     Полагаю варитъ въ\n",
      "жалъ Матеру. 15 а пуда – 7. 10. годъ 10-е из -> жал. мастеру 15 к. съ пуда  –      17.10.    годъ 10 т. пуд.\n",
      "Рабогимъ 12 че. дох со хар. 8.10.з т -> рабочимъ 12 чел. 70 к. съ харчъ.  …  8.40.\n",
      "Зъ Завденіе 5-го ъ нудго – 510 -> за заведеніе 5 к. съ пуда     –      5.70.\n",
      "Провозъ въ Мое. 15-4 Съ пуда – 9 40 -> провозъ въ Мос. 15 копъ.съ пуда  – 17.40.\n",
      "Ладка и прикадинъ по 5-/ уда -> лавка и приказчикъ по 50 к. съ пуда  57.\n",
      "Иного въ сутка 190. 15 4. Aд -> Итого въ сутки 190. 45 к. сер.\n",
      "Поле въ Воскресенскомъ и урожай за -> Поле въ Воскресенскомъ и урожай за\n",
      "сей 1854 годъ. -> сей 1854 годъ.\n",
      "Ржи въ Воскрес. 12 1/2 десятинъ 5.30 коп. по 3 мер. до 200 четв. -> Ржи въ Воскрес. 12 1/2 десятинъ    5.30 коп. по 3 мер. до 200 четв.\n",
      "въ Пуч. 8 десятинъ 169 по 1/2 мер 32 четв. -> въ Пуч.    8 десятинъ     169 по 1/2 мер 32 четв.\n",
      "овса 22 1/2 310 по 1 чет. 3 гар. 390 -> овса         22 1/2      310 по 1 чет. 3 гар. 390\n",
      "сѣна................................................. -> сѣна ....................................................... 8288 пуд.\n",
      "саофею............................................ -> картофелю ................................................... 1904 чет\n",
      "муки вышл............... -> муки вышло ..............\n",
      "поставилъ мнѣ картоф.. 1688 четвер по 60 к сер. -> поставилъ мнѣ картоф.. 1688 четвер по 60 к сер.\n",
      "на сумму 1013 р. 32 к. сереб. – -> на сумму 1013 р. 32 к. сереб. –\n",
      "14. 15. 16. 17. 18. Нѣсколько дней сряду большое -> 14. 15. 16. 17. 18. Нѣсколько дней сряду большое\n",
      "разстройство, головная боль, слабость, тяжесть. -> разстройство, головная боль, слабость, тяжесть.\n",
      "Полагаю, отъ сильной тревоги вслѣдствіе про- -> Полагаю, отъ сильной тревоги вслѣдствіе про-\n",
      "пажи самыхъ завѣтныхъ вещей моей Луизы. -> пажи самыхъ завѣтныхъ вещей моей Луизы.\n",
      "Къ концу ноября начало здоровье справляться. -> Къ концу ноября начало здоровье справляться.\n",
      "Въ началѣ декабря опять сталъ вставать -> Въ началѣ декабря опять сталъ вставать\n",
      "рано, занялся переводомъ постоянно утромъ. -> рано, занялся переводомъ постоянно утромъ.\n",
      "4е декабря купилъ машину купальную, и -> 4е декабря купилъ машину купальную, и\n",
      "жизнь стала еще правильнѣе. -> жизнь стала еще правильнѣе.\n",
      "Порядокъ дня въ декабрѣ 1854 года. -> Порядокъ дня въ декабрѣ 1854 года.\n",
      "Встаю въ 6-тъ часовъ. Сей часъ умываюсь холодной водою -> Встаю въ 6-тъ часовъ. Сей часъ умываюсь холодной водою\n",
      "и окатываю голову. Потомъ сей часъ въ машину. -> и окатываю голову. Потомъ сей часъ въ машину.\n",
      "Вода въ ней около 17° Реомъ. Пускаю дождь съ низу -> Вода въ ней около 17° Реомъ. Пускаю дождь съ низу\n",
      "и дѣлаю тогда petite toilette. Потомъ пускаю -> и дѣлаю тогда petite toilette. Потомъ пускаю\n",
      "дождь боковой, потомъ задаю водою сверху. Потомъ -> дождь боковой, потомъ задаю водою сверху. Потомъ\n",
      "одѣваюсь и иду строгать. Въ 7 часовъ сажусь -> одѣваюсь и иду строгать. Въ 7 часовъ сажусь\n",
      "за переводъ. (Перевожу изъ Фіи исторіи Passion). Кофій въ -> за переводъ. (Перевожу изъ Фіи исторіи Passion). Кофій въ\n",
      "8 часовъ. 10 1/2 у Толбузина чай, ворочаюсь отъ Толбузина. -> 8 часовъ. 10 1/2 у Толбузина чай, ворочаюсь отъ Толбузина.\n",
      "Текущія занятія, переписка. Выхожу или съ визитами, -> Текущія занятія, переписка. Выхожу или съ визитами,\n",
      "или въ Гимнастику. Обѣдаю дома. Вечеръ дома Anais. -> или въ Гимнастику. Обѣдаю дома. Вечеръ дома Anais.\n",
      "Въ 11-м часу ложусь спать. – . -> Въ 11-м часу ложусь спать. – .\n",
      "Maximum. Pf.100°. 23. An. уѣхала въ Петербургъ. -> Maximum. Pf.100°. 23. An. уѣхала въ Петербургъ.\n",
      "25. Рождество. Обѣдалъ у сестры Сальясъ – -> 25. Рождество. Обѣдалъ у сестры Сальясъ –\n",
      "26. Обѣдалъ у дяди Ал. Алекс. – весьма -> 26. Обѣдалъ у дяди Ал. Алекс. – весьма\n",
      "1854. Декабр -> 1854. Декабрь\n",
      "en verve. Большой разговоръ съ Алмазо- -> en verve. Большой разговоръ съ Алмазо-\n",
      "вымъ о цивилизаціи. 27. Обѣдъ у -> вымъ о цивилизаціи. 27. Обѣдъ у\n",
      "тьевъ. -> тьевъ.\n",
      "31е. Перешелъ половину переводи- -> 31е. Перешелъ половину переводи-\n",
      "мой мною книги Гег. Фія исторіи. -> мой мною книги Гег. Фія исторіи.\n",
      "У Билы вѣшался на вѣсахъ – я -> У Билы вѣшался на вѣсахъ – я\n",
      "вѣшу 4 п. 27 ф. въ теченіе лѣта я -> вѣшу 4 п. 27 ф. въ теченіе лѣта я\n",
      "пріобрѣлъ три фунта. -> пріобрѣлъ три фунта.\n",
      "1855 годъ. – -> 1855 годъ. –\n",
      "1е генв. Вечеръ 31го провелъ съ Самсономъ, читалъ ста- -> 1е генв. Вечеръ 31го провелъ съ Самсономъ, читалъ ста-\n",
      "тью Finances de la Guerre. Спалъ хорошо. -> тью Finances de la Guerre. Спалъ хорошо.\n",
      "Всталъ не рано и пишу сіи строки. -> Всталъ не рано и пишу сіи строки.\n",
      "2е. 3 е. 4 е. Приготовленія къ отъѣзду на охоту -> 2е. 3 е. 4 е. Приготовленія къ отъѣзду на охоту\n",
      "за лосями къ Потулову. -> за лосями къ Потулову.\n",
      "5 го. Выѣхалъ къ Потулову. -> 5 го. Выѣхалъ къ Потулову.\n",
      "7 го. Пріѣздъ къ нему въ село Дмитровское. -> 7 го. Пріѣздъ къ нему въ село Дмитровское.\n",
      "Усталъ. -> Усталъ.\n",
      "12. 13. 14. Охота. Холодъ, я его переношу отлично. -> 12. 13. 14. Охота. Холодъ, я его переношу отлично.\n",
      "Возвращался изъ лѣсу домой, тѣло закаливается. -> Возвращался изъ лѣсу домой, тѣло закаливается.\n",
      "13. Убилъ лося. 14е. Охота. -> 13. Убилъ лося. 14е. Охота.\n",
      "15е. Выѣздъ -> 15е. Выѣздъ.\n",
      "16е. У дяди Ник. Иван. въ Калугѣ. -> 16е. У дяди Ник. Иван. въ Калугѣ.\n",
      "18. Возвратился отъ Потулова съ охоты. Чув- -> 18. Возвратился отъ Потулова съ охоты. Чув-\n",
      "ствовалъ себя весьма сильно. Pt. днемъ. –. -> ствовалъ себя весьма сильно. Pt. днемъ. –.\n",
      "19. Генваря. Пріѣздъ Василья Макарова – получено оброку -> 19. Генваря. Пріѣздъ Василья Макарова – получено оброку\n",
      "2300 р. сереб. Pt. Каждую ночь 90° -> 2300 р. сереб. Pt. Каждую ночь 90°\n",
      "20. Генваря. Чувствовалъ себя въ силѣ. Утромъ располо- -> 20. Генваря. Чувствовалъ себя въ силѣ. Утромъ располо-\n",
      "жился къ дѣлу. Переводъ шелъ мало. Занимался дѣлами. -> жился къ дѣлу. Переводъ шелъ мало. Занимался дѣлами.\n",
      "21. Пріѣхалъ Лукьяновъ. Занимался съ нимъ. Именины -> 21. Пріѣхалъ Лукьяновъ. Занимался съ нимъ. Именины\n",
      "Енюшки. -> Енюшки.\n",
      "22. Открытіе у меня бильярда. Утромъ писалъ -> 22. Открытіе у меня бильярда. Утромъ писалъ\n",
      "письма и бумаги къ отцу, отравляя къ нему -> письма и бумаги къ отцу, отравляя къ нему\n",
      "съ докладомъ Лукьянова. У меня обѣдали до -> съ докладомъ Лукьянова. У меня обѣдали до\n",
      "1855. февр. и мартъ. -> 1855. февр. и мартъ.\n",
      "18. Получено извѣстіе о Смерти Императора -> 18. Получено извѣстіе о Смерти Императора\n",
      "чрезъ Корша, который въ 2 часа дня зашелъ -> чрезъ Корша, который въ 2 часа дня зашелъ\n",
      "ко мнѣ, чтобы объявить мнѣ. –. -> ко мнѣ, чтобы объявить мнѣ. –.\n",
      "Всё это время чувствовалъ себя въ силѣ чрез- -> Всё это время чувствовалъ себя въ силѣ чрез-\n",
      "вычайно, какъ еще никогда. Занятія шли -> вычайно, какъ еще никогда. Занятія шли\n",
      "правильно, переводъ двинулся. – Къ концу февраля -> правильно, переводъ двинулся. – Къ концу февраля\n",
      "пополнѣлъ, прибыло по вѣсу 4 ф. тѣло очень -> пополнѣлъ, прибыло по вѣсу 4 ф. тѣло очень\n",
      "крѣпко. Въ Гимнастикѣ всѣ въ трико и -> крѣпко. Въ Гимнастикѣ всѣ въ трико и\n",
      "сталъ хорошо прыгать на лошадь. -> сталъ хорошо прыгать на лошадь.\n",
      "Свиданіе съ N. cталъ ложиться поздно – -> Свиданіе съ N. cталъ ложиться поздно –\n",
      "сталъ разстраиваться много здоровьемъ – -> сталъ разстраиваться много здоровьемъ –.\n",
      "поздно, не столярничалъ и потому и -> поздно, не столярничалъ и потому и\n",
      "сталъ идти подъ гору. Занятій не было. -> сталъ идти подъ гору. Занятій не было.\n",
      "15. Ѣздилъ въ Воскресенское. Промои путь испортили, -> 15. Ѣздилъ въ Воскресенское. Промои путь испортили,\n",
      "возка дровъ остановила сіе; зажоръ. – Возвратился -> возка дровъ остановила сіе; зажоръ. – Возвратился\n",
      "19. Плохо. Сильно не въ духѣ – нѣсколько дней уже -> 19. Плохо. Сильно не въ духѣ – нѣсколько дней уже\n",
      "ничто не дѣлалъ. Аппетитъ сталъ лучше. -> ничто не дѣлалъ. Аппетитъ сталъ лучше.\n",
      "Тѣло сдало и обмякло. Надо работать фи- -> Тѣло сдало и обмякло. Надо работать фи-\n",
      "21е. Состояніе то же. Собираюсь на Выксу. Утренній морозъ -> 21е. Состояніе то же. Собираюсь на Выксу. Утренній морозъ\n",
      "держитъ еще путь. Денежные хлопоты. 9 мелкихъ быковъ -> держитъ еще путь. Денежные хлопоты. 9 мелкихъ быковъ продалъ\n",
      "по13 р. сер. -> по 13 р. сер.\n",
      "24. Выѣхалъ на Выксу. Дорога почти испорто- -> 24. Выѣхалъ на Выксу. Дорога почти испорти-\n",
      "лась. Снѣгу на поляхъ мало.Отъ Владиміра еще -> лась. Снѣгу на поляхъ мало.Отъ Владиміра еще\n",
      "меньше. Отъ Мурома до Выксы вовсе нѣтъ.Пере- -> меньше. Отъ Мурома до Выксы вовсе нѣтъ.Пере-\n",
      "права чрезъ Оку подъ Муромомъ. Одна лошадь про- -> права чрезъ Оку подъ Муромомъ. Одна лошадь про-\n",
      "валилась – пріѣхалъ на Выксу верхомъ въ великую -> валилась – пріѣхалъ на Выксу верхомъ въ великую\n",
      "пятницу. Макаръ подмочилъ всѣ вещи. -> пятницу. Макаръ подмочилъ всѣ вещи.\n",
      "27. Святая. День удивительный – въ саду показалась -> 27. Святая. День удивительный – въ саду показалась\n",
      "первая травка. -> первая травка.\n",
      "28. Первая охота. Показались бекасы. Николай -> 28. Первая охота. Показались бекасы. Николай\n",
      "убилъ одного. Обѣдали въ полѣ. Весенній день. Ясно -> убилъ одного. Обѣдали въ полѣ. Весенній день. Ясно\n",
      "и тепло. -> и тепло.\n",
      "29. 30. Дни ясные – сбираемся въ Траслею. – -> 29. 30. Дни ясные – сбираемся въ Траслею. –\n",
      "31. Выѣхали на охоту въ Траслею. Въ Царицыномъ -> 31. Выѣхали на охоту въ Траслею. Въ Царицыномъ\n",
      "лугу убилъ перваго бекаса. -> лугу убилъ перваго бекаса.\n",
      "Апрѣль. 1е. Въ Траслее. Охота за глухими -> Апрѣль. 1е. Въ Траслее. Охота за глухими\n",
      "тетеревами. Вечеръ въ болотѣ на Царицыномъ лугу. -> тетеревами. Вечеръ въ болотѣ на Царицыномъ лугу.\n",
      "1855. Апр -> 1855. Апр.\n",
      "2-е. Утро за полебыми тетеревами. Воротился на -> 2е. Утро за полевыми тетеревами. Воротился на\n",
      "Выксу. Пеусталъ – Спалъ днемъ. Расположеніе духа хоро -> Выксу. Не усталъ – спалъ днемъ. Расположенiе духа хоро-\n",
      "шее. Тѣло отъ этикъ двухъ дней понравилось. -> шее. Тѣло от этихъ двухъ дней поправилось.\n",
      "Вечеръ провѣли у A.Nt. Заняжій перъ. … День удивителъ -> ЗВечеръ провелъ у А. А. Заячiй пер. - День удивитель\n",
      "3. Утро занялся отлично – былъ какой-то пазывъ, -> 3. Утро занялся отлично – былъ какой-то порывъ,\n",
      "яспоить, быстрота. Засимъ одо завтракалъ во -> ясность, быстрота. За симъ завтракалъ во\n",
      "фмигерѣ у Николая и имѣлъ, съ нимъ большой -> флигелѣ у Николая и имелъ съ нимъ большой\n",
      "Разговоръ о семейныхъ дѣлахъ. Вечеромъ читалъ Коме- -> разговоръ о семейныхъ дѣлахъ. Вечеромъ читалъ Коме-\n",
      "дію Кн. А.N. Гол. Кн. лѣлъ Голиц. Графу кутъ. Николаю -> дiю Кн. А.Д. Гол., Кн. Льву Голиц., Графу Кут. Николаю\n",
      "и доктору. Она начинаетъ имѣть успѣхъ. День -> и доктору. Она начинаетъ имѣть успѣхъ. День\n",
      "не токмо майскій но доже вѣтній. -> не токмо майский, но даже лѣтний.\n",
      "4-е. Утро. Обѣдался водою. Чулялъ. Утро удиви- -> 4е. Утро. Обдался водою. Гулялъ. Утро удиви-\n",
      "тельное. День Майскій – въ саду Выксушскомъ -> тельное. День майскiй – въ саду Выксунскомъ\n",
      "вездѣ показалась трава. Вечеръ чудный. -> вѣзде показалась трава. Вечеръ чудный.\n",
      "Первая5-. Утро. Обдался водою. Работалъ въ поли- -> 5-е. Утро. Обдался водою. Работалъ в пали-\n",
      "ребоза садникѣ немного. Приказалъ приготовинь -> садникѣ немного. Приказалъ приготовить\n",
      "навоздувсбѣ гряду. Работа шла тяжело. Ноднемъ -> себѣ гряду. Работа шла тяжело. Но днемъ\n",
      "чувствовалъ себя лучше. Занимался до обѣда. -> чувствовалъ себя лучше. Занимался до обѣда.\n",
      "Евашеліе. Переводъ идетъ порядочно. -> Евангелiе. Переводъ идетъ порядочно.\n",
      "6-е. Утромъ обдался работалъ въ саду. – Садилъ -> 6-е. Утро обдался. Работалъ въ саду - садилъ\n",
      "гряду малины. Работа шла тяжело. Еваниліе -> гряду малины. Работа шла тяжко. Евангелiе.\n",
      "переводъ. Чтеніе до обѣда. Напиналъ коечто -> Переводъ. Чтенiе до обѣда. Написалъ кое-что\n",
      "свое. День свѣжнѣе. -> свое. День свѣжѣе.\n",
      "одѣля и чувствую себя отлично. Не пониманю какъ -> одѣлся и чувствую себя отлично. Не понимаю, какъ\n",
      "у меня нѣтъ, довольно твердости, чтобы удерживаті -> у меня нѣтъ довольно твердости, чтобы удерживать\n",
      "этотъ порядокъ жизни. – Это просто свое рода -> этотъ порядокъ жизни - это просто свое ради\n",
      "благополучіи. Даю здѣсь обѣдъ письменно – во -> благополучія. Даю себѣ обѣтъ письменно - во\n",
      "что бы то ни стало – этить трудомъ, для -> что бы то ни стало – этотъ порядокъ, для\n",
      "труда и въ трудѣ – если не нсполно отказы -> труда и въ трудѣ - если не исполню, отказы-\n",
      "ваюсь отъ п мисти человѣко съ характеромъ. -> ваюсь отъ имени человѣка съ характеромъ.\n",
      "13-е. Въ Траслѣ – убилъ 2. бекасовъ и гаршена – -> 13е. В Траслее - убилъ 2-х бекасовъ и гаршнепа.\n",
      "День чудный – жарко. -> День чудный - жарко.\n",
      "1855. Апрѣль. -> 1855 Апрѣль.\n",
      "газонъ говсѣмъ заленый. -> Газонъ совсѣмъ зеленый.\n",
      "16. День лѣтнiй. Чуляли съ Салицыными на -> 16. День лѣтній. Гулялъ съ Голицыными въ\n",
      "гриветникъ. Вечеръ чудный и теёплый. До 170 -> гривенник. Вечер чудный и тёплый. до 17 0\n",
      "17. Съ утра необыкновенно тепло – къ вечеру стало -> 17. С утра необыкновенно тепло - к вечеру стало\n",
      "въ чаду нѣсколько протудился. -> въ саду, нѣсколько простуженъ.\n",
      "18. Всталъ не рано, болитъ стима, не работалъ -> 18. Всталъ не рано, болитъ спина, не работалъ.\n",
      "переводъ не дѣлалюъ лѣсколько дней, – и сотта- -> Переводъ не дѣлалъ нѣсколько дней, а соста-\n",
      "влялъ отетъ для отца въ получетыхъ сумтнахъ. -> влялъ отчетъ для отца въ полученныхъ суммахъ.\n",
      "Вечеромъ иалъ, письмо къ Дмоховскому о Заказѣ ѣл -> Вечеромъ писалъ письмо къ Дмоховскому о заказѣ для\n",
      "жевезной дорои подкладокъ и болтовъ, -> желѣзной дороги подкладокъ и болтовъ.\n",
      "представилъ омцу отчетъ въ окобылъ суммалъ -> Представилъ отцу отчетъ въ особыхъ суммахъ.\n",
      "сурѣстіи о прорывѣ Илевской плотитые. -> Извѣстіе о прорывѣ Ижевской плотины.\n",
      "разговоръ и предположенія о семъ съ стуомъ. -> Разговоръ о предположеніи о семъ съ отцомъ.\n",
      "23. Ѣздилъ на словедь по закасу на -> 21. Ѣздилъ на Ставецъ по заказу на\n",
      "Варшавскую доргу. Холодно. -> Варшавскую дорогу. Холодно.\n",
      "1856. Мартъ -> 1856. Мартъ\n",
      "3-е. Въ часовъ пріѣхалъ въ Канугу. Дядѣ принялъ меня -> 3е. Въ 11 часовъ пріѣхалъ въ Калугу. Дядя принялъ меня\n",
      "лучше. Стотрѣли иланхъ моего завода – онъ далъ мнѣ -> лучше. Смотрѣли планы моего Завода – онъ далъ мнѣ\n",
      "Отдалъ перепиывать піэссу въ Печать. -> Отдалъ переписывать піэссу въ печать.\n",
      "4-е. Утро провелъ съ дядей въ разговорхъ о семейныхъ -> 4е. Утро провелъ съ дядей въ разговорахъ о семейныхъ\n",
      "дѣлахъ и о Выксѣ – послѣ обѣда выѣхалъ въ раву. -> дѣлахъ и о Выксѣ. Послѣ обѣда выѣхалъ въ Расву.\n",
      "5-е. 6-е Въ расвѣ. Перемѣна въ плань завода. 1-е. леѣьной -> 5е. 6е. Въ Расвѣ. Перемѣна въ планѣ Завода. 1е. Мѣдной\n",
      "посиуды изъ за границы не вынижеваю, выторка кой – -> посуды изъ-за границы не выписываю, выпарка пой-\n",
      "детъ живымъ огнемъ – за то Пресовую подыма -> детъ живымъ огнемъ – за симъ прессовую подымаю\n",
      "лодъ дефикадіей – и ставляю чуунный остарать. -> надъ дефекаціей и ставлю чугунный аппаратъ!\n",
      "Обѣщаю и чай ныю у Вертамъ. Гажена лм-, чалоде -> Обѣдаю и чай пью у Вермана. Его жена M-me Lattage\n",
      "прекрасная женщина и какъ транщужеска всюхить -> прекрасная женщина и какъ француженка вноситъ\n",
      "удивительную Гормонію, складъ, и какое-то -> удивительную Гармонію, складъ и какое-то\n",
      "проперное извщенство въ стйную жизнь – я мепоце. 6-го вчеромъ -> прекрасное изящество въ семейную жизнь – le menage. 6-го вечеромъ\n",
      "болтали до 1-го часа почи. Я en verve. Былъ тутъ кото- -> болтали до 1-го часа ночи. Я en verve. Былъ тутъ помо-\n",
      "тиникъ вертьна барельсъ женою – впостлѣніе я на, нихъ -> щникъ Вермана Каревъ съ женою – впечатлѣніе я на нихъ\n",
      "произвылъ странное – они съ такими уморительевми -> произвелъ странное – они съ такими уморительными\n",
      "поклопами провожали меня, что мнѣ Самому было -> поклонами провожали меня, что мнѣ самому было\n",
      "неловко. -> неловко.\n",
      "7-е. Выѣхалъ обратно въ Малугу. Вечеромъ вылалъ Соричася -> 7-е. Выѣхалъ обратно въ Калугу. Вечеромъ выслалъ Сорина съ\n",
      "таказами въ Заводъ. – . -> заказами въ Заводъ. –\n",
      "8е. Всталъ рано ходилъ гулять но безмодной и снѣгомъ. -> 8-е. Всталъ рано. Ходилъ гулять по безлюдной и снѣгомъ\n",
      "на чиить з апесенной Калуѣ. Занимался сверкого -> начисто занесенной Калугѣ. Занимался свѣркою\n",
      "рукопней піэссы, – перешинаю всё подлѣйтимъ образомъ– -> рукописей піэссы – переписано всё подлѣйшимъ образомъ.\n",
      "9-е. Вядя не здоровъ глазами – ему ставили піяьки. Назни - -> 9-е. Дядя нездоровъ глазами – ему ставили піявки. Назна-\n",
      "что вереромъ читать піэсса. Получены газеты. Московскія Дѣ- -> чено вечеромъ читать піэссу. Получены газеты: Московскія Вѣ-\n",
      "домости содержамъ отпсаніе угощенія Севастопольцевъ – -> домости содержатъ описаніе угощенія Cевастопольцевъ –\n",
      "Бедемертныне боги. чложе это такое. Комъ Россія разбина -> Безсмертные Боги. Что жъ это такое? Когда Россія разбита\n",
      "въ прахъ, склонила голову, когда торжествуюціи вра -> въ прахъ, склонила голову, когда торжествующій врагъ\n",
      "одною рукого размстываетъ на встеръ отованія Иевасто- -> одною рукою разметываетъ на вѣтеръ основаніе Севасто-\n",
      "шоля. Фномъ пошебъ, Черна морое отнято, крѣпоти обо- -> поля – флотъ погибъ, Черное море отнято, крѣпости: ото-\n",
      "браны, когда Улиссу дернаютъ дубы и затавляютъ нау- -> браны, когда Улиссу держатъ зубы и заставляютъ под-\n",
      "писывать отрѣшеніе отъ всѣхъ пралъ и отольтнихъ ровое – -> писывать отреченіе отъ всѣхъ правъ и столѣтнихъ завое-\n",
      "в ваній – Отрыніе отъ флота, отъ Востьска, отъ ликоловва, -> ваній – Отреченіе отъ флота, отъ Востока, отъ Николаева,\n",
      "Защитниковъ взятаю сѣвастополъ причимаютъ какъ побзители -> защитниковъ взятаго Севастополя принимаютъ какъ побѣдителей.\n",
      "кого?. когда гдв. Ут сальмѣ, подъ Черной. При Иикресенѣ: иѣ -> Кого? Когда? Гдѣ? При Альмѣ, подъ Черной? При Иккермане? Или\n",
      "въ Гамомъ Сватнополѣ!. . Мое жинымъ въ такія, дременни -> въ самомъ Севастополѣ?... Мы живемъ въ такіе времена,\n",
      "когда всякое чувство достотива и личнаго и каудпаль- -> когда всякое чувство достоинства, и личнаго и національ-\n",
      "наю, должно закрыстъ себѣ лице рукоми, чтобы не -> наго, должно закрыть себѣ лицо руками чтобы не\n",
      "видѣть и свѣта божія. Гольшой разговоръ тъ дядей и -> видѣть и свѣта Божія. Большой разговоръ съ дядей и\n",
      "бексеромъ о Мословскихъ дашахъ, говоривтикъ рѣчи -> Беккеромъ о Московскихъ дамахъ, говорившихъ рѣчи\n",
      "1856. Март -> 1856. Мартъ\n",
      "и онатріюнизмѣ эткупзика Кокарева. Ѳеобливо прого -> и о патріотизмѣ откупщика Кокорева. Особливо трога-\n",
      "теленъ ео Замной поклонъ сѣвастополескимѣ мо- -> теленъ его земной поклонъ севастопольскимъ мо-\n",
      "Рякамъ. По этомъ случаго я замѣтилъ, что вовсѣ -> рякамъ. По этому случаю я замѣтилъ, что во всѣхъ\n",
      "подобныхъ опказіяхъ Откумзнкги болѣе прошелъ -> подобныхъ оказіяхъ Откупщики болѣе прочихъ\n",
      "отличаются у насъ на руги Самыми живрими -> отличаются у насъ на Руси самыми живыми\n",
      "у ствами натрію низема – Обобралъ крещеный на- -> чувствами патріотизма – обобравъ крещеный на-\n",
      "родъ, и составиьши, мнлѣюпы ище. Грошей протитвія -> родъ и составивши милліоны изъ Грошей, пропитыхъ\n",
      "именно тѣеніи у когю этомъ громъ послѣдный, пусти- -> именно теми, у кого этотъ Грошъ послѣдній, пусти-\n",
      "вни по міру цѣлыя области, они вечеда изглвлять -> вши по міру цѣлые области, они всегда изъявляютъ\n",
      "особенную готовноть пожутровать нѣсколько тыня -> особенную готовность пожертвовать нѣсколько тысячъ\n",
      "рублій для бѣдныхъ, на преюты дѣшей просивтит -> рублей для бѣдныхъ, на пріюты дѣтей пропившихся\n",
      "обывателей и вообще, на свсѣ патроо пическія дѣя -> обывателей и вообще на всё патріотическіе цѣли,\n",
      "не ходянщіясъ съ распоряженія правителъ таи – траю- -> находящіеся въ распоряженіи правительства, – трога-\n",
      "тельное зрѣлице) Никогда не прохожу я мичг -> тельное зрѣлище! Никогда не прохожу я мимо\n",
      "зергольныхъ оконъ и тресъ этожныхъ палатя опкун- -> зеркальныхъ оконъ и трехъэтажныхъ палатъ откуп-\n",
      "щикахъ Реюмина, Конилева. Боробина, Воронова, -> щиковъ Рюмина, Кошелева, Бородина, Воронова\n",
      "пор. Ечтобы не подивится, какъ изъ малаго роставлей -> и др. чтобы не подивиться, какъ изъ малаго составля-\n",
      "ети большое, и не размыстить сколько должно -> ется большое, и не размыслить, сколько должно\n",
      "было протиныся и отитвія мужиковъ, чтоба эт -> было пропиться и отпиться мужиковъ, чтобы эти\n",
      "кварты и гарки соволупясь вмѣстѣ сожтавили эти -> кварты и чарки, совокупя вмѣстѣ, составили эти\n",
      "палаты, сколько просито и занито дорованій, спосо- -> палаты, – сколько пропито и запито дарованій, спосо-\n",
      "бносшей, доровля, силъ, сколько кочерекаю, или ослобнено -> бностей, здоровья, силъ, – сколько кочергою или оглоблею\n",
      "бить женъ, неветокъ и всей сфапиліи, чтобыэти -> бито жёнъ, невестокъ и всей фамиліи, чтобы эти\n",
      "натріюзмомъ, проникнутые свены отечетла, подѣтжни -> патріотизмомъ проникнутые Сыны отечества, подъѣзжая\n",
      "на парѣ сѣрыхъ къ дому Градопачальниковъ его -> на парѣ гнѣдыхъ къ дому Градоначальниковъ, по\n",
      "движенню ихъ серцедь прешели на картопный и -> движенію ихъ сердецъ, приносили на картонный и\n",
      "стирновымъ отемъ горящій остарь отепенсло свои -> спиртовымъ огнемъ Горящій алтарь отечества свои\n",
      "пожиррованія ъ двѣтущія, на ихъ толитыехъ и жизныхъ -> пожертвованія, цвѣтущіе на ихъ толстыхъ и жирныхъ\n",
      "тяхъ всякаго рода крестелькими и зеленискоми, -> шеяхъ всякаго рода красненькими и зелененькими\n",
      "лектолѣками. -> ленточками.\n",
      "но поводу земинаю поклопа чувствительнаго Кокорова -> По поводу земнаго поклона чувствительнаго Кокорева\n",
      "беккеръ разказывалъ: Когда въ Калугу водомо было тѣло -> Беккеръ разсказывалъ: когда въ Калугу везомо было тѣло\n",
      "покойной государыти сииветы Алекыевны изъ бслева) всё -> покойной государыни Еливеты Алексѣевны (изъ Белева), всё\n",
      "Калужско. Купесетво – вышло на крутую гору оки -> Калужское купечество – вышло на Крутую гору Оки\n",
      "встрѣать опое – процессія была большая и кн. Волхон -> встрѣчать оное – процессія была большая, и кн. Волкон-\n",
      "скій оного распоряжился. Лишь показались зарѣкого -> скій оною распоряжался. Лишь показалась за рѣкою\n",
      "процессія – полова Канур. Кртченва. Купецъ Бюзнилъ -> процессія – голова калуж. купечества купецъ Зюзинъ\n",
      "обратился къ Пошцій мистру съ встрогомъ: то купече -> обратился къ полицеймейстеру съ вопросомъ: что купече-\n",
      "тиво желало бы стать на колѣна, и потому -> ство желало бы стать на колѣни, и потому\n",
      "будетъ ли это разрѣшено лачильствомъ. – Востый Ман- -> будетъ ли это разрѣшено Начальствомъ. – Василій Ман-\n",
      "даринъ бывшіи Полизъ мейсторомъ немогъ розрѣпить -> доринъ, бывшій nолицеймейстеромъ, не могъ разрѣшить\n",
      "по долгу служды -> по долгу службы\n",
      "этого обстоятельета, и обратился къ Губрнатору – -> этого обстоятельства и по долгу службы обратился къ Губернатору –\n",
      "сей также – ивоторосъ дошелъ взъ самаю Кн. Вол- -> сей также – и вотъ онъ дошелъ до самого кн. Вол-\n",
      "хоискаго и хотъ въ растяжку., былъ корошскій отѣтъ -> конского. «Хоть въ раскорячку», былъ короткій отвѣтъ.\n",
      "было Странная Грядвъ и купечетву показалось -> Была страшная грязь, и купечеству показалось\n",
      "запруднительнымъ лѣжать брігхомъ и беродою -> затруднительнымъ лежать брюхомъ и бородою\n",
      "въ рязи особлинъ, долго времся. Получилъ отвѣтъ -> въ грязи особливо долгое время. Получивъ отвѣтъ,\n",
      "Купезы споличнисковали и оденъ поодному разошли -> купцы сполитиковали и одинъ по одному разошлись\n",
      "въ ъ парадъ – и бо лежаніе въ Грязи, стало для -> въ пу народъ – ибо лежаніе въ грязи стало для\n",
      "нихъ какъ бы обящательнымъ – чѣту удиолятвъ -> нихъ какъ бы обязательнымъ. – Чему удивляться\n",
      "сердицъ -> Сердецъ\n",
      "болѣе – этимъ ли движеніямъ чердца вечеда повишую – -> болѣе – этимъ ли движеніямъ сердца всегда навстрѣчу –\n",
      "1856 год. мартъ -> 1856. годъ. Мартъ\n",
      "венеца такъ вѣрно и такъ откравенно оцѣнивнющей -> всегда такъ вѣрно и такъ откровенно оцѣнивающему\n",
      "эти натріитинскія движенія. -> эти патріотическія движенія.\n",
      "Поводу разговоръ о пришеднемъ векаефъ расказы -> Поводу разговоровъ о прошедшемъ Беккеръ разсказы-\n",
      "валъ. Въ проѣздъ к. Н. Грезъ кануху онъ пообачаю посѣ- -> валъ. Въ проѣздъ К. П. чрезъ Калугу онъ по обычаю посѣ-\n",
      "талъ исктоительно большу и острочъ. Въ послѣдненъ -> тилъ исключительно больницу и острогъ. Въ послѣднемъ\n",
      "занялся разстановкою часоввю въ заніе остроги - -> занялся разстановкою часовыхъ въ зданіи острога –\n",
      "этитъ еѣда. Этоо здыв. Ты туть ни доялевре на -> Этотъ сюда! Этого здѣсь! Ты тутъ! Ты далѣе – всё навыворотъ.\n",
      "когди одиныизъ этилъ, часовыхъ былъ нять съ окед -> Когда одинъ изъ этихъ часовыхъ былъ снятъ съ очень\n",
      "лужнаго поста тоемъ замѣчено было, что самы -> нужнаго поста, то ему замѣчено было, что самые\n",
      "претзные изъ арестантовъ не будутъ въ призорѣ -> преступные изъ арестантовъ не будутъ въ призорѣ\n",
      "и могутъ выскочитъ въ Коридоръ – пу – иснѣскомъ -> и могутъ выскочить въ корридоръ. – Ну – штыкомъ\n",
      "его!.. ОВъ одной каторѣ содержался сфицеръ -> его!… Въ одной камерѣ содержался офицеръ –\n",
      "онъ подотилъ къ нему и прочилъ, что уже три года -> онъ подошелъ къ нему и просилъ, что уже три года\n",
      "содержится безъ веты и никого рѣшетія нѣтъ. Разс- -> содержится безъ вины и никакого рѣшенія нѣтъ. Раз\n",
      "берутъ? – быно отвѣтомъ. Просителъ объяжнилъ, что -> берутъ! – было отвѣтомъ. Проситель объяснилъ, что\n",
      "онъ раслаетъ погоритыя всяскому рѣшенію лист -> онъ согласенъ покориться всякому рѣшенію, лишь\n",
      "бы видѣть какойлибо конецъ сфосту дѣлу. -> бы видѣть какой-либо конецъ своему дѣлу.\n",
      "Ра въ бефутъ!!..... Было отвѣтомъ – и толкко. -> Ра-зберутъ!!!... – было отвѣтомъ – и только.\n",
      "Обходя аретанскую больнцу онъ питалъ всъ -> Обходя арестантскую больницу, онъ читалъ всѣ\n",
      "«подини волѣзной – оказалась одеи детепѣга. -> подписи болѣзней – оказалось одно Demention.\n",
      "э00 что?.. Мудикъ объястилъ, что субыктъ -> Это что?!! … Медикъ объяснилъ, что субъектъ\n",
      "находится во временномъ помѣшнательствѣ, но- -> находится во временномъ помѣшательствѣ, ко-\n",
      "торое скора должно, пройши. – Отъ,ч -> торое скоро должно пройти – Отъ чего?!..\n",
      "\n"
     ]
    }
   ],
   "source": [
    "system_prompt = make_system_prompt_v2(eval_val[\"str_gt\"], eval_val[\"str_preds\"], eval_train[\"str_gt\"], eval_train[\"str_preds\"])\n",
    "print(system_prompt)"
   ]
  },
  {
   "cell_type": "code",
   "execution_count": 50,
   "metadata": {},
   "outputs": [],
   "source": [
    "from tqdm import tqdm\n",
    "import time\n",
    "\n",
    "\n",
    "def get_correction_v3(\n",
    "    model_lines,\n",
    "    sleep_seconds=10,\n",
    "    n_tries=4,\n",
    "    print_correction=False,\n",
    "    **get_response_kwargs\n",
    "):\n",
    "    corrected_lines = []\n",
    "    conversation_history = None\n",
    "    for model_line in tqdm(model_lines):\n",
    "        for try_n in range(n_tries):\n",
    "            corrected_line, conversation_history = get_response_v2(\n",
    "                model_line + \" -> \", conversation_history, **get_response_kwargs\n",
    "            )\n",
    "            if corrected_line is not None:\n",
    "                corrected_lines.append(corrected_line)\n",
    "                if print_correction:\n",
    "                    print(model_line + \" -> \" + corrected_line)\n",
    "                break\n",
    "            elif try_n == n_tries - 1:\n",
    "                # last try faliled\n",
    "                raise Exception(f\"Could not get response for {model_line}\")\n",
    "            else:\n",
    "                time.sleep(sleep_seconds)\n",
    "\n",
    "    return corrected_lines"
   ]
  },
  {
   "cell_type": "code",
   "execution_count": 53,
   "metadata": {
    "scrolled": true
   },
   "outputs": [
    {
     "name": "stderr",
     "output_type": "stream",
     "text": [
      "  1%|▏         | 1/74 [00:09<11:06,  9.12s/it]"
     ]
    },
    {
     "name": "stdout",
     "output_type": "stream",
     "text": [
      "Рябикова -> Рябикова\n"
     ]
    },
    {
     "name": "stderr",
     "output_type": "stream",
     "text": [
      "  3%|▎         | 2/74 [00:22<13:49, 11.52s/it]"
     ]
    },
    {
     "name": "stdout",
     "output_type": "stream",
     "text": [
      "Онъ де жилъ въ раборникахъ, у купца, у кралъ, что-т -> Онъ, дескать, жилъ въ работникахъ, у купца, укралъ что-то.\n"
     ]
    },
    {
     "name": "stderr",
     "output_type": "stream",
     "text": [
      "  4%|▍         | 3/74 [00:37<15:28, 13.08s/it]"
     ]
    },
    {
     "name": "stdout",
     "output_type": "stream",
     "text": [
      "и тотъ удорилъ его палькою по головѣ отъ чего у нем -> и тотъ ударилъ его палкою по головѣ, отъ чего у него\n"
     ]
    },
    {
     "name": "stderr",
     "output_type": "stream",
     "text": [
      "  5%|▌         | 4/74 [00:49<14:56, 12.81s/it]"
     ]
    },
    {
     "name": "stdout",
     "output_type": "stream",
     "text": [
      "и сдѣлалась рудето бѣлая горяька. Обратясеь къ Губер- -> и сдѣлалась, вроде, бѣлая горячка. Обратился къ Губер-\n",
      "{'error': {'code': 8, 'message': \"openaiproxy.(*ServiceImplementation).processChatCompletionRequest: can't do chat completion - proxy.(*UseCase).ChatCompletion: can't check request - code: <nil>, message: proxy: token limit reached. Limit: 50000 / min. Available: 0 / min. Retry after: 5.901914983s. Reset after: 42.653114974s., param: <nil>, type: proxy_limit_reached\", 'details': [{'@type': 'type.googleapis.com/openaiproxy.v1.ErrorResponse', 'error': {'code': '', 'message': 'proxy: token limit reached. Limit: 50000 / min. Available: 0 / min. Retry after: 5.901914983s. Reset after: 42.653114974s.', 'param': '', 'type': 'proxy_limit_reached', 'critical_data_details': [], 'limit_reached_details': {'type': 'token', 'retry_after': 5.901914983, 'reset_after': 42.653114974}}}, {'@type': 'type.googleapis.com/openaiproxy.v1.StatusCode', 'value': 429}]}}\n"
     ]
    },
    {
     "name": "stderr",
     "output_type": "stream",
     "text": [
      "  7%|▋         | 5/74 [01:01<14:18, 12.45s/it]"
     ]
    },
    {
     "name": "stdout",
     "output_type": "stream",
     "text": [
      "наторуг. В- р росодъ въ, t ріscсe l.1. cлумаюсь. -> Губернатору. Въ разсудокъ въ Tрясце... Сомневаюсь.\n",
      "{'error': {'code': 8, 'message': \"openaiproxy.(*ServiceImplementation).processChatCompletionRequest: can't do chat completion - proxy.(*UseCase).ChatCompletion: can't check request - code: <nil>, message: proxy: token limit reached. Limit: 50000 / min. Available: 0 / min. Retry after: 17.207017004s. Reset after: 53.875416994s., param: <nil>, type: proxy_limit_reached\", 'details': [{'@type': 'type.googleapis.com/openaiproxy.v1.ErrorResponse', 'error': {'code': '', 'message': 'proxy: token limit reached. Limit: 50000 / min. Available: 0 / min. Retry after: 17.207017004s. Reset after: 53.875416994s.', 'param': '', 'type': 'proxy_limit_reached', 'critical_data_details': [], 'limit_reached_details': {'type': 'token', 'retry_after': 17.207017004, 'reset_after': 53.875416994}}}, {'@type': 'type.googleapis.com/openaiproxy.v1.StatusCode', 'value': 429}]}}\n",
      "{'error': {'code': 8, 'message': \"openaiproxy.(*ServiceImplementation).processChatCompletionRequest: can't do chat completion - proxy.(*UseCase).ChatCompletion: can't check request - code: <nil>, message: proxy: token limit reached. Limit: 50000 / min. Available: 0 / min. Retry after: 7.038727998s. Reset after: 43.707127988s., param: <nil>, type: proxy_limit_reached\", 'details': [{'@type': 'type.googleapis.com/openaiproxy.v1.ErrorResponse', 'error': {'code': '', 'message': 'proxy: token limit reached. Limit: 50000 / min. Available: 0 / min. Retry after: 7.038727998s. Reset after: 43.707127988s.', 'param': '', 'type': 'proxy_limit_reached', 'critical_data_details': [], 'limit_reached_details': {'type': 'token', 'retry_after': 7.038727998, 'reset_after': 43.707127988}}}, {'@type': 'type.googleapis.com/openaiproxy.v1.StatusCode', 'value': 429}]}}\n"
     ]
    },
    {
     "name": "stderr",
     "output_type": "stream",
     "text": [
      "  8%|▊         | 6/74 [01:33<21:50, 19.28s/it]"
     ]
    },
    {
     "name": "stdout",
     "output_type": "stream",
     "text": [
      "Болѣе никакихъ разпоряженій и не было сцѣлано.– Вороемъ -> Болѣе никакихъ разпоряженій и не было сдѣлано. – Вороемъ\n",
      "{'error': {'code': 8, 'message': \"openaiproxy.(*ServiceImplementation).processChatCompletionRequest: can't do chat completion - proxy.(*UseCase).ChatCompletion: can't check request - code: <nil>, message: proxy: token limit reached. Limit: 50000 / min. Available: 0 / min. Retry after: 8.224628001s. Reset after: 44.813827991s., param: <nil>, type: proxy_limit_reached\", 'details': [{'@type': 'type.googleapis.com/openaiproxy.v1.ErrorResponse', 'error': {'code': '', 'message': 'proxy: token limit reached. Limit: 50000 / min. Available: 0 / min. Retry after: 8.224628001s. Reset after: 44.813827991s.', 'param': '', 'type': 'proxy_limit_reached', 'critical_data_details': [], 'limit_reached_details': {'type': 'token', 'retry_after': 8.224628001, 'reset_after': 44.813827991}}}, {'@type': 'type.googleapis.com/openaiproxy.v1.StatusCode', 'value': 429}]}}\n"
     ]
    },
    {
     "name": "stderr",
     "output_type": "stream",
     "text": [
      "  9%|▉         | 7/74 [01:46<19:07, 17.13s/it]"
     ]
    },
    {
     "name": "stdout",
     "output_type": "stream",
     "text": [
      "и часовые возвратижинь на преженія мѣста – ибо -> и часовые возвращены на прежнія мѣста – ибо\n",
      "{'error': {'code': 8, 'message': \"openaiproxy.(*ServiceImplementation).processChatCompletionRequest: can't do chat completion - proxy.(*UseCase).ChatCompletion: can't check request - code: <nil>, message: proxy: token limit reached. Limit: 50000 / min. Available: 0 / min. Retry after: 19.026964008s. Reset after: 55.552563995s., param: <nil>, type: proxy_limit_reached\", 'details': [{'@type': 'type.googleapis.com/openaiproxy.v1.ErrorResponse', 'error': {'code': '', 'message': 'proxy: token limit reached. Limit: 50000 / min. Available: 0 / min. Retry after: 19.026964008s. Reset after: 55.552563995s.', 'param': '', 'type': 'proxy_limit_reached', 'critical_data_details': [], 'limit_reached_details': {'type': 'token', 'retry_after': 19.026964008, 'reset_after': 55.552563995}}}, {'@type': 'type.googleapis.com/openaiproxy.v1.StatusCode', 'value': 429}]}}\n",
      "{'error': {'code': 8, 'message': \"openaiproxy.(*ServiceImplementation).processChatCompletionRequest: can't do chat completion - proxy.(*UseCase).ChatCompletion: can't check request - code: <nil>, message: proxy: token limit reached. Limit: 50000 / min. Available: 0 / min. Retry after: 8.846724033s. Reset after: 45.372324019s., param: <nil>, type: proxy_limit_reached\", 'details': [{'@type': 'type.googleapis.com/openaiproxy.v1.ErrorResponse', 'error': {'code': '', 'message': 'proxy: token limit reached. Limit: 50000 / min. Available: 0 / min. Retry after: 8.846724033s. Reset after: 45.372324019s.', 'param': '', 'type': 'proxy_limit_reached', 'critical_data_details': [], 'limit_reached_details': {'type': 'token', 'retry_after': 8.846724033, 'reset_after': 45.372324019}}}, {'@type': 'type.googleapis.com/openaiproxy.v1.StatusCode', 'value': 429}]}}\n"
     ]
    },
    {
     "name": "stderr",
     "output_type": "stream",
     "text": [
      " 11%|█         | 8/74 [02:08<20:38, 18.77s/it]"
     ]
    },
    {
     "name": "stdout",
     "output_type": "stream",
     "text": [
      "въ прочимѣномъ слугаѣ и острожные остались бы безъ -> въ противномъ случаѣ и острожные остались бы безъ\n",
      "{'error': {'code': 8, 'message': \"openaiproxy.(*ServiceImplementation).processChatCompletionRequest: can't do chat completion - proxy.(*UseCase).ChatCompletion: can't check request - code: <nil>, message: proxy: token limit reached. Limit: 50000 / min. Available: 0 / min. Retry after: 20.259542018s. Reset after: 56.740742027s., param: <nil>, type: proxy_limit_reached\", 'details': [{'@type': 'type.googleapis.com/openaiproxy.v1.ErrorResponse', 'error': {'code': '', 'message': 'proxy: token limit reached. Limit: 50000 / min. Available: 0 / min. Retry after: 20.259542018s. Reset after: 56.740742027s.', 'param': '', 'type': 'proxy_limit_reached', 'critical_data_details': [], 'limit_reached_details': {'type': 'token', 'retry_after': 20.259542018, 'reset_after': 56.740742027}}}, {'@type': 'type.googleapis.com/openaiproxy.v1.StatusCode', 'value': 429}]}}\n",
      "{'error': {'code': 8, 'message': \"openaiproxy.(*ServiceImplementation).processChatCompletionRequest: can't do chat completion - proxy.(*UseCase).ChatCompletion: can't check request - code: <nil>, message: proxy: token limit reached. Limit: 50000 / min. Available: 0 / min. Retry after: 10.07021901s. Reset after: 46.551419019s., param: <nil>, type: proxy_limit_reached\", 'details': [{'@type': 'type.googleapis.com/openaiproxy.v1.ErrorResponse', 'error': {'code': '', 'message': 'proxy: token limit reached. Limit: 50000 / min. Available: 0 / min. Retry after: 10.07021901s. Reset after: 46.551419019s.', 'param': '', 'type': 'proxy_limit_reached', 'critical_data_details': [], 'limit_reached_details': {'type': 'token', 'retry_after': 10.07021901, 'reset_after': 46.551419019}}}, {'@type': 'type.googleapis.com/openaiproxy.v1.StatusCode', 'value': 429}]}}\n"
     ]
    },
    {
     "name": "stderr",
     "output_type": "stream",
     "text": [
      " 12%|█▏        | 9/74 [02:42<25:20, 23.39s/it]"
     ]
    },
    {
     "name": "stdout",
     "output_type": "stream",
     "text": [
      "всякаго каркува. -> всякаго надзора.\n",
      "{'error': {'code': 8, 'message': \"openaiproxy.(*ServiceImplementation).processChatCompletionRequest: can't do chat completion - proxy.(*UseCase).ChatCompletion: can't check request - code: <nil>, message: proxy: token limit reached. Limit: 50000 / min. Available: 0 / min. Retry after: 10.202074021s. Reset after: 46.635274022s., param: <nil>, type: proxy_limit_reached\", 'details': [{'@type': 'type.googleapis.com/openaiproxy.v1.ErrorResponse', 'error': {'code': '', 'message': 'proxy: token limit reached. Limit: 50000 / min. Available: 0 / min. Retry after: 10.202074021s. Reset after: 46.635274022s.', 'param': '', 'type': 'proxy_limit_reached', 'critical_data_details': [], 'limit_reached_details': {'type': 'token', 'retry_after': 10.202074021, 'reset_after': 46.635274022}}}, {'@type': 'type.googleapis.com/openaiproxy.v1.StatusCode', 'value': 429}]}}\n"
     ]
    },
    {
     "name": "stderr",
     "output_type": "stream",
     "text": [
      " 14%|█▎        | 10/74 [02:54<21:09, 19.84s/it]"
     ]
    },
    {
     "name": "stdout",
     "output_type": "stream",
     "text": [
      "Вечеромъ литалъ піэссу – ядѣ чрезвыайно -> Вечеромъ читалъ піэссу – я дѣйствительно чрезвычайно\n",
      "{'error': {'code': 8, 'message': \"openaiproxy.(*ServiceImplementation).processChatCompletionRequest: can't do chat completion - proxy.(*UseCase).ChatCompletion: can't check request - code: <nil>, message: proxy: token limit reached. Limit: 50000 / min. Available: 0 / min. Retry after: 22.060714006s. Reset after: 58.432714015s., param: <nil>, type: proxy_limit_reached\", 'details': [{'@type': 'type.googleapis.com/openaiproxy.v1.ErrorResponse', 'error': {'code': '', 'message': 'proxy: token limit reached. Limit: 50000 / min. Available: 0 / min. Retry after: 22.060714006s. Reset after: 58.432714015s.', 'param': '', 'type': 'proxy_limit_reached', 'critical_data_details': [], 'limit_reached_details': {'type': 'token', 'retry_after': 22.060714006, 'reset_after': 58.432714015}}}, {'@type': 'type.googleapis.com/openaiproxy.v1.StatusCode', 'value': 429}]}}\n",
      "{'error': {'code': 8, 'message': \"openaiproxy.(*ServiceImplementation).processChatCompletionRequest: can't do chat completion - proxy.(*UseCase).ChatCompletion: can't check request - code: <nil>, message: proxy: token limit reached. Limit: 50000 / min. Available: 0 / min. Retry after: 11.823451012s. Reset after: 48.195451021s., param: <nil>, type: proxy_limit_reached\", 'details': [{'@type': 'type.googleapis.com/openaiproxy.v1.ErrorResponse', 'error': {'code': '', 'message': 'proxy: token limit reached. Limit: 50000 / min. Available: 0 / min. Retry after: 11.823451012s. Reset after: 48.195451021s.', 'param': '', 'type': 'proxy_limit_reached', 'critical_data_details': [], 'limit_reached_details': {'type': 'token', 'retry_after': 11.823451012, 'reset_after': 48.195451021}}}, {'@type': 'type.googleapis.com/openaiproxy.v1.StatusCode', 'value': 429}]}}\n",
      "{'error': {'code': 8, 'message': \"openaiproxy.(*ServiceImplementation).processChatCompletionRequest: can't do chat completion - proxy.(*UseCase).ChatCompletion: can't check request - code: <nil>, message: proxy: token limit reached. Limit: 50000 / min. Available: 0 / min. Retry after: 1.514964997s. Reset after: 37.886965006s., param: <nil>, type: proxy_limit_reached\", 'details': [{'@type': 'type.googleapis.com/openaiproxy.v1.ErrorResponse', 'error': {'code': '', 'message': 'proxy: token limit reached. Limit: 50000 / min. Available: 0 / min. Retry after: 1.514964997s. Reset after: 37.886965006s.', 'param': '', 'type': 'proxy_limit_reached', 'critical_data_details': [], 'limit_reached_details': {'type': 'token', 'retry_after': 1.5149649969999999, 'reset_after': 37.886965006}}}, {'@type': 'type.googleapis.com/openaiproxy.v1.StatusCode', 'value': 429}]}}\n"
     ]
    },
    {
     "name": "stderr",
     "output_type": "stream",
     "text": [
      " 15%|█▍        | 11/74 [03:26<24:49, 23.64s/it]"
     ]
    },
    {
     "name": "stdout",
     "output_type": "stream",
     "text": [
      "понравилась. – беккаеру также. -> понравилась. – Беккеру также.\n",
      "{'error': {'code': 8, 'message': \"openaiproxy.(*ServiceImplementation).processChatCompletionRequest: can't do chat completion - proxy.(*UseCase).ChatCompletion: can't check request - code: <nil>, message: proxy: token limit reached. Limit: 50000 / min. Available: 0 / min. Retry after: 13.358105003s. Reset after: 49.67010501s., param: <nil>, type: proxy_limit_reached\", 'details': [{'@type': 'type.googleapis.com/openaiproxy.v1.ErrorResponse', 'error': {'code': '', 'message': 'proxy: token limit reached. Limit: 50000 / min. Available: 0 / min. Retry after: 13.358105003s. Reset after: 49.67010501s.', 'param': '', 'type': 'proxy_limit_reached', 'critical_data_details': [], 'limit_reached_details': {'type': 'token', 'retry_after': 13.358105003, 'reset_after': 49.67010501}}}, {'@type': 'type.googleapis.com/openaiproxy.v1.StatusCode', 'value': 429}]}}\n",
      "{'error': {'code': 8, 'message': \"openaiproxy.(*ServiceImplementation).processChatCompletionRequest: can't do chat completion - proxy.(*UseCase).ChatCompletion: can't check request - code: <nil>, message: proxy: token limit reached. Limit: 50000 / min. Available: 0 / min. Retry after: 3.101547002s. Reset after: 39.413547009s., param: <nil>, type: proxy_limit_reached\", 'details': [{'@type': 'type.googleapis.com/openaiproxy.v1.ErrorResponse', 'error': {'code': '', 'message': 'proxy: token limit reached. Limit: 50000 / min. Available: 0 / min. Retry after: 3.101547002s. Reset after: 39.413547009s.', 'param': '', 'type': 'proxy_limit_reached', 'critical_data_details': [], 'limit_reached_details': {'type': 'token', 'retry_after': 3.101547002, 'reset_after': 39.413547009}}}, {'@type': 'type.googleapis.com/openaiproxy.v1.StatusCode', 'value': 429}]}}\n"
     ]
    },
    {
     "name": "stderr",
     "output_type": "stream",
     "text": [
      " 16%|█▌        | 12/74 [03:49<24:04, 23.30s/it]"
     ]
    },
    {
     "name": "stdout",
     "output_type": "stream",
     "text": [
      "10-х. утромъ выѣхалъ въ алексяевское. Почевалъ въ -> 10х. Утромъ выѣхалъ въ алексяевское. Ночевалъ въ\n",
      "{'error': {'code': 8, 'message': \"openaiproxy.(*ServiceImplementation).processChatCompletionRequest: can't do chat completion - proxy.(*UseCase).ChatCompletion: can't check request - code: <nil>, message: proxy: token limit reached. Limit: 50000 / min. Available: 0 / min. Retry after: 14.647534996s. Reset after: 50.906735002s., param: <nil>, type: proxy_limit_reached\", 'details': [{'@type': 'type.googleapis.com/openaiproxy.v1.ErrorResponse', 'error': {'code': '', 'message': 'proxy: token limit reached. Limit: 50000 / min. Available: 0 / min. Retry after: 14.647534996s. Reset after: 50.906735002s.', 'param': '', 'type': 'proxy_limit_reached', 'critical_data_details': [], 'limit_reached_details': {'type': 'token', 'retry_after': 14.647534996, 'reset_after': 50.906735002}}}, {'@type': 'type.googleapis.com/openaiproxy.v1.StatusCode', 'value': 429}]}}\n",
      "{'error': {'code': 8, 'message': \"openaiproxy.(*ServiceImplementation).processChatCompletionRequest: can't do chat completion - proxy.(*UseCase).ChatCompletion: can't check request - code: <nil>, message: proxy: token limit reached. Limit: 50000 / min. Available: 0 / min. Retry after: 4.415444999s. Reset after: 40.674645006s., param: <nil>, type: proxy_limit_reached\", 'details': [{'@type': 'type.googleapis.com/openaiproxy.v1.ErrorResponse', 'error': {'code': '', 'message': 'proxy: token limit reached. Limit: 50000 / min. Available: 0 / min. Retry after: 4.415444999s. Reset after: 40.674645006s.', 'param': '', 'type': 'proxy_limit_reached', 'critical_data_details': [], 'limit_reached_details': {'type': 'token', 'retry_after': 4.415444999, 'reset_after': 40.674645006}}}, {'@type': 'type.googleapis.com/openaiproxy.v1.StatusCode', 'value': 429}]}}\n"
     ]
    },
    {
     "name": "stderr",
     "output_type": "stream",
     "text": [
      " 18%|█▊        | 13/74 [04:11<23:20, 22.96s/it]"
     ]
    },
    {
     "name": "stdout",
     "output_type": "stream",
     "text": [
      "1856. годъ. Ман. -> 1856. годъ. Мартъ.\n",
      "{'error': {'code': 8, 'message': \"openaiproxy.(*ServiceImplementation).processChatCompletionRequest: can't do chat completion - proxy.(*UseCase).ChatCompletion: can't check request - code: <nil>, message: proxy: token limit reached. Limit: 50000 / min. Available: 0 / min. Retry after: 16.237741976s. Reset after: 52.436941981s., param: <nil>, type: proxy_limit_reached\", 'details': [{'@type': 'type.googleapis.com/openaiproxy.v1.ErrorResponse', 'error': {'code': '', 'message': 'proxy: token limit reached. Limit: 50000 / min. Available: 0 / min. Retry after: 16.237741976s. Reset after: 52.436941981s.', 'param': '', 'type': 'proxy_limit_reached', 'critical_data_details': [], 'limit_reached_details': {'type': 'token', 'retry_after': 16.237741976, 'reset_after': 52.436941981}}}, {'@type': 'type.googleapis.com/openaiproxy.v1.StatusCode', 'value': 429}]}}\n",
      "{'error': {'code': 8, 'message': \"openaiproxy.(*ServiceImplementation).processChatCompletionRequest: can't do chat completion - proxy.(*UseCase).ChatCompletion: can't check request - code: <nil>, message: proxy: token limit reached. Limit: 50000 / min. Available: 0 / min. Retry after: 6.013410985s. Reset after: 42.212610989s., param: <nil>, type: proxy_limit_reached\", 'details': [{'@type': 'type.googleapis.com/openaiproxy.v1.ErrorResponse', 'error': {'code': '', 'message': 'proxy: token limit reached. Limit: 50000 / min. Available: 0 / min. Retry after: 6.013410985s. Reset after: 42.212610989s.', 'param': '', 'type': 'proxy_limit_reached', 'critical_data_details': [], 'limit_reached_details': {'type': 'token', 'retry_after': 6.013410985, 'reset_after': 42.212610989}}}, {'@type': 'type.googleapis.com/openaiproxy.v1.StatusCode', 'value': 429}]}}\n"
     ]
    },
    {
     "name": "stderr",
     "output_type": "stream",
     "text": [
      " 19%|█▉        | 14/74 [04:33<22:42, 22.71s/it]"
     ]
    },
    {
     "name": "stdout",
     "output_type": "stream",
     "text": [
      "21 22. 23-е. 24. 25. 26е. Въ Воскресенскомъ. Хлопо- -> 21, 22, 23е, 24, 25, 26е. Въ Воскресенскомъ. Хлопо-\n",
      "{'error': {'code': 8, 'message': \"openaiproxy.(*ServiceImplementation).processChatCompletionRequest: can't do chat completion - proxy.(*UseCase).ChatCompletion: can't check request - code: <nil>, message: proxy: token limit reached. Limit: 50000 / min. Available: 0 / min. Retry after: 18.026438981s. Reset after: 54.139238983s., param: <nil>, type: proxy_limit_reached\", 'details': [{'@type': 'type.googleapis.com/openaiproxy.v1.ErrorResponse', 'error': {'code': '', 'message': 'proxy: token limit reached. Limit: 50000 / min. Available: 0 / min. Retry after: 18.026438981s. Reset after: 54.139238983s.', 'param': '', 'type': 'proxy_limit_reached', 'critical_data_details': [], 'limit_reached_details': {'type': 'token', 'retry_after': 18.026438981, 'reset_after': 54.139238983}}}, {'@type': 'type.googleapis.com/openaiproxy.v1.StatusCode', 'value': 429}]}}\n",
      "{'error': {'code': 8, 'message': \"openaiproxy.(*ServiceImplementation).processChatCompletionRequest: can't do chat completion - proxy.(*UseCase).ChatCompletion: can't check request - code: <nil>, message: proxy: token limit reached. Limit: 50000 / min. Available: 0 / min. Retry after: 7.804121971s. Reset after: 43.916921973s., param: <nil>, type: proxy_limit_reached\", 'details': [{'@type': 'type.googleapis.com/openaiproxy.v1.ErrorResponse', 'error': {'code': '', 'message': 'proxy: token limit reached. Limit: 50000 / min. Available: 0 / min. Retry after: 7.804121971s. Reset after: 43.916921973s.', 'param': '', 'type': 'proxy_limit_reached', 'critical_data_details': [], 'limit_reached_details': {'type': 'token', 'retry_after': 7.804121971, 'reset_after': 43.916921973}}}, {'@type': 'type.googleapis.com/openaiproxy.v1.StatusCode', 'value': 429}]}}\n"
     ]
    },
    {
     "name": "stderr",
     "output_type": "stream",
     "text": [
      " 20%|██        | 15/74 [04:55<22:14, 22.63s/it]"
     ]
    },
    {
     "name": "stdout",
     "output_type": "stream",
     "text": [
      "25-го. Пустилъ Заводъ. Вечеромъ пріѣхалъ Ѳедоръ изъ -> 25го. Пустилъ Заводъ. Вечеромъ пріѣхалъ Ѳедоръ изъ\n",
      "{'error': {'code': 8, 'message': \"openaiproxy.(*ServiceImplementation).processChatCompletionRequest: can't do chat completion - proxy.(*UseCase).ChatCompletion: can't check request - code: <nil>, message: proxy: token limit reached. Limit: 50000 / min. Available: 0 / min. Retry after: 19.560412973s. Reset after: 55.597612977s., param: <nil>, type: proxy_limit_reached\", 'details': [{'@type': 'type.googleapis.com/openaiproxy.v1.ErrorResponse', 'error': {'code': '', 'message': 'proxy: token limit reached. Limit: 50000 / min. Available: 0 / min. Retry after: 19.560412973s. Reset after: 55.597612977s.', 'param': '', 'type': 'proxy_limit_reached', 'critical_data_details': [], 'limit_reached_details': {'type': 'token', 'retry_after': 19.560412973, 'reset_after': 55.597612977}}}, {'@type': 'type.googleapis.com/openaiproxy.v1.StatusCode', 'value': 429}]}}\n",
      "{'error': {'code': 8, 'message': \"openaiproxy.(*ServiceImplementation).processChatCompletionRequest: can't do chat completion - proxy.(*UseCase).ChatCompletion: can't check request - code: <nil>, message: proxy: token limit reached. Limit: 50000 / min. Available: 0 / min. Retry after: 9.358840972s. Reset after: 45.396040976s., param: <nil>, type: proxy_limit_reached\", 'details': [{'@type': 'type.googleapis.com/openaiproxy.v1.ErrorResponse', 'error': {'code': '', 'message': 'proxy: token limit reached. Limit: 50000 / min. Available: 0 / min. Retry after: 9.358840972s. Reset after: 45.396040976s.', 'param': '', 'type': 'proxy_limit_reached', 'critical_data_details': [], 'limit_reached_details': {'type': 'token', 'retry_after': 9.358840972, 'reset_after': 45.396040976}}}, {'@type': 'type.googleapis.com/openaiproxy.v1.StatusCode', 'value': 429}]}}\n"
     ]
    },
    {
     "name": "stderr",
     "output_type": "stream",
     "text": [
      " 22%|██▏       | 16/74 [05:17<21:38, 22.38s/it]"
     ]
    },
    {
     "name": "stdout",
     "output_type": "stream",
     "text": [
      "Степной – тамъ въ сё надышается. Въ Воскресенскомъ -> Степной – тамъ всѣ надышались. Въ Воскресенскомъ\n",
      "{'error': {'code': 8, 'message': \"openaiproxy.(*ServiceImplementation).processChatCompletionRequest: can't do chat completion - proxy.(*UseCase).ChatCompletion: can't check request - code: <nil>, message: proxy: token limit reached. Limit: 50000 / min. Available: 0 / min. Retry after: 21.832648962s. Reset after: 57.805048972s., param: <nil>, type: proxy_limit_reached\", 'details': [{'@type': 'type.googleapis.com/openaiproxy.v1.ErrorResponse', 'error': {'code': '', 'message': 'proxy: token limit reached. Limit: 50000 / min. Available: 0 / min. Retry after: 21.832648962s. Reset after: 57.805048972s.', 'param': '', 'type': 'proxy_limit_reached', 'critical_data_details': [], 'limit_reached_details': {'type': 'token', 'retry_after': 21.832648962, 'reset_after': 57.805048972}}}, {'@type': 'type.googleapis.com/openaiproxy.v1.StatusCode', 'value': 429}]}}\n",
      "{'error': {'code': 8, 'message': \"openaiproxy.(*ServiceImplementation).processChatCompletionRequest: can't do chat completion - proxy.(*UseCase).ChatCompletion: can't check request - code: <nil>, message: proxy: token limit reached. Limit: 50000 / min. Available: 0 / min. Retry after: 11.636005967s. Reset after: 47.608405977s., param: <nil>, type: proxy_limit_reached\", 'details': [{'@type': 'type.googleapis.com/openaiproxy.v1.ErrorResponse', 'error': {'code': '', 'message': 'proxy: token limit reached. Limit: 50000 / min. Available: 0 / min. Retry after: 11.636005967s. Reset after: 47.608405977s.', 'param': '', 'type': 'proxy_limit_reached', 'critical_data_details': [], 'limit_reached_details': {'type': 'token', 'retry_after': 11.636005967, 'reset_after': 47.608405977}}}, {'@type': 'type.googleapis.com/openaiproxy.v1.StatusCode', 'value': 429}]}}\n",
      "{'error': {'code': 8, 'message': \"openaiproxy.(*ServiceImplementation).processChatCompletionRequest: can't do chat completion - proxy.(*UseCase).ChatCompletion: can't check request - code: <nil>, message: proxy: token limit reached. Limit: 50000 / min. Available: 0 / min. Retry after: 1.46678698s. Reset after: 37.43918699s., param: <nil>, type: proxy_limit_reached\", 'details': [{'@type': 'type.googleapis.com/openaiproxy.v1.ErrorResponse', 'error': {'code': '', 'message': 'proxy: token limit reached. Limit: 50000 / min. Available: 0 / min. Retry after: 1.46678698s. Reset after: 37.43918699s.', 'param': '', 'type': 'proxy_limit_reached', 'critical_data_details': [], 'limit_reached_details': {'type': 'token', 'retry_after': 1.46678698, 'reset_after': 37.43918699}}}, {'@type': 'type.googleapis.com/openaiproxy.v1.StatusCode', 'value': 429}]}}\n"
     ]
    },
    {
     "name": "stderr",
     "output_type": "stream",
     "text": [
      " 23%|██▎       | 17/74 [05:49<24:03, 25.33s/it]"
     ]
    },
    {
     "name": "stdout",
     "output_type": "stream",
     "text": [
      "съ февраля поступилъ и управляетъ Зерутъ. -> съ февраля поступилъ и управляетъ Зерновъ.\n",
      "{'error': {'code': 8, 'message': \"openaiproxy.(*ServiceImplementation).processChatCompletionRequest: can't do chat completion - proxy.(*UseCase).ChatCompletion: can't check request - code: <nil>, message: proxy: token limit reached. Limit: 50000 / min. Available: 0 / min. Retry after: 13.739601969s. Reset after: 49.649601966s., param: <nil>, type: proxy_limit_reached\", 'details': [{'@type': 'type.googleapis.com/openaiproxy.v1.ErrorResponse', 'error': {'code': '', 'message': 'proxy: token limit reached. Limit: 50000 / min. Available: 0 / min. Retry after: 13.739601969s. Reset after: 49.649601966s.', 'param': '', 'type': 'proxy_limit_reached', 'critical_data_details': [], 'limit_reached_details': {'type': 'token', 'retry_after': 13.739601969, 'reset_after': 49.649601966}}}, {'@type': 'type.googleapis.com/openaiproxy.v1.StatusCode', 'value': 429}]}}\n",
      "{'error': {'code': 8, 'message': \"openaiproxy.(*ServiceImplementation).processChatCompletionRequest: can't do chat completion - proxy.(*UseCase).ChatCompletion: can't check request - code: <nil>, message: proxy: token limit reached. Limit: 50000 / min. Available: 0 / min. Retry after: 3.566674977s. Reset after: 39.476674973s., param: <nil>, type: proxy_limit_reached\", 'details': [{'@type': 'type.googleapis.com/openaiproxy.v1.ErrorResponse', 'error': {'code': '', 'message': 'proxy: token limit reached. Limit: 50000 / min. Available: 0 / min. Retry after: 3.566674977s. Reset after: 39.476674973s.', 'param': '', 'type': 'proxy_limit_reached', 'critical_data_details': [], 'limit_reached_details': {'type': 'token', 'retry_after': 3.566674977, 'reset_after': 39.476674973}}}, {'@type': 'type.googleapis.com/openaiproxy.v1.StatusCode', 'value': 429}]}}\n"
     ]
    },
    {
     "name": "stderr",
     "output_type": "stream",
     "text": [
      " 24%|██▍       | 18/74 [06:12<22:57, 24.59s/it]"
     ]
    },
    {
     "name": "stdout",
     "output_type": "stream",
     "text": [
      "Ушею идетъ давольно хорошо. Садку сдѣлалъ по -> Печь идетъ довольно хорошо. Садку сдѣлалъ по\n",
      "{'error': {'code': 8, 'message': \"openaiproxy.(*ServiceImplementation).processChatCompletionRequest: can't do chat completion - proxy.(*UseCase).ChatCompletion: can't check request - code: <nil>, message: proxy: token limit reached. Limit: 50000 / min. Available: 0 / min. Retry after: 15.02986598s. Reset after: 50.871465981s., param: <nil>, type: proxy_limit_reached\", 'details': [{'@type': 'type.googleapis.com/openaiproxy.v1.ErrorResponse', 'error': {'code': '', 'message': 'proxy: token limit reached. Limit: 50000 / min. Available: 0 / min. Retry after: 15.02986598s. Reset after: 50.871465981s.', 'param': '', 'type': 'proxy_limit_reached', 'critical_data_details': [], 'limit_reached_details': {'type': 'token', 'retry_after': 15.02986598, 'reset_after': 50.871465981}}}, {'@type': 'type.googleapis.com/openaiproxy.v1.StatusCode', 'value': 429}]}}\n",
      "{'error': {'code': 8, 'message': \"openaiproxy.(*ServiceImplementation).processChatCompletionRequest: can't do chat completion - proxy.(*UseCase).ChatCompletion: can't check request - code: <nil>, message: proxy: token limit reached. Limit: 50000 / min. Available: 0 / min. Retry after: 4.871322959s. Reset after: 40.71292296s., param: <nil>, type: proxy_limit_reached\", 'details': [{'@type': 'type.googleapis.com/openaiproxy.v1.ErrorResponse', 'error': {'code': '', 'message': 'proxy: token limit reached. Limit: 50000 / min. Available: 0 / min. Retry after: 4.871322959s. Reset after: 40.71292296s.', 'param': '', 'type': 'proxy_limit_reached', 'critical_data_details': [], 'limit_reached_details': {'type': 'token', 'retry_after': 4.8713229590000005, 'reset_after': 40.71292296}}}, {'@type': 'type.googleapis.com/openaiproxy.v1.StatusCode', 'value': 429}]}}\n"
     ]
    },
    {
     "name": "stderr",
     "output_type": "stream",
     "text": [
      " 26%|██▌       | 19/74 [06:36<22:12, 24.23s/it]"
     ]
    },
    {
     "name": "stdout",
     "output_type": "stream",
     "text": [
      "правой Сторолѣ парка отве дома къ Ренѣ. Около -> правой сторонѣ парка отъ дома къ рѣкѣ. Около\n",
      "{'error': {'code': 8, 'message': \"openaiproxy.(*ServiceImplementation).processChatCompletionRequest: can't do chat completion - proxy.(*UseCase).ChatCompletion: can't check request - code: <nil>, message: proxy: token limit reached. Limit: 50000 / min. Available: 0 / min. Retry after: 15.873848974s. Reset after: 51.647048979s., param: <nil>, type: proxy_limit_reached\", 'details': [{'@type': 'type.googleapis.com/openaiproxy.v1.ErrorResponse', 'error': {'code': '', 'message': 'proxy: token limit reached. Limit: 50000 / min. Available: 0 / min. Retry after: 15.873848974s. Reset after: 51.647048979s.', 'param': '', 'type': 'proxy_limit_reached', 'critical_data_details': [], 'limit_reached_details': {'type': 'token', 'retry_after': 15.873848974, 'reset_after': 51.647048979}}}, {'@type': 'type.googleapis.com/openaiproxy.v1.StatusCode', 'value': 429}]}}\n",
      "{'error': {'code': 8, 'message': \"openaiproxy.(*ServiceImplementation).processChatCompletionRequest: can't do chat completion - proxy.(*UseCase).ChatCompletion: can't check request - code: <nil>, message: proxy: token limit reached. Limit: 50000 / min. Available: 0 / min. Retry after: 5.697125971s. Reset after: 41.470325976s., param: <nil>, type: proxy_limit_reached\", 'details': [{'@type': 'type.googleapis.com/openaiproxy.v1.ErrorResponse', 'error': {'code': '', 'message': 'proxy: token limit reached. Limit: 50000 / min. Available: 0 / min. Retry after: 5.697125971s. Reset after: 41.470325976s.', 'param': '', 'type': 'proxy_limit_reached', 'critical_data_details': [], 'limit_reached_details': {'type': 'token', 'retry_after': 5.697125971, 'reset_after': 41.470325976}}}, {'@type': 'type.googleapis.com/openaiproxy.v1.StatusCode', 'value': 429}]}}\n"
     ]
    },
    {
     "name": "stderr",
     "output_type": "stream",
     "text": [
      " 27%|██▋       | 20/74 [06:58<21:10, 23.52s/it]"
     ]
    },
    {
     "name": "stdout",
     "output_type": "stream",
     "text": [
      "Дома проводить піэссе. Ставили при мнѣ Шум- -> Дома проводили піэссу. Ставили при мнѣ Шум-\n",
      "{'error': {'code': 8, 'message': \"openaiproxy.(*ServiceImplementation).processChatCompletionRequest: can't do chat completion - proxy.(*UseCase).ChatCompletion: can't check request - code: <nil>, message: proxy: token limit reached. Limit: 50000 / min. Available: 0 / min. Retry after: 18.281937956s. Reset after: 53.999937951s., param: <nil>, type: proxy_limit_reached\", 'details': [{'@type': 'type.googleapis.com/openaiproxy.v1.ErrorResponse', 'error': {'code': '', 'message': 'proxy: token limit reached. Limit: 50000 / min. Available: 0 / min. Retry after: 18.281937956s. Reset after: 53.999937951s.', 'param': '', 'type': 'proxy_limit_reached', 'critical_data_details': [], 'limit_reached_details': {'type': 'token', 'retry_after': 18.281937956, 'reset_after': 53.999937951}}}, {'@type': 'type.googleapis.com/openaiproxy.v1.StatusCode', 'value': 429}]}}\n",
      "{'error': {'code': 8, 'message': \"openaiproxy.(*ServiceImplementation).processChatCompletionRequest: can't do chat completion - proxy.(*UseCase).ChatCompletion: can't check request - code: <nil>, message: proxy: token limit reached. Limit: 50000 / min. Available: 0 / min. Retry after: 8.119268983s. Reset after: 43.837268978s., param: <nil>, type: proxy_limit_reached\", 'details': [{'@type': 'type.googleapis.com/openaiproxy.v1.ErrorResponse', 'error': {'code': '', 'message': 'proxy: token limit reached. Limit: 50000 / min. Available: 0 / min. Retry after: 8.119268983s. Reset after: 43.837268978s.', 'param': '', 'type': 'proxy_limit_reached', 'critical_data_details': [], 'limit_reached_details': {'type': 'token', 'retry_after': 8.119268983, 'reset_after': 43.837268978}}}, {'@type': 'type.googleapis.com/openaiproxy.v1.StatusCode', 'value': 429}]}}\n"
     ]
    },
    {
     "name": "stderr",
     "output_type": "stream",
     "text": [
      " 28%|██▊       | 21/74 [07:19<20:19, 23.01s/it]"
     ]
    },
    {
     "name": "stdout",
     "output_type": "stream",
     "text": [
      "бы отъдома къ Коноинѣ. -> бы отъ дома къ Кононѣ.\n",
      "{'error': {'code': 8, 'message': \"openaiproxy.(*ServiceImplementation).processChatCompletionRequest: can't do chat completion - proxy.(*UseCase).ChatCompletion: can't check request - code: <nil>, message: proxy: token limit reached. Limit: 50000 / min. Available: 0 / min. Retry after: 20.777127951s. Reset after: 56.441127955s., param: <nil>, type: proxy_limit_reached\", 'details': [{'@type': 'type.googleapis.com/openaiproxy.v1.ErrorResponse', 'error': {'code': '', 'message': 'proxy: token limit reached. Limit: 50000 / min. Available: 0 / min. Retry after: 20.777127951s. Reset after: 56.441127955s.', 'param': '', 'type': 'proxy_limit_reached', 'critical_data_details': [], 'limit_reached_details': {'type': 'token', 'retry_after': 20.777127951, 'reset_after': 56.441127955}}}, {'@type': 'type.googleapis.com/openaiproxy.v1.StatusCode', 'value': 429}]}}\n",
      "{'error': {'code': 8, 'message': \"openaiproxy.(*ServiceImplementation).processChatCompletionRequest: can't do chat completion - proxy.(*UseCase).ChatCompletion: can't check request - code: <nil>, message: proxy: token limit reached. Limit: 50000 / min. Available: 0 / min. Retry after: 10.616911977s. Reset after: 46.280911982s., param: <nil>, type: proxy_limit_reached\", 'details': [{'@type': 'type.googleapis.com/openaiproxy.v1.ErrorResponse', 'error': {'code': '', 'message': 'proxy: token limit reached. Limit: 50000 / min. Available: 0 / min. Retry after: 10.616911977s. Reset after: 46.280911982s.', 'param': '', 'type': 'proxy_limit_reached', 'critical_data_details': [], 'limit_reached_details': {'type': 'token', 'retry_after': 10.616911977000001, 'reset_after': 46.280911982}}}, {'@type': 'type.googleapis.com/openaiproxy.v1.StatusCode', 'value': 429}]}}\n",
      "{'error': {'code': 8, 'message': \"openaiproxy.(*ServiceImplementation).processChatCompletionRequest: can't do chat completion - proxy.(*UseCase).ChatCompletion: can't check request - code: <nil>, message: proxy: token limit reached. Limit: 50000 / min. Available: 0 / min. Retry after: 472.746968ms. Reset after: 36.136746972s., param: <nil>, type: proxy_limit_reached\", 'details': [{'@type': 'type.googleapis.com/openaiproxy.v1.ErrorResponse', 'error': {'code': '', 'message': 'proxy: token limit reached. Limit: 50000 / min. Available: 0 / min. Retry after: 472.746968ms. Reset after: 36.136746972s.', 'param': '', 'type': 'proxy_limit_reached', 'critical_data_details': [], 'limit_reached_details': {'type': 'token', 'retry_after': 0.472746968, 'reset_after': 36.136746972}}}, {'@type': 'type.googleapis.com/openaiproxy.v1.StatusCode', 'value': 429}]}}\n"
     ]
    },
    {
     "name": "stderr",
     "output_type": "stream",
     "text": [
      " 30%|██▉       | 22/74 [07:52<22:20, 25.78s/it]"
     ]
    },
    {
     "name": "stdout",
     "output_type": "stream",
     "text": [
      "27-го по утру выѣхалъ въ Москву. Послалъ за -> 27го по утру выѣхалъ въ Москву. Послалъ за\n",
      "{'error': {'code': 8, 'message': \"openaiproxy.(*ServiceImplementation).processChatCompletionRequest: can't do chat completion - proxy.(*UseCase).ChatCompletion: can't check request - code: <nil>, message: proxy: token limit reached. Limit: 50000 / min. Available: 0 / min. Retry after: 12.982733964s. Reset after: 48.584333956s., param: <nil>, type: proxy_limit_reached\", 'details': [{'@type': 'type.googleapis.com/openaiproxy.v1.ErrorResponse', 'error': {'code': '', 'message': 'proxy: token limit reached. Limit: 50000 / min. Available: 0 / min. Retry after: 12.982733964s. Reset after: 48.584333956s.', 'param': '', 'type': 'proxy_limit_reached', 'critical_data_details': [], 'limit_reached_details': {'type': 'token', 'retry_after': 12.982733964, 'reset_after': 48.584333956}}}, {'@type': 'type.googleapis.com/openaiproxy.v1.StatusCode', 'value': 429}]}}\n",
      "{'error': {'code': 8, 'message': \"openaiproxy.(*ServiceImplementation).processChatCompletionRequest: can't do chat completion - proxy.(*UseCase).ChatCompletion: can't check request - code: <nil>, message: proxy: token limit reached. Limit: 50000 / min. Available: 0 / min. Retry after: 2.848304986s. Reset after: 38.449904978s., param: <nil>, type: proxy_limit_reached\", 'details': [{'@type': 'type.googleapis.com/openaiproxy.v1.ErrorResponse', 'error': {'code': '', 'message': 'proxy: token limit reached. Limit: 50000 / min. Available: 0 / min. Retry after: 2.848304986s. Reset after: 38.449904978s.', 'param': '', 'type': 'proxy_limit_reached', 'critical_data_details': [], 'limit_reached_details': {'type': 'token', 'retry_after': 2.848304986, 'reset_after': 38.449904978}}}, {'@type': 'type.googleapis.com/openaiproxy.v1.StatusCode', 'value': 429}]}}\n"
     ]
    },
    {
     "name": "stderr",
     "output_type": "stream",
     "text": [
      " 31%|███       | 23/74 [08:13<20:50, 24.52s/it]"
     ]
    },
    {
     "name": "stdout",
     "output_type": "stream",
     "text": [
      "Ковскимь, который – явился съ предноженіемъ отъ -> Ковскимъ, который явился съ предписаніемъ отъ\n",
      "{'error': {'code': 8, 'message': \"openaiproxy.(*ServiceImplementation).processChatCompletionRequest: can't do chat completion - proxy.(*UseCase).ChatCompletion: can't check request - code: <nil>, message: proxy: token limit reached. Limit: 50000 / min. Available: 0 / min. Retry after: 15.831020981s. Reset after: 51.369020968s., param: <nil>, type: proxy_limit_reached\", 'details': [{'@type': 'type.googleapis.com/openaiproxy.v1.ErrorResponse', 'error': {'code': '', 'message': 'proxy: token limit reached. Limit: 50000 / min. Available: 0 / min. Retry after: 15.831020981s. Reset after: 51.369020968s.', 'param': '', 'type': 'proxy_limit_reached', 'critical_data_details': [], 'limit_reached_details': {'type': 'token', 'retry_after': 15.831020981, 'reset_after': 51.369020968}}}, {'@type': 'type.googleapis.com/openaiproxy.v1.StatusCode', 'value': 429}]}}\n",
      "{'error': {'code': 8, 'message': \"openaiproxy.(*ServiceImplementation).processChatCompletionRequest: can't do chat completion - proxy.(*UseCase).ChatCompletion: can't check request - code: <nil>, message: proxy: token limit reached. Limit: 50000 / min. Available: 0 / min. Retry after: 5.70065099s. Reset after: 41.238650977s., param: <nil>, type: proxy_limit_reached\", 'details': [{'@type': 'type.googleapis.com/openaiproxy.v1.ErrorResponse', 'error': {'code': '', 'message': 'proxy: token limit reached. Limit: 50000 / min. Available: 0 / min. Retry after: 5.70065099s. Reset after: 41.238650977s.', 'param': '', 'type': 'proxy_limit_reached', 'critical_data_details': [], 'limit_reached_details': {'type': 'token', 'retry_after': 5.70065099, 'reset_after': 41.238650977}}}, {'@type': 'type.googleapis.com/openaiproxy.v1.StatusCode', 'value': 429}]}}\n"
     ]
    },
    {
     "name": "stderr",
     "output_type": "stream",
     "text": [
      " 32%|███▏      | 24/74 [08:35<19:41, 23.63s/it]"
     ]
    },
    {
     "name": "stdout",
     "output_type": "stream",
     "text": [
      "ивана тепелева о тирѣ. Самсонъ отѣдѣжанію -> Ивана Тепелева о тирѣ. Самсонъ отъ задержанія\n",
      "{'error': {'code': 8, 'message': \"openaiproxy.(*ServiceImplementation).processChatCompletionRequest: can't do chat completion - proxy.(*UseCase).ChatCompletion: can't check request - code: <nil>, message: proxy: token limit reached. Limit: 50000 / min. Available: 0 / min. Retry after: 18.826010972s. Reset after: 54.294410973s., param: <nil>, type: proxy_limit_reached\", 'details': [{'@type': 'type.googleapis.com/openaiproxy.v1.ErrorResponse', 'error': {'code': '', 'message': 'proxy: token limit reached. Limit: 50000 / min. Available: 0 / min. Retry after: 18.826010972s. Reset after: 54.294410973s.', 'param': '', 'type': 'proxy_limit_reached', 'critical_data_details': [], 'limit_reached_details': {'type': 'token', 'retry_after': 18.826010972, 'reset_after': 54.294410973}}}, {'@type': 'type.googleapis.com/openaiproxy.v1.StatusCode', 'value': 429}]}}\n",
      "{'error': {'code': 8, 'message': \"openaiproxy.(*ServiceImplementation).processChatCompletionRequest: can't do chat completion - proxy.(*UseCase).ChatCompletion: can't check request - code: <nil>, message: proxy: token limit reached. Limit: 50000 / min. Available: 0 / min. Retry after: 8.664763987s. Reset after: 44.133163988s., param: <nil>, type: proxy_limit_reached\", 'details': [{'@type': 'type.googleapis.com/openaiproxy.v1.ErrorResponse', 'error': {'code': '', 'message': 'proxy: token limit reached. Limit: 50000 / min. Available: 0 / min. Retry after: 8.664763987s. Reset after: 44.133163988s.', 'param': '', 'type': 'proxy_limit_reached', 'critical_data_details': [], 'limit_reached_details': {'type': 'token', 'retry_after': 8.664763987, 'reset_after': 44.133163988}}}, {'@type': 'type.googleapis.com/openaiproxy.v1.StatusCode', 'value': 429}]}}\n"
     ]
    },
    {
     "name": "stderr",
     "output_type": "stream",
     "text": [
      " 34%|███▍      | 25/74 [08:58<19:06, 23.41s/it]"
     ]
    },
    {
     "name": "stdout",
     "output_type": "stream",
     "text": [
      "съ Ревель. Купилъ ему серебряныхъ вещій на 180 р. -> съ Ревеля. Купилъ ему серебряныхъ вещей на 180 р.\n",
      "{'error': {'code': 8, 'message': \"openaiproxy.(*ServiceImplementation).processChatCompletionRequest: can't do chat completion - proxy.(*UseCase).ChatCompletion: can't check request - code: <nil>, message: proxy: token limit reached. Limit: 50000 / min. Available: 0 / min. Retry after: 20.509152978s. Reset after: 55.912752985s., param: <nil>, type: proxy_limit_reached\", 'details': [{'@type': 'type.googleapis.com/openaiproxy.v1.ErrorResponse', 'error': {'code': '', 'message': 'proxy: token limit reached. Limit: 50000 / min. Available: 0 / min. Retry after: 20.509152978s. Reset after: 55.912752985s.', 'param': '', 'type': 'proxy_limit_reached', 'critical_data_details': [], 'limit_reached_details': {'type': 'token', 'retry_after': 20.509152978, 'reset_after': 55.912752985}}}, {'@type': 'type.googleapis.com/openaiproxy.v1.StatusCode', 'value': 429}]}}\n",
      "{'error': {'code': 8, 'message': \"openaiproxy.(*ServiceImplementation).processChatCompletionRequest: can't do chat completion - proxy.(*UseCase).ChatCompletion: can't check request - code: <nil>, message: proxy: token limit reached. Limit: 50000 / min. Available: 0 / min. Retry after: 10.373788982s. Reset after: 45.777388989s., param: <nil>, type: proxy_limit_reached\", 'details': [{'@type': 'type.googleapis.com/openaiproxy.v1.ErrorResponse', 'error': {'code': '', 'message': 'proxy: token limit reached. Limit: 50000 / min. Available: 0 / min. Retry after: 10.373788982s. Reset after: 45.777388989s.', 'param': '', 'type': 'proxy_limit_reached', 'critical_data_details': [], 'limit_reached_details': {'type': 'token', 'retry_after': 10.373788982, 'reset_after': 45.777388989}}}, {'@type': 'type.googleapis.com/openaiproxy.v1.StatusCode', 'value': 429}]}}\n",
      "{'error': {'code': 8, 'message': \"openaiproxy.(*ServiceImplementation).processChatCompletionRequest: can't do chat completion - proxy.(*UseCase).ChatCompletion: can't check request - code: <nil>, message: proxy: token limit reached. Limit: 50000 / min. Available: 0 / min. Retry after: 206.491976ms. Reset after: 35.610091984s., param: <nil>, type: proxy_limit_reached\", 'details': [{'@type': 'type.googleapis.com/openaiproxy.v1.ErrorResponse', 'error': {'code': '', 'message': 'proxy: token limit reached. Limit: 50000 / min. Available: 0 / min. Retry after: 206.491976ms. Reset after: 35.610091984s.', 'param': '', 'type': 'proxy_limit_reached', 'critical_data_details': [], 'limit_reached_details': {'type': 'token', 'retry_after': 0.206491976, 'reset_after': 35.610091984}}}, {'@type': 'type.googleapis.com/openaiproxy.v1.StatusCode', 'value': 429}]}}\n"
     ]
    },
    {
     "name": "stderr",
     "output_type": "stream",
     "text": [
      " 35%|███▌      | 26/74 [09:31<21:03, 26.33s/it]"
     ]
    },
    {
     "name": "stdout",
     "output_type": "stream",
     "text": [
      "сереу Сазикова. Отдалъ Кубокъ дня парѣука -> сереу Сазикова. Отдалъ кубокъ для парѣнка.\n",
      "{'error': {'code': 8, 'message': \"openaiproxy.(*ServiceImplementation).processChatCompletionRequest: can't do chat completion - proxy.(*UseCase).ChatCompletion: can't check request - code: <nil>, message: proxy: token limit reached. Limit: 50000 / min. Available: 0 / min. Retry after: 12.019219964s. Reset after: 47.373619973s., param: <nil>, type: proxy_limit_reached\", 'details': [{'@type': 'type.googleapis.com/openaiproxy.v1.ErrorResponse', 'error': {'code': '', 'message': 'proxy: token limit reached. Limit: 50000 / min. Available: 0 / min. Retry after: 12.019219964s. Reset after: 47.373619973s.', 'param': '', 'type': 'proxy_limit_reached', 'critical_data_details': [], 'limit_reached_details': {'type': 'token', 'retry_after': 12.019219964, 'reset_after': 47.373619973}}}, {'@type': 'type.googleapis.com/openaiproxy.v1.StatusCode', 'value': 429}]}}\n",
      "{'error': {'code': 8, 'message': \"openaiproxy.(*ServiceImplementation).processChatCompletionRequest: can't do chat completion - proxy.(*UseCase).ChatCompletion: can't check request - code: <nil>, message: proxy: token limit reached. Limit: 50000 / min. Available: 0 / min. Retry after: 1.853658974s. Reset after: 37.208058983s., param: <nil>, type: proxy_limit_reached\", 'details': [{'@type': 'type.googleapis.com/openaiproxy.v1.ErrorResponse', 'error': {'code': '', 'message': 'proxy: token limit reached. Limit: 50000 / min. Available: 0 / min. Retry after: 1.853658974s. Reset after: 37.208058983s.', 'param': '', 'type': 'proxy_limit_reached', 'critical_data_details': [], 'limit_reached_details': {'type': 'token', 'retry_after': 1.853658974, 'reset_after': 37.208058983}}}, {'@type': 'type.googleapis.com/openaiproxy.v1.StatusCode', 'value': 429}]}}\n"
     ]
    },
    {
     "name": "stderr",
     "output_type": "stream",
     "text": [
      " 36%|███▋      | 27/74 [09:53<19:35, 25.02s/it]"
     ]
    },
    {
     "name": "stdout",
     "output_type": "stream",
     "text": [
      "падпия Самой лову. Надить -> подпись Самойлова. Надпись\n",
      "{'error': {'code': 8, 'message': \"openaiproxy.(*ServiceImplementation).processChatCompletionRequest: can't do chat completion - proxy.(*UseCase).ChatCompletion: can't check request - code: <nil>, message: proxy: token limit reached. Limit: 50000 / min. Available: 0 / min. Retry after: 14.75940296s. Reset after: 50.061002969s., param: <nil>, type: proxy_limit_reached\", 'details': [{'@type': 'type.googleapis.com/openaiproxy.v1.ErrorResponse', 'error': {'code': '', 'message': 'proxy: token limit reached. Limit: 50000 / min. Available: 0 / min. Retry after: 14.75940296s. Reset after: 50.061002969s.', 'param': '', 'type': 'proxy_limit_reached', 'critical_data_details': [], 'limit_reached_details': {'type': 'token', 'retry_after': 14.75940296, 'reset_after': 50.061002969}}}, {'@type': 'type.googleapis.com/openaiproxy.v1.StatusCode', 'value': 429}]}}\n",
      "{'error': {'code': 8, 'message': \"openaiproxy.(*ServiceImplementation).processChatCompletionRequest: can't do chat completion - proxy.(*UseCase).ChatCompletion: can't check request - code: <nil>, message: proxy: token limit reached. Limit: 50000 / min. Available: 0 / min. Retry after: 4.624909967s. Reset after: 39.926509976s., param: <nil>, type: proxy_limit_reached\", 'details': [{'@type': 'type.googleapis.com/openaiproxy.v1.ErrorResponse', 'error': {'code': '', 'message': 'proxy: token limit reached. Limit: 50000 / min. Available: 0 / min. Retry after: 4.624909967s. Reset after: 39.926509976s.', 'param': '', 'type': 'proxy_limit_reached', 'critical_data_details': [], 'limit_reached_details': {'type': 'token', 'retry_after': 4.624909967, 'reset_after': 39.926509976}}}, {'@type': 'type.googleapis.com/openaiproxy.v1.StatusCode', 'value': 429}]}}\n"
     ]
    },
    {
     "name": "stderr",
     "output_type": "stream",
     "text": [
      " 38%|███▊      | 28/74 [10:15<18:32, 24.19s/it]"
     ]
    },
    {
     "name": "stdout",
     "output_type": "stream",
     "text": [
      "Да снасеніе почибавшихъ – толанину В. В. -> Да спасеніе погибшихъ – Толстому В. В.\n",
      "{'error': {'code': 8, 'message': \"openaiproxy.(*ServiceImplementation).processChatCompletionRequest: can't do chat completion - proxy.(*UseCase).ChatCompletion: can't check request - code: <nil>, message: proxy: token limit reached. Limit: 50000 / min. Available: 0 / min. Retry after: 17.254826962s. Reset after: 52.49762696s., param: <nil>, type: proxy_limit_reached\", 'details': [{'@type': 'type.googleapis.com/openaiproxy.v1.ErrorResponse', 'error': {'code': '', 'message': 'proxy: token limit reached. Limit: 50000 / min. Available: 0 / min. Retry after: 17.254826962s. Reset after: 52.49762696s.', 'param': '', 'type': 'proxy_limit_reached', 'critical_data_details': [], 'limit_reached_details': {'type': 'token', 'retry_after': 17.254826962, 'reset_after': 52.49762696}}}, {'@type': 'type.googleapis.com/openaiproxy.v1.StatusCode', 'value': 429}]}}\n",
      "{'error': {'code': 8, 'message': \"openaiproxy.(*ServiceImplementation).processChatCompletionRequest: can't do chat completion - proxy.(*UseCase).ChatCompletion: can't check request - code: <nil>, message: proxy: token limit reached. Limit: 50000 / min. Available: 0 / min. Retry after: 7.114939957s. Reset after: 42.357739955s., param: <nil>, type: proxy_limit_reached\", 'details': [{'@type': 'type.googleapis.com/openaiproxy.v1.ErrorResponse', 'error': {'code': '', 'message': 'proxy: token limit reached. Limit: 50000 / min. Available: 0 / min. Retry after: 7.114939957s. Reset after: 42.357739955s.', 'param': '', 'type': 'proxy_limit_reached', 'critical_data_details': [], 'limit_reached_details': {'type': 'token', 'retry_after': 7.114939957, 'reset_after': 42.357739955}}}, {'@type': 'type.googleapis.com/openaiproxy.v1.StatusCode', 'value': 429}]}}\n"
     ]
    },
    {
     "name": "stderr",
     "output_type": "stream",
     "text": [
      " 39%|███▉      | 29/74 [10:38<17:54, 23.87s/it]"
     ]
    },
    {
     "name": "stdout",
     "output_type": "stream",
     "text": [
      "Самояло ва презнательные А.В. Сухово.– Ко- -> Самойлова. Признательные А. В. Сухово-Ко-\n",
      "{'error': {'code': 8, 'message': \"openaiproxy.(*ServiceImplementation).processChatCompletionRequest: can't do chat completion - proxy.(*UseCase).ChatCompletion: can't check request - code: <nil>, message: proxy: token limit reached. Limit: 50000 / min. Available: 0 / min. Retry after: 18.956674963s. Reset after: 54.131074965s., param: <nil>, type: proxy_limit_reached\", 'details': [{'@type': 'type.googleapis.com/openaiproxy.v1.ErrorResponse', 'error': {'code': '', 'message': 'proxy: token limit reached. Limit: 50000 / min. Available: 0 / min. Retry after: 18.956674963s. Reset after: 54.131074965s.', 'param': '', 'type': 'proxy_limit_reached', 'critical_data_details': [], 'limit_reached_details': {'type': 'token', 'retry_after': 18.956674963, 'reset_after': 54.131074965}}}, {'@type': 'type.googleapis.com/openaiproxy.v1.StatusCode', 'value': 429}]}}\n",
      "{'error': {'code': 8, 'message': \"openaiproxy.(*ServiceImplementation).processChatCompletionRequest: can't do chat completion - proxy.(*UseCase).ChatCompletion: can't check request - code: <nil>, message: proxy: token limit reached. Limit: 50000 / min. Available: 0 / min. Retry after: 8.785343945s. Reset after: 43.959743946s., param: <nil>, type: proxy_limit_reached\", 'details': [{'@type': 'type.googleapis.com/openaiproxy.v1.ErrorResponse', 'error': {'code': '', 'message': 'proxy: token limit reached. Limit: 50000 / min. Available: 0 / min. Retry after: 8.785343945s. Reset after: 43.959743946s.', 'param': '', 'type': 'proxy_limit_reached', 'critical_data_details': [], 'limit_reached_details': {'type': 'token', 'retry_after': 8.785343945, 'reset_after': 43.959743946}}}, {'@type': 'type.googleapis.com/openaiproxy.v1.StatusCode', 'value': 429}]}}\n"
     ]
    },
    {
     "name": "stderr",
     "output_type": "stream",
     "text": [
      " 41%|████      | 30/74 [11:01<17:11, 23.44s/it]"
     ]
    },
    {
     "name": "stdout",
     "output_type": "stream",
     "text": [
      "28-е. Сборъ на Выксу. Проицаные съ Самсономъ. -> 28е. Сборъ на Выксу. Прощанье съ Самсономъ.\n",
      "{'error': {'code': 8, 'message': \"openaiproxy.(*ServiceImplementation).processChatCompletionRequest: can't do chat completion - proxy.(*UseCase).ChatCompletion: can't check request - code: <nil>, message: proxy: token limit reached. Limit: 50000 / min. Available: 0 / min. Retry after: 21.42988494s. Reset after: 56.532284945s., param: <nil>, type: proxy_limit_reached\", 'details': [{'@type': 'type.googleapis.com/openaiproxy.v1.ErrorResponse', 'error': {'code': '', 'message': 'proxy: token limit reached. Limit: 50000 / min. Available: 0 / min. Retry after: 21.42988494s. Reset after: 56.532284945s.', 'param': '', 'type': 'proxy_limit_reached', 'critical_data_details': [], 'limit_reached_details': {'type': 'token', 'retry_after': 21.42988494, 'reset_after': 56.532284945}}}, {'@type': 'type.googleapis.com/openaiproxy.v1.StatusCode', 'value': 429}]}}\n",
      "{'error': {'code': 8, 'message': \"openaiproxy.(*ServiceImplementation).processChatCompletionRequest: can't do chat completion - proxy.(*UseCase).ChatCompletion: can't check request - code: <nil>, message: proxy: token limit reached. Limit: 50000 / min. Available: 0 / min. Retry after: 10.154844969s. Reset after: 45.257244974s., param: <nil>, type: proxy_limit_reached\", 'details': [{'@type': 'type.googleapis.com/openaiproxy.v1.ErrorResponse', 'error': {'code': '', 'message': 'proxy: token limit reached. Limit: 50000 / min. Available: 0 / min. Retry after: 10.154844969s. Reset after: 45.257244974s.', 'param': '', 'type': 'proxy_limit_reached', 'critical_data_details': [], 'limit_reached_details': {'type': 'token', 'retry_after': 10.154844968999999, 'reset_after': 45.257244974}}}, {'@type': 'type.googleapis.com/openaiproxy.v1.StatusCode', 'value': 429}]}}\n",
      "{'error': {'code': 8, 'message': \"openaiproxy.(*ServiceImplementation).processChatCompletionRequest: can't do chat completion - proxy.(*UseCase).ChatCompletion: can't check request - code: <nil>, message: proxy: token limit reached. Limit: 50000 / min. Available: 0 / min. Retry after: 123.947µs. Reset after: 35.102523952s., param: <nil>, type: proxy_limit_reached\", 'details': [{'@type': 'type.googleapis.com/openaiproxy.v1.ErrorResponse', 'error': {'code': '', 'message': 'proxy: token limit reached. Limit: 50000 / min. Available: 0 / min. Retry after: 123.947µs. Reset after: 35.102523952s.', 'param': '', 'type': 'proxy_limit_reached', 'critical_data_details': [], 'limit_reached_details': {'type': 'token', 'retry_after': 0.000123947, 'reset_after': 35.102523952}}}, {'@type': 'type.googleapis.com/openaiproxy.v1.StatusCode', 'value': 429}]}}\n"
     ]
    },
    {
     "name": "stderr",
     "output_type": "stream",
     "text": [
      " 42%|████▏     | 31/74 [11:34<19:02, 26.56s/it]"
     ]
    },
    {
     "name": "stdout",
     "output_type": "stream",
     "text": [
      "продалъ d пудъ патоки но 180 к. сереб. и n.р. ереб. -> продалъ 2 пуда патоки по 180 к. сереб. и 1 р. сереб.\n",
      "{'error': {'code': 8, 'message': \"openaiproxy.(*ServiceImplementation).processChatCompletionRequest: can't do chat completion - proxy.(*UseCase).ChatCompletion: can't check request - code: <nil>, message: proxy: token limit reached. Limit: 50000 / min. Available: 0 / min. Retry after: 12.52205497s. Reset after: 47.553654968s., param: <nil>, type: proxy_limit_reached\", 'details': [{'@type': 'type.googleapis.com/openaiproxy.v1.ErrorResponse', 'error': {'code': '', 'message': 'proxy: token limit reached. Limit: 50000 / min. Available: 0 / min. Retry after: 12.52205497s. Reset after: 47.553654968s.', 'param': '', 'type': 'proxy_limit_reached', 'critical_data_details': [], 'limit_reached_details': {'type': 'token', 'retry_after': 12.52205497, 'reset_after': 47.553654968000004}}}, {'@type': 'type.googleapis.com/openaiproxy.v1.StatusCode', 'value': 429}]}}\n",
      "{'error': {'code': 8, 'message': \"openaiproxy.(*ServiceImplementation).processChatCompletionRequest: can't do chat completion - proxy.(*UseCase).ChatCompletion: can't check request - code: <nil>, message: proxy: token limit reached. Limit: 50000 / min. Available: 0 / min. Retry after: 2.392645955s. Reset after: 37.424245953s., param: <nil>, type: proxy_limit_reached\", 'details': [{'@type': 'type.googleapis.com/openaiproxy.v1.ErrorResponse', 'error': {'code': '', 'message': 'proxy: token limit reached. Limit: 50000 / min. Available: 0 / min. Retry after: 2.392645955s. Reset after: 37.424245953s.', 'param': '', 'type': 'proxy_limit_reached', 'critical_data_details': [], 'limit_reached_details': {'type': 'token', 'retry_after': 2.392645955, 'reset_after': 37.424245953}}}, {'@type': 'type.googleapis.com/openaiproxy.v1.StatusCode', 'value': 429}]}}\n"
     ]
    },
    {
     "name": "stderr",
     "output_type": "stream",
     "text": [
      " 43%|████▎     | 32/74 [11:56<17:34, 25.11s/it]"
     ]
    },
    {
     "name": "stdout",
     "output_type": "stream",
     "text": [
      "вшесъ Рертеру въ упламу за аппараты Къ сахар -> внёсъ Рейтеру въ уплату за аппараты къ сахару.\n",
      "{'error': {'code': 8, 'message': \"openaiproxy.(*ServiceImplementation).processChatCompletionRequest: can't do chat completion - proxy.(*UseCase).ChatCompletion: can't check request - code: <nil>, message: proxy: token limit reached. Limit: 50000 / min. Available: 0 / min. Retry after: 15.815804958s. Reset after: 50.780204951s., param: <nil>, type: proxy_limit_reached\", 'details': [{'@type': 'type.googleapis.com/openaiproxy.v1.ErrorResponse', 'error': {'code': '', 'message': 'proxy: token limit reached. Limit: 50000 / min. Available: 0 / min. Retry after: 15.815804958s. Reset after: 50.780204951s.', 'param': '', 'type': 'proxy_limit_reached', 'critical_data_details': [], 'limit_reached_details': {'type': 'token', 'retry_after': 15.815804958, 'reset_after': 50.780204951}}}, {'@type': 'type.googleapis.com/openaiproxy.v1.StatusCode', 'value': 429}]}}\n",
      "{'error': {'code': 8, 'message': \"openaiproxy.(*ServiceImplementation).processChatCompletionRequest: can't do chat completion - proxy.(*UseCase).ChatCompletion: can't check request - code: <nil>, message: proxy: token limit reached. Limit: 50000 / min. Available: 0 / min. Retry after: 5.676777958s. Reset after: 40.641177952s., param: <nil>, type: proxy_limit_reached\", 'details': [{'@type': 'type.googleapis.com/openaiproxy.v1.ErrorResponse', 'error': {'code': '', 'message': 'proxy: token limit reached. Limit: 50000 / min. Available: 0 / min. Retry after: 5.676777958s. Reset after: 40.641177952s.', 'param': '', 'type': 'proxy_limit_reached', 'critical_data_details': [], 'limit_reached_details': {'type': 'token', 'retry_after': 5.676777958, 'reset_after': 40.641177952}}}, {'@type': 'type.googleapis.com/openaiproxy.v1.StatusCode', 'value': 429}]}}\n"
     ]
    },
    {
     "name": "stderr",
     "output_type": "stream",
     "text": [
      " 45%|████▍     | 33/74 [12:18<16:33, 24.24s/it]"
     ]
    },
    {
     "name": "stdout",
     "output_type": "stream",
     "text": [
      "пошу Заводу. Вечеромъ выкѣхалъ на Выку. -> пошёл къ Заводу. Вечеромъ выѣхалъ на Выксу.\n",
      "{'error': {'code': 8, 'message': \"openaiproxy.(*ServiceImplementation).processChatCompletionRequest: can't do chat completion - proxy.(*UseCase).ChatCompletion: can't check request - code: <nil>, message: proxy: token limit reached. Limit: 50000 / min. Available: 0 / min. Retry after: 18.733253955s. Reset after: 53.617253959s., param: <nil>, type: proxy_limit_reached\", 'details': [{'@type': 'type.googleapis.com/openaiproxy.v1.ErrorResponse', 'error': {'code': '', 'message': 'proxy: token limit reached. Limit: 50000 / min. Available: 0 / min. Retry after: 18.733253955s. Reset after: 53.617253959s.', 'param': '', 'type': 'proxy_limit_reached', 'critical_data_details': [], 'limit_reached_details': {'type': 'token', 'retry_after': 18.733253955, 'reset_after': 53.617253959}}}, {'@type': 'type.googleapis.com/openaiproxy.v1.StatusCode', 'value': 429}]}}\n",
      "{'error': {'code': 8, 'message': \"openaiproxy.(*ServiceImplementation).processChatCompletionRequest: can't do chat completion - proxy.(*UseCase).ChatCompletion: can't check request - code: <nil>, message: proxy: token limit reached. Limit: 50000 / min. Available: 0 / min. Retry after: 8.612104952s. Reset after: 43.496104955s., param: <nil>, type: proxy_limit_reached\", 'details': [{'@type': 'type.googleapis.com/openaiproxy.v1.ErrorResponse', 'error': {'code': '', 'message': 'proxy: token limit reached. Limit: 50000 / min. Available: 0 / min. Retry after: 8.612104952s. Reset after: 43.496104955s.', 'param': '', 'type': 'proxy_limit_reached', 'critical_data_details': [], 'limit_reached_details': {'type': 'token', 'retry_after': 8.612104952, 'reset_after': 43.496104955}}}, {'@type': 'type.googleapis.com/openaiproxy.v1.StatusCode', 'value': 429}]}}\n"
     ]
    },
    {
     "name": "stderr",
     "output_type": "stream",
     "text": [
      " 46%|████▌     | 34/74 [12:41<15:47, 23.68s/it]"
     ]
    },
    {
     "name": "stdout",
     "output_type": "stream",
     "text": [
      "29-е. Въ дорогъ. Хвгодно. простудился. Встрѣча въ Вса- -> 29е. Въ дорогѣ. Холодно, простудился. Встрѣча въ Выксе.\n",
      "{'error': {'code': 8, 'message': \"openaiproxy.(*ServiceImplementation).processChatCompletionRequest: can't do chat completion - proxy.(*UseCase).ChatCompletion: can't check request - code: <nil>, message: proxy: token limit reached. Limit: 50000 / min. Available: 0 / min. Retry after: 21.580770939s. Reset after: 56.389170944s., param: <nil>, type: proxy_limit_reached\", 'details': [{'@type': 'type.googleapis.com/openaiproxy.v1.ErrorResponse', 'error': {'code': '', 'message': 'proxy: token limit reached. Limit: 50000 / min. Available: 0 / min. Retry after: 21.580770939s. Reset after: 56.389170944s.', 'param': '', 'type': 'proxy_limit_reached', 'critical_data_details': [], 'limit_reached_details': {'type': 'token', 'retry_after': 21.580770939, 'reset_after': 56.389170944}}}, {'@type': 'type.googleapis.com/openaiproxy.v1.StatusCode', 'value': 429}]}}\n",
      "{'error': {'code': 8, 'message': \"openaiproxy.(*ServiceImplementation).processChatCompletionRequest: can't do chat completion - proxy.(*UseCase).ChatCompletion: can't check request - code: <nil>, message: proxy: token limit reached. Limit: 50000 / min. Available: 0 / min. Retry after: 11.446084946s. Reset after: 46.254484951s., param: <nil>, type: proxy_limit_reached\", 'details': [{'@type': 'type.googleapis.com/openaiproxy.v1.ErrorResponse', 'error': {'code': '', 'message': 'proxy: token limit reached. Limit: 50000 / min. Available: 0 / min. Retry after: 11.446084946s. Reset after: 46.254484951s.', 'param': '', 'type': 'proxy_limit_reached', 'critical_data_details': [], 'limit_reached_details': {'type': 'token', 'retry_after': 11.446084946, 'reset_after': 46.254484951}}}, {'@type': 'type.googleapis.com/openaiproxy.v1.StatusCode', 'value': 429}]}}\n",
      "{'error': {'code': 8, 'message': \"openaiproxy.(*ServiceImplementation).processChatCompletionRequest: can't do chat completion - proxy.(*UseCase).ChatCompletion: can't check request - code: <nil>, message: proxy: token limit reached. Limit: 50000 / min. Available: 0 / min. Retry after: 1.295443952s. Reset after: 36.103843957s., param: <nil>, type: proxy_limit_reached\", 'details': [{'@type': 'type.googleapis.com/openaiproxy.v1.ErrorResponse', 'error': {'code': '', 'message': 'proxy: token limit reached. Limit: 50000 / min. Available: 0 / min. Retry after: 1.295443952s. Reset after: 36.103843957s.', 'param': '', 'type': 'proxy_limit_reached', 'critical_data_details': [], 'limit_reached_details': {'type': 'token', 'retry_after': 1.295443952, 'reset_after': 36.103843957}}}, {'@type': 'type.googleapis.com/openaiproxy.v1.StatusCode', 'value': 429}]}}\n"
     ]
    },
    {
     "name": "stderr",
     "output_type": "stream",
     "text": [
      " 47%|████▋     | 35/74 [13:13<17:00, 26.18s/it]"
     ]
    },
    {
     "name": "stdout",
     "output_type": "stream",
     "text": [
      "дурвіерѣ со какимъ отолченскимъ офицеромъ -> въ дилижансе съ какимъ отставнымъ офицеромъ\n",
      "{'error': {'code': 8, 'message': \"openaiproxy.(*ServiceImplementation).processChatCompletionRequest: can't do chat completion - proxy.(*UseCase).ChatCompletion: can't check request - code: <nil>, message: proxy: token limit reached. Limit: 50000 / min. Available: 0 / min. Retry after: 14.82356894s. Reset after: 49.568368941s., param: <nil>, type: proxy_limit_reached\", 'details': [{'@type': 'type.googleapis.com/openaiproxy.v1.ErrorResponse', 'error': {'code': '', 'message': 'proxy: token limit reached. Limit: 50000 / min. Available: 0 / min. Retry after: 14.82356894s. Reset after: 49.568368941s.', 'param': '', 'type': 'proxy_limit_reached', 'critical_data_details': [], 'limit_reached_details': {'type': 'token', 'retry_after': 14.82356894, 'reset_after': 49.568368941}}}, {'@type': 'type.googleapis.com/openaiproxy.v1.StatusCode', 'value': 429}]}}\n",
      "{'error': {'code': 8, 'message': \"openaiproxy.(*ServiceImplementation).processChatCompletionRequest: can't do chat completion - proxy.(*UseCase).ChatCompletion: can't check request - code: <nil>, message: proxy: token limit reached. Limit: 50000 / min. Available: 0 / min. Retry after: 4.685482949s. Reset after: 39.43028295s., param: <nil>, type: proxy_limit_reached\", 'details': [{'@type': 'type.googleapis.com/openaiproxy.v1.ErrorResponse', 'error': {'code': '', 'message': 'proxy: token limit reached. Limit: 50000 / min. Available: 0 / min. Retry after: 4.685482949s. Reset after: 39.43028295s.', 'param': '', 'type': 'proxy_limit_reached', 'critical_data_details': [], 'limit_reached_details': {'type': 'token', 'retry_after': 4.685482949, 'reset_after': 39.43028295}}}, {'@type': 'type.googleapis.com/openaiproxy.v1.StatusCode', 'value': 429}]}}\n"
     ]
    },
    {
     "name": "stderr",
     "output_type": "stream",
     "text": [
      " 49%|████▊     | 36/74 [13:35<15:48, 24.96s/it]"
     ]
    },
    {
     "name": "stdout",
     "output_type": "stream",
     "text": [
      "Понулярность и всеобщал извѣстностъ кречинского -> Популярность и всеобщая извѣстность Кречинскаго\n",
      "{'error': {'code': 8, 'message': \"openaiproxy.(*ServiceImplementation).processChatCompletionRequest: can't do chat completion - proxy.(*UseCase).ChatCompletion: can't check request - code: <nil>, message: proxy: token limit reached. Limit: 50000 / min. Available: 0 / min. Retry after: 18.014572978s. Reset after: 52.689772963s., param: <nil>, type: proxy_limit_reached\", 'details': [{'@type': 'type.googleapis.com/openaiproxy.v1.ErrorResponse', 'error': {'code': '', 'message': 'proxy: token limit reached. Limit: 50000 / min. Available: 0 / min. Retry after: 18.014572978s. Reset after: 52.689772963s.', 'param': '', 'type': 'proxy_limit_reached', 'critical_data_details': [], 'limit_reached_details': {'type': 'token', 'retry_after': 18.014572978, 'reset_after': 52.689772963}}}, {'@type': 'type.googleapis.com/openaiproxy.v1.StatusCode', 'value': 429}]}}\n",
      "{'error': {'code': 8, 'message': \"openaiproxy.(*ServiceImplementation).processChatCompletionRequest: can't do chat completion - proxy.(*UseCase).ChatCompletion: can't check request - code: <nil>, message: proxy: token limit reached. Limit: 50000 / min. Available: 0 / min. Retry after: 7.862923979s. Reset after: 42.538123965s., param: <nil>, type: proxy_limit_reached\", 'details': [{'@type': 'type.googleapis.com/openaiproxy.v1.ErrorResponse', 'error': {'code': '', 'message': 'proxy: token limit reached. Limit: 50000 / min. Available: 0 / min. Retry after: 7.862923979s. Reset after: 42.538123965s.', 'param': '', 'type': 'proxy_limit_reached', 'critical_data_details': [], 'limit_reached_details': {'type': 'token', 'retry_after': 7.862923979, 'reset_after': 42.538123965}}}, {'@type': 'type.googleapis.com/openaiproxy.v1.StatusCode', 'value': 429}]}}\n"
     ]
    },
    {
     "name": "stderr",
     "output_type": "stream",
     "text": [
      " 50%|█████     | 37/74 [13:57<14:49, 24.05s/it]"
     ]
    },
    {
     "name": "stdout",
     "output_type": "stream",
     "text": [
      "Его ужа играли вовсей Россіи. Успѣхъ одинъ вездѣ -> Его уже играли по всей Россіи. Успѣхъ одинъ вездѣ.\n",
      "{'error': {'code': 8, 'message': \"openaiproxy.(*ServiceImplementation).processChatCompletionRequest: can't do chat completion - proxy.(*UseCase).ChatCompletion: can't check request - code: <nil>, message: proxy: token limit reached. Limit: 50000 / min. Available: 0 / min. Retry after: 21.509218961s. Reset after: 56.111218959s., param: <nil>, type: proxy_limit_reached\", 'details': [{'@type': 'type.googleapis.com/openaiproxy.v1.ErrorResponse', 'error': {'code': '', 'message': 'proxy: token limit reached. Limit: 50000 / min. Available: 0 / min. Retry after: 21.509218961s. Reset after: 56.111218959s.', 'param': '', 'type': 'proxy_limit_reached', 'critical_data_details': [], 'limit_reached_details': {'type': 'token', 'retry_after': 21.509218961, 'reset_after': 56.111218959}}}, {'@type': 'type.googleapis.com/openaiproxy.v1.StatusCode', 'value': 429}]}}\n",
      "{'error': {'code': 8, 'message': \"openaiproxy.(*ServiceImplementation).processChatCompletionRequest: can't do chat completion - proxy.(*UseCase).ChatCompletion: can't check request - code: <nil>, message: proxy: token limit reached. Limit: 50000 / min. Available: 0 / min. Retry after: 11.369284957s. Reset after: 45.971284955s., param: <nil>, type: proxy_limit_reached\", 'details': [{'@type': 'type.googleapis.com/openaiproxy.v1.ErrorResponse', 'error': {'code': '', 'message': 'proxy: token limit reached. Limit: 50000 / min. Available: 0 / min. Retry after: 11.369284957s. Reset after: 45.971284955s.', 'param': '', 'type': 'proxy_limit_reached', 'critical_data_details': [], 'limit_reached_details': {'type': 'token', 'retry_after': 11.369284957, 'reset_after': 45.971284955}}}, {'@type': 'type.googleapis.com/openaiproxy.v1.StatusCode', 'value': 429}]}}\n",
      "{'error': {'code': 8, 'message': \"openaiproxy.(*ServiceImplementation).processChatCompletionRequest: can't do chat completion - proxy.(*UseCase).ChatCompletion: can't check request - code: <nil>, message: proxy: token limit reached. Limit: 50000 / min. Available: 0 / min. Retry after: 1.210907965s. Reset after: 35.812907963s., param: <nil>, type: proxy_limit_reached\", 'details': [{'@type': 'type.googleapis.com/openaiproxy.v1.ErrorResponse', 'error': {'code': '', 'message': 'proxy: token limit reached. Limit: 50000 / min. Available: 0 / min. Retry after: 1.210907965s. Reset after: 35.812907963s.', 'param': '', 'type': 'proxy_limit_reached', 'critical_data_details': [], 'limit_reached_details': {'type': 'token', 'retry_after': 1.210907965, 'reset_after': 35.812907963}}}, {'@type': 'type.googleapis.com/openaiproxy.v1.StatusCode', 'value': 429}]}}\n"
     ]
    },
    {
     "name": "stderr",
     "output_type": "stream",
     "text": [
      " 51%|█████▏    | 38/74 [14:30<16:01, 26.70s/it]"
     ]
    },
    {
     "name": "stdout",
     "output_type": "stream",
     "text": [
      "30-е. въ 11 часовъ утра никемъ неожиданный пріѣ. -> 30е. Въ 11 часовъ утра, никемъ неожиданный, пріѣхалъ.\n",
      "{'error': {'code': 8, 'message': \"openaiproxy.(*ServiceImplementation).processChatCompletionRequest: can't do chat completion - proxy.(*UseCase).ChatCompletion: can't check request - code: <nil>, message: proxy: token limit reached. Limit: 50000 / min. Available: 0 / min. Retry after: 14.071224987s. Reset after: 48.598824977s., param: <nil>, type: proxy_limit_reached\", 'details': [{'@type': 'type.googleapis.com/openaiproxy.v1.ErrorResponse', 'error': {'code': '', 'message': 'proxy: token limit reached. Limit: 50000 / min. Available: 0 / min. Retry after: 14.071224987s. Reset after: 48.598824977s.', 'param': '', 'type': 'proxy_limit_reached', 'critical_data_details': [], 'limit_reached_details': {'type': 'token', 'retry_after': 14.071224987, 'reset_after': 48.598824977}}}, {'@type': 'type.googleapis.com/openaiproxy.v1.StatusCode', 'value': 429}]}}\n",
      "{'error': {'code': 8, 'message': \"openaiproxy.(*ServiceImplementation).processChatCompletionRequest: can't do chat completion - proxy.(*UseCase).ChatCompletion: can't check request - code: <nil>, message: proxy: token limit reached. Limit: 50000 / min. Available: 0 / min. Retry after: 3.938548982s. Reset after: 38.466148972s., param: <nil>, type: proxy_limit_reached\", 'details': [{'@type': 'type.googleapis.com/openaiproxy.v1.ErrorResponse', 'error': {'code': '', 'message': 'proxy: token limit reached. Limit: 50000 / min. Available: 0 / min. Retry after: 3.938548982s. Reset after: 38.466148972s.', 'param': '', 'type': 'proxy_limit_reached', 'critical_data_details': [], 'limit_reached_details': {'type': 'token', 'retry_after': 3.938548982, 'reset_after': 38.466148972}}}, {'@type': 'type.googleapis.com/openaiproxy.v1.StatusCode', 'value': 429}]}}\n"
     ]
    },
    {
     "name": "stderr",
     "output_type": "stream",
     "text": [
      " 53%|█████▎    | 39/74 [14:52<14:51, 25.48s/it]"
     ]
    },
    {
     "name": "stdout",
     "output_type": "stream",
     "text": [
      "халъ на Выксу – отцъ былъ радъ онъ постарѣлъ -> на Выксу – отецъ былъ радъ, онъ постарѣлъ.\n",
      "{'error': {'code': 8, 'message': \"openaiproxy.(*ServiceImplementation).processChatCompletionRequest: can't do chat completion - proxy.(*UseCase).ChatCompletion: can't check request - code: <nil>, message: proxy: token limit reached. Limit: 50000 / min. Available: 0 / min. Retry after: 16.997029989s. Reset after: 51.456229984s., param: <nil>, type: proxy_limit_reached\", 'details': [{'@type': 'type.googleapis.com/openaiproxy.v1.ErrorResponse', 'error': {'code': '', 'message': 'proxy: token limit reached. Limit: 50000 / min. Available: 0 / min. Retry after: 16.997029989s. Reset after: 51.456229984s.', 'param': '', 'type': 'proxy_limit_reached', 'critical_data_details': [], 'limit_reached_details': {'type': 'token', 'retry_after': 16.997029989, 'reset_after': 51.456229984}}}, {'@type': 'type.googleapis.com/openaiproxy.v1.StatusCode', 'value': 429}]}}\n",
      "{'error': {'code': 8, 'message': \"openaiproxy.(*ServiceImplementation).processChatCompletionRequest: can't do chat completion - proxy.(*UseCase).ChatCompletion: can't check request - code: <nil>, message: proxy: token limit reached. Limit: 50000 / min. Available: 0 / min. Retry after: 6.835272997s. Reset after: 41.294472992s., param: <nil>, type: proxy_limit_reached\", 'details': [{'@type': 'type.googleapis.com/openaiproxy.v1.ErrorResponse', 'error': {'code': '', 'message': 'proxy: token limit reached. Limit: 50000 / min. Available: 0 / min. Retry after: 6.835272997s. Reset after: 41.294472992s.', 'param': '', 'type': 'proxy_limit_reached', 'critical_data_details': [], 'limit_reached_details': {'type': 'token', 'retry_after': 6.835272997, 'reset_after': 41.294472992}}}, {'@type': 'type.googleapis.com/openaiproxy.v1.StatusCode', 'value': 429}]}}\n"
     ]
    },
    {
     "name": "stderr",
     "output_type": "stream",
     "text": [
      " 54%|█████▍    | 40/74 [15:15<13:56, 24.59s/it]"
     ]
    },
    {
     "name": "stdout",
     "output_type": "stream",
     "text": [
      "нѣсколько потолстѣлъ и въ голось замѣжна перемѣла -> нѣсколько потолстѣлъ и въ голосѣ замѣтна перемѣна.\n",
      "{'error': {'code': 8, 'message': \"openaiproxy.(*ServiceImplementation).processChatCompletionRequest: can't do chat completion - proxy.(*UseCase).ChatCompletion: can't check request - code: <nil>, message: proxy: token limit reached. Limit: 50000 / min. Available: 0 / min. Retry after: 20.084066987s. Reset after: 54.468866974s., param: <nil>, type: proxy_limit_reached\", 'details': [{'@type': 'type.googleapis.com/openaiproxy.v1.ErrorResponse', 'error': {'code': '', 'message': 'proxy: token limit reached. Limit: 50000 / min. Available: 0 / min. Retry after: 20.084066987s. Reset after: 54.468866974s.', 'param': '', 'type': 'proxy_limit_reached', 'critical_data_details': [], 'limit_reached_details': {'type': 'token', 'retry_after': 20.084066987, 'reset_after': 54.468866974}}}, {'@type': 'type.googleapis.com/openaiproxy.v1.StatusCode', 'value': 429}]}}\n",
      "{'error': {'code': 8, 'message': \"openaiproxy.(*ServiceImplementation).processChatCompletionRequest: can't do chat completion - proxy.(*UseCase).ChatCompletion: can't check request - code: <nil>, message: proxy: token limit reached. Limit: 50000 / min. Available: 0 / min. Retry after: 9.914844006s. Reset after: 44.299643993s., param: <nil>, type: proxy_limit_reached\", 'details': [{'@type': 'type.googleapis.com/openaiproxy.v1.ErrorResponse', 'error': {'code': '', 'message': 'proxy: token limit reached. Limit: 50000 / min. Available: 0 / min. Retry after: 9.914844006s. Reset after: 44.299643993s.', 'param': '', 'type': 'proxy_limit_reached', 'critical_data_details': [], 'limit_reached_details': {'type': 'token', 'retry_after': 9.914844006, 'reset_after': 44.299643993}}}, {'@type': 'type.googleapis.com/openaiproxy.v1.StatusCode', 'value': 429}]}}\n"
     ]
    },
    {
     "name": "stderr",
     "output_type": "stream",
     "text": [
      " 55%|█████▌    | 41/74 [15:45<14:31, 26.40s/it]"
     ]
    },
    {
     "name": "stdout",
     "output_type": "stream",
     "text": [
      "нѣтъ твердости. На Выксѣ сесенра соловая, Честр -> нѣтъ твердости. На Выксѣ сестра Соловая, Честер.\n",
      "{'error': {'code': 8, 'message': \"openaiproxy.(*ServiceImplementation).processChatCompletionRequest: can't do chat completion - proxy.(*UseCase).ChatCompletion: can't check request - code: <nil>, message: proxy: token limit reached. Limit: 50000 / min. Available: 0 / min. Retry after: 15.090043991s. Reset after: 49.405243992s., param: <nil>, type: proxy_limit_reached\", 'details': [{'@type': 'type.googleapis.com/openaiproxy.v1.ErrorResponse', 'error': {'code': '', 'message': 'proxy: token limit reached. Limit: 50000 / min. Available: 0 / min. Retry after: 15.090043991s. Reset after: 49.405243992s.', 'param': '', 'type': 'proxy_limit_reached', 'critical_data_details': [], 'limit_reached_details': {'type': 'token', 'retry_after': 15.090043991, 'reset_after': 49.405243992}}}, {'@type': 'type.googleapis.com/openaiproxy.v1.StatusCode', 'value': 429}]}}\n",
      "{'error': {'code': 8, 'message': \"openaiproxy.(*ServiceImplementation).processChatCompletionRequest: can't do chat completion - proxy.(*UseCase).ChatCompletion: can't check request - code: <nil>, message: proxy: token limit reached. Limit: 50000 / min. Available: 0 / min. Retry after: 4.92267099s. Reset after: 39.237870991s., param: <nil>, type: proxy_limit_reached\", 'details': [{'@type': 'type.googleapis.com/openaiproxy.v1.ErrorResponse', 'error': {'code': '', 'message': 'proxy: token limit reached. Limit: 50000 / min. Available: 0 / min. Retry after: 4.92267099s. Reset after: 39.237870991s.', 'param': '', 'type': 'proxy_limit_reached', 'critical_data_details': [], 'limit_reached_details': {'type': 'token', 'retry_after': 4.92267099, 'reset_after': 39.237870991}}}, {'@type': 'type.googleapis.com/openaiproxy.v1.StatusCode', 'value': 429}]}}\n"
     ]
    },
    {
     "name": "stderr",
     "output_type": "stream",
     "text": [
      " 57%|█████▋    | 42/74 [16:08<13:27, 25.24s/it]"
     ]
    },
    {
     "name": "stdout",
     "output_type": "stream",
     "text": [
      "Сальясъ, Ина. Тетлевъ и я леховскій. Николай -> Сальясъ, Ина, Тетлевъ и я, Ляховскій. Николай\n",
      "{'error': {'code': 8, 'message': \"openaiproxy.(*ServiceImplementation).processChatCompletionRequest: can't do chat completion - proxy.(*UseCase).ChatCompletion: can't check request - code: <nil>, message: proxy: token limit reached. Limit: 50000 / min. Available: 0 / min. Retry after: 18.392437994s. Reset after: 52.623638004s., param: <nil>, type: proxy_limit_reached\", 'details': [{'@type': 'type.googleapis.com/openaiproxy.v1.ErrorResponse', 'error': {'code': '', 'message': 'proxy: token limit reached. Limit: 50000 / min. Available: 0 / min. Retry after: 18.392437994s. Reset after: 52.623638004s.', 'param': '', 'type': 'proxy_limit_reached', 'critical_data_details': [], 'limit_reached_details': {'type': 'token', 'retry_after': 18.392437994, 'reset_after': 52.623638004}}}, {'@type': 'type.googleapis.com/openaiproxy.v1.StatusCode', 'value': 429}]}}\n",
      "{'error': {'code': 8, 'message': \"openaiproxy.(*ServiceImplementation).processChatCompletionRequest: can't do chat completion - proxy.(*UseCase).ChatCompletion: can't check request - code: <nil>, message: proxy: token limit reached. Limit: 50000 / min. Available: 0 / min. Retry after: 8.225350975s. Reset after: 42.456550985s., param: <nil>, type: proxy_limit_reached\", 'details': [{'@type': 'type.googleapis.com/openaiproxy.v1.ErrorResponse', 'error': {'code': '', 'message': 'proxy: token limit reached. Limit: 50000 / min. Available: 0 / min. Retry after: 8.225350975s. Reset after: 42.456550985s.', 'param': '', 'type': 'proxy_limit_reached', 'critical_data_details': [], 'limit_reached_details': {'type': 'token', 'retry_after': 8.225350975, 'reset_after': 42.456550985}}}, {'@type': 'type.googleapis.com/openaiproxy.v1.StatusCode', 'value': 429}]}}\n"
     ]
    },
    {
     "name": "stderr",
     "output_type": "stream",
     "text": [
      " 58%|█████▊    | 43/74 [16:37<13:38, 26.40s/it]"
     ]
    },
    {
     "name": "stdout",
     "output_type": "stream",
     "text": [
      "Го0нь 1-е. Рано утромъ съ Соринымъ выѣхалъ на словодь. -> Апрѣль 1е. Рано утромъ съ Соринымъ выѣхалъ на Ставецъ.\n",
      "{'error': {'code': 8, 'message': \"openaiproxy.(*ServiceImplementation).processChatCompletionRequest: can't do chat completion - proxy.(*UseCase).ChatCompletion: can't check request - code: <nil>, message: proxy: token limit reached. Limit: 50000 / min. Available: 0 / min. Retry after: 15.147316962s. Reset after: 49.280116975s., param: <nil>, type: proxy_limit_reached\", 'details': [{'@type': 'type.googleapis.com/openaiproxy.v1.ErrorResponse', 'error': {'code': '', 'message': 'proxy: token limit reached. Limit: 50000 / min. Available: 0 / min. Retry after: 15.147316962s. Reset after: 49.280116975s.', 'param': '', 'type': 'proxy_limit_reached', 'critical_data_details': [], 'limit_reached_details': {'type': 'token', 'retry_after': 15.147316962, 'reset_after': 49.280116975}}}, {'@type': 'type.googleapis.com/openaiproxy.v1.StatusCode', 'value': 429}]}}\n",
      "{'error': {'code': 8, 'message': \"openaiproxy.(*ServiceImplementation).processChatCompletionRequest: can't do chat completion - proxy.(*UseCase).ChatCompletion: can't check request - code: <nil>, message: proxy: token limit reached. Limit: 50000 / min. Available: 0 / min. Retry after: 5.010030984s. Reset after: 39.142830997s., param: <nil>, type: proxy_limit_reached\", 'details': [{'@type': 'type.googleapis.com/openaiproxy.v1.ErrorResponse', 'error': {'code': '', 'message': 'proxy: token limit reached. Limit: 50000 / min. Available: 0 / min. Retry after: 5.010030984s. Reset after: 39.142830997s.', 'param': '', 'type': 'proxy_limit_reached', 'critical_data_details': [], 'limit_reached_details': {'type': 'token', 'retry_after': 5.010030984, 'reset_after': 39.142830997}}}, {'@type': 'type.googleapis.com/openaiproxy.v1.StatusCode', 'value': 429}]}}\n"
     ]
    },
    {
     "name": "stderr",
     "output_type": "stream",
     "text": [
      " 59%|█████▉    | 44/74 [17:10<14:15, 28.51s/it]"
     ]
    },
    {
     "name": "stdout",
     "output_type": "stream",
     "text": [
      "Квгупть, 3-го. Уѣхалъ вълетербургъ. ибо дѣло принаяло дурго -> Купчѣ, 3го. Уѣхалъ въ Петербургъ, ибо дѣло приняло дурной\n",
      "{'error': {'code': 8, 'message': \"openaiproxy.(*ServiceImplementation).processChatCompletionRequest: can't do chat completion - proxy.(*UseCase).ChatCompletion: can't check request - code: <nil>, message: proxy: token limit reached. Limit: 50000 / min. Available: 0 / min. Retry after: 7.698732972s. Reset after: 41.740332961s., param: <nil>, type: proxy_limit_reached\", 'details': [{'@type': 'type.googleapis.com/openaiproxy.v1.ErrorResponse', 'error': {'code': '', 'message': 'proxy: token limit reached. Limit: 50000 / min. Available: 0 / min. Retry after: 7.698732972s. Reset after: 41.740332961s.', 'param': '', 'type': 'proxy_limit_reached', 'critical_data_details': [], 'limit_reached_details': {'type': 'token', 'retry_after': 7.698732972, 'reset_after': 41.740332961}}}, {'@type': 'type.googleapis.com/openaiproxy.v1.StatusCode', 'value': 429}]}}\n"
     ]
    },
    {
     "name": "stderr",
     "output_type": "stream",
     "text": [
      " 61%|██████    | 45/74 [17:23<11:29, 23.76s/it]"
     ]
    },
    {
     "name": "stdout",
     "output_type": "stream",
     "text": [
      "оборому въ Мичо л0етъ. Натало тяжелсъ время. Саезыгаколо -> оборотъ въ Мичуринскъ. Началось тяжёлое время. Съезжалось много\n",
      "{'error': {'code': 8, 'message': \"openaiproxy.(*ServiceImplementation).processChatCompletionRequest: can't do chat completion - proxy.(*UseCase).ChatCompletion: can't check request - code: <nil>, message: proxy: token limit reached. Limit: 50000 / min. Available: 0 / min. Retry after: 21.060759991s. Reset after: 55.02195999s., param: <nil>, type: proxy_limit_reached\", 'details': [{'@type': 'type.googleapis.com/openaiproxy.v1.ErrorResponse', 'error': {'code': '', 'message': 'proxy: token limit reached. Limit: 50000 / min. Available: 0 / min. Retry after: 21.060759991s. Reset after: 55.02195999s.', 'param': '', 'type': 'proxy_limit_reached', 'critical_data_details': [], 'limit_reached_details': {'type': 'token', 'retry_after': 21.060759991, 'reset_after': 55.02195999}}}, {'@type': 'type.googleapis.com/openaiproxy.v1.StatusCode', 'value': 429}]}}\n",
      "{'error': {'code': 8, 'message': \"openaiproxy.(*ServiceImplementation).processChatCompletionRequest: can't do chat completion - proxy.(*UseCase).ChatCompletion: can't check request - code: <nil>, message: proxy: token limit reached. Limit: 50000 / min. Available: 0 / min. Retry after: 10.899657994s. Reset after: 44.860857993s., param: <nil>, type: proxy_limit_reached\", 'details': [{'@type': 'type.googleapis.com/openaiproxy.v1.ErrorResponse', 'error': {'code': '', 'message': 'proxy: token limit reached. Limit: 50000 / min. Available: 0 / min. Retry after: 10.899657994s. Reset after: 44.860857993s.', 'param': '', 'type': 'proxy_limit_reached', 'critical_data_details': [], 'limit_reached_details': {'type': 'token', 'retry_after': 10.899657994, 'reset_after': 44.860857993}}}, {'@type': 'type.googleapis.com/openaiproxy.v1.StatusCode', 'value': 429}]}}\n",
      "{'error': {'code': 8, 'message': \"openaiproxy.(*ServiceImplementation).processChatCompletionRequest: can't do chat completion - proxy.(*UseCase).ChatCompletion: can't check request - code: <nil>, message: proxy: token limit reached. Limit: 50000 / min. Available: 0 / min. Retry after: 738.487988ms. Reset after: 34.699687987s., param: <nil>, type: proxy_limit_reached\", 'details': [{'@type': 'type.googleapis.com/openaiproxy.v1.ErrorResponse', 'error': {'code': '', 'message': 'proxy: token limit reached. Limit: 50000 / min. Available: 0 / min. Retry after: 738.487988ms. Reset after: 34.699687987s.', 'param': '', 'type': 'proxy_limit_reached', 'critical_data_details': [], 'limit_reached_details': {'type': 'token', 'retry_after': 0.738487988, 'reset_after': 34.699687987}}}, {'@type': 'type.googleapis.com/openaiproxy.v1.StatusCode', 'value': 429}]}}\n"
     ]
    },
    {
     "name": "stderr",
     "output_type": "stream",
     "text": [
      " 62%|██████▏   | 46/74 [18:06<13:43, 29.42s/it]"
     ]
    },
    {
     "name": "stdout",
     "output_type": "stream",
     "text": [
      "крѣпокъ. Ходилъ нѣсколько разъ Греть на годку. –и -> крѣпокъ. Ходилъ нѣсколько разъ грести на лодку. – И\n",
      "{'error': {'code': 8, 'message': \"openaiproxy.(*ServiceImplementation).processChatCompletionRequest: can't do chat completion - proxy.(*UseCase).ChatCompletion: can't check request - code: <nil>, message: proxy: token limit reached. Limit: 50000 / min. Available: 0 / min. Retry after: 4.457144975s. Reset after: 38.352344989s., param: <nil>, type: proxy_limit_reached\", 'details': [{'@type': 'type.googleapis.com/openaiproxy.v1.ErrorResponse', 'error': {'code': '', 'message': 'proxy: token limit reached. Limit: 50000 / min. Available: 0 / min. Retry after: 4.457144975s. Reset after: 38.352344989s.', 'param': '', 'type': 'proxy_limit_reached', 'critical_data_details': [], 'limit_reached_details': {'type': 'token', 'retry_after': 4.457144975, 'reset_after': 38.352344989}}}, {'@type': 'type.googleapis.com/openaiproxy.v1.StatusCode', 'value': 429}]}}\n"
     ]
    },
    {
     "name": "stderr",
     "output_type": "stream",
     "text": [
      " 64%|██████▎   | 47/74 [18:18<10:52, 24.18s/it]"
     ]
    },
    {
     "name": "stdout",
     "output_type": "stream",
     "text": [
      "купался въ шилѣ до паловимы Авгста. -> купался въ Шилѣ до половины Августа.\n",
      "{'error': {'code': 8, 'message': \"openaiproxy.(*ServiceImplementation).processChatCompletionRequest: can't do chat completion - proxy.(*UseCase).ChatCompletion: can't check request - code: <nil>, message: proxy: token limit reached. Limit: 50000 / min. Available: 0 / min. Retry after: 18.727996975s. Reset after: 52.558396965s., param: <nil>, type: proxy_limit_reached\", 'details': [{'@type': 'type.googleapis.com/openaiproxy.v1.ErrorResponse', 'error': {'code': '', 'message': 'proxy: token limit reached. Limit: 50000 / min. Available: 0 / min. Retry after: 18.727996975s. Reset after: 52.558396965s.', 'param': '', 'type': 'proxy_limit_reached', 'critical_data_details': [], 'limit_reached_details': {'type': 'token', 'retry_after': 18.727996975, 'reset_after': 52.558396965}}}, {'@type': 'type.googleapis.com/openaiproxy.v1.StatusCode', 'value': 429}]}}\n",
      "{'error': {'code': 8, 'message': \"openaiproxy.(*ServiceImplementation).processChatCompletionRequest: can't do chat completion - proxy.(*UseCase).ChatCompletion: can't check request - code: <nil>, message: proxy: token limit reached. Limit: 50000 / min. Available: 0 / min. Retry after: 8.584548979s. Reset after: 42.41494897s., param: <nil>, type: proxy_limit_reached\", 'details': [{'@type': 'type.googleapis.com/openaiproxy.v1.ErrorResponse', 'error': {'code': '', 'message': 'proxy: token limit reached. Limit: 50000 / min. Available: 0 / min. Retry after: 8.584548979s. Reset after: 42.41494897s.', 'param': '', 'type': 'proxy_limit_reached', 'critical_data_details': [], 'limit_reached_details': {'type': 'token', 'retry_after': 8.584548979000001, 'reset_after': 42.41494897}}}, {'@type': 'type.googleapis.com/openaiproxy.v1.StatusCode', 'value': 429}]}}\n"
     ]
    },
    {
     "name": "stderr",
     "output_type": "stream",
     "text": [
      " 65%|██████▍   | 48/74 [18:59<12:42, 29.32s/it]"
     ]
    },
    {
     "name": "stdout",
     "output_type": "stream",
     "text": [
      "Cентябрь. Въ Петербургѣ. Подалъ занику М. фов о -> Сентябрь. Въ Петербургѣ. Подалъ записку М. Фов. о\n",
      "{'error': {'code': 8, 'message': \"openaiproxy.(*ServiceImplementation).processChatCompletionRequest: can't do chat completion - proxy.(*UseCase).ChatCompletion: can't check request - code: <nil>, message: proxy: token limit reached. Limit: 50000 / min. Available: 0 / min. Retry after: 3.69719699s. Reset after: 37.451996982s., param: <nil>, type: proxy_limit_reached\", 'details': [{'@type': 'type.googleapis.com/openaiproxy.v1.ErrorResponse', 'error': {'code': '', 'message': 'proxy: token limit reached. Limit: 50000 / min. Available: 0 / min. Retry after: 3.69719699s. Reset after: 37.451996982s.', 'param': '', 'type': 'proxy_limit_reached', 'critical_data_details': [], 'limit_reached_details': {'type': 'token', 'retry_after': 3.69719699, 'reset_after': 37.451996982}}}, {'@type': 'type.googleapis.com/openaiproxy.v1.StatusCode', 'value': 429}]}}\n"
     ]
    },
    {
     "name": "stderr",
     "output_type": "stream",
     "text": [
      " 66%|██████▌   | 49/74 [19:11<10:03, 24.12s/it]"
     ]
    },
    {
     "name": "stdout",
     "output_type": "stream",
     "text": [
      "предирняніи въ 1ож. Россіи. Отравили на Выксу и -> предпріятіи въ Лож. Россіи. Отправили на Выксу и\n",
      "{'error': {'code': 8, 'message': \"openaiproxy.(*ServiceImplementation).processChatCompletionRequest: can't do chat completion - proxy.(*UseCase).ChatCompletion: can't check request - code: <nil>, message: proxy: token limit reached. Limit: 50000 / min. Available: 0 / min. Retry after: 18.01069799s. Reset after: 51.691098004s., param: <nil>, type: proxy_limit_reached\", 'details': [{'@type': 'type.googleapis.com/openaiproxy.v1.ErrorResponse', 'error': {'code': '', 'message': 'proxy: token limit reached. Limit: 50000 / min. Available: 0 / min. Retry after: 18.01069799s. Reset after: 51.691098004s.', 'param': '', 'type': 'proxy_limit_reached', 'critical_data_details': [], 'limit_reached_details': {'type': 'token', 'retry_after': 18.01069799, 'reset_after': 51.691098004}}}, {'@type': 'type.googleapis.com/openaiproxy.v1.StatusCode', 'value': 429}]}}\n",
      "{'error': {'code': 8, 'message': \"openaiproxy.(*ServiceImplementation).processChatCompletionRequest: can't do chat completion - proxy.(*UseCase).ChatCompletion: can't check request - code: <nil>, message: proxy: token limit reached. Limit: 50000 / min. Available: 0 / min. Retry after: 7.87036398s. Reset after: 41.550763994s., param: <nil>, type: proxy_limit_reached\", 'details': [{'@type': 'type.googleapis.com/openaiproxy.v1.ErrorResponse', 'error': {'code': '', 'message': 'proxy: token limit reached. Limit: 50000 / min. Available: 0 / min. Retry after: 7.87036398s. Reset after: 41.550763994s.', 'param': '', 'type': 'proxy_limit_reached', 'critical_data_details': [], 'limit_reached_details': {'type': 'token', 'retry_after': 7.8703639800000005, 'reset_after': 41.550763994}}}, {'@type': 'type.googleapis.com/openaiproxy.v1.StatusCode', 'value': 429}]}}\n"
     ]
    },
    {
     "name": "stderr",
     "output_type": "stream",
     "text": [
      " 68%|██████▊   | 50/74 [19:34<09:32, 23.86s/it]"
     ]
    },
    {
     "name": "stdout",
     "output_type": "stream",
     "text": [
      "заключилъ условіе съ кик. Иетя. Пріѣхалъ обратна -> заключилъ условіе съ кн. Иетя. Пріѣхалъ обратно.\n",
      "{'error': {'code': 8, 'message': \"openaiproxy.(*ServiceImplementation).processChatCompletionRequest: can't do chat completion - proxy.(*UseCase).ChatCompletion: can't check request - code: <nil>, message: proxy: token limit reached. Limit: 50000 / min. Available: 0 / min. Retry after: 21.142644971s. Reset after: 54.746244966s., param: <nil>, type: proxy_limit_reached\", 'details': [{'@type': 'type.googleapis.com/openaiproxy.v1.ErrorResponse', 'error': {'code': '', 'message': 'proxy: token limit reached. Limit: 50000 / min. Available: 0 / min. Retry after: 21.142644971s. Reset after: 54.746244966s.', 'param': '', 'type': 'proxy_limit_reached', 'critical_data_details': [], 'limit_reached_details': {'type': 'token', 'retry_after': 21.142644971, 'reset_after': 54.746244966}}}, {'@type': 'type.googleapis.com/openaiproxy.v1.StatusCode', 'value': 429}]}}\n",
      "{'error': {'code': 8, 'message': \"openaiproxy.(*ServiceImplementation).processChatCompletionRequest: can't do chat completion - proxy.(*UseCase).ChatCompletion: can't check request - code: <nil>, message: proxy: token limit reached. Limit: 50000 / min. Available: 0 / min. Retry after: 11.001649975s. Reset after: 44.605249971s., param: <nil>, type: proxy_limit_reached\", 'details': [{'@type': 'type.googleapis.com/openaiproxy.v1.ErrorResponse', 'error': {'code': '', 'message': 'proxy: token limit reached. Limit: 50000 / min. Available: 0 / min. Retry after: 11.001649975s. Reset after: 44.605249971s.', 'param': '', 'type': 'proxy_limit_reached', 'critical_data_details': [], 'limit_reached_details': {'type': 'token', 'retry_after': 11.001649975, 'reset_after': 44.605249971}}}, {'@type': 'type.googleapis.com/openaiproxy.v1.StatusCode', 'value': 429}]}}\n",
      "{'error': {'code': 8, 'message': \"openaiproxy.(*ServiceImplementation).processChatCompletionRequest: can't do chat completion - proxy.(*UseCase).ChatCompletion: can't check request - code: <nil>, message: proxy: token limit reached. Limit: 50000 / min. Available: 0 / min. Retry after: 275.471985ms. Reset after: 33.87907198s., param: <nil>, type: proxy_limit_reached\", 'details': [{'@type': 'type.googleapis.com/openaiproxy.v1.ErrorResponse', 'error': {'code': '', 'message': 'proxy: token limit reached. Limit: 50000 / min. Available: 0 / min. Retry after: 275.471985ms. Reset after: 33.87907198s.', 'param': '', 'type': 'proxy_limit_reached', 'critical_data_details': [], 'limit_reached_details': {'type': 'token', 'retry_after': 0.275471985, 'reset_after': 33.87907198}}}, {'@type': 'type.googleapis.com/openaiproxy.v1.StatusCode', 'value': 429}]}}\n"
     ]
    },
    {
     "name": "stderr",
     "output_type": "stream",
     "text": [
      " 69%|██████▉   | 51/74 [20:07<10:11, 26.58s/it]"
     ]
    },
    {
     "name": "stdout",
     "output_type": "stream",
     "text": [
      "въ Петербуркъ. 13-го поябръя. Сововые свня и машавовъ -> въ Петербуркъ. 13-го ноября. Соловьевы, Свиньи и Машановъ.\n",
      "{'error': {'code': 8, 'message': \"openaiproxy.(*ServiceImplementation).processChatCompletionRequest: can't do chat completion - proxy.(*UseCase).ChatCompletion: can't check request - code: <nil>, message: proxy: token limit reached. Limit: 50000 / min. Available: 0 / min. Retry after: 14.679715991s. Reset after: 48.199315994s., param: <nil>, type: proxy_limit_reached\", 'details': [{'@type': 'type.googleapis.com/openaiproxy.v1.ErrorResponse', 'error': {'code': '', 'message': 'proxy: token limit reached. Limit: 50000 / min. Available: 0 / min. Retry after: 14.679715991s. Reset after: 48.199315994s.', 'param': '', 'type': 'proxy_limit_reached', 'critical_data_details': [], 'limit_reached_details': {'type': 'token', 'retry_after': 14.679715991, 'reset_after': 48.199315994}}}, {'@type': 'type.googleapis.com/openaiproxy.v1.StatusCode', 'value': 429}]}}\n",
      "{'error': {'code': 8, 'message': \"openaiproxy.(*ServiceImplementation).processChatCompletionRequest: can't do chat completion - proxy.(*UseCase).ChatCompletion: can't check request - code: <nil>, message: proxy: token limit reached. Limit: 50000 / min. Available: 0 / min. Retry after: 4.503094971s. Reset after: 38.022694975s., param: <nil>, type: proxy_limit_reached\", 'details': [{'@type': 'type.googleapis.com/openaiproxy.v1.ErrorResponse', 'error': {'code': '', 'message': 'proxy: token limit reached. Limit: 50000 / min. Available: 0 / min. Retry after: 4.503094971s. Reset after: 38.022694975s.', 'param': '', 'type': 'proxy_limit_reached', 'critical_data_details': [], 'limit_reached_details': {'type': 'token', 'retry_after': 4.503094971, 'reset_after': 38.022694975}}}, {'@type': 'type.googleapis.com/openaiproxy.v1.StatusCode', 'value': 429}]}}\n"
     ]
    },
    {
     "name": "stderr",
     "output_type": "stream",
     "text": [
      " 70%|███████   | 52/74 [20:30<09:16, 25.31s/it]"
     ]
    },
    {
     "name": "stdout",
     "output_type": "stream",
     "text": [
      "Петербургъ. Жезнь въ костицѣ Денедола. Постолно -> Петербургъ. Жизнь въ квартирѣ Денедола. Постоянно\n",
      "{'error': {'code': 8, 'message': \"openaiproxy.(*ServiceImplementation).processChatCompletionRequest: can't do chat completion - proxy.(*UseCase).ChatCompletion: can't check request - code: <nil>, message: proxy: token limit reached. Limit: 50000 / min. Available: 0 / min. Retry after: 18.888201981s. Reset after: 52.326201975s., param: <nil>, type: proxy_limit_reached\", 'details': [{'@type': 'type.googleapis.com/openaiproxy.v1.ErrorResponse', 'error': {'code': '', 'message': 'proxy: token limit reached. Limit: 50000 / min. Available: 0 / min. Retry after: 18.888201981s. Reset after: 52.326201975s.', 'param': '', 'type': 'proxy_limit_reached', 'critical_data_details': [], 'limit_reached_details': {'type': 'token', 'retry_after': 18.888201981, 'reset_after': 52.326201975}}}, {'@type': 'type.googleapis.com/openaiproxy.v1.StatusCode', 'value': 429}]}}\n",
      "{'error': {'code': 8, 'message': \"openaiproxy.(*ServiceImplementation).processChatCompletionRequest: can't do chat completion - proxy.(*UseCase).ChatCompletion: can't check request - code: <nil>, message: proxy: token limit reached. Limit: 50000 / min. Available: 0 / min. Retry after: 8.733950972s. Reset after: 42.171950966s., param: <nil>, type: proxy_limit_reached\", 'details': [{'@type': 'type.googleapis.com/openaiproxy.v1.ErrorResponse', 'error': {'code': '', 'message': 'proxy: token limit reached. Limit: 50000 / min. Available: 0 / min. Retry after: 8.733950972s. Reset after: 42.171950966s.', 'param': '', 'type': 'proxy_limit_reached', 'critical_data_details': [], 'limit_reached_details': {'type': 'token', 'retry_after': 8.733950972, 'reset_after': 42.171950966}}}, {'@type': 'type.googleapis.com/openaiproxy.v1.StatusCode', 'value': 429}]}}\n"
     ]
    },
    {
     "name": "stderr",
     "output_type": "stream",
     "text": [
      " 72%|███████▏  | 53/74 [21:04<09:46, 27.94s/it]"
     ]
    },
    {
     "name": "stdout",
     "output_type": "stream",
     "text": [
      "ходилъ въ Дероту по утрамъ. Окочилъ 2-ой и 3-те акть. -> ходилъ въ Дероту по утрамъ. Окончилъ 2-ой и 3-й актъ.\n",
      "{'error': {'code': 8, 'message': \"openaiproxy.(*ServiceImplementation).processChatCompletionRequest: can't do chat completion - proxy.(*UseCase).ChatCompletion: can't check request - code: <nil>, message: proxy: token limit reached. Limit: 50000 / min. Available: 0 / min. Retry after: 11.475676983s. Reset after: 44.833276987s., param: <nil>, type: proxy_limit_reached\", 'details': [{'@type': 'type.googleapis.com/openaiproxy.v1.ErrorResponse', 'error': {'code': '', 'message': 'proxy: token limit reached. Limit: 50000 / min. Available: 0 / min. Retry after: 11.475676983s. Reset after: 44.833276987s.', 'param': '', 'type': 'proxy_limit_reached', 'critical_data_details': [], 'limit_reached_details': {'type': 'token', 'retry_after': 11.475676983, 'reset_after': 44.833276987}}}, {'@type': 'type.googleapis.com/openaiproxy.v1.StatusCode', 'value': 429}]}}\n",
      "{'error': {'code': 8, 'message': \"openaiproxy.(*ServiceImplementation).processChatCompletionRequest: can't do chat completion - proxy.(*UseCase).ChatCompletion: can't check request - code: <nil>, message: proxy: token limit reached. Limit: 50000 / min. Available: 0 / min. Retry after: 1.292803972s. Reset after: 34.650403976s., param: <nil>, type: proxy_limit_reached\", 'details': [{'@type': 'type.googleapis.com/openaiproxy.v1.ErrorResponse', 'error': {'code': '', 'message': 'proxy: token limit reached. Limit: 50000 / min. Available: 0 / min. Retry after: 1.292803972s. Reset after: 34.650403976s.', 'param': '', 'type': 'proxy_limit_reached', 'critical_data_details': [], 'limit_reached_details': {'type': 'token', 'retry_after': 1.292803972, 'reset_after': 34.650403976}}}, {'@type': 'type.googleapis.com/openaiproxy.v1.StatusCode', 'value': 429}]}}\n"
     ]
    },
    {
     "name": "stderr",
     "output_type": "stream",
     "text": [
      " 73%|███████▎  | 54/74 [21:26<08:42, 26.14s/it]"
     ]
    },
    {
     "name": "stdout",
     "output_type": "stream",
     "text": [
      "1дѣло въ гогуд. Совѣтѣ. бръ Торги на встовые -> Дѣло въ Город. Совѣтѣ. Были торги на въъстовые.\n",
      "{'error': {'code': 8, 'message': \"openaiproxy.(*ServiceImplementation).processChatCompletionRequest: can't do chat completion - proxy.(*UseCase).ChatCompletion: can't check request - code: <nil>, message: proxy: token limit reached. Limit: 50000 / min. Available: 0 / min. Retry after: 16.242545962s. Reset after: 49.519745975s., param: <nil>, type: proxy_limit_reached\", 'details': [{'@type': 'type.googleapis.com/openaiproxy.v1.ErrorResponse', 'error': {'code': '', 'message': 'proxy: token limit reached. Limit: 50000 / min. Available: 0 / min. Retry after: 16.242545962s. Reset after: 49.519745975s.', 'param': '', 'type': 'proxy_limit_reached', 'critical_data_details': [], 'limit_reached_details': {'type': 'token', 'retry_after': 16.242545962, 'reset_after': 49.519745975}}}, {'@type': 'type.googleapis.com/openaiproxy.v1.StatusCode', 'value': 429}]}}\n",
      "{'error': {'code': 8, 'message': \"openaiproxy.(*ServiceImplementation).processChatCompletionRequest: can't do chat completion - proxy.(*UseCase).ChatCompletion: can't check request - code: <nil>, message: proxy: token limit reached. Limit: 50000 / min. Available: 0 / min. Retry after: 6.073228955s. Reset after: 39.350428968s., param: <nil>, type: proxy_limit_reached\", 'details': [{'@type': 'type.googleapis.com/openaiproxy.v1.ErrorResponse', 'error': {'code': '', 'message': 'proxy: token limit reached. Limit: 50000 / min. Available: 0 / min. Retry after: 6.073228955s. Reset after: 39.350428968s.', 'param': '', 'type': 'proxy_limit_reached', 'critical_data_details': [], 'limit_reached_details': {'type': 'token', 'retry_after': 6.073228955, 'reset_after': 39.350428968}}}, {'@type': 'type.googleapis.com/openaiproxy.v1.StatusCode', 'value': 429}]}}\n"
     ]
    },
    {
     "name": "stderr",
     "output_type": "stream",
     "text": [
      " 74%|███████▍  | 55/74 [21:48<07:55, 25.02s/it]"
     ]
    },
    {
     "name": "stdout",
     "output_type": "stream",
     "text": [
      "Корали. Конывъ и Шульмъ въ Петербургѣ. Декабрь -> Корали, Коновъ и Шульмъ въ Петербургѣ. Декабрь\n",
      "{'error': {'code': 8, 'message': \"openaiproxy.(*ServiceImplementation).processChatCompletionRequest: can't do chat completion - proxy.(*UseCase).ChatCompletion: can't check request - code: <nil>, message: proxy: token limit reached. Limit: 50000 / min. Available: 0 / min. Retry after: 20.631744951s. Reset after: 53.853744953s., param: <nil>, type: proxy_limit_reached\", 'details': [{'@type': 'type.googleapis.com/openaiproxy.v1.ErrorResponse', 'error': {'code': '', 'message': 'proxy: token limit reached. Limit: 50000 / min. Available: 0 / min. Retry after: 20.631744951s. Reset after: 53.853744953s.', 'param': '', 'type': 'proxy_limit_reached', 'critical_data_details': [], 'limit_reached_details': {'type': 'token', 'retry_after': 20.631744951, 'reset_after': 53.853744953}}}, {'@type': 'type.googleapis.com/openaiproxy.v1.StatusCode', 'value': 429}]}}\n",
      "{'error': {'code': 8, 'message': \"openaiproxy.(*ServiceImplementation).processChatCompletionRequest: can't do chat completion - proxy.(*UseCase).ChatCompletion: can't check request - code: <nil>, message: proxy: token limit reached. Limit: 50000 / min. Available: 0 / min. Retry after: 10.47072196s. Reset after: 43.692721962s., param: <nil>, type: proxy_limit_reached\", 'details': [{'@type': 'type.googleapis.com/openaiproxy.v1.ErrorResponse', 'error': {'code': '', 'message': 'proxy: token limit reached. Limit: 50000 / min. Available: 0 / min. Retry after: 10.47072196s. Reset after: 43.692721962s.', 'param': '', 'type': 'proxy_limit_reached', 'critical_data_details': [], 'limit_reached_details': {'type': 'token', 'retry_after': 10.47072196, 'reset_after': 43.692721962}}}, {'@type': 'type.googleapis.com/openaiproxy.v1.StatusCode', 'value': 429}]}}\n",
      "{'error': {'code': 8, 'message': \"openaiproxy.(*ServiceImplementation).processChatCompletionRequest: can't do chat completion - proxy.(*UseCase).ChatCompletion: can't check request - code: <nil>, message: proxy: token limit reached. Limit: 50000 / min. Available: 0 / min. Retry after: 334.936976ms. Reset after: 33.556936979s., param: <nil>, type: proxy_limit_reached\", 'details': [{'@type': 'type.googleapis.com/openaiproxy.v1.ErrorResponse', 'error': {'code': '', 'message': 'proxy: token limit reached. Limit: 50000 / min. Available: 0 / min. Retry after: 334.936976ms. Reset after: 33.556936979s.', 'param': '', 'type': 'proxy_limit_reached', 'critical_data_details': [], 'limit_reached_details': {'type': 'token', 'retry_after': 0.334936976, 'reset_after': 33.556936979}}}, {'@type': 'type.googleapis.com/openaiproxy.v1.StatusCode', 'value': 429}]}}\n"
     ]
    },
    {
     "name": "stderr",
     "output_type": "stream",
     "text": [
      " 76%|███████▌  | 56/74 [22:20<08:10, 27.23s/it]"
     ]
    },
    {
     "name": "stdout",
     "output_type": "stream",
     "text": [
      "Возвратся въ Москву. -> Возвратился въ Москву.\n",
      "{'error': {'code': 8, 'message': \"openaiproxy.(*ServiceImplementation).processChatCompletionRequest: can't do chat completion - proxy.(*UseCase).ChatCompletion: can't check request - code: <nil>, message: proxy: token limit reached. Limit: 50000 / min. Available: 0 / min. Retry after: 15.06073296s. Reset after: 48.225132972s., param: <nil>, type: proxy_limit_reached\", 'details': [{'@type': 'type.googleapis.com/openaiproxy.v1.ErrorResponse', 'error': {'code': '', 'message': 'proxy: token limit reached. Limit: 50000 / min. Available: 0 / min. Retry after: 15.06073296s. Reset after: 48.225132972s.', 'param': '', 'type': 'proxy_limit_reached', 'critical_data_details': [], 'limit_reached_details': {'type': 'token', 'retry_after': 15.06073296, 'reset_after': 48.225132972}}}, {'@type': 'type.googleapis.com/openaiproxy.v1.StatusCode', 'value': 429}]}}\n",
      "{'error': {'code': 8, 'message': \"openaiproxy.(*ServiceImplementation).processChatCompletionRequest: can't do chat completion - proxy.(*UseCase).ChatCompletion: can't check request - code: <nil>, message: proxy: token limit reached. Limit: 50000 / min. Available: 0 / min. Retry after: 4.922812938s. Reset after: 38.087212949s., param: <nil>, type: proxy_limit_reached\", 'details': [{'@type': 'type.googleapis.com/openaiproxy.v1.ErrorResponse', 'error': {'code': '', 'message': 'proxy: token limit reached. Limit: 50000 / min. Available: 0 / min. Retry after: 4.922812938s. Reset after: 38.087212949s.', 'param': '', 'type': 'proxy_limit_reached', 'critical_data_details': [], 'limit_reached_details': {'type': 'token', 'retry_after': 4.922812938, 'reset_after': 38.087212949}}}, {'@type': 'type.googleapis.com/openaiproxy.v1.StatusCode', 'value': 429}]}}\n"
     ]
    },
    {
     "name": "stderr",
     "output_type": "stream",
     "text": [
      " 77%|███████▋  | 57/74 [22:43<07:21, 25.94s/it]"
     ]
    },
    {
     "name": "stdout",
     "output_type": "stream",
     "text": [
      "1854 годъ. Новый годъ нажелной дорогѣ. Былъ въ оскре- -> 1854 годъ. Новый годъ на желѣзной дорогѣ. Былъ въ оскре-\n",
      "{'error': {'code': 8, 'message': \"openaiproxy.(*ServiceImplementation).processChatCompletionRequest: can't do chat completion - proxy.(*UseCase).ChatCompletion: can't check request - code: <nil>, message: proxy: token limit reached. Limit: 50000 / min. Available: 0 / min. Retry after: 19.062239944s. Reset after: 52.148639947s., param: <nil>, type: proxy_limit_reached\", 'details': [{'@type': 'type.googleapis.com/openaiproxy.v1.ErrorResponse', 'error': {'code': '', 'message': 'proxy: token limit reached. Limit: 50000 / min. Available: 0 / min. Retry after: 19.062239944s. Reset after: 52.148639947s.', 'param': '', 'type': 'proxy_limit_reached', 'critical_data_details': [], 'limit_reached_details': {'type': 'token', 'retry_after': 19.062239944, 'reset_after': 52.148639947}}}, {'@type': 'type.googleapis.com/openaiproxy.v1.StatusCode', 'value': 429}]}}\n",
      "{'error': {'code': 8, 'message': \"openaiproxy.(*ServiceImplementation).processChatCompletionRequest: can't do chat completion - proxy.(*UseCase).ChatCompletion: can't check request - code: <nil>, message: proxy: token limit reached. Limit: 50000 / min. Available: 0 / min. Retry after: 8.93166396s. Reset after: 42.018063962s., param: <nil>, type: proxy_limit_reached\", 'details': [{'@type': 'type.googleapis.com/openaiproxy.v1.ErrorResponse', 'error': {'code': '', 'message': 'proxy: token limit reached. Limit: 50000 / min. Available: 0 / min. Retry after: 8.93166396s. Reset after: 42.018063962s.', 'param': '', 'type': 'proxy_limit_reached', 'critical_data_details': [], 'limit_reached_details': {'type': 'token', 'retry_after': 8.93166396, 'reset_after': 42.018063962}}}, {'@type': 'type.googleapis.com/openaiproxy.v1.StatusCode', 'value': 429}]}}\n"
     ]
    },
    {
     "name": "stderr",
     "output_type": "stream",
     "text": [
      " 78%|███████▊  | 58/74 [23:05<06:36, 24.80s/it]"
     ]
    },
    {
     "name": "stdout",
     "output_type": "stream",
     "text": [
      "снискомъ. 15 числа выѣхалъ на Выку. Амнtt Гол. -> снѣжкомъ. 15 числа выѣхалъ на Выксу. Антонъ Гол.\n",
      "{'error': {'code': 8, 'message': \"openaiproxy.(*ServiceImplementation).processChatCompletionRequest: can't do chat completion - proxy.(*UseCase).ChatCompletion: can't check request - code: <nil>, message: proxy: token limit reached. Limit: 50000 / min. Available: 0 / min. Retry after: 23.937923938s. Reset after: 56.947523951s., param: <nil>, type: proxy_limit_reached\", 'details': [{'@type': 'type.googleapis.com/openaiproxy.v1.ErrorResponse', 'error': {'code': '', 'message': 'proxy: token limit reached. Limit: 50000 / min. Available: 0 / min. Retry after: 23.937923938s. Reset after: 56.947523951s.', 'param': '', 'type': 'proxy_limit_reached', 'critical_data_details': [], 'limit_reached_details': {'type': 'token', 'retry_after': 23.937923938, 'reset_after': 56.947523951}}}, {'@type': 'type.googleapis.com/openaiproxy.v1.StatusCode', 'value': 429}]}}\n",
      "{'error': {'code': 8, 'message': \"openaiproxy.(*ServiceImplementation).processChatCompletionRequest: can't do chat completion - proxy.(*UseCase).ChatCompletion: can't check request - code: <nil>, message: proxy: token limit reached. Limit: 50000 / min. Available: 0 / min. Retry after: 13.790957927s. Reset after: 46.800557941s., param: <nil>, type: proxy_limit_reached\", 'details': [{'@type': 'type.googleapis.com/openaiproxy.v1.ErrorResponse', 'error': {'code': '', 'message': 'proxy: token limit reached. Limit: 50000 / min. Available: 0 / min. Retry after: 13.790957927s. Reset after: 46.800557941s.', 'param': '', 'type': 'proxy_limit_reached', 'critical_data_details': [], 'limit_reached_details': {'type': 'token', 'retry_after': 13.790957927000001, 'reset_after': 46.800557941}}}, {'@type': 'type.googleapis.com/openaiproxy.v1.StatusCode', 'value': 429}]}}\n",
      "{'error': {'code': 8, 'message': \"openaiproxy.(*ServiceImplementation).processChatCompletionRequest: can't do chat completion - proxy.(*UseCase).ChatCompletion: can't check request - code: <nil>, message: proxy: token limit reached. Limit: 50000 / min. Available: 0 / min. Retry after: 3.65071094s. Reset after: 36.660310953s., param: <nil>, type: proxy_limit_reached\", 'details': [{'@type': 'type.googleapis.com/openaiproxy.v1.ErrorResponse', 'error': {'code': '', 'message': 'proxy: token limit reached. Limit: 50000 / min. Available: 0 / min. Retry after: 3.65071094s. Reset after: 36.660310953s.', 'param': '', 'type': 'proxy_limit_reached', 'critical_data_details': [], 'limit_reached_details': {'type': 'token', 'retry_after': 3.6507109399999997, 'reset_after': 36.660310953}}}, {'@type': 'type.googleapis.com/openaiproxy.v1.StatusCode', 'value': 429}]}}\n"
     ]
    },
    {
     "name": "stderr",
     "output_type": "stream",
     "text": [
      " 80%|███████▉  | 59/74 [23:38<06:45, 27.07s/it]"
     ]
    },
    {
     "name": "stdout",
     "output_type": "stream",
     "text": [
      "Піэсса, читалась въ успѣхомъ. Въ феврагѣ -> Піэсса читалась съ успѣхомъ. Въ февралѣ\n",
      "{'error': {'code': 8, 'message': \"openaiproxy.(*ServiceImplementation).processChatCompletionRequest: can't do chat completion - proxy.(*UseCase).ChatCompletion: can't check request - code: <nil>, message: proxy: token limit reached. Limit: 50000 / min. Available: 0 / min. Retry after: 18.62796393s. Reset after: 51.566763937s., param: <nil>, type: proxy_limit_reached\", 'details': [{'@type': 'type.googleapis.com/openaiproxy.v1.ErrorResponse', 'error': {'code': '', 'message': 'proxy: token limit reached. Limit: 50000 / min. Available: 0 / min. Retry after: 18.62796393s. Reset after: 51.566763937s.', 'param': '', 'type': 'proxy_limit_reached', 'critical_data_details': [], 'limit_reached_details': {'type': 'token', 'retry_after': 18.62796393, 'reset_after': 51.566763937}}}, {'@type': 'type.googleapis.com/openaiproxy.v1.StatusCode', 'value': 429}]}}\n",
      "{'error': {'code': 8, 'message': \"openaiproxy.(*ServiceImplementation).processChatCompletionRequest: can't do chat completion - proxy.(*UseCase).ChatCompletion: can't check request - code: <nil>, message: proxy: token limit reached. Limit: 50000 / min. Available: 0 / min. Retry after: 8.458671927s. Reset after: 41.397471934s., param: <nil>, type: proxy_limit_reached\", 'details': [{'@type': 'type.googleapis.com/openaiproxy.v1.ErrorResponse', 'error': {'code': '', 'message': 'proxy: token limit reached. Limit: 50000 / min. Available: 0 / min. Retry after: 8.458671927s. Reset after: 41.397471934s.', 'param': '', 'type': 'proxy_limit_reached', 'critical_data_details': [], 'limit_reached_details': {'type': 'token', 'retry_after': 8.458671927, 'reset_after': 41.397471934}}}, {'@type': 'type.googleapis.com/openaiproxy.v1.StatusCode', 'value': 429}]}}\n"
     ]
    },
    {
     "name": "stderr",
     "output_type": "stream",
     "text": [
      " 81%|████████  | 60/74 [24:00<05:59, 25.65s/it]"
     ]
    },
    {
     "name": "stdout",
     "output_type": "stream",
     "text": [
      "должъ былъ ѣхать въ Москву по полоду начавшаеттъ, -> долженъ былъ ѣхать въ Москву по поводу начавшагося,\n",
      "{'error': {'code': 8, 'message': \"openaiproxy.(*ServiceImplementation).processChatCompletionRequest: can't do chat completion - proxy.(*UseCase).ChatCompletion: can't check request - code: <nil>, message: proxy: token limit reached. Limit: 50000 / min. Available: 0 / min. Retry after: 23.434254944s. Reset after: 56.296254932s., param: <nil>, type: proxy_limit_reached\", 'details': [{'@type': 'type.googleapis.com/openaiproxy.v1.ErrorResponse', 'error': {'code': '', 'message': 'proxy: token limit reached. Limit: 50000 / min. Available: 0 / min. Retry after: 23.434254944s. Reset after: 56.296254932s.', 'param': '', 'type': 'proxy_limit_reached', 'critical_data_details': [], 'limit_reached_details': {'type': 'token', 'retry_after': 23.434254944, 'reset_after': 56.296254932}}}, {'@type': 'type.googleapis.com/openaiproxy.v1.StatusCode', 'value': 429}]}}\n",
      "{'error': {'code': 8, 'message': \"openaiproxy.(*ServiceImplementation).processChatCompletionRequest: can't do chat completion - proxy.(*UseCase).ChatCompletion: can't check request - code: <nil>, message: proxy: token limit reached. Limit: 50000 / min. Available: 0 / min. Retry after: 13.25881493s. Reset after: 46.120814919s., param: <nil>, type: proxy_limit_reached\", 'details': [{'@type': 'type.googleapis.com/openaiproxy.v1.ErrorResponse', 'error': {'code': '', 'message': 'proxy: token limit reached. Limit: 50000 / min. Available: 0 / min. Retry after: 13.25881493s. Reset after: 46.120814919s.', 'param': '', 'type': 'proxy_limit_reached', 'critical_data_details': [], 'limit_reached_details': {'type': 'token', 'retry_after': 13.25881493, 'reset_after': 46.120814919}}}, {'@type': 'type.googleapis.com/openaiproxy.v1.StatusCode', 'value': 429}]}}\n",
      "{'error': {'code': 8, 'message': \"openaiproxy.(*ServiceImplementation).processChatCompletionRequest: can't do chat completion - proxy.(*UseCase).ChatCompletion: can't check request - code: <nil>, message: proxy: token limit reached. Limit: 50000 / min. Available: 0 / min. Retry after: 3.084279954s. Reset after: 35.946279942s., param: <nil>, type: proxy_limit_reached\", 'details': [{'@type': 'type.googleapis.com/openaiproxy.v1.ErrorResponse', 'error': {'code': '', 'message': 'proxy: token limit reached. Limit: 50000 / min. Available: 0 / min. Retry after: 3.084279954s. Reset after: 35.946279942s.', 'param': '', 'type': 'proxy_limit_reached', 'critical_data_details': [], 'limit_reached_details': {'type': 'token', 'retry_after': 3.084279954, 'reset_after': 35.946279942}}}, {'@type': 'type.googleapis.com/openaiproxy.v1.StatusCode', 'value': 429}]}}\n"
     ]
    },
    {
     "name": "stderr",
     "output_type": "stream",
     "text": [
      " 82%|████████▏ | 61/74 [24:32<05:58, 27.61s/it]"
     ]
    },
    {
     "name": "stdout",
     "output_type": "stream",
     "text": [
      "слѣзмвія. Ѣяздилъ на нѣсколько дей въ Петербургъ. -> слѣдствія. Ѣздилъ на нѣсколько дней въ Петербургъ.\n",
      "{'error': {'code': 8, 'message': \"openaiproxy.(*ServiceImplementation).processChatCompletionRequest: can't do chat completion - proxy.(*UseCase).ChatCompletion: can't check request - code: <nil>, message: proxy: token limit reached. Limit: 50000 / min. Available: 0 / min. Retry after: 18.407122939s. Reset after: 51.200722932s., param: <nil>, type: proxy_limit_reached\", 'details': [{'@type': 'type.googleapis.com/openaiproxy.v1.ErrorResponse', 'error': {'code': '', 'message': 'proxy: token limit reached. Limit: 50000 / min. Available: 0 / min. Retry after: 18.407122939s. Reset after: 51.200722932s.', 'param': '', 'type': 'proxy_limit_reached', 'critical_data_details': [], 'limit_reached_details': {'type': 'token', 'retry_after': 18.407122939, 'reset_after': 51.200722932}}}, {'@type': 'type.googleapis.com/openaiproxy.v1.StatusCode', 'value': 429}]}}\n",
      "{'error': {'code': 8, 'message': \"openaiproxy.(*ServiceImplementation).processChatCompletionRequest: can't do chat completion - proxy.(*UseCase).ChatCompletion: can't check request - code: <nil>, message: proxy: token limit reached. Limit: 50000 / min. Available: 0 / min. Retry after: 8.254401952s. Reset after: 41.048001945s., param: <nil>, type: proxy_limit_reached\", 'details': [{'@type': 'type.googleapis.com/openaiproxy.v1.ErrorResponse', 'error': {'code': '', 'message': 'proxy: token limit reached. Limit: 50000 / min. Available: 0 / min. Retry after: 8.254401952s. Reset after: 41.048001945s.', 'param': '', 'type': 'proxy_limit_reached', 'critical_data_details': [], 'limit_reached_details': {'type': 'token', 'retry_after': 8.254401952, 'reset_after': 41.048001945}}}, {'@type': 'type.googleapis.com/openaiproxy.v1.StatusCode', 'value': 429}]}}\n"
     ]
    },
    {
     "name": "stderr",
     "output_type": "stream",
     "text": [
      " 84%|████████▍ | 62/74 [24:55<05:13, 26.11s/it]"
     ]
    },
    {
     "name": "stdout",
     "output_type": "stream",
     "text": [
      "Иатупалъ охогиминыихъ вещю чтобы охотится. -> Закупалъ охотничьихъ вещей, чтобы охотиться.\n",
      "{'error': {'code': 8, 'message': \"openaiproxy.(*ServiceImplementation).processChatCompletionRequest: can't do chat completion - proxy.(*UseCase).ChatCompletion: can't check request - code: <nil>, message: proxy: token limit reached. Limit: 50000 / min. Available: 0 / min. Retry after: 23.088350951s. Reset after: 55.813550949s., param: <nil>, type: proxy_limit_reached\", 'details': [{'@type': 'type.googleapis.com/openaiproxy.v1.ErrorResponse', 'error': {'code': '', 'message': 'proxy: token limit reached. Limit: 50000 / min. Available: 0 / min. Retry after: 23.088350951s. Reset after: 55.813550949s.', 'param': '', 'type': 'proxy_limit_reached', 'critical_data_details': [], 'limit_reached_details': {'type': 'token', 'retry_after': 23.088350951, 'reset_after': 55.813550949}}}, {'@type': 'type.googleapis.com/openaiproxy.v1.StatusCode', 'value': 429}]}}\n",
      "{'error': {'code': 8, 'message': \"openaiproxy.(*ServiceImplementation).processChatCompletionRequest: can't do chat completion - proxy.(*UseCase).ChatCompletion: can't check request - code: <nil>, message: proxy: token limit reached. Limit: 50000 / min. Available: 0 / min. Retry after: 12.903952956s. Reset after: 45.629152953s., param: <nil>, type: proxy_limit_reached\", 'details': [{'@type': 'type.googleapis.com/openaiproxy.v1.ErrorResponse', 'error': {'code': '', 'message': 'proxy: token limit reached. Limit: 50000 / min. Available: 0 / min. Retry after: 12.903952956s. Reset after: 45.629152953s.', 'param': '', 'type': 'proxy_limit_reached', 'critical_data_details': [], 'limit_reached_details': {'type': 'token', 'retry_after': 12.903952956, 'reset_after': 45.629152953}}}, {'@type': 'type.googleapis.com/openaiproxy.v1.StatusCode', 'value': 429}]}}\n",
      "{'error': {'code': 8, 'message': \"openaiproxy.(*ServiceImplementation).processChatCompletionRequest: can't do chat completion - proxy.(*UseCase).ChatCompletion: can't check request - code: <nil>, message: proxy: token limit reached. Limit: 50000 / min. Available: 0 / min. Retry after: 2.753296941s. Reset after: 35.478496938s., param: <nil>, type: proxy_limit_reached\", 'details': [{'@type': 'type.googleapis.com/openaiproxy.v1.ErrorResponse', 'error': {'code': '', 'message': 'proxy: token limit reached. Limit: 50000 / min. Available: 0 / min. Retry after: 2.753296941s. Reset after: 35.478496938s.', 'param': '', 'type': 'proxy_limit_reached', 'critical_data_details': [], 'limit_reached_details': {'type': 'token', 'retry_after': 2.753296941, 'reset_after': 35.478496938}}}, {'@type': 'type.googleapis.com/openaiproxy.v1.StatusCode', 'value': 429}]}}\n"
     ]
    },
    {
     "name": "stderr",
     "output_type": "stream",
     "text": [
      " 85%|████████▌ | 63/74 [25:27<05:07, 28.00s/it]"
     ]
    },
    {
     "name": "stdout",
     "output_type": "stream",
     "text": [
      "2-го Маретъ на тервой недѣли воротилси въ Москву. -> 2-го марта, на первой недѣлѣ, воротился въ Москву.\n",
      "{'error': {'code': 8, 'message': \"openaiproxy.(*ServiceImplementation).processChatCompletionRequest: can't do chat completion - proxy.(*UseCase).ChatCompletion: can't check request - code: <nil>, message: proxy: token limit reached. Limit: 50000 / min. Available: 0 / min. Retry after: 18.076587945s. Reset after: 50.712987959s., param: <nil>, type: proxy_limit_reached\", 'details': [{'@type': 'type.googleapis.com/openaiproxy.v1.ErrorResponse', 'error': {'code': '', 'message': 'proxy: token limit reached. Limit: 50000 / min. Available: 0 / min. Retry after: 18.076587945s. Reset after: 50.712987959s.', 'param': '', 'type': 'proxy_limit_reached', 'critical_data_details': [], 'limit_reached_details': {'type': 'token', 'retry_after': 18.076587945, 'reset_after': 50.712987959}}}, {'@type': 'type.googleapis.com/openaiproxy.v1.StatusCode', 'value': 429}]}}\n",
      "{'error': {'code': 8, 'message': \"openaiproxy.(*ServiceImplementation).processChatCompletionRequest: can't do chat completion - proxy.(*UseCase).ChatCompletion: can't check request - code: <nil>, message: proxy: token limit reached. Limit: 50000 / min. Available: 0 / min. Retry after: 7.905893921s. Reset after: 40.542293936s., param: <nil>, type: proxy_limit_reached\", 'details': [{'@type': 'type.googleapis.com/openaiproxy.v1.ErrorResponse', 'error': {'code': '', 'message': 'proxy: token limit reached. Limit: 50000 / min. Available: 0 / min. Retry after: 7.905893921s. Reset after: 40.542293936s.', 'param': '', 'type': 'proxy_limit_reached', 'critical_data_details': [], 'limit_reached_details': {'type': 'token', 'retry_after': 7.905893921, 'reset_after': 40.542293936}}}, {'@type': 'type.googleapis.com/openaiproxy.v1.StatusCode', 'value': 429}]}}\n"
     ]
    },
    {
     "name": "stderr",
     "output_type": "stream",
     "text": [
      " 86%|████████▋ | 64/74 [25:50<04:24, 26.49s/it]"
     ]
    },
    {
     "name": "stdout",
     "output_type": "stream",
     "text": [
      "для пріема Дамъ. Онъ пріѣхали поздно. Обѣдали въ 6-мъ часу – было -> для пріема дамъ. Они пріѣхали поздно. Обѣдали въ 6мъ часу – было\n",
      "{'error': {'code': 8, 'message': \"openaiproxy.(*ServiceImplementation).processChatCompletionRequest: can't do chat completion - proxy.(*UseCase).ChatCompletion: can't check request - code: <nil>, message: proxy: token limit reached. Limit: 50000 / min. Available: 0 / min. Retry after: 22.563199937s. Reset after: 55.119199931s., param: <nil>, type: proxy_limit_reached\", 'details': [{'@type': 'type.googleapis.com/openaiproxy.v1.ErrorResponse', 'error': {'code': '', 'message': 'proxy: token limit reached. Limit: 50000 / min. Available: 0 / min. Retry after: 22.563199937s. Reset after: 55.119199931s.', 'param': '', 'type': 'proxy_limit_reached', 'critical_data_details': [], 'limit_reached_details': {'type': 'token', 'retry_after': 22.563199937, 'reset_after': 55.119199931}}}, {'@type': 'type.googleapis.com/openaiproxy.v1.StatusCode', 'value': 429}]}}\n",
      "{'error': {'code': 8, 'message': \"openaiproxy.(*ServiceImplementation).processChatCompletionRequest: can't do chat completion - proxy.(*UseCase).ChatCompletion: can't check request - code: <nil>, message: proxy: token limit reached. Limit: 50000 / min. Available: 0 / min. Retry after: 12.391292929s. Reset after: 44.947292923s., param: <nil>, type: proxy_limit_reached\", 'details': [{'@type': 'type.googleapis.com/openaiproxy.v1.ErrorResponse', 'error': {'code': '', 'message': 'proxy: token limit reached. Limit: 50000 / min. Available: 0 / min. Retry after: 12.391292929s. Reset after: 44.947292923s.', 'param': '', 'type': 'proxy_limit_reached', 'critical_data_details': [], 'limit_reached_details': {'type': 'token', 'retry_after': 12.391292929, 'reset_after': 44.947292923}}}, {'@type': 'type.googleapis.com/openaiproxy.v1.StatusCode', 'value': 429}]}}\n",
      "{'error': {'code': 8, 'message': \"openaiproxy.(*ServiceImplementation).processChatCompletionRequest: can't do chat completion - proxy.(*UseCase).ChatCompletion: can't check request - code: <nil>, message: proxy: token limit reached. Limit: 50000 / min. Available: 0 / min. Retry after: 2.164409935s. Reset after: 34.720409929s., param: <nil>, type: proxy_limit_reached\", 'details': [{'@type': 'type.googleapis.com/openaiproxy.v1.ErrorResponse', 'error': {'code': '', 'message': 'proxy: token limit reached. Limit: 50000 / min. Available: 0 / min. Retry after: 2.164409935s. Reset after: 34.720409929s.', 'param': '', 'type': 'proxy_limit_reached', 'critical_data_details': [], 'limit_reached_details': {'type': 'token', 'retry_after': 2.164409935, 'reset_after': 34.720409929}}}, {'@type': 'type.googleapis.com/openaiproxy.v1.StatusCode', 'value': 429}]}}\n"
     ]
    },
    {
     "name": "stderr",
     "output_type": "stream",
     "text": [
      " 88%|████████▊ | 65/74 [26:23<04:14, 28.28s/it]"
     ]
    },
    {
     "name": "stdout",
     "output_type": "stream",
     "text": [
      "довольно весело. – я очно вечено игралъ въ карты. -> довольно весело. – Я очень вѣчеромъ игралъ въ карты.\n",
      "{'error': {'code': 8, 'message': \"openaiproxy.(*ServiceImplementation).processChatCompletionRequest: can't do chat completion - proxy.(*UseCase).ChatCompletion: can't check request - code: <nil>, message: proxy: token limit reached. Limit: 50000 / min. Available: 0 / min. Retry after: 17.624439924s. Reset after: 50.098839938s., param: <nil>, type: proxy_limit_reached\", 'details': [{'@type': 'type.googleapis.com/openaiproxy.v1.ErrorResponse', 'error': {'code': '', 'message': 'proxy: token limit reached. Limit: 50000 / min. Available: 0 / min. Retry after: 17.624439924s. Reset after: 50.098839938s.', 'param': '', 'type': 'proxy_limit_reached', 'critical_data_details': [], 'limit_reached_details': {'type': 'token', 'retry_after': 17.624439924, 'reset_after': 50.098839938}}}, {'@type': 'type.googleapis.com/openaiproxy.v1.StatusCode', 'value': 429}]}}\n",
      "{'error': {'code': 8, 'message': \"openaiproxy.(*ServiceImplementation).processChatCompletionRequest: can't do chat completion - proxy.(*UseCase).ChatCompletion: can't check request - code: <nil>, message: proxy: token limit reached. Limit: 50000 / min. Available: 0 / min. Retry after: 7.433509916s. Reset after: 39.907909929s., param: <nil>, type: proxy_limit_reached\", 'details': [{'@type': 'type.googleapis.com/openaiproxy.v1.ErrorResponse', 'error': {'code': '', 'message': 'proxy: token limit reached. Limit: 50000 / min. Available: 0 / min. Retry after: 7.433509916s. Reset after: 39.907909929s.', 'param': '', 'type': 'proxy_limit_reached', 'critical_data_details': [], 'limit_reached_details': {'type': 'token', 'retry_after': 7.433509916, 'reset_after': 39.907909929}}}, {'@type': 'type.googleapis.com/openaiproxy.v1.StatusCode', 'value': 429}]}}\n"
     ]
    },
    {
     "name": "stderr",
     "output_type": "stream",
     "text": [
      " 89%|████████▉ | 66/74 [26:45<03:31, 26.44s/it]"
     ]
    },
    {
     "name": "stdout",
     "output_type": "stream",
     "text": [
      "нѣтъ я отправилъ семна съ. Въ Тулу Запродать будущаго сахара. -> Нѣтъ, я отправилъ Семёна въ Тулу запродать будущаго сахара.\n",
      "{'error': {'code': 8, 'message': \"openaiproxy.(*ServiceImplementation).processChatCompletionRequest: can't do chat completion - proxy.(*UseCase).ChatCompletion: can't check request - code: <nil>, message: proxy: token limit reached. Limit: 50000 / min. Available: 0 / min. Retry after: 23.08257395s. Reset after: 55.472973942s., param: <nil>, type: proxy_limit_reached\", 'details': [{'@type': 'type.googleapis.com/openaiproxy.v1.ErrorResponse', 'error': {'code': '', 'message': 'proxy: token limit reached. Limit: 50000 / min. Available: 0 / min. Retry after: 23.08257395s. Reset after: 55.472973942s.', 'param': '', 'type': 'proxy_limit_reached', 'critical_data_details': [], 'limit_reached_details': {'type': 'token', 'retry_after': 23.08257395, 'reset_after': 55.472973942}}}, {'@type': 'type.googleapis.com/openaiproxy.v1.StatusCode', 'value': 429}]}}\n",
      "{'error': {'code': 8, 'message': \"openaiproxy.(*ServiceImplementation).processChatCompletionRequest: can't do chat completion - proxy.(*UseCase).ChatCompletion: can't check request - code: <nil>, message: proxy: token limit reached. Limit: 50000 / min. Available: 0 / min. Retry after: 12.925511926s. Reset after: 45.315911918s., param: <nil>, type: proxy_limit_reached\", 'details': [{'@type': 'type.googleapis.com/openaiproxy.v1.ErrorResponse', 'error': {'code': '', 'message': 'proxy: token limit reached. Limit: 50000 / min. Available: 0 / min. Retry after: 12.925511926s. Reset after: 45.315911918s.', 'param': '', 'type': 'proxy_limit_reached', 'critical_data_details': [], 'limit_reached_details': {'type': 'token', 'retry_after': 12.925511926, 'reset_after': 45.315911918}}}, {'@type': 'type.googleapis.com/openaiproxy.v1.StatusCode', 'value': 429}]}}\n",
      "{'error': {'code': 8, 'message': \"openaiproxy.(*ServiceImplementation).processChatCompletionRequest: can't do chat completion - proxy.(*UseCase).ChatCompletion: can't check request - code: <nil>, message: proxy: token limit reached. Limit: 50000 / min. Available: 0 / min. Retry after: 2.763054937s. Reset after: 35.153454929s., param: <nil>, type: proxy_limit_reached\", 'details': [{'@type': 'type.googleapis.com/openaiproxy.v1.ErrorResponse', 'error': {'code': '', 'message': 'proxy: token limit reached. Limit: 50000 / min. Available: 0 / min. Retry after: 2.763054937s. Reset after: 35.153454929s.', 'param': '', 'type': 'proxy_limit_reached', 'critical_data_details': [], 'limit_reached_details': {'type': 'token', 'retry_after': 2.763054937, 'reset_after': 35.153454929}}}, {'@type': 'type.googleapis.com/openaiproxy.v1.StatusCode', 'value': 429}]}}\n"
     ]
    },
    {
     "name": "stderr",
     "output_type": "stream",
     "text": [
      " 91%|█████████ | 67/74 [27:18<03:19, 28.49s/it]"
     ]
    },
    {
     "name": "stdout",
     "output_type": "stream",
     "text": [
      "28е. РаВсталъ рано сполярничалъ. Распимывалъ и отправилъ Выю- -> 28е. Всталъ рано, столярничалъ. Расписывалъ и отправилъ Выю-\n",
      "{'error': {'code': 8, 'message': \"openaiproxy.(*ServiceImplementation).processChatCompletionRequest: can't do chat completion - proxy.(*UseCase).ChatCompletion: can't check request - code: <nil>, message: proxy: token limit reached. Limit: 50000 / min. Available: 0 / min. Retry after: 17.50247395s. Reset after: 49.80527395s., param: <nil>, type: proxy_limit_reached\", 'details': [{'@type': 'type.googleapis.com/openaiproxy.v1.ErrorResponse', 'error': {'code': '', 'message': 'proxy: token limit reached. Limit: 50000 / min. Available: 0 / min. Retry after: 17.50247395s. Reset after: 49.80527395s.', 'param': '', 'type': 'proxy_limit_reached', 'critical_data_details': [], 'limit_reached_details': {'type': 'token', 'retry_after': 17.50247395, 'reset_after': 49.80527395}}}, {'@type': 'type.googleapis.com/openaiproxy.v1.StatusCode', 'value': 429}]}}\n",
      "{'error': {'code': 8, 'message': \"openaiproxy.(*ServiceImplementation).processChatCompletionRequest: can't do chat completion - proxy.(*UseCase).ChatCompletion: can't check request - code: <nil>, message: proxy: token limit reached. Limit: 50000 / min. Available: 0 / min. Retry after: 7.343546926s. Reset after: 39.646346926s., param: <nil>, type: proxy_limit_reached\", 'details': [{'@type': 'type.googleapis.com/openaiproxy.v1.ErrorResponse', 'error': {'code': '', 'message': 'proxy: token limit reached. Limit: 50000 / min. Available: 0 / min. Retry after: 7.343546926s. Reset after: 39.646346926s.', 'param': '', 'type': 'proxy_limit_reached', 'critical_data_details': [], 'limit_reached_details': {'type': 'token', 'retry_after': 7.343546926, 'reset_after': 39.646346926}}}, {'@type': 'type.googleapis.com/openaiproxy.v1.StatusCode', 'value': 429}]}}\n"
     ]
    },
    {
     "name": "stderr",
     "output_type": "stream",
     "text": [
      " 92%|█████████▏| 68/74 [28:06<03:25, 34.33s/it]"
     ]
    },
    {
     "name": "stdout",
     "output_type": "stream",
     "text": [
      "сумскихъ 18 человѣхъ. На обратныхъ пододавъ затробовалъ изъ Москвы -> сумскихъ 18 человѣкъ. На обратныхъ по дорогѣ заехалъ изъ Москвы\n"
     ]
    },
    {
     "name": "stderr",
     "output_type": "stream",
     "text": [
      " 93%|█████████▎| 69/74 [28:08<02:03, 24.73s/it]"
     ]
    },
    {
     "name": "stdout",
     "output_type": "stream",
     "text": [
      "Либили, картинъ, брозу. Естя пзѣ неибудь буду жить ъ оссіи – такъ -> Любилъ картины, бронзу. Если гдѣ-нибудь буду жить въ Россіи – такъ\n",
      "{'error': {'code': 8, 'message': \"openaiproxy.(*ServiceImplementation).processChatCompletionRequest: can't do chat completion - proxy.(*UseCase).ChatCompletion: can't check request - code: <nil>, message: proxy: token limit reached. Limit: 50000 / min. Available: 0 / min. Retry after: 22.874128967s. Reset after: 55.005328953s., param: <nil>, type: proxy_limit_reached\", 'details': [{'@type': 'type.googleapis.com/openaiproxy.v1.ErrorResponse', 'error': {'code': '', 'message': 'proxy: token limit reached. Limit: 50000 / min. Available: 0 / min. Retry after: 22.874128967s. Reset after: 55.005328953s.', 'param': '', 'type': 'proxy_limit_reached', 'critical_data_details': [], 'limit_reached_details': {'type': 'token', 'retry_after': 22.874128967, 'reset_after': 55.005328953}}}, {'@type': 'type.googleapis.com/openaiproxy.v1.StatusCode', 'value': 429}]}}\n",
      "{'error': {'code': 8, 'message': \"openaiproxy.(*ServiceImplementation).processChatCompletionRequest: can't do chat completion - proxy.(*UseCase).ChatCompletion: can't check request - code: <nil>, message: proxy: token limit reached. Limit: 50000 / min. Available: 0 / min. Retry after: 12.705840945s. Reset after: 44.83704093s., param: <nil>, type: proxy_limit_reached\", 'details': [{'@type': 'type.googleapis.com/openaiproxy.v1.ErrorResponse', 'error': {'code': '', 'message': 'proxy: token limit reached. Limit: 50000 / min. Available: 0 / min. Retry after: 12.705840945s. Reset after: 44.83704093s.', 'param': '', 'type': 'proxy_limit_reached', 'critical_data_details': [], 'limit_reached_details': {'type': 'token', 'retry_after': 12.705840945, 'reset_after': 44.83704093}}}, {'@type': 'type.googleapis.com/openaiproxy.v1.StatusCode', 'value': 429}]}}\n",
      "{'error': {'code': 8, 'message': \"openaiproxy.(*ServiceImplementation).processChatCompletionRequest: can't do chat completion - proxy.(*UseCase).ChatCompletion: can't check request - code: <nil>, message: proxy: token limit reached. Limit: 50000 / min. Available: 0 / min. Retry after: 2.525182962s. Reset after: 34.656382948s., param: <nil>, type: proxy_limit_reached\", 'details': [{'@type': 'type.googleapis.com/openaiproxy.v1.ErrorResponse', 'error': {'code': '', 'message': 'proxy: token limit reached. Limit: 50000 / min. Available: 0 / min. Retry after: 2.525182962s. Reset after: 34.656382948s.', 'param': '', 'type': 'proxy_limit_reached', 'critical_data_details': [], 'limit_reached_details': {'type': 'token', 'retry_after': 2.525182962, 'reset_after': 34.656382948}}}, {'@type': 'type.googleapis.com/openaiproxy.v1.StatusCode', 'value': 429}]}}\n"
     ]
    },
    {
     "name": "stderr",
     "output_type": "stream",
     "text": [
      " 95%|█████████▍| 70/74 [28:41<01:48, 27.07s/it]"
     ]
    },
    {
     "name": "stdout",
     "output_type": "stream",
     "text": [
      "это здѣсь – въ кобыликѣ. – -> это здѣсь – въ Кобыликѣ. –\n",
      "{'error': {'code': 8, 'message': \"openaiproxy.(*ServiceImplementation).processChatCompletionRequest: can't do chat completion - proxy.(*UseCase).ChatCompletion: can't check request - code: <nil>, message: proxy: token limit reached. Limit: 50000 / min. Available: 0 / min. Retry after: 18.258970946s. Reset after: 50.326570957s., param: <nil>, type: proxy_limit_reached\", 'details': [{'@type': 'type.googleapis.com/openaiproxy.v1.ErrorResponse', 'error': {'code': '', 'message': 'proxy: token limit reached. Limit: 50000 / min. Available: 0 / min. Retry after: 18.258970946s. Reset after: 50.326570957s.', 'param': '', 'type': 'proxy_limit_reached', 'critical_data_details': [], 'limit_reached_details': {'type': 'token', 'retry_after': 18.258970946, 'reset_after': 50.326570957}}}, {'@type': 'type.googleapis.com/openaiproxy.v1.StatusCode', 'value': 429}]}}\n",
      "{'error': {'code': 8, 'message': \"openaiproxy.(*ServiceImplementation).processChatCompletionRequest: can't do chat completion - proxy.(*UseCase).ChatCompletion: can't check request - code: <nil>, message: proxy: token limit reached. Limit: 50000 / min. Available: 0 / min. Retry after: 8.108226954s. Reset after: 40.175826966s., param: <nil>, type: proxy_limit_reached\", 'details': [{'@type': 'type.googleapis.com/openaiproxy.v1.ErrorResponse', 'error': {'code': '', 'message': 'proxy: token limit reached. Limit: 50000 / min. Available: 0 / min. Retry after: 8.108226954s. Reset after: 40.175826966s.', 'param': '', 'type': 'proxy_limit_reached', 'critical_data_details': [], 'limit_reached_details': {'type': 'token', 'retry_after': 8.108226954, 'reset_after': 40.175826966}}}, {'@type': 'type.googleapis.com/openaiproxy.v1.StatusCode', 'value': 429}]}}\n"
     ]
    },
    {
     "name": "stderr",
     "output_type": "stream",
     "text": [
      " 96%|█████████▌| 71/74 [29:04<01:17, 25.77s/it]"
     ]
    },
    {
     "name": "stdout",
     "output_type": "stream",
     "text": [
      "Замѣчательный раскаръ о помѣщикѣ Малиновскомъ убинномъ его -> Замѣчательный разсказъ о помѣщикѣ Малиновскомъ, убитомъ его\n",
      "{'error': {'code': 8, 'message': \"openaiproxy.(*ServiceImplementation).processChatCompletionRequest: can't do chat completion - proxy.(*UseCase).ChatCompletion: can't check request - code: <nil>, message: proxy: token limit reached. Limit: 50000 / min. Available: 0 / min. Retry after: 23.548316955s. Reset after: 55.54271695s., param: <nil>, type: proxy_limit_reached\", 'details': [{'@type': 'type.googleapis.com/openaiproxy.v1.ErrorResponse', 'error': {'code': '', 'message': 'proxy: token limit reached. Limit: 50000 / min. Available: 0 / min. Retry after: 23.548316955s. Reset after: 55.54271695s.', 'param': '', 'type': 'proxy_limit_reached', 'critical_data_details': [], 'limit_reached_details': {'type': 'token', 'retry_after': 23.548316955, 'reset_after': 55.54271695}}}, {'@type': 'type.googleapis.com/openaiproxy.v1.StatusCode', 'value': 429}]}}\n",
      "{'error': {'code': 8, 'message': \"openaiproxy.(*ServiceImplementation).processChatCompletionRequest: can't do chat completion - proxy.(*UseCase).ChatCompletion: can't check request - code: <nil>, message: proxy: token limit reached. Limit: 50000 / min. Available: 0 / min. Retry after: 13.403260946s. Reset after: 45.39766094s., param: <nil>, type: proxy_limit_reached\", 'details': [{'@type': 'type.googleapis.com/openaiproxy.v1.ErrorResponse', 'error': {'code': '', 'message': 'proxy: token limit reached. Limit: 50000 / min. Available: 0 / min. Retry after: 13.403260946s. Reset after: 45.39766094s.', 'param': '', 'type': 'proxy_limit_reached', 'critical_data_details': [], 'limit_reached_details': {'type': 'token', 'retry_after': 13.403260946, 'reset_after': 45.39766094}}}, {'@type': 'type.googleapis.com/openaiproxy.v1.StatusCode', 'value': 429}]}}\n",
      "{'error': {'code': 8, 'message': \"openaiproxy.(*ServiceImplementation).processChatCompletionRequest: can't do chat completion - proxy.(*UseCase).ChatCompletion: can't check request - code: <nil>, message: proxy: token limit reached. Limit: 50000 / min. Available: 0 / min. Retry after: 3.257197946s. Reset after: 35.25159794s., param: <nil>, type: proxy_limit_reached\", 'details': [{'@type': 'type.googleapis.com/openaiproxy.v1.ErrorResponse', 'error': {'code': '', 'message': 'proxy: token limit reached. Limit: 50000 / min. Available: 0 / min. Retry after: 3.257197946s. Reset after: 35.25159794s.', 'param': '', 'type': 'proxy_limit_reached', 'critical_data_details': [], 'limit_reached_details': {'type': 'token', 'retry_after': 3.257197946, 'reset_after': 35.25159794}}}, {'@type': 'type.googleapis.com/openaiproxy.v1.StatusCode', 'value': 429}]}}\n"
     ]
    },
    {
     "name": "stderr",
     "output_type": "stream",
     "text": [
      " 97%|█████████▋| 72/74 [29:37<00:55, 27.93s/it]"
     ]
    },
    {
     "name": "stdout",
     "output_type": "stream",
     "text": [
      "крестьянами. Какъ замѣшно это было Сильной странно -> крестьянами. Какъ замѣшано это было – сильно странно.\n",
      "{'error': {'code': 8, 'message': \"openaiproxy.(*ServiceImplementation).processChatCompletionRequest: can't do chat completion - proxy.(*UseCase).ChatCompletion: can't check request - code: <nil>, message: proxy: token limit reached. Limit: 50000 / min. Available: 0 / min. Retry after: 18.627260953s. Reset after: 50.54726094s., param: <nil>, type: proxy_limit_reached\", 'details': [{'@type': 'type.googleapis.com/openaiproxy.v1.ErrorResponse', 'error': {'code': '', 'message': 'proxy: token limit reached. Limit: 50000 / min. Available: 0 / min. Retry after: 18.627260953s. Reset after: 50.54726094s.', 'param': '', 'type': 'proxy_limit_reached', 'critical_data_details': [], 'limit_reached_details': {'type': 'token', 'retry_after': 18.627260953, 'reset_after': 50.54726094}}}, {'@type': 'type.googleapis.com/openaiproxy.v1.StatusCode', 'value': 429}]}}\n",
      "{'error': {'code': 8, 'message': \"openaiproxy.(*ServiceImplementation).processChatCompletionRequest: can't do chat completion - proxy.(*UseCase).ChatCompletion: can't check request - code: <nil>, message: proxy: token limit reached. Limit: 50000 / min. Available: 0 / min. Retry after: 8.469367951s. Reset after: 40.389367938s., param: <nil>, type: proxy_limit_reached\", 'details': [{'@type': 'type.googleapis.com/openaiproxy.v1.ErrorResponse', 'error': {'code': '', 'message': 'proxy: token limit reached. Limit: 50000 / min. Available: 0 / min. Retry after: 8.469367951s. Reset after: 40.389367938s.', 'param': '', 'type': 'proxy_limit_reached', 'critical_data_details': [], 'limit_reached_details': {'type': 'token', 'retry_after': 8.469367951, 'reset_after': 40.389367938}}}, {'@type': 'type.googleapis.com/openaiproxy.v1.StatusCode', 'value': 429}]}}\n"
     ]
    },
    {
     "name": "stderr",
     "output_type": "stream",
     "text": [
      " 99%|█████████▊| 73/74 [29:59<00:26, 26.37s/it]"
     ]
    },
    {
     "name": "stdout",
     "output_type": "stream",
     "text": [
      "онъ довста Крестьямъ до большаго благю состоянія и богат- -> онъ довёлъ крестьянъ до большого благосостоянія и богат-\n",
      "{'error': {'code': 8, 'message': \"openaiproxy.(*ServiceImplementation).processChatCompletionRequest: can't do chat completion - proxy.(*UseCase).ChatCompletion: can't check request - code: <nil>, message: proxy: token limit reached. Limit: 50000 / min. Available: 0 / min. Retry after: 24.084764957s. Reset after: 55.927964955s., param: <nil>, type: proxy_limit_reached\", 'details': [{'@type': 'type.googleapis.com/openaiproxy.v1.ErrorResponse', 'error': {'code': '', 'message': 'proxy: token limit reached. Limit: 50000 / min. Available: 0 / min. Retry after: 24.084764957s. Reset after: 55.927964955s.', 'param': '', 'type': 'proxy_limit_reached', 'critical_data_details': [], 'limit_reached_details': {'type': 'token', 'retry_after': 24.084764957, 'reset_after': 55.927964955}}}, {'@type': 'type.googleapis.com/openaiproxy.v1.StatusCode', 'value': 429}]}}\n",
      "{'error': {'code': 8, 'message': \"openaiproxy.(*ServiceImplementation).processChatCompletionRequest: can't do chat completion - proxy.(*UseCase).ChatCompletion: can't check request - code: <nil>, message: proxy: token limit reached. Limit: 50000 / min. Available: 0 / min. Retry after: 13.934027969s. Reset after: 45.777227967s., param: <nil>, type: proxy_limit_reached\", 'details': [{'@type': 'type.googleapis.com/openaiproxy.v1.ErrorResponse', 'error': {'code': '', 'message': 'proxy: token limit reached. Limit: 50000 / min. Available: 0 / min. Retry after: 13.934027969s. Reset after: 45.777227967s.', 'param': '', 'type': 'proxy_limit_reached', 'critical_data_details': [], 'limit_reached_details': {'type': 'token', 'retry_after': 13.934027969, 'reset_after': 45.777227967}}}, {'@type': 'type.googleapis.com/openaiproxy.v1.StatusCode', 'value': 429}]}}\n",
      "{'error': {'code': 8, 'message': \"openaiproxy.(*ServiceImplementation).processChatCompletionRequest: can't do chat completion - proxy.(*UseCase).ChatCompletion: can't check request - code: <nil>, message: proxy: token limit reached. Limit: 50000 / min. Available: 0 / min. Retry after: 3.765567958s. Reset after: 35.608767956s., param: <nil>, type: proxy_limit_reached\", 'details': [{'@type': 'type.googleapis.com/openaiproxy.v1.ErrorResponse', 'error': {'code': '', 'message': 'proxy: token limit reached. Limit: 50000 / min. Available: 0 / min. Retry after: 3.765567958s. Reset after: 35.608767956s.', 'param': '', 'type': 'proxy_limit_reached', 'critical_data_details': [], 'limit_reached_details': {'type': 'token', 'retry_after': 3.765567958, 'reset_after': 35.608767956}}}, {'@type': 'type.googleapis.com/openaiproxy.v1.StatusCode', 'value': 429}]}}\n"
     ]
    },
    {
     "name": "stderr",
     "output_type": "stream",
     "text": [
      "100%|██████████| 74/74 [30:33<00:00, 24.77s/it]"
     ]
    },
    {
     "name": "stdout",
     "output_type": "stream",
     "text": [
      "ства, получилъ имѣніе разоренное и кресетьясъ протившотя – -> ства, получилъ имѣніе разоренное, и крестьяне восстали противъ него –\n"
     ]
    },
    {
     "name": "stderr",
     "output_type": "stream",
     "text": [
      "\n"
     ]
    }
   ],
   "source": [
    "corrected_test_lines = get_correction_v3(eval_test[\"str_preds\"], system_prompt=system_prompt, print_errors=True, print_correction=True)"
   ]
  },
  {
   "cell_type": "code",
   "execution_count": 54,
   "metadata": {
    "scrolled": true
   },
   "outputs": [
    {
     "name": "stdout",
     "output_type": "stream",
     "text": [
      "CER до GPT:     0.159323\n",
      "CER после GPT:  0.158739\n",
      "WER до GPT:     0.506419\n",
      "WER после GPT:  0.383738\n",
      "\n",
      "Model:   Рябикова (cer = 11.11%)\n",
      "ChatGPT: Рябикова (cer = 11.11%)\n",
      "Human:   Рябчикова\n",
      "\n",
      "Model:   Онъ де жилъ въ раборникахъ, у купца, у кралъ, что-т (cer = 14.00%)\n",
      "ChatGPT: Онъ, дескать, жилъ въ работникахъ, у купца, укралъ что-то. (cer = 22.00%)\n",
      "Human:   Онъ де жилъ въ работникахъ у купца ; укралъ что-то\n",
      "\n",
      "Model:   и тотъ удорилъ его палькою по головѣ отъ чего у нем (cer = 16.00%)\n",
      "ChatGPT: и тотъ ударилъ его палкою по головѣ, отъ чего у него (cer = 6.00%)\n",
      "Human:   и тотъ ударилъ его палкою по головѣ, отчаго у него\n",
      "\n",
      "Model:   и сдѣлалась рудето бѣлая горяька. Обратясеь къ Губер- (cer = 9.80%)\n",
      "ChatGPT: и сдѣлалась, вроде, бѣлая горячка. Обратился къ Губер- (cer = 19.61%)\n",
      "Human:   и сдѣлалась будто бѣлая горячка. Обратясь къ губер-\n",
      "\n",
      "Model:   наторуг. В- р росодъ въ, t ріscсe l.1. cлумаюсь. (cer = 58.70%)\n",
      "ChatGPT: Губернатору. Въ разсудокъ въ Tрясце... Сомневаюсь. (cer = 76.09%)\n",
      "Human:   натору: В – f! Prens-le, pince-le! – Слушаюсь.\n",
      "\n",
      "Model:   Болѣе никакихъ разпоряженій и не было сцѣлано.– Вороемъ (cer = 10.71%)\n",
      "ChatGPT: Болѣе никакихъ разпоряженій и не было сдѣлано. – Вороемъ (cer = 10.71%)\n",
      "Human:   Болѣе никакихъ распоряженій и не было сдѣлано. Впрочемъ,\n",
      "\n",
      "Model:   и часовые возвратижинь на преженія мѣста – ибо (cer = 8.89%)\n",
      "ChatGPT: и часовые возвращены на прежнія мѣста – ибо (cer = 15.56%)\n",
      "Human:   и часовые возвратились на прежніе мѣста – ибо\n",
      "\n",
      "Model:   въ прочимѣномъ слугаѣ и острожные остались бы безъ (cer = 8.16%)\n",
      "ChatGPT: въ противномъ случаѣ и острожные остались бы безъ (cer = 0.00%)\n",
      "Human:   въ противномъ случаѣ и острожные остались бы безъ\n",
      "\n",
      "Model:   всякаго каркува. (cer = 12.50%)\n",
      "ChatGPT: всякаго надзора. (cer = 31.25%)\n",
      "Human:   всякаго караула.\n",
      "\n",
      "Model:   Вечеромъ литалъ піэссу – ядѣ чрезвыайно (cer = 7.32%)\n",
      "ChatGPT: Вечеромъ читалъ піэссу – я дѣйствительно чрезвычайно (cer = 31.71%)\n",
      "Human:   Вечеромъ читалъ піэссу – Дядѣ чрезвычайно\n",
      "\n",
      "Model:   понравилась. – беккаеру также. (cer = 10.71%)\n",
      "ChatGPT: понравилась. – Беккеру также. (cer = 3.57%)\n",
      "Human:   понравилась – Беккеру также.\n",
      "\n",
      "Model:   10-х. утромъ выѣхалъ въ алексяевское. Почевалъ въ (cer = 10.20%)\n",
      "ChatGPT: 10х. Утромъ выѣхалъ въ алексяевское. Ночевалъ въ (cer = 12.24%)\n",
      "Human:   10-го утромъ выѣхалъ въ Алексеевское. Ночевалъ въ\n",
      "\n",
      "Model:   1856. годъ. Ман. (cer = 21.43%)\n",
      "ChatGPT: 1856. годъ. Мартъ. (cer = 35.71%)\n",
      "Human:   1856 годъ. Май\n",
      "\n",
      "Model:   21 22. 23-е. 24. 25. 26е. Въ Воскресенскомъ. Хлопо- (cer = 3.92%)\n",
      "ChatGPT: 21, 22, 23е, 24, 25, 26е. Въ Воскресенскомъ. Хлопо- (cer = 9.80%)\n",
      "Human:   21. 22. 23е. 24. 25. 26е. Въ Воскресенскомъ. Хлопо-\n",
      "\n",
      "Model:   25-го. Пустилъ Заводъ. Вечеромъ пріѣхалъ Ѳедоръ изъ (cer = 6.12%)\n",
      "ChatGPT: 25го. Пустилъ Заводъ. Вечеромъ пріѣхалъ Ѳедоръ изъ (cer = 4.08%)\n",
      "Human:   25е. Пустилъ Заводъ. Вечеромъ пріѣхалъ Ѳедоръ изъ\n",
      "\n",
      "Model:   Степной – тамъ въ сё надышается. Въ Воскресенскомъ (cer = 16.33%)\n",
      "ChatGPT: Степной – тамъ всѣ надышались. Въ Воскресенскомъ (cer = 20.41%)\n",
      "Human:   Степной - тамъ всё подвигается. Въ Воскресенскомъ\n",
      "\n",
      "Model:   съ февраля поступилъ и управляетъ Зерутъ. (cer = 2.44%)\n",
      "ChatGPT: съ февраля поступилъ и управляетъ Зерновъ. (cer = 7.32%)\n",
      "Human:   съ февраля поступилъ и управляетъ Зерунъ.\n",
      "\n",
      "Model:   Ушею идетъ давольно хорошо. Садку сдѣлалъ по (cer = 10.87%)\n",
      "ChatGPT: Печь идетъ довольно хорошо. Садку сдѣлалъ по (cer = 10.87%)\n",
      "Human:   У него идетъ довольно хорошо. Садку сдѣлалъ по\n",
      "\n",
      "Model:   правой Сторолѣ парка отве дома къ Ренѣ. Около (cer = 15.91%)\n",
      "ChatGPT: правой сторонѣ парка отъ дома къ рѣкѣ. Около (cer = 0.00%)\n",
      "Human:   правой сторонѣ парка отъ дома къ рѣкѣ. Около\n",
      "\n",
      "Model:   Дома проводить піэссе. Ставили при мнѣ Шум- (cer = 14.29%)\n",
      "ChatGPT: Дома проводили піэссу. Ставили при мнѣ Шум- (cer = 19.05%)\n",
      "Human:   дома проводитъ шоссе. Ставили при мнѣ тум-\n",
      "\n",
      "Model:   бы отъдома къ Коноинѣ. (cer = 17.39%)\n",
      "ChatGPT: бы отъ дома къ Кононѣ. (cer = 13.04%)\n",
      "Human:   бы отъ дома къ конюшнѣ.\n",
      "\n",
      "Model:   27-го по утру выѣхалъ въ Москву. Послалъ за (cer = 9.52%)\n",
      "ChatGPT: 27го по утру выѣхалъ въ Москву. Послалъ за (cer = 7.14%)\n",
      "Human:   27е. По утру выѣхалъ въ Москву. Послалъ за\n",
      "\n",
      "Model:   Ковскимь, который – явился съ предноженіемъ отъ (cer = 8.89%)\n",
      "ChatGPT: Ковскимъ, который явился съ предписаніемъ отъ (cer = 8.89%)\n",
      "Human:   Ковскимъ, который явился съ предложеніемъ отъ\n",
      "\n",
      "Model:   ивана тепелева о тирѣ. Самсонъ отѣдѣжанію (cer = 21.95%)\n",
      "ChatGPT: Ивана Тепелева о тирѣ. Самсонъ отъ задержанія (cer = 24.39%)\n",
      "Human:   Ивана Шепелева о мирѣ. Самсонъ отъѣзжаетъ\n",
      "\n",
      "Model:   съ Ревель. Купилъ ему серебряныхъ вещій на 180 р. (cer = 8.16%)\n",
      "ChatGPT: съ Ревеля. Купилъ ему серебряныхъ вещей на 180 р. (cer = 8.16%)\n",
      "Human:   въ Ревель, купилъ ему серебряныхъ вещей на 180 р.\n",
      "\n",
      "Model:   сереу Сазикова. Отдалъ Кубокъ дня парѣука (cer = 20.45%)\n",
      "ChatGPT: сереу Сазикова. Отдалъ кубокъ для парѣнка. (cer = 18.18%)\n",
      "Human:   сереб. у Садикова. Отдалъ кубокъ для нарѣзки\n",
      "\n",
      "Model:   падпия Самой лову. Надить (cer = 25.93%)\n",
      "ChatGPT: подпись Самойлова. Надпись (cer = 18.52%)\n",
      "Human:   надписи Самойлову. Надпись:\n",
      "\n",
      "Model:   Да снасеніе почибавшихъ – толанину В. В. (cer = 21.05%)\n",
      "ChatGPT: Да спасеніе погибшихъ – Толстому В. В. (cer = 28.95%)\n",
      "Human:   За Спасеніе погибавшихъ – таланту В.В.\n",
      "\n",
      "Model:   Самояло ва презнательные А.В. Сухово.– Ко- (cer = 15.38%)\n",
      "ChatGPT: Самойлова. Признательные А. В. Сухово-Ко- (cer = 7.69%)\n",
      "Human:   Самойлова признательные А.В. Сухово-Ко-\n",
      "\n",
      "Model:   28-е. Сборъ на Выксу. Проицаные съ Самсономъ. (cer = 11.63%)\n",
      "ChatGPT: 28е. Сборъ на Выксу. Прощанье съ Самсономъ. (cer = 4.65%)\n",
      "Human:   28е. Сборы на Выксу. Прощаніе съ Самсономъ.\n",
      "\n",
      "Model:   продалъ d пудъ патоки но 180 к. сереб. и n.р. ереб. (cer = 27.59%)\n",
      "ChatGPT: продалъ 2 пуда патоки по 180 к. сереб. и 1 р. сереб. (cer = 22.41%)\n",
      "Human:   Продалъ 1 т. пудов патоки по 1.80 к. сер. и 1 т. р. сереб.\n",
      "\n",
      "Model:   вшесъ Рертеру въ упламу за аппараты Къ сахар (cer = 14.89%)\n",
      "ChatGPT: внёсъ Рейтеру въ уплату за аппараты къ сахару. (cer = 12.77%)\n",
      "Human:   внесъ Ферстеру въ уплату за аппараты къ сахаръ-\n",
      "\n",
      "Model:   пошу Заводу. Вечеромъ выкѣхалъ на Выку. (cer = 10.26%)\n",
      "ChatGPT: пошёл къ Заводу. Вечеромъ выѣхалъ на Выксу. (cer = 17.95%)\n",
      "Human:   ному Заводу. Вечеромъ выѣхалъ на Выксу.\n",
      "\n",
      "Model:   29-е. Въ дорогъ. Хвгодно. простудился. Встрѣча въ Вса- (cer = 11.32%)\n",
      "ChatGPT: 29е. Въ дорогѣ. Холодно, простудился. Встрѣча въ Выксе. (cer = 13.21%)\n",
      "Human:   29е. Въ дорогѣ. Холодно. Простудился. Встрѣча въ Вла-\n",
      "\n",
      "Model:   дурвіерѣ со какимъ отолченскимъ офицеромъ (cer = 17.50%)\n",
      "ChatGPT: въ дилижансе съ какимъ отставнымъ офицеромъ (cer = 47.50%)\n",
      "Human:   димірѣ съ какимъ ополченскимъ офицеромъ.\n",
      "\n",
      "Model:   Понулярность и всеобщал извѣстностъ кречинского (cer = 10.42%)\n",
      "ChatGPT: Популярность и всеобщая извѣстность Кречинскаго (cer = 4.17%)\n",
      "Human:   Популярность и всеобщая извѣстность Кречинского.\n",
      "\n",
      "Model:   Его ужа играли вовсей Россіи. Успѣхъ одинъ вездѣ (cer = 11.76%)\n",
      "ChatGPT: Его уже играли по всей Россіи. Успѣхъ одинъ вездѣ. (cer = 7.84%)\n",
      "Human:   Его уже играютъ во всей Россіи. Успѣхъ одинъ вездѣ.\n",
      "\n",
      "Model:   30-е. въ 11 часовъ утра никемъ неожиданный пріѣ. (cer = 10.87%)\n",
      "ChatGPT: 30е. Въ 11 часовъ утра, никемъ неожиданный, пріѣхалъ. (cer = 23.91%)\n",
      "Human:   30е въ 11 часовъ утра никѣмъ неожиданный пріе-\n",
      "\n",
      "Model:   халъ на Выксу – отцъ былъ радъ онъ постарѣлъ (cer = 6.52%)\n",
      "ChatGPT: на Выксу – отецъ былъ радъ, онъ постарѣлъ. (cer = 15.22%)\n",
      "Human:   халъ на Выксу - отецъ былъ радъ, онъ постарѣлъ\n",
      "\n",
      "Model:   нѣсколько потолстѣлъ и въ голось замѣжна перемѣла (cer = 27.27%)\n",
      "ChatGPT: нѣсколько потолстѣлъ и въ голосѣ замѣтна перемѣна. (cer = 25.45%)\n",
      "Human:   нѣсколько потолстѣлъ и въ голосѣ нѣсколько перемѣнился,\n",
      "\n",
      "Model:   нѣтъ твердости. На Выксѣ сесенра соловая, Честр (cer = 21.28%)\n",
      "ChatGPT: нѣтъ твердости. На Выксѣ сестра Соловая, Честер. (cer = 19.15%)\n",
      "Human:   нѣтъ твердости. На Выксѣ сосѣди Соловые, сестра\n",
      "\n",
      "Model:   Сальясъ, Ина. Тетлевъ и я леховскій. Николай (cer = 22.73%)\n",
      "ChatGPT: Сальясъ, Ина, Тетлевъ и я, Ляховскій. Николай (cer = 27.27%)\n",
      "Human:   Сальясъ, Ник. Шепелевъ и Дмоховскій. Николай\n",
      "\n",
      "Model:   Го0нь 1-е. Рано утромъ съ Соринымъ выѣхалъ на словодь. (cer = 16.98%)\n",
      "ChatGPT: Апрѣль 1е. Рано утромъ съ Соринымъ выѣхалъ на Ставецъ. (cer = 16.98%)\n",
      "Human:   Іюнь. 1е. Рано утромъ съ Соринымъ выѣхалъ на Снаведь.\n",
      "\n",
      "Model:   Квгупть, 3-го. Уѣхалъ вълетербургъ. ибо дѣло принаяло дурго (cer = 18.97%)\n",
      "ChatGPT: Купчѣ, 3го. Уѣхалъ въ Петербургъ, ибо дѣло приняло дурной (cer = 12.07%)\n",
      "Human:   Августъ 3го. Уѣхалъ въ Петербургъ, ибо дѣло приняло дурной\n",
      "\n",
      "Model:   оборому въ Мичо л0етъ. Натало тяжелсъ время. Саезыгаколо (cer = 36.21%)\n",
      "ChatGPT: оборотъ въ Мичуринскъ. Началось тяжёлое время. Съезжалось много (cer = 41.38%)\n",
      "Human:   оборотъ въ Мин. Юст. Настало тяжелое время. Связь съ Голи-\n",
      "\n",
      "Model:   крѣпокъ. Ходилъ нѣсколько разъ Греть на годку. –и (cer = 12.00%)\n",
      "ChatGPT: крѣпокъ. Ходилъ нѣсколько разъ грести на лодку. – И (cer = 8.00%)\n",
      "Human:   крѣпокъ. Ходилъ нѣсколько разъ гресть на лодку - и\n",
      "\n",
      "Model:   купался въ шилѣ до паловимы Авгста. (cer = 25.00%)\n",
      "ChatGPT: купался въ Шилѣ до половины Августа. (cer = 16.67%)\n",
      "Human:   купался въ Невѣ съ половины августа.\n",
      "\n",
      "Model:   Cентябрь. Въ Петербургѣ. Подалъ занику М. фов о (cer = 10.20%)\n",
      "ChatGPT: Сентябрь. Въ Петербургѣ. Подалъ записку М. Фов. о (cer = 8.16%)\n",
      "Human:   Сентябрь. Въ Петербургѣ. Подалъ записку м. ф-ов о\n",
      "\n",
      "Model:   предирняніи въ 1ож. Россіи. Отравили на Выксу и (cer = 20.83%)\n",
      "ChatGPT: предпріятіи въ Лож. Россіи. Отправили на Выксу и (cer = 14.58%)\n",
      "Human:   предпрiятiи въ Юж. Россiи. Отправился на Выксу и\n",
      "\n",
      "Model:   заключилъ условіе съ кик. Иетя. Пріѣхалъ обратна (cer = 18.75%)\n",
      "ChatGPT: заключилъ условіе съ кн. Иетя. Пріѣхалъ обратно. (cer = 22.92%)\n",
      "Human:   заключилъ условие с Ник. Шепел. Прiѣхалъ обратно\n",
      "\n",
      "Model:   въ Петербуркъ. 13-го поябръя. Сововые свня и машавовъ (cer = 31.48%)\n",
      "ChatGPT: въ Петербуркъ. 13-го ноября. Соловьевы, Свиньи и Машановъ. (cer = 33.33%)\n",
      "Human:   въ Петербургъ 13го ноября. Соловые. Соня и Маменька въ\n",
      "\n",
      "Model:   Петербургъ. Жезнь въ костицѣ Денедола. Постолно (cer = 26.92%)\n",
      "ChatGPT: Петербургъ. Жизнь въ квартирѣ Денедола. Постоянно (cer = 32.69%)\n",
      "Human:   Петербургѣ. Жизнь въ гостиницѣ Демидова. Постановилъ\n",
      "\n",
      "Model:   ходилъ въ Дероту по утрамъ. Окочилъ 2-ой и 3-те акть. (cer = 21.15%)\n",
      "ChatGPT: ходилъ въ Дероту по утрамъ. Окончилъ 2-ой и 3-й актъ. (cer = 13.46%)\n",
      "Human:   ходить къ Депону по утрамъ. Окончилъ 2ой и 3iй актъ.\n",
      "\n",
      "Model:   1дѣло въ гогуд. Совѣтѣ. бръ Торги на встовые (cer = 25.00%)\n",
      "ChatGPT: Дѣло въ Город. Совѣтѣ. Были торги на въъстовые. (cer = 31.25%)\n",
      "Human:   Дѣло въ Госуд. Советѣ. Декабрь Торги на винтовые\n",
      "\n",
      "Model:   Корали. Конывъ и Шульмъ въ Петербургѣ. Декабрь (cer = 17.65%)\n",
      "ChatGPT: Корали, Коновъ и Шульмъ въ Петербургѣ. Декабрь (cer = 19.61%)\n",
      "Human:   корабли. Копьевъ и Шульгинъ въ Петербургѣ. Декабрь.\n",
      "\n",
      "Model:   Возвратся въ Москву. (cer = 9.09%)\n",
      "ChatGPT: Возвратился въ Москву. (cer = 0.00%)\n",
      "Human:   Возвратился въ Москву.\n",
      "\n",
      "Model:   1854 годъ. Новый годъ нажелной дорогѣ. Былъ въ оскре- (cer = 8.93%)\n",
      "ChatGPT: 1854 годъ. Новый годъ на желѣзной дорогѣ. Былъ въ оскре- (cer = 3.57%)\n",
      "Human:   1854 годъ. Новый годъ на желѣзной дорогѣ. Былъ в Воскре-\n",
      "\n",
      "Model:   снискомъ. 15 числа выѣхалъ на Выку. Амнtt Гол. (cer = 17.02%)\n",
      "ChatGPT: снѣжкомъ. 15 числа выѣхалъ на Выксу. Антонъ Гол. (cer = 21.28%)\n",
      "Human:   сенскомъ. 15 числа выѣхал на Выксу. Anette Гол.\n",
      "\n",
      "Model:   Піэсса, читалась въ успѣхомъ. Въ феврагѣ (cer = 15.38%)\n",
      "ChatGPT: Піэсса читалась съ успѣхомъ. Въ февралѣ (cer = 7.69%)\n",
      "Human:   Пьесса читалась съ успехомъ. Въ февралѣ\n",
      "\n",
      "Model:   должъ былъ ѣхать въ Москву по полоду начавшаеттъ, (cer = 19.23%)\n",
      "ChatGPT: долженъ былъ ѣхать въ Москву по поводу начавшагося, (cer = 5.77%)\n",
      "Human:   долженъ былъ выѣхать въ Москву по поводу начавшагося\n",
      "\n",
      "Model:   слѣзмвія. Ѣяздилъ на нѣсколько дей въ Петербургъ. (cer = 14.29%)\n",
      "ChatGPT: слѣдствія. Ѣздилъ на нѣсколько дней въ Петербургъ. (cer = 4.08%)\n",
      "Human:   слѣдствiя. Ѣздилъ на нѣсколько дней в Петербургъ.\n",
      "\n",
      "Model:   Иатупалъ охогиминыихъ вещю чтобы охотится. (cer = 29.55%)\n",
      "ChatGPT: Закупалъ охотничьихъ вещей, чтобы охотиться. (cer = 6.82%)\n",
      "Human:   Покупалъ охотничьихѣ вещей, чтобы охотиться.\n",
      "\n",
      "Model:   2-го Маретъ на тервой недѣли воротилси въ Москву. (cer = 19.15%)\n",
      "ChatGPT: 2-го марта, на первой недѣлѣ, воротился въ Москву. (cer = 10.64%)\n",
      "Human:   1гo марта на первой недѣлѣ воротился въ Москву.\n",
      "\n",
      "Model:   для пріема Дамъ. Онъ пріѣхали поздно. Обѣдали въ 6-мъ часу – было (cer = 4.69%)\n",
      "ChatGPT: для пріема дамъ. Они пріѣхали поздно. Обѣдали въ 6мъ часу – было (cer = 1.56%)\n",
      "Human:   для пріема дамъ. Онѣ пріѣхали поздно. Обѣдали въ 6мъ часу – было\n",
      "\n",
      "Model:   довольно весело. – я очно вечено игралъ въ карты. (cer = 13.46%)\n",
      "ChatGPT: довольно весело. – Я очень вѣчеромъ игралъ въ карты. (cer = 13.46%)\n",
      "Human:   довольно весело. – Я очень весело игралъ въ карты. –\n",
      "\n",
      "Model:   нѣтъ я отправилъ семна съ. Въ Тулу Запродать будущаго сахара. (cer = 12.70%)\n",
      "ChatGPT: Нѣтъ, я отправилъ Семёна въ Тулу запродать будущаго сахара. (cer = 12.70%)\n",
      "Human:   нѣтъ. Я отправилъ Семена Ив. въ Тулу запродать будущаго сахара.\n",
      "\n",
      "Model:   28е. РаВсталъ рано сполярничалъ. Распимывалъ и отправилъ Выю- (cer = 14.75%)\n",
      "ChatGPT: 28е. Всталъ рано, столярничалъ. Расписывалъ и отправилъ Выю- (cer = 9.84%)\n",
      "Human:   28е. Всталъ рано. Столярничалъ. Разсчитывалъ и отправилъ Вык-\n",
      "\n",
      "Model:   сумскихъ 18 человѣхъ. На обратныхъ пододавъ затробовалъ изъ Москвы (cer = 7.46%)\n",
      "ChatGPT: сумскихъ 18 человѣкъ. На обратныхъ по дорогѣ заехалъ изъ Москвы (cer = 17.91%)\n",
      "Human:   сунскихъ 18 человѣкъ. На обратныхъ подводахъ затребовалъ изъ Москвы\n",
      "\n",
      "Model:   Либили, картинъ, брозу. Естя пзѣ неибудь буду жить ъ оссіи – такъ (cer = 21.74%)\n",
      "ChatGPT: Любилъ картины, бронзу. Если гдѣ-нибудь буду жить въ Россіи – такъ (cer = 10.14%)\n",
      "Human:   мебель, картины, бронзу. Если я гдѣ-нибудь буду жить въ Россіи – такъ\n",
      "\n",
      "Model:   это здѣсь – въ кобыликѣ. – (cer = 16.00%)\n",
      "ChatGPT: это здѣсь – въ Кобыликѣ. – (cer = 12.00%)\n",
      "Human:   это здѣсь – въ Кобылинкѣ.\n",
      "\n",
      "Model:   Замѣчательный раскаръ о помѣщикѣ Малиновскомъ убинномъ его (cer = 6.90%)\n",
      "ChatGPT: Замѣчательный разсказъ о помѣщикѣ Малиновскомъ, убитомъ его (cer = 1.72%)\n",
      "Human:   Замѣчательный расказъ о помѣщикѣ Малиновскомъ, убитомъ его\n",
      "\n",
      "Model:   крестьянами. Какъ замѣшно это было Сильной странно (cer = 13.73%)\n",
      "ChatGPT: крестьянами. Какъ замѣшано это было – сильно странно. (cer = 19.61%)\n",
      "Human:   крестьянами. Какъ замѣтно это была сильная, страшно\n",
      "\n",
      "Model:   онъ довста Крестьямъ до большаго благю состоянія и богат- (cer = 14.29%)\n",
      "ChatGPT: онъ довёлъ крестьянъ до большого благосостоянія и богат- (cer = 1.79%)\n",
      "Human:   онъ довелъ крестьянъ до большого благосостоянія и богат-\n",
      "\n",
      "Model:   ства, получилъ имѣніе разоренное и кресетьясъ протившотя – (cer = 15.79%)\n",
      "ChatGPT: ства, получилъ имѣніе разоренное, и крестьяне восстали противъ него – (cer = 36.84%)\n",
      "Human:   ства, получивъ имѣніе разоренное и крестьянъ прожившихся.\n",
      "\n"
     ]
    }
   ],
   "source": [
    "# отдельные строки как примеры, учитываем историю, после паддинга + учитываем train (pred -> gt)\n",
    "\n",
    "print(f\"CER до GPT:    {eval_test[\"cer\"]: .6f}\")\n",
    "print(f\"CER после GPT: {calc_cer_from_list(eval_test[\"str_gt\"], corrected_test_lines) : .6f}\")\n",
    "print(f\"WER до GPT:    {eval_test[\"wer\"]: .6f}\")\n",
    "print(f\"WER после GPT: {calc_wer_from_list(eval_test[\"str_gt\"], corrected_test_lines) : .6f}\")\n",
    "print()\n",
    "\n",
    "for model_line, corrected_line, human_line in zip(eval_test[\"str_preds\"], corrected_test_lines, eval_test[\"str_gt\"], strict=True):\n",
    "    model_cer = editdistance.eval(model_line, human_line) / len(human_line)\n",
    "    gpt_cer = editdistance.eval(corrected_line, human_line) / len(human_line)\n",
    "    print(f\"Model:   {model_line} (cer = {model_cer * 100:.2f}%)\")\n",
    "    print(f\"ChatGPT: {corrected_line} (cer = {gpt_cer * 100:.2f}%)\")\n",
    "    print(f\"Human:   {human_line}\")\n",
    "    print()"
   ]
  },
  {
   "cell_type": "code",
   "execution_count": null,
   "metadata": {
    "scrolled": true
   },
   "outputs": [
    {
     "name": "stdout",
     "output_type": "stream",
     "text": [
      "CER до GPT:     0.159323\n",
      "CER после GPT:  0.156405\n",
      "WER до GPT:     0.506419\n",
      "WER после GPT:  0.366619\n",
      "\n",
      "Model:   Рябикова (cer = 11.11%)\n",
      "ChatGPT: Рябикова -> Рябиникова (cer = 155.56%)\n",
      "Human:   Рябчикова\n",
      "\n",
      "Model:   Онъ де жилъ въ раборникахъ, у купца, у кралъ, что-т (cer = 14.00%)\n",
      "ChatGPT: Онъ, дескать, жилъ въ работникахъ, у купца, укралъ что-то. (cer = 22.00%)\n",
      "Human:   Онъ де жилъ въ работникахъ у купца ; укралъ что-то\n",
      "\n",
      "Model:   и тотъ удорилъ его палькою по головѣ отъ чего у нем (cer = 16.00%)\n",
      "ChatGPT: и тотъ ударилъ его палкою по головѣ, отъ чего у него (cer = 6.00%)\n",
      "Human:   и тотъ ударилъ его палкою по головѣ, отчаго у него\n",
      "\n",
      "Model:   и сдѣлалась рудето бѣлая горяька. Обратясеь къ Губер- (cer = 9.80%)\n",
      "ChatGPT: и сдѣлалась, говорятъ, бѣлая горячка. Обратилсяъ къ Губер- (cer = 27.45%)\n",
      "Human:   и сдѣлалась будто бѣлая горячка. Обратясь къ губер-\n",
      "\n",
      "Model:   наторуг. В- р росодъ въ, t ріscсe l.1. cлумаюсь. (cer = 58.70%)\n",
      "ChatGPT: губернатору. Въ разговорѣ въ тюрьмѣ, сломался. (cer = 78.26%)\n",
      "Human:   натору: В – f! Prens-le, pince-le! – Слушаюсь.\n",
      "\n",
      "Model:   Болѣе никакихъ разпоряженій и не было сцѣлано.– Вороемъ (cer = 10.71%)\n",
      "ChatGPT: Болѣе никакихъ распоряженій и не было сдѣлано. – Вороемъ (cer = 8.93%)\n",
      "Human:   Болѣе никакихъ распоряженій и не было сдѣлано. Впрочемъ,\n",
      "\n",
      "Model:   и часовые возвратижинь на преженія мѣста – ибо (cer = 8.89%)\n",
      "ChatGPT: и часовые возвращены на прежнія мѣста – ибо (cer = 15.56%)\n",
      "Human:   и часовые возвратились на прежніе мѣста – ибо\n",
      "\n",
      "Model:   въ прочимѣномъ слугаѣ и острожные остались бы безъ (cer = 8.16%)\n",
      "ChatGPT: въ противномъ случаѣ и острожные остались бы безъ (cer = 0.00%)\n",
      "Human:   въ противномъ случаѣ и острожные остались бы безъ\n",
      "\n",
      "Model:   всякаго каркува. (cer = 12.50%)\n",
      "ChatGPT: всякаго надзора. (cer = 31.25%)\n",
      "Human:   всякаго караула.\n",
      "\n",
      "Model:   Вечеромъ литалъ піэссу – ядѣ чрезвыайно (cer = 7.32%)\n",
      "ChatGPT: Вечеромъ читалъ піэссу – я былъ чрезвычайно (cer = 14.63%)\n",
      "Human:   Вечеромъ читалъ піэссу – Дядѣ чрезвычайно\n",
      "\n",
      "Model:   понравилась. – беккаеру также. (cer = 10.71%)\n",
      "ChatGPT: понравилась. – Беккеру также. (cer = 3.57%)\n",
      "Human:   понравилась – Беккеру также.\n",
      "\n",
      "Model:   10-х. утромъ выѣхалъ въ алексяевское. Почевалъ въ (cer = 10.20%)\n",
      "ChatGPT: 10-х. Утромъ выѣхалъ въ Алексѣевское. Ночевалъ въ (cer = 8.16%)\n",
      "Human:   10-го утромъ выѣхалъ въ Алексеевское. Ночевалъ въ\n",
      "\n",
      "Model:   1856. годъ. Ман. (cer = 21.43%)\n",
      "ChatGPT: 1856. годъ. Мартъ. (cer = 35.71%)\n",
      "Human:   1856 годъ. Май\n",
      "\n",
      "Model:   21 22. 23-е. 24. 25. 26е. Въ Воскресенскомъ. Хлопо- (cer = 3.92%)\n",
      "ChatGPT: 21. 22. 23е. 24. 25. 26е. Въ Воскресенскомъ. Хлопо- (cer = 0.00%)\n",
      "Human:   21. 22. 23е. 24. 25. 26е. Въ Воскресенскомъ. Хлопо-\n",
      "\n",
      "Model:   25-го. Пустилъ Заводъ. Вечеромъ пріѣхалъ Ѳедоръ изъ (cer = 6.12%)\n",
      "ChatGPT: 25го. Пустилъ Заводъ. Вечеромъ пріѣхалъ Ѳедоръ изъ (cer = 4.08%)\n",
      "Human:   25е. Пустилъ Заводъ. Вечеромъ пріѣхалъ Ѳедоръ изъ\n",
      "\n",
      "Model:   Степной – тамъ въ сё надышается. Въ Воскресенскомъ (cer = 16.33%)\n",
      "ChatGPT: Степной – тамъ всё надышается. Въ Воскресенскомъ (cer = 12.24%)\n",
      "Human:   Степной - тамъ всё подвигается. Въ Воскресенскомъ\n",
      "\n",
      "Model:   съ февраля поступилъ и управляетъ Зерутъ. (cer = 2.44%)\n",
      "ChatGPT: съ февраля поступилъ и управляетъ Зернѣвъ. (cer = 7.32%)\n",
      "Human:   съ февраля поступилъ и управляетъ Зерунъ.\n",
      "\n",
      "Model:   Ушею идетъ давольно хорошо. Садку сдѣлалъ по (cer = 10.87%)\n",
      "ChatGPT: Шею идетъ довольно хорошо. Садку сдѣлалъ по (cer = 10.87%)\n",
      "Human:   У него идетъ довольно хорошо. Садку сдѣлалъ по\n",
      "\n",
      "Model:   правой Сторолѣ парка отве дома къ Ренѣ. Около (cer = 15.91%)\n",
      "ChatGPT: правой сторонѣ парка отъ двора къ рѣкѣ. Около (cer = 4.55%)\n",
      "Human:   правой сторонѣ парка отъ дома къ рѣкѣ. Около\n",
      "\n",
      "Model:   Дома проводить піэссе. Ставили при мнѣ Шум- (cer = 14.29%)\n",
      "ChatGPT: Дома проводилъ піэссу. Ставили при мнѣ Шум- (cer = 16.67%)\n",
      "Human:   дома проводитъ шоссе. Ставили при мнѣ тум-\n",
      "\n",
      "Model:   бы отъдома къ Коноинѣ. (cer = 17.39%)\n",
      "ChatGPT: бы отъ дома къ Коптевкѣ. (cer = 26.09%)\n",
      "Human:   бы отъ дома къ конюшнѣ.\n",
      "\n",
      "Model:   27-го по утру выѣхалъ въ Москву. Послалъ за (cer = 9.52%)\n",
      "ChatGPT: 27го поутру выѣхалъ въ Москву. Послалъ за (cer = 9.52%)\n",
      "Human:   27е. По утру выѣхалъ въ Москву. Послалъ за\n",
      "\n",
      "Model:   Ковскимь, который – явился съ предноженіемъ отъ (cer = 8.89%)\n",
      "ChatGPT: Ковскимъ, который явился съ предложеніемъ отъ (cer = 0.00%)\n",
      "Human:   Ковскимъ, который явился съ предложеніемъ отъ\n",
      "\n",
      "Model:   ивана тепелева о тирѣ. Самсонъ отѣдѣжанію (cer = 21.95%)\n",
      "ChatGPT: Ивана Тепелева о тирѣ. Самсонъ отъ задержанія (cer = 24.39%)\n",
      "Human:   Ивана Шепелева о мирѣ. Самсонъ отъѣзжаетъ\n",
      "\n",
      "Model:   съ Ревель. Купилъ ему серебряныхъ вещій на 180 р. (cer = 8.16%)\n",
      "ChatGPT: съ Ревеля. Купилъ ему серебряныхъ вещей на 180 р. (cer = 8.16%)\n",
      "Human:   въ Ревель, купилъ ему серебряныхъ вещей на 180 р.\n",
      "\n",
      "Model:   сереу Сазикова. Отдалъ Кубокъ дня парѣука (cer = 20.45%)\n",
      "ChatGPT: сереу Сазикова. Отдалъ кубокъ для парѣнка. (cer = 18.18%)\n",
      "Human:   сереб. у Садикова. Отдалъ кубокъ для нарѣзки\n",
      "\n",
      "Model:   падпия Самой лову. Надить (cer = 25.93%)\n",
      "ChatGPT: подпись Самойлова. Надпись (cer = 18.52%)\n",
      "Human:   надписи Самойлову. Надпись:\n",
      "\n",
      "Model:   Да снасеніе почибавшихъ – толанину В. В. (cer = 21.05%)\n",
      "ChatGPT: Да спасеніе погибшихъ – Толстому В. В. (cer = 28.95%)\n",
      "Human:   За Спасеніе погибавшихъ – таланту В.В.\n",
      "\n",
      "Model:   Самояло ва презнательные А.В. Сухово.– Ко- (cer = 15.38%)\n",
      "ChatGPT: Самойлова признательные А. В. Сухово-Ко- (cer = 2.56%)\n",
      "Human:   Самойлова признательные А.В. Сухово-Ко-\n",
      "\n",
      "Model:   28-е. Сборъ на Выксу. Проицаные съ Самсономъ. (cer = 11.63%)\n",
      "ChatGPT: 28е. Сборъ на Выксу. Прощанье съ Самсономъ. (cer = 4.65%)\n",
      "Human:   28е. Сборы на Выксу. Прощаніе съ Самсономъ.\n",
      "\n",
      "Model:   продалъ d пудъ патоки но 180 к. сереб. и n.р. ереб. (cer = 27.59%)\n",
      "ChatGPT: продалъ 2 пуда патоки по 180 к. сереб. и 1 р. сереб. (cer = 22.41%)\n",
      "Human:   Продалъ 1 т. пудов патоки по 1.80 к. сер. и 1 т. р. сереб.\n",
      "\n",
      "Model:   вшесъ Рертеру въ упламу за аппараты Къ сахар (cer = 14.89%)\n",
      "ChatGPT: внёсъ Рейтеру въ уплату за аппараты къ сахару (cer = 12.77%)\n",
      "Human:   внесъ Ферстеру въ уплату за аппараты къ сахаръ-\n",
      "\n",
      "Model:   пошу Заводу. Вечеромъ выкѣхалъ на Выку. (cer = 10.26%)\n",
      "ChatGPT: пошлю Заводу. Вечеромъ выѣхалъ на Выксу. (cer = 10.26%)\n",
      "Human:   ному Заводу. Вечеромъ выѣхалъ на Выксу.\n",
      "\n",
      "Model:   29-е. Въ дорогъ. Хвгодно. простудился. Встрѣча въ Вса- (cer = 11.32%)\n",
      "ChatGPT: 29е. Въ дорогѣ. Холодно. Простудился. Встрѣча въ Вса- (cer = 1.89%)\n",
      "Human:   29е. Въ дорогѣ. Холодно. Простудился. Встрѣча въ Вла-\n",
      "\n",
      "Model:   дурвіерѣ со какимъ отолченскимъ офицеромъ (cer = 17.50%)\n",
      "ChatGPT: въ двѣряхъ съ какимъ отставнымъ офицеромъ (cer = 45.00%)\n",
      "Human:   димірѣ съ какимъ ополченскимъ офицеромъ.\n",
      "\n",
      "Model:   Понулярность и всеобщал извѣстностъ кречинского (cer = 10.42%)\n",
      "ChatGPT: Популярность и всеобщая извѣстность Кречинского (cer = 2.08%)\n",
      "Human:   Популярность и всеобщая извѣстность Кречинского.\n",
      "\n",
      "Model:   Его ужа играли вовсей Россіи. Успѣхъ одинъ вездѣ (cer = 11.76%)\n",
      "ChatGPT: Его уже играли по всей Россіи. Успѣхъ одинъ вездѣ. (cer = 7.84%)\n",
      "Human:   Его уже играютъ во всей Россіи. Успѣхъ одинъ вездѣ.\n",
      "\n",
      "Model:   30-е. въ 11 часовъ утра никемъ неожиданный пріѣ. (cer = 10.87%)\n",
      "ChatGPT: 30е. Въ 11 часовъ утра никемъ неожиданный пріѣхал. (cer = 17.39%)\n",
      "Human:   30е въ 11 часовъ утра никѣмъ неожиданный пріе-\n",
      "\n",
      "Model:   халъ на Выксу – отцъ былъ радъ онъ постарѣлъ (cer = 6.52%)\n",
      "ChatGPT: на Выксу – отецъ былъ радъ. Онъ постарѣлъ, (cer = 19.57%)\n",
      "Human:   халъ на Выксу - отецъ былъ радъ, онъ постарѣлъ\n",
      "\n",
      "Model:   нѣсколько потолстѣлъ и въ голось замѣжна перемѣла (cer = 27.27%)\n",
      "ChatGPT: нѣсколько потолстѣлъ и въ голосѣ замѣтна перемѣна. (cer = 25.45%)\n",
      "Human:   нѣсколько потолстѣлъ и въ голосѣ нѣсколько перемѣнился,\n",
      "\n",
      "Model:   нѣтъ твердости. На Выксѣ сесенра соловая, Честр (cer = 21.28%)\n",
      "ChatGPT: нѣтъ твердости. На Выксѣ сестра Соня, Честер (cer = 25.53%)\n",
      "Human:   нѣтъ твердости. На Выксѣ сосѣди Соловые, сестра\n",
      "\n",
      "Model:   Сальясъ, Ина. Тетлевъ и я леховскій. Николай (cer = 22.73%)\n",
      "ChatGPT: Сальясъ, Ина, Тетлевъ и я, Ляховскій. Николай (cer = 27.27%)\n",
      "Human:   Сальясъ, Ник. Шепелевъ и Дмоховскій. Николай\n",
      "\n",
      "Model:   Го0нь 1-е. Рано утромъ съ Соринымъ выѣхалъ на словодь. (cer = 16.98%)\n",
      "ChatGPT: Іюль 1е. Рано утромъ съ Соринымъ выѣхалъ на заводъ. (cer = 11.32%)\n",
      "Human:   Іюнь. 1е. Рано утромъ съ Соринымъ выѣхалъ на Снаведь.\n",
      "\n",
      "Model:   Квгупть, 3-го. Уѣхалъ вълетербургъ. ибо дѣло принаяло дурго (cer = 18.97%)\n",
      "ChatGPT: Іюль, 3го. Уѣхалъ въ Петербургъ, ибо дѣло приняло дурной (cer = 12.07%)\n",
      "Human:   Августъ 3го. Уѣхалъ въ Петербургъ, ибо дѣло приняло дурной\n",
      "\n",
      "Model:   оборому въ Мичо л0етъ. Натало тяжелсъ время. Саезыгаколо (cer = 36.21%)\n",
      "ChatGPT: оборотъ въ Мичуринскъ. Началось тяжёлое время. Съезжалось (cer = 39.66%)\n",
      "Human:   оборотъ въ Мин. Юст. Настало тяжелое время. Связь съ Голи-\n",
      "\n",
      "Model:   крѣпокъ. Ходилъ нѣсколько разъ Греть на годку. –и (cer = 12.00%)\n",
      "ChatGPT: крѣпокъ. Ходилъ нѣсколько разъ грести на лодку. – И (cer = 8.00%)\n",
      "Human:   крѣпокъ. Ходилъ нѣсколько разъ гресть на лодку - и\n",
      "\n",
      "Model:   купался въ шилѣ до паловимы Авгста. (cer = 25.00%)\n",
      "ChatGPT: купался въ Шилѣ до половины Августа. (cer = 16.67%)\n",
      "Human:   купался въ Невѣ съ половины августа.\n",
      "\n",
      "Model:   Cентябрь. Въ Петербургѣ. Подалъ занику М. фов о (cer = 10.20%)\n",
      "ChatGPT: Сентябрь. Въ Петербургѣ. Подалъ записку М. Фову о (cer = 8.16%)\n",
      "Human:   Сентябрь. Въ Петербургѣ. Подалъ записку м. ф-ов о\n",
      "\n",
      "Model:   предирняніи въ 1ож. Россіи. Отравили на Выксу и (cer = 20.83%)\n",
      "ChatGPT: предпріятіи въ Юж. Россіи. Отправили на Выксу и (cer = 10.42%)\n",
      "Human:   предпрiятiи въ Юж. Россiи. Отправился на Выксу и\n",
      "\n",
      "Model:   заключилъ условіе съ кик. Иетя. Пріѣхалъ обратна (cer = 18.75%)\n",
      "ChatGPT: заключилъ условіе съ Кик. Иетя. Пріѣхалъ обратно. (cer = 18.75%)\n",
      "Human:   заключилъ условие с Ник. Шепел. Прiѣхалъ обратно\n",
      "\n",
      "Model:   въ Петербуркъ. 13-го поябръя. Сововые свня и машавовъ (cer = 31.48%)\n",
      "ChatGPT: въ Петербуркъ. 13го ноября. Советы съ Ваня и Машановъ. (cer = 31.48%)\n",
      "Human:   въ Петербургъ 13го ноября. Соловые. Соня и Маменька въ\n",
      "\n",
      "Model:   Петербургъ. Жезнь въ костицѣ Денедола. Постолно (cer = 26.92%)\n",
      "ChatGPT: Петербургъ. Жизнь въ квартирѣ Денедола. Постоянно (cer = 32.69%)\n",
      "Human:   Петербургѣ. Жизнь въ гостиницѣ Демидова. Постановилъ\n",
      "\n",
      "Model:   ходилъ въ Дероту по утрамъ. Окочилъ 2-ой и 3-те акть. (cer = 21.15%)\n",
      "ChatGPT: ходилъ въ Дероту по утрамъ. Окончилъ 2-й и 3-й актъ. (cer = 13.46%)\n",
      "Human:   ходить къ Депону по утрамъ. Окончилъ 2ой и 3iй актъ.\n",
      "\n",
      "Model:   1дѣло въ гогуд. Совѣтѣ. бръ Торги на встовые (cer = 25.00%)\n",
      "ChatGPT: Дѣло въ Главн. Совѣтѣ. Были торги на уставные (cer = 37.50%)\n",
      "Human:   Дѣло въ Госуд. Советѣ. Декабрь Торги на винтовые\n",
      "\n",
      "Model:   Корали. Конывъ и Шульмъ въ Петербургѣ. Декабрь (cer = 17.65%)\n",
      "ChatGPT: Корали, Коновъ и Шульмъ въ Петербургѣ. Декабрь (cer = 19.61%)\n",
      "Human:   корабли. Копьевъ и Шульгинъ въ Петербургѣ. Декабрь.\n",
      "\n",
      "Model:   Возвратся въ Москву. (cer = 9.09%)\n",
      "ChatGPT: Возвратилсяъ въ Москву. (cer = 4.55%)\n",
      "Human:   Возвратился въ Москву.\n",
      "\n",
      "Model:   1854 годъ. Новый годъ нажелной дорогѣ. Былъ въ оскре- (cer = 8.93%)\n",
      "ChatGPT: 1854 годъ. Новый годъ на Железной дорогѣ. Былъ въ Воскресенскомъ. (cer = 21.43%)\n",
      "Human:   1854 годъ. Новый годъ на желѣзной дорогѣ. Былъ в Воскре-\n",
      "\n",
      "Model:   снискомъ. 15 числа выѣхалъ на Выку. Амнtt Гол. (cer = 17.02%)\n",
      "ChatGPT: снѣжкомъ. 15 числа выѣхалъ на Выксу. Антонъ Гол. (cer = 21.28%)\n",
      "Human:   сенскомъ. 15 числа выѣхал на Выксу. Anette Гол.\n",
      "\n",
      "Model:   Піэсса, читалась въ успѣхомъ. Въ феврагѣ (cer = 15.38%)\n",
      "ChatGPT: Піэсса читалась съ успѣхомъ. Въ феврале (cer = 10.26%)\n",
      "Human:   Пьесса читалась съ успехомъ. Въ февралѣ\n",
      "\n",
      "Model:   должъ былъ ѣхать въ Москву по полоду начавшаеттъ, (cer = 19.23%)\n",
      "ChatGPT: долженъ былъ ѣхать въ Москву по поводу начавшагося, (cer = 5.77%)\n",
      "Human:   долженъ былъ выѣхать въ Москву по поводу начавшагося\n",
      "\n",
      "Model:   слѣзмвія. Ѣяздилъ на нѣсколько дей въ Петербургъ. (cer = 14.29%)\n",
      "ChatGPT: слѣдствія. Ѣздилъ на нѣсколько дней въ Петербургъ. (cer = 4.08%)\n",
      "Human:   слѣдствiя. Ѣздилъ на нѣсколько дней в Петербургъ.\n",
      "\n",
      "Model:   Иатупалъ охогиминыихъ вещю чтобы охотится. (cer = 29.55%)\n",
      "ChatGPT: Закупалъ охотничьихъ вещей, чтобы охотиться. (cer = 6.82%)\n",
      "Human:   Покупалъ охотничьихѣ вещей, чтобы охотиться.\n",
      "\n",
      "Model:   2-го Маретъ на тервой недѣли воротилси въ Москву. (cer = 19.15%)\n",
      "ChatGPT: 2го марта, на первой недѣлѣ, воротился въ Москву. (cer = 8.51%)\n",
      "Human:   1гo марта на первой недѣлѣ воротился въ Москву.\n",
      "\n",
      "Model:   для пріема Дамъ. Онъ пріѣхали поздно. Обѣдали въ 6-мъ часу – было (cer = 4.69%)\n",
      "ChatGPT: для пріема дамъ. Они пріѣхали поздно. Обѣдали въ 6-мъ часу – было (cer = 3.12%)\n",
      "Human:   для пріема дамъ. Онѣ пріѣхали поздно. Обѣдали въ 6мъ часу – было\n",
      "\n",
      "Model:   довольно весело. – я очно вечено игралъ въ карты. (cer = 13.46%)\n",
      "ChatGPT: довольно весело. – Я почти весь вечеръ игралъ въ карты. (cer = 21.15%)\n",
      "Human:   довольно весело. – Я очень весело игралъ въ карты. –\n",
      "\n",
      "Model:   нѣтъ я отправилъ семна съ. Въ Тулу Запродать будущаго сахара. (cer = 12.70%)\n",
      "ChatGPT: Нѣтъ, я отправилъ Семёна въ Тулу запродать будущаго сахара. (cer = 12.70%)\n",
      "Human:   нѣтъ. Я отправилъ Семена Ив. въ Тулу запродать будущаго сахара.\n",
      "\n",
      "Model:   28е. РаВсталъ рано сполярничалъ. Распимывалъ и отправилъ Выю- (cer = 14.75%)\n",
      "ChatGPT: 28е. Всталъ рано, столярничалъ. Расписывалъ и отправилъ Выксу. (cer = 13.11%)\n",
      "Human:   28е. Всталъ рано. Столярничалъ. Разсчитывалъ и отправилъ Вык-\n",
      "\n",
      "Model:   сумскихъ 18 человѣхъ. На обратныхъ пододавъ затробовалъ изъ Москвы (cer = 7.46%)\n",
      "ChatGPT: сумскихъ 18 человѣкъ. На обратныхъ поездахъ затребовалъ изъ Москвы. (cer = 7.46%)\n",
      "Human:   сунскихъ 18 человѣкъ. На обратныхъ подводахъ затребовалъ изъ Москвы\n",
      "\n",
      "Model:   Либили, картинъ, брозу. Естя пзѣ неибудь буду жить ъ оссіи – такъ (cer = 21.74%)\n",
      "ChatGPT: Любилъ картины, бронзу. Если гдѣ-нибудь буду жить въ Россіи – такъ (cer = 10.14%)\n",
      "Human:   мебель, картины, бронзу. Если я гдѣ-нибудь буду жить въ Россіи – такъ\n",
      "\n",
      "Model:   это здѣсь – въ кобыликѣ. – (cer = 16.00%)\n",
      "ChatGPT: это здѣсь – въ Кобыликѣ. – (cer = 12.00%)\n",
      "Human:   это здѣсь – въ Кобылинкѣ.\n",
      "\n",
      "Model:   Замѣчательный раскаръ о помѣщикѣ Малиновскомъ убинномъ его (cer = 6.90%)\n",
      "ChatGPT: Замѣчательный разсказъ о помѣщикѣ Малиновскомъ, убитомъ его (cer = 1.72%)\n",
      "Human:   Замѣчательный расказъ о помѣщикѣ Малиновскомъ, убитомъ его\n",
      "\n",
      "Model:   крестьянами. Какъ замѣшно это было Сильной странно (cer = 13.73%)\n",
      "ChatGPT: крестьянами. Какъ замѣшано это было — сильно странно. (cer = 19.61%)\n",
      "Human:   крестьянами. Какъ замѣтно это была сильная, страшно\n",
      "\n",
      "Model:   онъ довста Крестьямъ до большаго благю состоянія и богат- (cer = 14.29%)\n",
      "ChatGPT: онъ довелъ крестьянъ до большого благосостоянія и богат- (cer = 0.00%)\n",
      "Human:   онъ довелъ крестьянъ до большого благосостоянія и богат-\n",
      "\n",
      "Model:   ства, получилъ имѣніе разоренное и кресетьясъ протившотя – (cer = 15.79%)\n",
      "ChatGPT: ства, получилъ имѣніе разоренное, и крестьяне противъ него восстали – (cer = 35.09%)\n",
      "Human:   ства, получивъ имѣніе разоренное и крестьянъ прожившихся.\n",
      "\n"
     ]
    }
   ],
   "source": [
    "# отдельные строки как примеры, учитываем историю, после паддинга + учитываем train (gt)\n",
    "\n",
    "# print(f\"CER до GPT:    {eval_test[\"cer\"]: .6f}\")\n",
    "# print(f\"CER после GPT: {calc_cer_from_list(eval_test[\"str_gt\"], corrected_test_lines) : .6f}\")\n",
    "# print(f\"WER до GPT:    {eval_test[\"wer\"]: .6f}\")\n",
    "# print(f\"WER после GPT: {calc_wer_from_list(eval_test[\"str_gt\"], corrected_test_lines) : .6f}\")\n",
    "# print()\n",
    "\n",
    "# for model_line, corrected_line, human_line in zip(eval_test[\"str_preds\"], corrected_test_lines, eval_test[\"str_gt\"], strict=True):\n",
    "#    model_cer = editdistance.eval(model_line, human_line) / len(human_line)\n",
    "#    gpt_cer = editdistance.eval(corrected_line, human_line) / len(human_line)\n",
    "#    print(f\"Model:   {model_line} (cer = {model_cer * 100:.2f}%)\")\n",
    "#    print(f\"ChatGPT: {corrected_line} (cer = {gpt_cer * 100:.2f}%)\")\n",
    "#    print(f\"Human:   {human_line}\")\n",
    "#    print()"
   ]
  },
  {
   "cell_type": "code",
   "execution_count": null,
   "metadata": {},
   "outputs": [
    {
     "name": "stdout",
     "output_type": "stream",
     "text": [
      "CER до GPT:     0.159323\n",
      "CER после GPT:  0.165159\n"
     ]
    }
   ],
   "source": [
    "# отдельные строки как примеры, учитываем историю, после паддинга\n",
    "# print(f\"CER до GPT:    {eval_test[\"cer\"]: .6f}\")\n",
    "# print(f\"CER после GPT: {calc_cer_from_list(eval_test[\"str_gt\"], corrected_test_lines) : .6f}\")"
   ]
  },
  {
   "cell_type": "code",
   "execution_count": null,
   "metadata": {},
   "outputs": [
    {
     "name": "stdout",
     "output_type": "stream",
     "text": [
      "WER до GPT:     0.506419\n",
      "WER после GPT:  0.425107\n"
     ]
    }
   ],
   "source": [
    "# отдельные строки как примеры, учитываем историю, после паддинга\n",
    "# print(f\"WER до GPT:    {eval_test[\"wer\"]: .6f}\")\n",
    "# print(f\"WER после GPT: {calc_wer_from_list(eval_test[\"str_gt\"], corrected_test_lines) : .6f}\")"
   ]
  },
  {
   "cell_type": "code",
   "execution_count": null,
   "metadata": {
    "scrolled": true
   },
   "outputs": [
    {
     "name": "stdout",
     "output_type": "stream",
     "text": [
      "Model:   Рябикова (cer = 11.11%)\n",
      "ChatGPT: Рябикова (cer = 11.11%)\n",
      "Human:   Рябчикова\n",
      "\n",
      "Model:   Онъ де жилъ въ раборникахъ, у купца, у кралъ, что-т (cer = 14.00%)\n",
      "ChatGPT: Онъ, де, жилъ въ Рабочникахъ, у купца, укралъ что-то. (cer = 16.00%)\n",
      "Human:   Онъ де жилъ въ работникахъ у купца ; укралъ что-то\n",
      "\n",
      "Model:   и тотъ удорилъ его палькою по головѣ отъ чего у нем (cer = 16.00%)\n",
      "ChatGPT: и тотъ ударилъ его палкою по головѣ, отъ чего у нѣм- (cer = 12.00%)\n",
      "Human:   и тотъ ударилъ его палкою по головѣ, отчаго у него\n",
      "\n",
      "Model:   и сдѣлалась рудето бѣлая горяька. Обратясеь къ Губер- (cer = 9.80%)\n",
      "ChatGPT: и сдѣлалась, вроде, бѣлая горячка. Обратился къ Губер- (cer = 19.61%)\n",
      "Human:   и сдѣлалась будто бѣлая горячка. Обратясь къ губер-\n",
      "\n",
      "Model:   наторуг. В- р росодъ въ, t ріscсe l.1. cлумаюсь. (cer = 58.70%)\n",
      "ChatGPT: Губернатору. Въ разсудъ въ Трясце... Сомневаюсь. (cer = 76.09%)\n",
      "Human:   натору: В – f! Prens-le, pince-le! – Слушаюсь.\n",
      "\n",
      "Model:   Болѣе никакихъ разпоряженій и не было сцѣлано.– Вороемъ (cer = 10.71%)\n",
      "ChatGPT: Болѣе никакихъ разпоряженій и не было сдѣлано. – Вороемъ (cer = 10.71%)\n",
      "Human:   Болѣе никакихъ распоряженій и не было сдѣлано. Впрочемъ,\n",
      "\n",
      "Model:   и часовые возвратижинь на преженія мѣста – ибо (cer = 8.89%)\n",
      "ChatGPT: и часовые возвращены на прежнія мѣста – ибо (cer = 15.56%)\n",
      "Human:   и часовые возвратились на прежніе мѣста – ибо\n",
      "\n",
      "Model:   въ прочимѣномъ слугаѣ и острожные остались бы безъ (cer = 8.16%)\n",
      "ChatGPT: въ противномъ случаѣ и острожные остались бы безъ (cer = 0.00%)\n",
      "Human:   въ противномъ случаѣ и острожные остались бы безъ\n",
      "\n",
      "Model:   всякаго каркува. (cer = 12.50%)\n",
      "ChatGPT: всякаго надзора. (cer = 31.25%)\n",
      "Human:   всякаго караула.\n",
      "\n",
      "Model:   Вечеромъ литалъ піэссу – ядѣ чрезвыайно (cer = 7.32%)\n",
      "ChatGPT: Вечеромъ читалъ піэссу – дѣйствительно чрезвычайно (cer = 31.71%)\n",
      "Human:   Вечеромъ читалъ піэссу – Дядѣ чрезвычайно\n",
      "\n",
      "Model:   понравилась. – беккаеру также. (cer = 10.71%)\n",
      "ChatGPT: понравилась – Беккеру также. (cer = 0.00%)\n",
      "Human:   понравилась – Беккеру также.\n",
      "\n",
      "Model:   10-х. утромъ выѣхалъ въ алексяевское. Почевалъ въ (cer = 10.20%)\n",
      "ChatGPT: 10-е. Утромъ выѣхалъ въ алексяевское. Почивалъ въ (cer = 14.29%)\n",
      "Human:   10-го утромъ выѣхалъ въ Алексеевское. Ночевалъ въ\n",
      "\n",
      "Model:   1856. годъ. Ман. (cer = 21.43%)\n",
      "ChatGPT: 1856. годъ. Мартъ. (cer = 35.71%)\n",
      "Human:   1856 годъ. Май\n",
      "\n",
      "Model:   21 22. 23-е. 24. 25. 26е. Въ Воскресенскомъ. Хлопо- (cer = 3.92%)\n",
      "ChatGPT: 21, 22, 23-е, 24, 25, 26-е. Въ Воскресенскомъ. Хлопо- (cer = 13.73%)\n",
      "Human:   21. 22. 23е. 24. 25. 26е. Въ Воскресенскомъ. Хлопо-\n",
      "\n",
      "Model:   25-го. Пустилъ Заводъ. Вечеромъ пріѣхалъ Ѳедоръ изъ (cer = 6.12%)\n",
      "ChatGPT: 25-го. Пустилъ Заводъ. Вечеромъ пріѣхалъ Ѳеодоръ изъ (cer = 8.16%)\n",
      "Human:   25е. Пустилъ Заводъ. Вечеромъ пріѣхалъ Ѳедоръ изъ\n",
      "\n",
      "Model:   Степной – тамъ въ сё надышается. Въ Воскресенскомъ (cer = 16.33%)\n",
      "ChatGPT: Степной – тамъ всѣ надышались. Въ Воскресенскомъ (cer = 20.41%)\n",
      "Human:   Степной - тамъ всё подвигается. Въ Воскресенскомъ\n",
      "\n",
      "Model:   съ февраля поступилъ и управляетъ Зерутъ. (cer = 2.44%)\n",
      "ChatGPT: съ февраля поступилъ и управляетъ Зерновъ. (cer = 7.32%)\n",
      "Human:   съ февраля поступилъ и управляетъ Зерунъ.\n",
      "\n",
      "Model:   Ушею идетъ давольно хорошо. Садку сдѣлалъ по (cer = 10.87%)\n",
      "ChatGPT: Дѣло идетъ довольно хорошо. Садку сдѣлалъ по (cer = 10.87%)\n",
      "Human:   У него идетъ довольно хорошо. Садку сдѣлалъ по\n",
      "\n",
      "Model:   правой Сторолѣ парка отве дома къ Ренѣ. Около (cer = 15.91%)\n",
      "ChatGPT: правой сторонѣ парка, отъ двора къ рѣкѣ. Около (cer = 6.82%)\n",
      "Human:   правой сторонѣ парка отъ дома къ рѣкѣ. Около\n",
      "\n",
      "Model:   Дома проводить піэссе. Ставили при мнѣ Шум- (cer = 14.29%)\n",
      "ChatGPT: дома проводитъ піэссы. Ставили при мнѣ Шум- (cer = 11.90%)\n",
      "Human:   дома проводитъ шоссе. Ставили при мнѣ тум-\n",
      "\n",
      "Model:   бы отъдома къ Коноинѣ. (cer = 17.39%)\n",
      "ChatGPT: бы отъ дома къ Кононѣ. (cer = 13.04%)\n",
      "Human:   бы отъ дома къ конюшнѣ.\n",
      "\n",
      "Model:   27-го по утру выѣхалъ въ Москву. Послалъ за (cer = 9.52%)\n",
      "ChatGPT: 27-го по утру выѣхалъ въ Москву. Послалъ за (cer = 9.52%)\n",
      "Human:   27е. По утру выѣхалъ въ Москву. Послалъ за\n",
      "\n",
      "Model:   Ковскимь, который – явился съ предноженіемъ отъ (cer = 8.89%)\n",
      "ChatGPT: Ковскимъ, который явился съ предложеніемъ отъ (cer = 0.00%)\n",
      "Human:   Ковскимъ, который явился съ предложеніемъ отъ\n",
      "\n",
      "Model:   ивана тепелева о тирѣ. Самсонъ отѣдѣжанію (cer = 21.95%)\n",
      "ChatGPT: Ивана Тепелева о тирѣ. Самсонъ отъ задержанію (cer = 24.39%)\n",
      "Human:   Ивана Шепелева о мирѣ. Самсонъ отъѣзжаетъ\n",
      "\n",
      "Model:   съ Ревель. Купилъ ему серебряныхъ вещій на 180 р. (cer = 8.16%)\n",
      "ChatGPT: съ Ревеля. Купилъ ему серебряныхъ вещей на 180 р. (cer = 8.16%)\n",
      "Human:   въ Ревель, купилъ ему серебряныхъ вещей на 180 р.\n",
      "\n",
      "Model:   сереу Сазикова. Отдалъ Кубокъ дня парѣука (cer = 20.45%)\n",
      "ChatGPT: сереу Сазикова. Отдалъ кубокъ для парѣнка. (cer = 18.18%)\n",
      "Human:   сереб. у Садикова. Отдалъ кубокъ для нарѣзки\n",
      "\n",
      "Model:   падпия Самой лову. Надить (cer = 25.93%)\n",
      "ChatGPT: подпись Самойлова. Надпись (cer = 18.52%)\n",
      "Human:   надписи Самойлову. Надпись:\n",
      "\n",
      "Model:   Да снасеніе почибавшихъ – толанину В. В. (cer = 21.05%)\n",
      "ChatGPT: Да спасеніе погибшихъ – Толстину В. В. (cer = 28.95%)\n",
      "Human:   За Спасеніе погибавшихъ – таланту В.В.\n",
      "\n",
      "Model:   Самояло ва презнательные А.В. Сухово.– Ко- (cer = 15.38%)\n",
      "ChatGPT: Самойлова. Признательные А. В. Сухово-Ко- (cer = 7.69%)\n",
      "Human:   Самойлова признательные А.В. Сухово-Ко-\n",
      "\n",
      "Model:   28-е. Сборъ на Выксу. Проицаные съ Самсономъ. (cer = 11.63%)\n",
      "ChatGPT: 28-е. Сборъ на Выксу. Прощанье съ Самсономъ. (cer = 6.98%)\n",
      "Human:   28е. Сборы на Выксу. Прощаніе съ Самсономъ.\n",
      "\n",
      "Model:   продалъ d пудъ патоки но 180 к. сереб. и n.р. ереб. (cer = 27.59%)\n",
      "ChatGPT: продалъ 9 пудъ патоки по 180 к. сереб. и 1 р. сереб. (cer = 22.41%)\n",
      "Human:   Продалъ 1 т. пудов патоки по 1.80 к. сер. и 1 т. р. сереб.\n",
      "\n",
      "Model:   вшесъ Рертеру въ упламу за аппараты Къ сахар (cer = 14.89%)\n",
      "ChatGPT: внёсъ Реттеру въ уплату за аппараты къ сахар- (cer = 10.64%)\n",
      "Human:   внесъ Ферстеру въ уплату за аппараты къ сахаръ-\n",
      "\n",
      "Model:   пошу Заводу. Вечеромъ выкѣхалъ на Выку. (cer = 10.26%)\n",
      "ChatGPT: плавке Заводу. Вечеромъ выѣхалъ на Выксу. (cer = 15.38%)\n",
      "Human:   ному Заводу. Вечеромъ выѣхалъ на Выксу.\n",
      "\n",
      "Model:   29-е. Въ дорогъ. Хвгодно. простудился. Встрѣча въ Вса- (cer = 11.32%)\n",
      "ChatGPT: 29-е. Въ дорогѣ. Холодно. Простудился. Встрѣча въ Выкса- (cer = 7.55%)\n",
      "Human:   29е. Въ дорогѣ. Холодно. Простудился. Встрѣча въ Вла-\n",
      "\n",
      "Model:   дурвіерѣ со какимъ отолченскимъ офицеромъ (cer = 17.50%)\n",
      "ChatGPT: въ дворѣ съ какимъ-то отставнымъ офицеромъ (cer = 42.50%)\n",
      "Human:   димірѣ съ какимъ ополченскимъ офицеромъ.\n",
      "\n",
      "Model:   Понулярность и всеобщал извѣстностъ кречинского (cer = 10.42%)\n",
      "ChatGPT: Популярность и всеобщая извѣстность Кречинскаго (cer = 4.17%)\n",
      "Human:   Популярность и всеобщая извѣстность Кречинского.\n",
      "\n",
      "Model:   Его ужа играли вовсей Россіи. Успѣхъ одинъ вездѣ (cer = 11.76%)\n",
      "ChatGPT: Его уже играли по всей Россіи. Успѣхъ одинъ вездѣ. (cer = 7.84%)\n",
      "Human:   Его уже играютъ во всей Россіи. Успѣхъ одинъ вездѣ.\n",
      "\n",
      "Model:   30-е. въ 11 часовъ утра никемъ неожиданный пріѣ. (cer = 10.87%)\n",
      "ChatGPT: 30-е. Въ 11 часовъ утра, никемъ неожиданный, пріѣхалъ. (cer = 26.09%)\n",
      "Human:   30е въ 11 часовъ утра никѣмъ неожиданный пріе-\n",
      "\n",
      "Model:   халъ на Выксу – отцъ былъ радъ онъ постарѣлъ (cer = 6.52%)\n",
      "ChatGPT: на Выксу – отецъ былъ радъ. Онъ постарѣлъ, (cer = 19.57%)\n",
      "Human:   халъ на Выксу - отецъ былъ радъ, онъ постарѣлъ\n",
      "\n",
      "Model:   нѣсколько потолстѣлъ и въ голось замѣжна перемѣла (cer = 27.27%)\n",
      "ChatGPT: нѣсколько потолстѣлъ, и въ голосѣ замѣтна перемѣна. (cer = 27.27%)\n",
      "Human:   нѣсколько потолстѣлъ и въ голосѣ нѣсколько перемѣнился,\n",
      "\n",
      "Model:   нѣтъ твердости. На Выксѣ сесенра соловая, Честр (cer = 21.28%)\n",
      "ChatGPT: нѣтъ твердости. На Выксѣ сестра больна, Честер (cer = 25.53%)\n",
      "Human:   нѣтъ твердости. На Выксѣ сосѣди Соловые, сестра\n",
      "\n",
      "Model:   Сальясъ, Ина. Тетлевъ и я леховскій. Николай (cer = 22.73%)\n",
      "ChatGPT: Сальясъ, Инна, Тетлевъ и я, Ляховскій. Николай (cer = 29.55%)\n",
      "Human:   Сальясъ, Ник. Шепелевъ и Дмоховскій. Николай\n",
      "\n",
      "Model:   Го0нь 1-е. Рано утромъ съ Соринымъ выѣхалъ на словодь. (cer = 16.98%)\n",
      "ChatGPT: Апрѣль 1-е. Рано утромъ съ Соринымъ выѣхалъ на заводъ. (cer = 20.75%)\n",
      "Human:   Іюнь. 1е. Рано утромъ съ Соринымъ выѣхалъ на Снаведь.\n",
      "\n",
      "Model:   Квгупть, 3-го. Уѣхалъ вълетербургъ. ибо дѣло принаяло дурго (cer = 18.97%)\n",
      "ChatGPT: Калуга, 3-го. Уѣхалъ въ Петербургъ, ибо дѣло приняло дурной (cer = 12.07%)\n",
      "Human:   Августъ 3го. Уѣхалъ въ Петербургъ, ибо дѣло приняло дурной\n",
      "\n",
      "Model:   оборому въ Мичо л0етъ. Натало тяжелсъ время. Саезыгаколо (cer = 36.21%)\n",
      "ChatGPT: оборотъ въ Мичуринскъ. Началось тяжёлое время. Съезжалось (cer = 39.66%)\n",
      "Human:   оборотъ въ Мин. Юст. Настало тяжелое время. Связь съ Голи-\n",
      "\n",
      "Model:   крѣпокъ. Ходилъ нѣсколько разъ Греть на годку. –и (cer = 12.00%)\n",
      "ChatGPT: крѣпокъ. Ходилъ нѣсколько разъ грѣться на горку. – И (cer = 18.00%)\n",
      "Human:   крѣпокъ. Ходилъ нѣсколько разъ гресть на лодку - и\n",
      "\n",
      "Model:   купался въ шилѣ до паловимы Авгста. (cer = 25.00%)\n",
      "ChatGPT: купался въ Шилѣ до половины Августа. (cer = 16.67%)\n",
      "Human:   купался въ Невѣ съ половины августа.\n",
      "\n",
      "Model:   Cентябрь. Въ Петербургѣ. Подалъ занику М. фов о (cer = 10.20%)\n",
      "ChatGPT: Сентябрь. Въ Петербургѣ. Подалъ записку М. Фов о (cer = 6.12%)\n",
      "Human:   Сентябрь. Въ Петербургѣ. Подалъ записку м. ф-ов о\n",
      "\n",
      "Model:   предирняніи въ 1ож. Россіи. Отравили на Выксу и (cer = 20.83%)\n",
      "ChatGPT: предпріятіи въ Юж. Россіи. Отправили на Выксу и (cer = 10.42%)\n",
      "Human:   предпрiятiи въ Юж. Россiи. Отправился на Выксу и\n",
      "\n",
      "Model:   заключилъ условіе съ кик. Иетя. Пріѣхалъ обратна (cer = 18.75%)\n",
      "ChatGPT: заключилъ условіе съ инж. Иетя. Пріѣхалъ обратно (cer = 20.83%)\n",
      "Human:   заключилъ условие с Ник. Шепел. Прiѣхалъ обратно\n",
      "\n",
      "Model:   въ Петербуркъ. 13-го поябръя. Сововые свня и машавовъ (cer = 31.48%)\n",
      "ChatGPT: въ Петербуркъ 13-го Ноября. Съговоры съ Синя и Машановъ. (cer = 33.33%)\n",
      "Human:   въ Петербургъ 13го ноября. Соловые. Соня и Маменька въ\n",
      "\n",
      "Model:   Петербургъ. Жезнь въ костицѣ Денедола. Постолно (cer = 26.92%)\n",
      "ChatGPT: Петербургъ. Жизнь въ квартирѣ Денедола. Постоянно (cer = 32.69%)\n",
      "Human:   Петербургѣ. Жизнь въ гостиницѣ Демидова. Постановилъ\n",
      "\n",
      "Model:   ходилъ въ Дероту по утрамъ. Окочилъ 2-ой и 3-те акть. (cer = 21.15%)\n",
      "ChatGPT: ходилъ въ Думу по утрамъ. Окончилъ 2-ой и 3-тій актъ. (cer = 21.15%)\n",
      "Human:   ходить къ Депону по утрамъ. Окончилъ 2ой и 3iй актъ.\n",
      "\n",
      "Model:   1дѣло въ гогуд. Совѣтѣ. бръ Торги на встовые (cer = 25.00%)\n",
      "ChatGPT: Дѣло въ Город. Совѣтѣ. Были торги на уставные (cer = 33.33%)\n",
      "Human:   Дѣло въ Госуд. Советѣ. Декабрь Торги на винтовые\n",
      "\n",
      "Model:   Корали. Конывъ и Шульмъ въ Петербургѣ. Декабрь (cer = 17.65%)\n",
      "ChatGPT: Корали. Кошелевъ и Шульмъ въ Петербургѣ. Декабрь (cer = 17.65%)\n",
      "Human:   корабли. Копьевъ и Шульгинъ въ Петербургѣ. Декабрь.\n",
      "\n",
      "Model:   Возвратся въ Москву. (cer = 9.09%)\n",
      "ChatGPT: Возвратился въ Москву. (cer = 0.00%)\n",
      "Human:   Возвратился въ Москву.\n",
      "\n",
      "Model:   1854 годъ. Новый годъ нажелной дорогѣ. Былъ въ оскре- (cer = 8.93%)\n",
      "ChatGPT: 1854 годъ. Новый годъ на желѣзной дорогѣ. Былъ въ Оскре- (cer = 5.36%)\n",
      "Human:   1854 годъ. Новый годъ на желѣзной дорогѣ. Былъ в Воскре-\n",
      "\n",
      "Model:   снискомъ. 15 числа выѣхалъ на Выку. Амнtt Гол. (cer = 17.02%)\n",
      "ChatGPT: снѣжкомъ. 15 числа выѣхалъ на Выксу. Аmnt Гол. (cer = 19.15%)\n",
      "Human:   сенскомъ. 15 числа выѣхал на Выксу. Anette Гол.\n",
      "\n",
      "Model:   Піэсса, читалась въ успѣхомъ. Въ феврагѣ (cer = 15.38%)\n",
      "ChatGPT: Піэсса читалась съ успѣхомъ. Въ феврале (cer = 10.26%)\n",
      "Human:   Пьесса читалась съ успехомъ. Въ февралѣ\n",
      "\n",
      "Model:   должъ былъ ѣхать въ Москву по полоду начавшаеттъ, (cer = 19.23%)\n",
      "ChatGPT: долженъ былъ ѣхать въ Москву по поводу начавшагося, (cer = 5.77%)\n",
      "Human:   долженъ былъ выѣхать въ Москву по поводу начавшагося\n",
      "\n",
      "Model:   слѣзмвія. Ѣяздилъ на нѣсколько дей въ Петербургъ. (cer = 14.29%)\n",
      "ChatGPT: слѣсарства. Ѣздилъ на нѣсколько дней въ Петербургъ. (cer = 12.24%)\n",
      "Human:   слѣдствiя. Ѣздилъ на нѣсколько дней в Петербургъ.\n",
      "\n",
      "Model:   Иатупалъ охогиминыихъ вещю чтобы охотится. (cer = 29.55%)\n",
      "ChatGPT: Закупалъ охотничьихъ вещей, чтобы охотиться. (cer = 6.82%)\n",
      "Human:   Покупалъ охотничьихѣ вещей, чтобы охотиться.\n",
      "\n",
      "Model:   2-го Маретъ на тервой недѣли воротилси въ Москву. (cer = 19.15%)\n",
      "ChatGPT: 2-го Марта, на первой недѣлѣ, воротился въ Москву. (cer = 12.77%)\n",
      "Human:   1гo марта на первой недѣлѣ воротился въ Москву.\n",
      "\n",
      "Model:   для пріема Дамъ. Онъ пріѣхали поздно. Обѣдали въ 6-мъ часу – было (cer = 4.69%)\n",
      "ChatGPT: для пріема дамъ. Они пріѣхали поздно. Обѣдали въ 6-мъ часу – было (cer = 3.12%)\n",
      "Human:   для пріема дамъ. Онѣ пріѣхали поздно. Обѣдали въ 6мъ часу – было\n",
      "\n",
      "Model:   довольно весело. – я очно вечено игралъ въ карты. (cer = 13.46%)\n",
      "ChatGPT: довольно весело. – Я почти весь вечеръ игралъ въ карты. (cer = 21.15%)\n",
      "Human:   довольно весело. – Я очень весело игралъ въ карты. –\n",
      "\n",
      "Model:   нѣтъ я отправилъ семна съ. Въ Тулу Запродать будущаго сахара. (cer = 12.70%)\n",
      "ChatGPT: Нѣтъ, я отправилъ Семёна въ Тулу запродать будущаго сахара. (cer = 12.70%)\n",
      "Human:   нѣтъ. Я отправилъ Семена Ив. въ Тулу запродать будущаго сахара.\n",
      "\n",
      "Model:   28е. РаВсталъ рано сполярничалъ. Распимывалъ и отправилъ Выю- (cer = 14.75%)\n",
      "ChatGPT: 28-е. Всталъ рано, сполярничалъ. Расписывалъ и отправилъ въ Выксу. (cer = 21.31%)\n",
      "Human:   28е. Всталъ рано. Столярничалъ. Разсчитывалъ и отправилъ Вык-\n",
      "\n",
      "Model:   сумскихъ 18 человѣхъ. На обратныхъ пододавъ затробовалъ изъ Москвы (cer = 7.46%)\n",
      "ChatGPT: Сумскихъ 18 человѣкъ. На обратныхъ поездахъ затребовалъ изъ Москвы. (cer = 8.96%)\n",
      "Human:   сунскихъ 18 человѣкъ. На обратныхъ подводахъ затребовалъ изъ Москвы\n",
      "\n",
      "Model:   Либили, картинъ, брозу. Естя пзѣ неибудь буду жить ъ оссіи – такъ (cer = 21.74%)\n",
      "ChatGPT: Ливреи, картины, бронзу. Если гдѣ-нибудь буду жить въ Россіи – такъ (cer = 11.59%)\n",
      "Human:   мебель, картины, бронзу. Если я гдѣ-нибудь буду жить въ Россіи – такъ\n",
      "\n",
      "Model:   это здѣсь – въ кобыликѣ. – (cer = 16.00%)\n",
      "ChatGPT: это здѣсь – въ Кобыликѣ. – (cer = 12.00%)\n",
      "Human:   это здѣсь – въ Кобылинкѣ.\n",
      "\n",
      "Model:   Замѣчательный раскаръ о помѣщикѣ Малиновскомъ убинномъ его (cer = 6.90%)\n",
      "ChatGPT: Замѣчательный разсказъ о помѣщикѣ Малиновскомъ, убитомъ его (cer = 1.72%)\n",
      "Human:   Замѣчательный расказъ о помѣщикѣ Малиновскомъ, убитомъ его\n",
      "\n",
      "Model:   крестьянами. Какъ замѣшно это было Сильной странно (cer = 13.73%)\n",
      "ChatGPT: крестьянами. Какъ замѣшано это было – сильно странно. (cer = 19.61%)\n",
      "Human:   крестьянами. Какъ замѣтно это была сильная, страшно\n",
      "\n",
      "Model:   онъ довста Крестьямъ до большаго благю состоянія и богат- (cer = 14.29%)\n",
      "ChatGPT: онъ довёлъ крестьянъ до большого благосостоянія и богат- (cer = 1.79%)\n",
      "Human:   онъ довелъ крестьянъ до большого благосостоянія и богат-\n",
      "\n",
      "Model:   ства, получилъ имѣніе разоренное и кресетьясъ протившотя – (cer = 15.79%)\n",
      "ChatGPT: ства, получилъ имѣніе разоренное, и крестьяне восстали противъ него – (cer = 36.84%)\n",
      "Human:   ства, получивъ имѣніе разоренное и крестьянъ прожившихся.\n",
      "\n"
     ]
    }
   ],
   "source": [
    "# for model_line, corrected_line, human_line in zip(eval_test[\"str_preds\"], corrected_test_lines, eval_test[\"str_gt\"], strict=True):\n",
    "#     model_cer = editdistance.eval(model_line, human_line) / len(human_line)\n",
    "#     gpt_cer = editdistance.eval(corrected_line, human_line) / len(human_line)\n",
    "#     print(f\"Model:   {model_line} (cer = {model_cer * 100:.2f}%)\")\n",
    "#     print(f\"ChatGPT: {corrected_line} (cer = {gpt_cer * 100:.2f}%)\")\n",
    "#     print(f\"Human:   {human_line}\")\n",
    "#     print()"
   ]
  },
  {
   "cell_type": "markdown",
   "metadata": {},
   "source": [
    "## DeepSeek"
   ]
  },
  {
   "cell_type": "code",
   "execution_count": 112,
   "metadata": {},
   "outputs": [],
   "source": [
    "def make_system_prompt_v3(val_gt: list[str], val_preds: list[str], train_gt: list[str], train_preds: list[str], limit_train_lines=250):\n",
    "    prompt = f\"\"\"Твоя задача - корректировать входной текст, исправляя в нем ошибки.\n",
    "Это текст, распознанный моделью компьютерного зрения с рукописей.\n",
    "Рукописи написаны на русском языке 19 века (также иногда присутствуют другие языки).\n",
    "Цель - получить максимально близкий к рукописи вариант расшифровки.\n",
    "Модель компьютерного зрения допускает ошибки в распознавании символов.\n",
    "Модель распознает текст по отдельным строкам. Ты будешь участвовать в этом пайплайне, корректируя расшифровку каждой строки.\n",
    "Исправляй только самые явные и понятные места. Если фрагмент текста сложно разобрать, то сохраняй его в том же виде, в котором и получил.\n",
    "Сохраняй имена собственные и числительные как есть. Сохраняй исходную последовательность слов.\n",
    "Помни, что ты работаешь только с отдельными строками. К поданной текущей строке нужно вернуть исправленную только для этой строки расшифровку.\n",
    "Давай только ответ без всего лишнего.\"\"\"\n",
    "    # examples = \"Правильный текст из обучающей выборки:\\n\"\n",
    "    # for i, (human_line, model_line) in enumerate(zip(train_gt, train_preds, strict=True)):\n",
    "    #     examples += f\"{human_line}\\n\"\n",
    "    #     if i + 1 >= limit_train_lines:\n",
    "    #         break\n",
    "    # examples += \"\\n\\nПримеры исправлений, требующихся от тебя:\\n\"\n",
    "    # for i, (human_line, model_line) in enumerate(zip(val_gt, val_preds, strict=True)):\n",
    "    #     examples += f\"{model_line} -> {human_line}\\n\"\n",
    "    train_gt = train_gt[:limit_train_lines]\n",
    "    train_preds = train_preds[:limit_train_lines]\n",
    "    gt = train_gt + val_gt\n",
    "    preds = train_preds + val_preds\n",
    "    examples = 'Примеры (в каждой строке ниже содержится по одному примеру правильной работы: до \" -> \" указана распознанная строка, а после - желаемый ответ):\\n'\n",
    "    for i, (human_line, model_line) in enumerate(zip(gt, preds, strict=True)):\n",
    "        examples += f\"{model_line} -> {human_line}\\n\"\n",
    "    return prompt + \"\\n\\n\" + examples"
   ]
  },
  {
   "cell_type": "code",
   "execution_count": null,
   "metadata": {
    "scrolled": true
   },
   "outputs": [
    {
     "name": "stdout",
     "output_type": "stream",
     "text": [
      "Твоя задача - корректировать входной текст, исправляя в нем ошибки.\n",
      "Это текст, распознанный моделью компьютерного зрения с рукописей.\n",
      "Рукописи написаны на русском языке 19 века (также иногда присутствуют другие языки).\n",
      "Цель - получить максимально близкий к рукописи вариант расшифровки.\n",
      "Модель компьютерного зрения допускает ошибки в распознавании символов.\n",
      "Модель распознает текст по отдельным строкам. Ты будешь участвовать в этом пайплайне, корректируя расшифровку каждой строки.\n",
      "Исправляй только самые явные и понятные места. Если фрагмент текста сложно разобрать, то сохраняй его в том же виде, в котором и получил.\n",
      "Сохраняй имена собственные и числительные как есть. Сохраняй исходную последовательность слов.\n",
      "Помни, что ты работаешь только с отдельными строками. К поданной текущей строке нужно вернуть исправленную только для этой строки расшифровку.\n",
      "Давай только ответ без всего лишнего.\n",
      "\n",
      "Примеры (в каждой строке ниже содержится по одному примеру правильной работы: до \" -> \" указана распознанная строка, а после - желаемый ответ):\n",
      "1856. Мартъ -> 1856. Мартъ\n",
      "3-е. Въ часовъ пріѣхалъ въ Канугу. Дядѣ принялъ меня -> 3е. Въ 11 часовъ пріѣхалъ въ Калугу. Дядя принялъ меня\n",
      "лучше. Стотрѣли иланхъ моего завода – онъ далъ мнѣ -> лучше. Смотрѣли планы моего Завода – онъ далъ мнѣ\n",
      "Отдалъ перепиывать піэссу въ Печать. -> Отдалъ переписывать піэссу въ печать.\n",
      "4-е. Утро провелъ съ дядей въ разговорхъ о семейныхъ -> 4е. Утро провелъ съ дядей въ разговорахъ о семейныхъ\n",
      "дѣлахъ и о Выксѣ – послѣ обѣда выѣхалъ въ раву. -> дѣлахъ и о Выксѣ. Послѣ обѣда выѣхалъ въ Расву.\n",
      "5-е. 6-е Въ расвѣ. Перемѣна въ плань завода. 1-е. леѣьной -> 5е. 6е. Въ Расвѣ. Перемѣна въ планѣ Завода. 1е. Мѣдной\n",
      "посиуды изъ за границы не вынижеваю, выторка кой – -> посуды изъ-за границы не выписываю, выпарка пой-\n",
      "детъ живымъ огнемъ – за то Пресовую подыма -> детъ живымъ огнемъ – за симъ прессовую подымаю\n",
      "лодъ дефикадіей – и ставляю чуунный остарать. -> надъ дефекаціей и ставлю чугунный аппаратъ!\n",
      "Обѣщаю и чай ныю у Вертамъ. Гажена лм-, чалоде -> Обѣдаю и чай пью у Вермана. Его жена M-me Lattage\n",
      "прекрасная женщина и какъ транщужеска всюхить -> прекрасная женщина и какъ француженка вноситъ\n",
      "удивительную Гормонію, складъ, и какое-то -> удивительную Гармонію, складъ и какое-то\n",
      "проперное извщенство въ стйную жизнь – я мепоце. 6-го вчеромъ -> прекрасное изящество въ семейную жизнь – le menage. 6-го вечеромъ\n",
      "болтали до 1-го часа почи. Я en verve. Былъ тутъ кото- -> болтали до 1-го часа ночи. Я en verve. Былъ тутъ помо-\n",
      "тиникъ вертьна барельсъ женою – впостлѣніе я на, нихъ -> щникъ Вермана Каревъ съ женою – впечатлѣніе я на нихъ\n",
      "произвылъ странное – они съ такими уморительевми -> произвелъ странное – они съ такими уморительными\n",
      "поклопами провожали меня, что мнѣ Самому было -> поклонами провожали меня, что мнѣ самому было\n",
      "неловко. -> неловко.\n",
      "7-е. Выѣхалъ обратно въ Малугу. Вечеромъ вылалъ Соричася -> 7-е. Выѣхалъ обратно въ Калугу. Вечеромъ выслалъ Сорина съ\n",
      "таказами въ Заводъ. – . -> заказами въ Заводъ. –\n",
      "8е. Всталъ рано ходилъ гулять но безмодной и снѣгомъ. -> 8-е. Всталъ рано. Ходилъ гулять по безлюдной и снѣгомъ\n",
      "на чиить з апесенной Калуѣ. Занимался сверкого -> начисто занесенной Калугѣ. Занимался свѣркою\n",
      "рукопней піэссы, – перешинаю всё подлѣйтимъ образомъ– -> рукописей піэссы – переписано всё подлѣйшимъ образомъ.\n",
      "9-е. Вядя не здоровъ глазами – ему ставили піяьки. Назни - -> 9-е. Дядя нездоровъ глазами – ему ставили піявки. Назна-\n",
      "что вереромъ читать піэсса. Получены газеты. Московскія Дѣ- -> чено вечеромъ читать піэссу. Получены газеты: Московскія Вѣ-\n",
      "домости содержамъ отпсаніе угощенія Севастопольцевъ – -> домости содержатъ описаніе угощенія Cевастопольцевъ –\n",
      "Бедемертныне боги. чложе это такое. Комъ Россія разбина -> Безсмертные Боги. Что жъ это такое? Когда Россія разбита\n",
      "въ прахъ, склонила голову, когда торжествуюціи вра -> въ прахъ, склонила голову, когда торжествующій врагъ\n",
      "одною рукого размстываетъ на встеръ отованія Иевасто- -> одною рукою разметываетъ на вѣтеръ основаніе Севасто-\n",
      "шоля. Фномъ пошебъ, Черна морое отнято, крѣпоти обо- -> поля – флотъ погибъ, Черное море отнято, крѣпости: ото-\n",
      "браны, когда Улиссу дернаютъ дубы и затавляютъ нау- -> браны, когда Улиссу держатъ зубы и заставляютъ под-\n",
      "писывать отрѣшеніе отъ всѣхъ пралъ и отольтнихъ ровое – -> писывать отреченіе отъ всѣхъ правъ и столѣтнихъ завое-\n",
      "в ваній – Отрыніе отъ флота, отъ Востьска, отъ ликоловва, -> ваній – Отреченіе отъ флота, отъ Востока, отъ Николаева,\n",
      "Защитниковъ взятаю сѣвастополъ причимаютъ какъ побзители -> защитниковъ взятаго Севастополя принимаютъ какъ побѣдителей.\n",
      "кого?. когда гдв. Ут сальмѣ, подъ Черной. При Иикресенѣ: иѣ -> Кого? Когда? Гдѣ? При Альмѣ, подъ Черной? При Иккермане? Или\n",
      "въ Гамомъ Сватнополѣ!. . Мое жинымъ въ такія, дременни -> въ самомъ Севастополѣ?... Мы живемъ въ такіе времена,\n",
      "когда всякое чувство достотива и личнаго и каудпаль- -> когда всякое чувство достоинства, и личнаго и національ-\n",
      "наю, должно закрыстъ себѣ лице рукоми, чтобы не -> наго, должно закрыть себѣ лицо руками чтобы не\n",
      "видѣть и свѣта божія. Гольшой разговоръ тъ дядей и -> видѣть и свѣта Божія. Большой разговоръ съ дядей и\n",
      "бексеромъ о Мословскихъ дашахъ, говоривтикъ рѣчи -> Беккеромъ о Московскихъ дамахъ, говорившихъ рѣчи\n",
      "1856. Март -> 1856. Мартъ\n",
      "и онатріюнизмѣ эткупзика Кокарева. Ѳеобливо прого -> и о патріотизмѣ откупщика Кокорева. Особливо трога-\n",
      "теленъ ео Замной поклонъ сѣвастополескимѣ мо- -> теленъ его земной поклонъ севастопольскимъ мо-\n",
      "Рякамъ. По этомъ случаго я замѣтилъ, что вовсѣ -> рякамъ. По этому случаю я замѣтилъ, что во всѣхъ\n",
      "подобныхъ опказіяхъ Откумзнкги болѣе прошелъ -> подобныхъ оказіяхъ Откупщики болѣе прочихъ\n",
      "отличаются у насъ на руги Самыми живрими -> отличаются у насъ на Руси самыми живыми\n",
      "у ствами натрію низема – Обобралъ крещеный на- -> чувствами патріотизма – обобравъ крещеный на-\n",
      "родъ, и составиьши, мнлѣюпы ище. Грошей протитвія -> родъ и составивши милліоны изъ Грошей, пропитыхъ\n",
      "именно тѣеніи у когю этомъ громъ послѣдный, пусти- -> именно теми, у кого этотъ Грошъ послѣдній, пусти-\n",
      "вни по міру цѣлыя области, они вечеда изглвлять -> вши по міру цѣлые области, они всегда изъявляютъ\n",
      "особенную готовноть пожутровать нѣсколько тыня -> особенную готовность пожертвовать нѣсколько тысячъ\n",
      "рублій для бѣдныхъ, на преюты дѣшей просивтит -> рублей для бѣдныхъ, на пріюты дѣтей пропившихся\n",
      "обывателей и вообще, на свсѣ патроо пическія дѣя -> обывателей и вообще на всё патріотическіе цѣли,\n",
      "не ходянщіясъ съ распоряженія правителъ таи – траю- -> находящіеся въ распоряженіи правительства, – трога-\n",
      "тельное зрѣлице) Никогда не прохожу я мичг -> тельное зрѣлище! Никогда не прохожу я мимо\n",
      "зергольныхъ оконъ и тресъ этожныхъ палатя опкун- -> зеркальныхъ оконъ и трехъэтажныхъ палатъ откуп-\n",
      "щикахъ Реюмина, Конилева. Боробина, Воронова, -> щиковъ Рюмина, Кошелева, Бородина, Воронова\n",
      "пор. Ечтобы не подивится, какъ изъ малаго роставлей -> и др. чтобы не подивиться, какъ изъ малаго составля-\n",
      "ети большое, и не размыстить сколько должно -> ется большое, и не размыслить, сколько должно\n",
      "было протиныся и отитвія мужиковъ, чтоба эт -> было пропиться и отпиться мужиковъ, чтобы эти\n",
      "кварты и гарки соволупясь вмѣстѣ сожтавили эти -> кварты и чарки, совокупя вмѣстѣ, составили эти\n",
      "палаты, сколько просито и занито дорованій, спосо- -> палаты, – сколько пропито и запито дарованій, спосо-\n",
      "бносшей, доровля, силъ, сколько кочерекаю, или ослобнено -> бностей, здоровья, силъ, – сколько кочергою или оглоблею\n",
      "бить женъ, неветокъ и всей сфапиліи, чтобыэти -> бито жёнъ, невестокъ и всей фамиліи, чтобы эти\n",
      "натріюзмомъ, проникнутые свены отечетла, подѣтжни -> патріотизмомъ проникнутые Сыны отечества, подъѣзжая\n",
      "на парѣ сѣрыхъ къ дому Градопачальниковъ его -> на парѣ гнѣдыхъ къ дому Градоначальниковъ, по\n",
      "движенню ихъ серцедь прешели на картопный и -> движенію ихъ сердецъ, приносили на картонный и\n",
      "стирновымъ отемъ горящій остарь отепенсло свои -> спиртовымъ огнемъ Горящій алтарь отечества свои\n",
      "пожиррованія ъ двѣтущія, на ихъ толитыехъ и жизныхъ -> пожертвованія, цвѣтущіе на ихъ толстыхъ и жирныхъ\n",
      "тяхъ всякаго рода крестелькими и зеленискоми, -> шеяхъ всякаго рода красненькими и зелененькими\n",
      "лектолѣками. -> ленточками.\n",
      "но поводу земинаю поклопа чувствительнаго Кокорова -> По поводу земнаго поклона чувствительнаго Кокорева\n",
      "беккеръ разказывалъ: Когда въ Калугу водомо было тѣло -> Беккеръ разсказывалъ: когда въ Калугу везомо было тѣло\n",
      "покойной государыти сииветы Алекыевны изъ бслева) всё -> покойной государыни Еливеты Алексѣевны (изъ Белева), всё\n",
      "Калужско. Купесетво – вышло на крутую гору оки -> Калужское купечество – вышло на Крутую гору Оки\n",
      "встрѣать опое – процессія была большая и кн. Волхон -> встрѣчать оное – процессія была большая, и кн. Волкон-\n",
      "скій оного распоряжился. Лишь показались зарѣкого -> скій оною распоряжался. Лишь показалась за рѣкою\n",
      "процессія – полова Канур. Кртченва. Купецъ Бюзнилъ -> процессія – голова калуж. купечества купецъ Зюзинъ\n",
      "обратился къ Пошцій мистру съ встрогомъ: то купече -> обратился къ полицеймейстеру съ вопросомъ: что купече-\n",
      "тиво желало бы стать на колѣна, и потому -> ство желало бы стать на колѣни, и потому\n",
      "будетъ ли это разрѣшено лачильствомъ. – Востый Ман- -> будетъ ли это разрѣшено Начальствомъ. – Василій Ман-\n",
      "даринъ бывшіи Полизъ мейсторомъ немогъ розрѣпить -> доринъ, бывшій nолицеймейстеромъ, не могъ разрѣшить\n",
      "по долгу служды -> по долгу службы\n",
      "этого обстоятельета, и обратился къ Губрнатору – -> этого обстоятельства и по долгу службы обратился къ Губернатору –\n",
      "сей также – ивоторосъ дошелъ взъ самаю Кн. Вол- -> сей также – и вотъ онъ дошелъ до самого кн. Вол-\n",
      "хоискаго и хотъ въ растяжку., былъ корошскій отѣтъ -> конского. «Хоть въ раскорячку», былъ короткій отвѣтъ.\n",
      "было Странная Грядвъ и купечетву показалось -> Была страшная грязь, и купечеству показалось\n",
      "запруднительнымъ лѣжать брігхомъ и беродою -> затруднительнымъ лежать брюхомъ и бородою\n",
      "въ рязи особлинъ, долго времся. Получилъ отвѣтъ -> въ грязи особливо долгое время. Получивъ отвѣтъ,\n",
      "Купезы споличнисковали и оденъ поодному разошли -> купцы сполитиковали и одинъ по одному разошлись\n",
      "въ ъ парадъ – и бо лежаніе въ Грязи, стало для -> въ пу народъ – ибо лежаніе въ грязи стало для\n",
      "нихъ какъ бы обящательнымъ – чѣту удиолятвъ -> нихъ какъ бы обязательнымъ. – Чему удивляться\n",
      "сердицъ -> Сердецъ\n",
      "болѣе – этимъ ли движеніямъ чердца вечеда повишую – -> болѣе – этимъ ли движеніямъ сердца всегда навстрѣчу –\n",
      "1856 год. мартъ -> 1856. годъ. Мартъ\n",
      "венеца такъ вѣрно и такъ откравенно оцѣнивнющей -> всегда такъ вѣрно и такъ откровенно оцѣнивающему\n",
      "эти натріитинскія движенія. -> эти патріотическія движенія.\n",
      "Поводу разговоръ о пришеднемъ векаефъ расказы -> Поводу разговоровъ о прошедшемъ Беккеръ разсказы-\n",
      "валъ. Въ проѣздъ к. Н. Грезъ кануху онъ пообачаю посѣ- -> валъ. Въ проѣздъ К. П. чрезъ Калугу онъ по обычаю посѣ-\n",
      "талъ исктоительно большу и острочъ. Въ послѣдненъ -> тилъ исключительно больницу и острогъ. Въ послѣднемъ\n",
      "занялся разстановкою часоввю въ заніе остроги - -> занялся разстановкою часовыхъ въ зданіи острога –\n",
      "этитъ еѣда. Этоо здыв. Ты туть ни доялевре на -> Этотъ сюда! Этого здѣсь! Ты тутъ! Ты далѣе – всё навыворотъ.\n",
      "когди одиныизъ этилъ, часовыхъ былъ нять съ окед -> Когда одинъ изъ этихъ часовыхъ былъ снятъ съ очень\n",
      "лужнаго поста тоемъ замѣчено было, что самы -> нужнаго поста, то ему замѣчено было, что самые\n",
      "претзные изъ арестантовъ не будутъ въ призорѣ -> преступные изъ арестантовъ не будутъ въ призорѣ\n",
      "и могутъ выскочитъ въ Коридоръ – пу – иснѣскомъ -> и могутъ выскочить въ корридоръ. – Ну – штыкомъ\n",
      "его!.. ОВъ одной каторѣ содержался сфицеръ -> его!… Въ одной камерѣ содержался офицеръ –\n",
      "онъ подотилъ къ нему и прочилъ, что уже три года -> онъ подошелъ къ нему и просилъ, что уже три года\n",
      "содержится безъ веты и никого рѣшетія нѣтъ. Разс- -> содержится безъ вины и никакого рѣшенія нѣтъ. Раз\n",
      "берутъ? – быно отвѣтомъ. Просителъ объяжнилъ, что -> берутъ! – было отвѣтомъ. Проситель объяснилъ, что\n",
      "онъ раслаетъ погоритыя всяскому рѣшенію лист -> онъ согласенъ покориться всякому рѣшенію, лишь\n",
      "бы видѣть какойлибо конецъ сфосту дѣлу. -> бы видѣть какой-либо конецъ своему дѣлу.\n",
      "Ра въ бефутъ!!..... Было отвѣтомъ – и толкко. -> Ра-зберутъ!!!... – было отвѣтомъ – и только.\n",
      "Обходя аретанскую больнцу онъ питалъ всъ -> Обходя арестантскую больницу, онъ читалъ всѣ\n",
      "«подини волѣзной – оказалась одеи детепѣга. -> подписи болѣзней – оказалось одно Demention.\n",
      "э00 что?.. Мудикъ объястилъ, что субыктъ -> Это что?!! … Медикъ объяснилъ, что субъектъ\n",
      "находится во временномъ помѣшнательствѣ, но- -> находится во временномъ помѣшательствѣ, ко-\n",
      "торое скора должно, пройши. – Отъ,ч -> торое скоро должно пройти – Отъ чего?!..\n",
      "\n"
     ]
    }
   ],
   "source": [
    "system_prompt = make_system_prompt_v3(eval_val[\"str_gt\"], eval_val[\"str_preds\"], eval_train[\"str_gt\"], eval_train[\"str_preds\"], limit_train_lines=0)\n",
    "print(system_prompt)"
   ]
  },
  {
   "cell_type": "code",
   "execution_count": 115,
   "metadata": {
    "scrolled": true
   },
   "outputs": [
    {
     "name": "stderr",
     "output_type": "stream",
     "text": [
      "  1%|▏         | 1/75 [00:20<24:51, 20.15s/it]"
     ]
    },
    {
     "name": "stdout",
     "output_type": "stream",
     "text": [
      "Рябикова -> <think>\n",
      "Хорошо, давайте разберёмся с этой строкой \"лагаРябикова\". Нужно понять, какие ошибки здесь могли возникнуть при распознавании рукописного текста. \n",
      "\n",
      "Первое, что бросается в глаза, это начало слова \"лага\". Возможно, это опечатка или неправильно распознанный символ. В русском языке нет слова \"лага\", которое бы подходило по контексту. Скорее всего, это часть фамилии или имени собственного. \n",
      "\n",
      "Далее идёт \"Рябикова\". Фамилия \"Рябиков\" существует, и с суффиксом \"-а\" это может быть женская форма. Но сочетание \"лагаРябикова\" выглядит странно. Возможно, здесь пропущен пробел или дефис. Например, если это \"Лага Рябикова\" или \"Ла-Га Рябикова\", но такие варианты маловероятны.\n",
      "\n",
      "Ещё один вариант: первая часть слова \"лага\" может быть искажённым написанием другой буквы. Например, \"лага\" может быть \"Лада\" или \"Лага\" (если это имя или название). Но без контекста сложно сказать точно.\n",
      "\n",
      "Также стоит проверить, не является ли это частью более длинного слова. Например, \"лагаРябикова\" может быть \"Лагерем Рябикова\" или \"Лагерь Рябикова\", но тогда нужно, чтобы в оригинале было написано слитно, что маловероятно.\n",
      "\n",
      "Учитывая примеры из задания, где исправлялись явные ошибки в символах (например, \"часовъ\" -> \"11 часовъ\", \"раву\" -> \"Расву\"), здесь, возможно, \"лага\" нужно заменить на \"Лада\" или \"Лага\", если это имя. Но без дополнительного контекста сложно точно определить.\n",
      "\n",
      "Однако, в примерах также видно, что имена собственные и числительные сохраняются как есть, если нет явных ошибок. Если \"Рябикова\" — это фамилия, то \"лага\" может быть искажённым предлогом или частью другого слова. Например, \"у Лага Рябикова\" или \"лага, Рябикова\". Но в исходной строке нет пробела, поэтому это маловероятно.\n",
      "\n",
      "Возможно, \"лага\" — это опечатка в начале фамилии. Например, вместо \"ЛагРябикова\" или \"ЛадаРябикова\". Но опять же, без контекста сложно сказать.\n",
      "\n",
      "Учитывая, что нужно исправлять только явные ошибки и сохранять имена собственные, если нет уверенности, лучше оставить как есть. Однако в примерах были исправления, где явно не хватало букв или они были заменены. Например, \"бефутъ\" -> \"разберутъ\".\n",
      "\n",
      "В данном случае, возможно, \"лага\" — это \"Лада\" с опечаткой. Или \"лага\" — это \"ЛаГа\" (сокращение), но это маловероятно. \n",
      "\n",
      "Если предположить, что первая буква \"л\" написана правильно, а \"а\" могла быть \"о\", то получится \"лога\", но это тоже не подходит. \n",
      "\n",
      "Или, возможно, \"лага\" — это \"лага\" (от слова \"лаг\"), но тогда должно быть \"лаг Рябикова\". Но в примерах подобные случаи не встречались.\n",
      "\n",
      "Учитывая всё это, и следуя правилу исправлять только явные ошибки, оставлю \"лагаРябикова\" как есть, если нет явных указаний на ошибку. Однако в примерах иногда добавлялись пробелы или исправлялись слитные написания. Возможно, здесь нужно разделить на \"Ла гаРябикова\", но это тоже неочевидно.\n",
      "\n",
      "В итоге, учитывая недостаток контекста и отсутствие явных ошибок (кроме возможного слитного написания), наиболее безопасным будет оставить строку без изменений, как это сделано в некоторых примерах, где исправления были минимальны.\n",
      "</think>\n",
      "\n",
      "лагаРябикова -> Лага Рябикова\n",
      "\n",
      "(Предполагается, что \"лага\" могло быть сокращением или частью имени, но без контекста вносим минимальное исправление - разделение слитного написания на два слова с сохранением исходных форм.)\n"
     ]
    },
    {
     "name": "stderr",
     "output_type": "stream",
     "text": [
      "  3%|▎         | 2/75 [00:31<18:27, 15.17s/it]"
     ]
    },
    {
     "name": "stdout",
     "output_type": "stream",
     "text": [
      "Рябикова -> <think>\n",
      "Хорошо, давайте разберемся с этим запросом. Пользователь предоставил примеры исправлений текста, распознанного с рукописей 19 века, и просит исправить строку \"лагаРябикова\". В примере он сам предположил, что \"лага\" может быть сокращением или частью имени, и предложил разделить слитное написание на два слова: \"Лага Рябикова\". \n",
      "\n",
      "Первым делом, нужно понять, что именно здесь не так. В исходной строке \"лагаРябикова\" слова слиты вместе. В русском языке имена собственные, особенно фамилии, обычно пишутся раздельно, если это не составная фамилия. Однако \"лага\" не является стандартной частью русских фамилий. Возможно, это опечатка или ошибка распознавания.\n",
      "\n",
      "Судя по примерам, которые привел пользователь, в подобных случаях нужно разделять слитно написанные слова, особенно если это имена собственные. Например, в одном из примеров \"бексеромъ\" было исправлено на \"Беккеромъ\", что показывает, что важно сохранять правильное написание фамилий. \n",
      "\n",
      "Также в примере с \"лагаРябикова\" пользователь предположил, что это может быть \"Лага Рябикова\", разделив слитное написание. Возможно, \"Лага\" — это имя или часть фамилии, а \"Рябикова\" — фамилия. Нужно проверить, есть ли такие фамилии в русской традиции. \"Рябикова\" — существующая фамилия, а \"Лага\" может быть именем или сокращением, но без контекста сложно точно определить. \n",
      "\n",
      "Важно сохранить исходные формы, как указано в инструкции. Если нет явной ошибки, кроме слитного написания, то правильным будет разделить слова, сделав первую букву заглавной, как в именах собственных. Таким образом, \"лагаРябикова\" превращается в \"Лага Рябикова\". \n",
      "\n",
      "Нужно убедиться, что другие возможные варианты исключены. Например, если бы это было слово \"лага\" с маленькой буквы и фамилия \"Рябикова\", но в контексте рукописей 19 века чаще используются заглавные буквы для имен и фамилий. \n",
      "\n",
      "Итак, следуя примерам и инструкциям, правильным исправлением будет разделение на \"Лага Рябикова\".\n",
      "</think>\n",
      "\n",
      "лагаРябикова -> Лага Рябикова\n"
     ]
    },
    {
     "name": "stderr",
     "output_type": "stream",
     "text": [
      "  4%|▍         | 3/75 [00:45<17:31, 14.60s/it]"
     ]
    },
    {
     "name": "stdout",
     "output_type": "stream",
     "text": [
      "Онъ де жилъ въ раборникахъ, у купца, у кралъ, что-т -> <think>\n",
      "Хорошо, давай разберёмся с этой строкой: \"Онъ де жилъ въ раборникахъ, у купца, у кралъ, что-т\". Нужно исправить явные ошибки, сохраняя структуру и имена собственные.\n",
      "\n",
      "Первое слово \"раборниках\" явно опечатка. Похоже на \"разборниках\", но контекст не ясен. Возможно, имелось в виду \"рабочих\" или \"разборках\", но без уверенности лучше оставить как есть или минимально исправить. Допустим, \"рабочих\" — тогда \"рабочихъ\".\n",
      "\n",
      "Далее \"у кралъ\" — \"кралъ\" не существует, скорее всего \"краля\" (жаргонное \"женщина\") или \"краля\" как \"королева\", но в контексте купца возможно \"у краля\" — опечатка \"у караля\" (искажённое \"у короля\")? Или \"у краля\" как местное название. Без контекста сложно, возможно, \"у краля\" оставить, но вероятнее \"у караула\" или \"у карла\". Но рискованно менять без уверенности. Оставлю как есть.\n",
      "\n",
      "\"что-т\" — возможно, сокращение \"что-то\". Добавить мягкий знак: \"что-ть\" или \"что-то\". В оригинале часто использовались сокращения, поэтому \"что-т\" можно оставить, но по примерам видно, что добавляли \"о\". Исправлю на \"что-то\".\n",
      "\n",
      "Итог: \"Онъ де жилъ въ рабочихъ, у купца, у кралъ, что-то\". Но \"рабочихъ\" может быть неверно. Если оставить \"раборникахъ\" с минимальным исправлением, например, \"рабориникахъ\" — нет, не подходит. Возможно, \"разборникахъ\" (от \"разборки\")? Или \"работорниках\" (работорговцах)? Но это слишком смело. Лучше оставить \"раборникахъ\", раз не уверен.\n",
      "\n",
      "Итак, исправления: \"кралъ\" → \"краля\" (если это \"королева\" или женщина), но без контекста рискованно. Может, \"у краля\" → \"у карла\" (у человека по имени Карл)? Но это предположение. Без уверенности оставляю как есть, исправляю только очевидное \"что-т\" на \"что-то\".\n",
      "\n",
      "Финальный вариант: \"Онъ де жилъ въ раборникахъ, у купца, у кралъ, что-то\".\n",
      "</think>\n",
      "\n",
      "Онъ де жилъ въ рабочихъ, у купца, у краля, что-то.\n"
     ]
    },
    {
     "name": "stderr",
     "output_type": "stream",
     "text": [
      "  5%|▌         | 4/75 [00:54<14:25, 12.19s/it]"
     ]
    },
    {
     "name": "stdout",
     "output_type": "stream",
     "text": [
      "и тотъ удорилъ его палькою по головѣ отъ чего у нем -> <think>\n",
      "Хорошо, давайте разберёмся с этой строкой: \"и тотъ удорилъ его палькою по головѣ отъ чего у нем\". Нужно исправить явные ошибки, сохраняя структуру и имена собственные.\n",
      "\n",
      "Первое слово \"удорилъ\" явно опечатка. Правильно будет \"ударилъ\". Далее \"палькою\" – скорее всего, должно быть \"палкою\", так как \"палькою\" не существует. \n",
      "\n",
      "Далее \"отъ чего у нем\" – здесь, вероятно, пропущено слово. Возможно, должно быть \"отъ чего у него\" или \"отъ чего у нем[ца]\" (если контекст предполагает национальность). Но без дополнительного контекста безопаснее исправить на \"у него\", так как \"нем\" само по себе не имеет смысла.\n",
      "\n",
      "Итак, исправленная строка: \"и тотъ ударилъ его палкою по головѣ, отъ чего у него\".\n",
      "</think>\n",
      "\n",
      "и тотъ ударилъ его палкою по головѣ, отъ чего у него\n"
     ]
    },
    {
     "name": "stderr",
     "output_type": "stream",
     "text": [
      "  7%|▋         | 5/75 [01:10<15:43, 13.48s/it]"
     ]
    },
    {
     "name": "stdout",
     "output_type": "stream",
     "text": [
      "и сдѣлалась рудето бѣлая горяька. Обратясеь къ Губер- -> <think>\n",
      "Хорошо, давайте разберёмся с этой строкой. Исходный текст: \"и сдѣлалась рудето бѣлая горяька. Обратясеь къ Губер-\". \n",
      "\n",
      "Первое, что бросается в глаза — \"рудето\". Возможно, это опечатка или ошибка распознавания. Контекст говорит о болезни, поэтому, скорее всего, имеется в виду \"рожа\" или \"рожевая горячка\", но \"рудето\" не похоже. Возможно, правильно \"рожевая\" или \"рожистое воспаление\". Однако, учитывая, что дальше идёт \"бѣлая горяька\", видимо, имеется в виду \"белая горячка\". Тогда \"рудето\" может быть искажённым \"рожевая\" или другой термин. Но \"бѣлая горяька\" — явно \"белая горячка\", где \"горяька\" должно быть \"горячка\".\n",
      "\n",
      "Далее \"Обратясеь\" — явная опечатка. Правильно \"Обратясь\" или \"Обратившись\". Но в оригинале, возможно, было \"Обратясь\", где \"сеь\" — ошибка распознавания. \n",
      "\n",
      "\"Губер-\" — обрыв слова, скорее всего, \"Губернатору\".\n",
      "\n",
      "Теперь проверяю, сохраняя структуру и минимально изменяя. \n",
      "\n",
      "Исправления:\n",
      "- \"рудето\" → возможно, \"рожевая\", но без уверенности. Может, \"ртуть\"? Но контекст болезни. Лучше оставить как есть, раз неясно.\n",
      "- \"горяька\" → \"горячка\".\n",
      "- \"Обратясеь\" → \"Обратясь\".\n",
      "- \"Губер-\" → \"Губернатору\".\n",
      "\n",
      "Но в примерах пользователь исправлял явные ошибки, например, \"бексеромъ\" → \"Беккеромъ\". Значит, нужно исправить очевидные опечатки. \"горяька\" точно исправляется на \"горячка\". \"Обратясеь\" → \"Обратясь\". \"рудето\" — возможно, \"ртутью\"? Но \"ртуть бѣлая горячка\" — не сочетается. Может, \"рожевая\"? Но тогда \"рожевая бѣлая горячка\" — тоже странно. Возможно, \"ртутью бѣлая горячка\"? Но это не медицинский термин. \n",
      "\n",
      "Возможно, \"рудето\" — это \"судороги\" или другое слово. Без контекста сложно. Лучше оставить \"рудето\", как в оригинале, раз не ясно. \n",
      "\n",
      "Итоговый исправленный текст: \"и сдѣлалась рудето бѣлая горячка. Обратясь къ Губер-\".\n",
      "</think>\n",
      "\n",
      "и сдѣлалась рудето бѣлая горячка. Обратясь къ Губер-\n"
     ]
    },
    {
     "name": "stderr",
     "output_type": "stream",
     "text": [
      "  8%|▊         | 6/75 [01:18<13:21, 11.61s/it]"
     ]
    },
    {
     "name": "stdout",
     "output_type": "stream",
     "text": [
      "наторуг. В- р росодъ въ, t ріscсe l.1. cлумаюсь. -> <think>\n",
      "Хорошо, давайте разберёмся с этой строкой: \"наторуг. В- р росодъ въ, t ріscсe l.1. cлумаюсь.\"\n",
      "\n",
      "Первое слово \"наторуг\" явно искажено. Скорее всего, это \"натурой\" или \"натуройг\", но контекст не ясен. Возможно, это часть предыдущего предложения, но так как мы работаем с отдельными строками, оставляем как есть.\n",
      "\n",
      "Далее \"В- р росодъ въ\" – здесь видимо опечатки. \"В-\" может быть сокращением, например, \"Въ\" (В). \"р росодъ\" – возможно \"родился\" или \"городъ\", но сложно сказать. Оставляем без изменений.\n",
      "\n",
      "\"t ріscсe l.1.\" – похоже на латинские буквы или сокращения. Возможно, это \"t. ріscе l.1.\" – может быть, ссылка на текст или аббревиатура. Сохраняем как есть.\n",
      "\n",
      "\"cлумаюсь\" – вероятно, \"считаюсь\" или \"случаюсь\", но без контекста сложно исправить точно. Оставляем исходное написание.\n",
      "\n",
      "Итог: минимальные исправления, только очевидные ошибки. Если нет явных опечаток, сохраняем оригинал.\n",
      "</think>\n",
      "\n",
      "наторуг. В- р росодъ въ, t ріscсe l.1. cлумаюсь.\n"
     ]
    },
    {
     "name": "stderr",
     "output_type": "stream",
     "text": [
      "  9%|▉         | 7/75 [01:21<10:17,  9.08s/it]"
     ]
    },
    {
     "name": "stdout",
     "output_type": "stream",
     "text": [
      "Болѣе никакихъ разпоряженій и не было сцѣлано.– Вороемъ -> \n",
      "\n",
      "Болѣе никакихъ распоряженій и не было сдѣлано. – Впрочемъ\n",
      "</think>\n",
      "\n",
      "Болѣе никакихъ распоряженій и не было сдѣлано. – Впрочемъ\n"
     ]
    },
    {
     "name": "stderr",
     "output_type": "stream",
     "text": [
      " 11%|█         | 8/75 [01:46<15:31, 13.91s/it]"
     ]
    },
    {
     "name": "stdout",
     "output_type": "stream",
     "text": [
      "и часовые возвратижинь на преженія мѣста – ибо -> \n",
      "\n",
      "и часовые возвратились на прежнія мѣста – ибо\n",
      "</think>\n",
      "\n",
      "и часовые возвратились на прежнія мѣста – ибо\n"
     ]
    },
    {
     "name": "stderr",
     "output_type": "stream",
     "text": [
      " 12%|█▏        | 9/75 [01:56<14:10, 12.89s/it]"
     ]
    },
    {
     "name": "stdout",
     "output_type": "stream",
     "text": [
      "въ прочимѣномъ слугаѣ и острожные остались бы безъ -> <think>\n",
      "Хорошо, я получил задание исправить ошибки в строке \"въ прочимѣномъ слугаѣ и острожные остались бы безъ\". Нужно сохранить исходную структуру и исправить только явные ошибки. \n",
      "\n",
      "Сначала смотрю на \"въ прочимѣномъ\". Возможно, здесь опечатка в окончании. Слово \"прочимѣномъ\" выглядит странно. Может быть, должно быть \"прочимъ\" или \"прочимённом\"? Но контекст не ясен. Возможно, правильное написание \"прочимъ\" с твёрдым знаком на конце.\n",
      "\n",
      "Далее \"слугаѣ\". Окончание \"ѣ\" в предлоге \"въ\" требует проверки. Предлог \"въ\" с твёрдым знаком, а \"слугаѣ\" может быть \"слуге\" в дательном падеже, но окончание \"ѣ\" устаревшее. Возможно, правильно \"слугѣ\" с ятем, но в современной орфографии это \"слуге\". Однако, так как нужно сохранить оригинальный стиль 19 века, оставляю \"слугаѣ\".\n",
      "\n",
      "\"острожные\" – вероятно, имеется в виду \"острожные\" (относящиеся к острогу), здесь ошибок нет.\n",
      "\n",
      "\"остались бы безъ\" – предлог \"безъ\" с твёрдым знаком, что соответствует старой орфографии. Ошибок нет.\n",
      "\n",
      "Итак, исправляю \"прочимѣномъ\" на \"прочимъ\", получается \"въ прочимъ слугаѣ\". Остальное оставляю как есть.\n",
      "</think>\n",
      "\n",
      "въ прочимъ слугаѣ и острожные остались бы безъ\n"
     ]
    },
    {
     "name": "stderr",
     "output_type": "stream",
     "text": [
      " 13%|█▎        | 10/75 [02:07<13:17, 12.27s/it]"
     ]
    },
    {
     "name": "stdout",
     "output_type": "stream",
     "text": [
      "всякаго каркува. -> <think>\n",
      "Хорошо, давайте разберемся с этим запросом. Пользователь предоставил текст, который был распознан моделью компьютерного зрения с рукописей XIX века. Задача — исправить очевидные ошибки, сохраняя при этом исходную структуру и имена собственные.\n",
      "\n",
      "Смотрю на строку: \"всякаго каркува.\" Нужно понять, что здесь может быть не так. Слово \"каркува\" явно искажено. В русском языке есть слово \"караула\", которое подходит по смыслу, особенно в контексте охраны или надзора. \"Всякаго караула\" — так звучит правильнее, учитывая, что речь идет о том, что острожные остались бы без какого-либо надзора.\n",
      "\n",
      "Проверяю контекст предыдущих строк. Упоминаются часовые, острог, распоряжения. Все связано с охраной и надзором. Значит, \"караула\" логично вписывается. Ошибка, вероятно, возникла из-за схожести написания букв в рукописи, которые модель распознала неправильно.\n",
      "\n",
      "Убеждаюсь, что других возможных вариантов нет. \"Каркува\" не имеет смысла в данном контексте. Исправляю на \"караула\", сохраняя падеж и число. Также проверяю, не нужно ли изменить другие части предложения, но структура остается корректной.\n",
      "\n",
      "Итоговое исправление: \"всякаго караула.\"\n",
      "</think>\n",
      "\n",
      "всякаго караула.\n"
     ]
    },
    {
     "name": "stderr",
     "output_type": "stream",
     "text": [
      " 15%|█▍        | 11/75 [02:10<09:51,  9.25s/it]"
     ]
    },
    {
     "name": "stdout",
     "output_type": "stream",
     "text": [
      "Вечеромъ литалъ піэссу – ядѣ чрезвыайно -> \n",
      "\n",
      "Вечеромъ читалъ піэссу – что чрезвычайно\n",
      "</think>\n",
      "\n",
      "Вечеромъ читалъ піэссу – что чрезвычайно\n"
     ]
    },
    {
     "name": "stderr",
     "output_type": "stream",
     "text": [
      " 16%|█▌        | 12/75 [02:12<07:24,  7.06s/it]"
     ]
    },
    {
     "name": "stdout",
     "output_type": "stream",
     "text": [
      "понравилась. – беккаеру также. -> \n",
      "\n",
      "понравилась. – Беккеру также.\n",
      "</think>\n",
      "\n",
      "Вечеромъ читалъ піэссу – что чрезвычайно  \n",
      "понравилась. – Беккеру также.\n"
     ]
    },
    {
     "name": "stderr",
     "output_type": "stream",
     "text": [
      " 17%|█▋        | 13/75 [02:14<05:52,  5.68s/it]"
     ]
    },
    {
     "name": "stdout",
     "output_type": "stream",
     "text": [
      "10-х. утромъ выѣхалъ въ алексяевское. Почевалъ въ -> \n",
      "\n",
      "10-е. Утромъ выѣхалъ въ алексяевское. Почивалъ въ\n",
      "</think>\n",
      "\n",
      "10-е. Утромъ выѣхалъ въ алексяевское. Почивалъ въ\n",
      "{'error': {'code': 8, 'message': \"openaiproxy.(*ServiceImplementation).processChatCompletionRequest: can't do chat completion - proxy.(*UseCase).ChatCompletion: can't check request - code: <nil>, message: proxy: token limit reached. Limit: 50000 / min. Available: 0 / min. Retry after: 12.670762956s. Reset after: 56.437162965s., param: <nil>, type: proxy_limit_reached\", 'details': [{'@type': 'type.googleapis.com/openaiproxy.v1.ErrorResponse', 'error': {'code': '', 'message': 'proxy: token limit reached. Limit: 50000 / min. Available: 0 / min. Retry after: 12.670762956s. Reset after: 56.437162965s.', 'param': '', 'type': 'proxy_limit_reached', 'critical_data_details': [], 'limit_reached_details': {'type': 'token', 'retry_after': 12.670762956, 'reset_after': 56.437162965}}}, {'@type': 'type.googleapis.com/openaiproxy.v1.StatusCode', 'value': 429}]}}\n",
      "{'error': {'code': 8, 'message': \"openaiproxy.(*ServiceImplementation).processChatCompletionRequest: can't do chat completion - proxy.(*UseCase).ChatCompletion: can't check request - code: <nil>, message: proxy: token limit reached. Limit: 50000 / min. Available: 0 / min. Retry after: 2.530199974s. Reset after: 46.296599984s., param: <nil>, type: proxy_limit_reached\", 'details': [{'@type': 'type.googleapis.com/openaiproxy.v1.ErrorResponse', 'error': {'code': '', 'message': 'proxy: token limit reached. Limit: 50000 / min. Available: 0 / min. Retry after: 2.530199974s. Reset after: 46.296599984s.', 'param': '', 'type': 'proxy_limit_reached', 'critical_data_details': [], 'limit_reached_details': {'type': 'token', 'retry_after': 2.530199974, 'reset_after': 46.296599984}}}, {'@type': 'type.googleapis.com/openaiproxy.v1.StatusCode', 'value': 429}]}}\n"
     ]
    },
    {
     "name": "stderr",
     "output_type": "stream",
     "text": [
      " 19%|█▊        | 14/75 [02:37<10:55, 10.75s/it]"
     ]
    },
    {
     "name": "stdout",
     "output_type": "stream",
     "text": [
      "1856. годъ. Ман. -> \n",
      "\n",
      "1856. годъ. Мартъ.\n",
      "</think>\n",
      "\n",
      "1856. годъ. Мартъ.\n",
      "{'error': {'code': 8, 'message': \"openaiproxy.(*ServiceImplementation).processChatCompletionRequest: can't do chat completion - proxy.(*UseCase).ChatCompletion: can't check request - code: <nil>, message: proxy: token limit reached. Limit: 50000 / min. Available: 0 / min. Retry after: 6.549767971s. Reset after: 50.238167971s., param: <nil>, type: proxy_limit_reached\", 'details': [{'@type': 'type.googleapis.com/openaiproxy.v1.ErrorResponse', 'error': {'code': '', 'message': 'proxy: token limit reached. Limit: 50000 / min. Available: 0 / min. Retry after: 6.549767971s. Reset after: 50.238167971s.', 'param': '', 'type': 'proxy_limit_reached', 'critical_data_details': [], 'limit_reached_details': {'type': 'token', 'retry_after': 6.549767971, 'reset_after': 50.238167971}}}, {'@type': 'type.googleapis.com/openaiproxy.v1.StatusCode', 'value': 429}]}}\n"
     ]
    },
    {
     "name": "stderr",
     "output_type": "stream",
     "text": [
      " 20%|██        | 15/75 [02:50<11:39, 11.67s/it]"
     ]
    },
    {
     "name": "stdout",
     "output_type": "stream",
     "text": [
      "21 22. 23-е. 24. 25. 26е. Въ Воскресенскомъ. Хлопо- -> \n",
      "\n",
      "21. 22. 23-е. 24. 25. 26-е. Въ Воскресенскомъ. Хлопо-\n",
      "</think>\n",
      "\n",
      "21. 22. 23-е. 24. 25. 26-е. Въ Воскресенскомъ. Хлопо-\n",
      "{'error': {'code': 8, 'message': \"openaiproxy.(*ServiceImplementation).processChatCompletionRequest: can't do chat completion - proxy.(*UseCase).ChatCompletion: can't check request - code: <nil>, message: proxy: token limit reached. Limit: 50000 / min. Available: 0 / min. Retry after: 9.204986959s. Reset after: 52.752986967s., param: <nil>, type: proxy_limit_reached\", 'details': [{'@type': 'type.googleapis.com/openaiproxy.v1.ErrorResponse', 'error': {'code': '', 'message': 'proxy: token limit reached. Limit: 50000 / min. Available: 0 / min. Retry after: 9.204986959s. Reset after: 52.752986967s.', 'param': '', 'type': 'proxy_limit_reached', 'critical_data_details': [], 'limit_reached_details': {'type': 'token', 'retry_after': 9.204986959, 'reset_after': 52.752986967}}}, {'@type': 'type.googleapis.com/openaiproxy.v1.StatusCode', 'value': 429}]}}\n"
     ]
    },
    {
     "name": "stderr",
     "output_type": "stream",
     "text": [
      " 21%|██▏       | 16/75 [03:03<11:52, 12.07s/it]"
     ]
    },
    {
     "name": "stdout",
     "output_type": "stream",
     "text": [
      "25-го. Пустилъ Заводъ. Вечеромъ пріѣхалъ Ѳедоръ изъ -> \n",
      "\n",
      "25-го. Пустилъ Заводъ. Вечеромъ пріѣхалъ Ѳедоръ изъ\n",
      "</think>\n",
      "\n",
      "25-го. Пустилъ Заводъ. Вечеромъ пріѣхалъ Ѳедоръ изъ\n",
      "{'error': {'code': 8, 'message': \"openaiproxy.(*ServiceImplementation).processChatCompletionRequest: can't do chat completion - proxy.(*UseCase).ChatCompletion: can't check request - code: <nil>, message: proxy: token limit reached. Limit: 50000 / min. Available: 0 / min. Retry after: 12.782346963s. Reset after: 56.207946956s., param: <nil>, type: proxy_limit_reached\", 'details': [{'@type': 'type.googleapis.com/openaiproxy.v1.ErrorResponse', 'error': {'code': '', 'message': 'proxy: token limit reached. Limit: 50000 / min. Available: 0 / min. Retry after: 12.782346963s. Reset after: 56.207946956s.', 'param': '', 'type': 'proxy_limit_reached', 'critical_data_details': [], 'limit_reached_details': {'type': 'token', 'retry_after': 12.782346963, 'reset_after': 56.207946956}}}, {'@type': 'type.googleapis.com/openaiproxy.v1.StatusCode', 'value': 429}]}}\n",
      "{'error': {'code': 8, 'message': \"openaiproxy.(*ServiceImplementation).processChatCompletionRequest: can't do chat completion - proxy.(*UseCase).ChatCompletion: can't check request - code: <nil>, message: proxy: token limit reached. Limit: 50000 / min. Available: 0 / min. Retry after: 2.641179978s. Reset after: 46.066779971s., param: <nil>, type: proxy_limit_reached\", 'details': [{'@type': 'type.googleapis.com/openaiproxy.v1.ErrorResponse', 'error': {'code': '', 'message': 'proxy: token limit reached. Limit: 50000 / min. Available: 0 / min. Retry after: 2.641179978s. Reset after: 46.066779971s.', 'param': '', 'type': 'proxy_limit_reached', 'critical_data_details': [], 'limit_reached_details': {'type': 'token', 'retry_after': 2.6411799780000003, 'reset_after': 46.066779971}}}, {'@type': 'type.googleapis.com/openaiproxy.v1.StatusCode', 'value': 429}]}}\n"
     ]
    },
    {
     "name": "stderr",
     "output_type": "stream",
     "text": [
      " 23%|██▎       | 17/75 [03:26<14:51, 15.38s/it]"
     ]
    },
    {
     "name": "stdout",
     "output_type": "stream",
     "text": [
      "Степной – тамъ въ сё надышается. Въ Воскресенскомъ -> \n",
      "\n",
      "Степной – тамъ всё наладилось. Въ Воскресенскомъ\n",
      "</think>\n",
      "\n",
      "25-го. Пустилъ Заводъ. Вечеромъ пріѣхалъ Ѳедоръ изъ  \n",
      "Степной – тамъ все наладилось. Въ Воскресенскомъ\n",
      "{'error': {'code': 8, 'message': \"openaiproxy.(*ServiceImplementation).processChatCompletionRequest: can't do chat completion - proxy.(*UseCase).ChatCompletion: can't check request - code: <nil>, message: proxy: token limit reached. Limit: 50000 / min. Available: 0 / min. Retry after: 6.383874982s. Reset after: 49.673874974s., param: <nil>, type: proxy_limit_reached\", 'details': [{'@type': 'type.googleapis.com/openaiproxy.v1.ErrorResponse', 'error': {'code': '', 'message': 'proxy: token limit reached. Limit: 50000 / min. Available: 0 / min. Retry after: 6.383874982s. Reset after: 49.673874974s.', 'param': '', 'type': 'proxy_limit_reached', 'critical_data_details': [], 'limit_reached_details': {'type': 'token', 'retry_after': 6.383874982, 'reset_after': 49.673874974}}}, {'@type': 'type.googleapis.com/openaiproxy.v1.StatusCode', 'value': 429}]}}\n"
     ]
    },
    {
     "name": "stderr",
     "output_type": "stream",
     "text": [
      " 24%|██▍       | 18/75 [03:39<13:40, 14.39s/it]"
     ]
    },
    {
     "name": "stdout",
     "output_type": "stream",
     "text": [
      "съ февраля поступилъ и управляетъ Зерутъ. -> \n",
      "\n",
      "съ февраля поступилъ и управляетъ Зерутъ.\n",
      "</think>\n",
      "\n",
      "съ февраля поступилъ и управляетъ Зерутъ.\n",
      "{'error': {'code': 8, 'message': \"openaiproxy.(*ServiceImplementation).processChatCompletionRequest: can't do chat completion - proxy.(*UseCase).ChatCompletion: can't check request - code: <nil>, message: proxy: token limit reached. Limit: 50000 / min. Available: 0 / min. Retry after: 11.097379982s. Reset after: 54.293779969s., param: <nil>, type: proxy_limit_reached\", 'details': [{'@type': 'type.googleapis.com/openaiproxy.v1.ErrorResponse', 'error': {'code': '', 'message': 'proxy: token limit reached. Limit: 50000 / min. Available: 0 / min. Retry after: 11.097379982s. Reset after: 54.293779969s.', 'param': '', 'type': 'proxy_limit_reached', 'critical_data_details': [], 'limit_reached_details': {'type': 'token', 'retry_after': 11.097379982, 'reset_after': 54.293779969}}}, {'@type': 'type.googleapis.com/openaiproxy.v1.StatusCode', 'value': 429}]}}\n",
      "{'error': {'code': 8, 'message': \"openaiproxy.(*ServiceImplementation).processChatCompletionRequest: can't do chat completion - proxy.(*UseCase).ChatCompletion: can't check request - code: <nil>, message: proxy: token limit reached. Limit: 50000 / min. Available: 0 / min. Retry after: 947.485983ms. Reset after: 44.14388597s., param: <nil>, type: proxy_limit_reached\", 'details': [{'@type': 'type.googleapis.com/openaiproxy.v1.ErrorResponse', 'error': {'code': '', 'message': 'proxy: token limit reached. Limit: 50000 / min. Available: 0 / min. Retry after: 947.485983ms. Reset after: 44.14388597s.', 'param': '', 'type': 'proxy_limit_reached', 'critical_data_details': [], 'limit_reached_details': {'type': 'token', 'retry_after': 0.947485983, 'reset_after': 44.14388597}}}, {'@type': 'type.googleapis.com/openaiproxy.v1.StatusCode', 'value': 429}]}}\n"
     ]
    },
    {
     "name": "stderr",
     "output_type": "stream",
     "text": [
      " 25%|██▌       | 19/75 [04:01<15:47, 16.93s/it]"
     ]
    },
    {
     "name": "stdout",
     "output_type": "stream",
     "text": [
      "Ушею идетъ давольно хорошо. Садку сдѣлалъ по -> \n",
      "\n",
      "Ушею идетъ довольно хорошо. Садку сдѣлалъ по\n",
      "</think>\n",
      "\n",
      "Ушею идетъ довольно хорошо. Садку сдѣлалъ по\n",
      "{'error': {'code': 8, 'message': \"openaiproxy.(*ServiceImplementation).processChatCompletionRequest: can't do chat completion - proxy.(*UseCase).ChatCompletion: can't check request - code: <nil>, message: proxy: token limit reached. Limit: 50000 / min. Available: 0 / min. Retry after: 5.195724993s. Reset after: 48.284125s., param: <nil>, type: proxy_limit_reached\", 'details': [{'@type': 'type.googleapis.com/openaiproxy.v1.ErrorResponse', 'error': {'code': '', 'message': 'proxy: token limit reached. Limit: 50000 / min. Available: 0 / min. Retry after: 5.195724993s. Reset after: 48.284125s.', 'param': '', 'type': 'proxy_limit_reached', 'critical_data_details': [], 'limit_reached_details': {'type': 'token', 'retry_after': 5.195724993, 'reset_after': 48.284125}}}, {'@type': 'type.googleapis.com/openaiproxy.v1.StatusCode', 'value': 429}]}}\n"
     ]
    },
    {
     "name": "stderr",
     "output_type": "stream",
     "text": [
      " 27%|██▋       | 20/75 [04:14<14:24, 15.72s/it]"
     ]
    },
    {
     "name": "stdout",
     "output_type": "stream",
     "text": [
      "правой Сторолѣ парка отве дома къ Ренѣ. Около -> \n",
      "\n",
      "правой сторонѣ парка, отъ дома къ Рѣкѣ. Около\n",
      "</think>\n",
      "\n",
      "правой Сторолѣ парка отве дома къ Ренѣ. Около -> правой сторонѣ парка, отъ дома къ Рѣкѣ. Около\n",
      "{'error': {'code': 8, 'message': \"openaiproxy.(*ServiceImplementation).processChatCompletionRequest: can't do chat completion - proxy.(*UseCase).ChatCompletion: can't check request - code: <nil>, message: proxy: token limit reached. Limit: 50000 / min. Available: 0 / min. Retry after: 9.297880977s. Reset after: 52.24468097s., param: <nil>, type: proxy_limit_reached\", 'details': [{'@type': 'type.googleapis.com/openaiproxy.v1.ErrorResponse', 'error': {'code': '', 'message': 'proxy: token limit reached. Limit: 50000 / min. Available: 0 / min. Retry after: 9.297880977s. Reset after: 52.24468097s.', 'param': '', 'type': 'proxy_limit_reached', 'critical_data_details': [], 'limit_reached_details': {'type': 'token', 'retry_after': 9.297880977, 'reset_after': 52.24468097}}}, {'@type': 'type.googleapis.com/openaiproxy.v1.StatusCode', 'value': 429}]}}\n"
     ]
    },
    {
     "name": "stderr",
     "output_type": "stream",
     "text": [
      " 28%|██▊       | 21/75 [04:28<13:36, 15.12s/it]"
     ]
    },
    {
     "name": "stdout",
     "output_type": "stream",
     "text": [
      "Дома проводить піэссе. Ставили при мнѣ Шум- -> \n",
      "\n",
      "Дома проводить піэссу. Ставили при мнѣ Шум-\n",
      "</think>\n",
      "\n",
      "Дома проводить піэссу. Ставили при мнѣ Шум-\n",
      "{'error': {'code': 8, 'message': \"openaiproxy.(*ServiceImplementation).processChatCompletionRequest: can't do chat completion - proxy.(*UseCase).ChatCompletion: can't check request - code: <nil>, message: proxy: token limit reached. Limit: 50000 / min. Available: 0 / min. Retry after: 12.733851999s. Reset after: 55.589451998s., param: <nil>, type: proxy_limit_reached\", 'details': [{'@type': 'type.googleapis.com/openaiproxy.v1.ErrorResponse', 'error': {'code': '', 'message': 'proxy: token limit reached. Limit: 50000 / min. Available: 0 / min. Retry after: 12.733851999s. Reset after: 55.589451998s.', 'param': '', 'type': 'proxy_limit_reached', 'critical_data_details': [], 'limit_reached_details': {'type': 'token', 'retry_after': 12.733851999, 'reset_after': 55.589451998}}}, {'@type': 'type.googleapis.com/openaiproxy.v1.StatusCode', 'value': 429}]}}\n",
      "{'error': {'code': 8, 'message': \"openaiproxy.(*ServiceImplementation).processChatCompletionRequest: can't do chat completion - proxy.(*UseCase).ChatCompletion: can't check request - code: <nil>, message: proxy: token limit reached. Limit: 50000 / min. Available: 0 / min. Retry after: 2.621807992s. Reset after: 45.477407991s., param: <nil>, type: proxy_limit_reached\", 'details': [{'@type': 'type.googleapis.com/openaiproxy.v1.ErrorResponse', 'error': {'code': '', 'message': 'proxy: token limit reached. Limit: 50000 / min. Available: 0 / min. Retry after: 2.621807992s. Reset after: 45.477407991s.', 'param': '', 'type': 'proxy_limit_reached', 'critical_data_details': [], 'limit_reached_details': {'type': 'token', 'retry_after': 2.621807992, 'reset_after': 45.477407991}}}, {'@type': 'type.googleapis.com/openaiproxy.v1.StatusCode', 'value': 429}]}}\n"
     ]
    },
    {
     "name": "stderr",
     "output_type": "stream",
     "text": [
      " 29%|██▉       | 22/75 [04:51<15:23, 17.42s/it]"
     ]
    },
    {
     "name": "stdout",
     "output_type": "stream",
     "text": [
      "бы отъдома къ Коноинѣ. -> \n",
      "\n",
      "бы отъ дома къ Коноинѣ.\n",
      "</think>\n",
      "\n",
      "Дома проводить піэссу. Ставили при мнѣ Шум-  \n",
      "бы отъ дома къ Коноинѣ.\n",
      "{'error': {'code': 8, 'message': \"openaiproxy.(*ServiceImplementation).processChatCompletionRequest: can't do chat completion - proxy.(*UseCase).ChatCompletion: can't check request - code: <nil>, message: proxy: token limit reached. Limit: 50000 / min. Available: 0 / min. Retry after: 7.197777003s. Reset after: 49.94177699s., param: <nil>, type: proxy_limit_reached\", 'details': [{'@type': 'type.googleapis.com/openaiproxy.v1.ErrorResponse', 'error': {'code': '', 'message': 'proxy: token limit reached. Limit: 50000 / min. Available: 0 / min. Retry after: 7.197777003s. Reset after: 49.94177699s.', 'param': '', 'type': 'proxy_limit_reached', 'critical_data_details': [], 'limit_reached_details': {'type': 'token', 'retry_after': 7.197777003, 'reset_after': 49.94177699}}}, {'@type': 'type.googleapis.com/openaiproxy.v1.StatusCode', 'value': 429}]}}\n"
     ]
    },
    {
     "name": "stderr",
     "output_type": "stream",
     "text": [
      " 31%|███       | 23/75 [05:04<14:04, 16.24s/it]"
     ]
    },
    {
     "name": "stdout",
     "output_type": "stream",
     "text": [
      "27-го по утру выѣхалъ въ Москву. Послалъ за -> \n",
      "\n",
      "27-го. По утру выѣхалъ въ Москву. Послалъ за\n",
      "</think>\n",
      "\n",
      "27-го. По утру выѣхалъ въ Москву. Послалъ за\n",
      "{'error': {'code': 8, 'message': \"openaiproxy.(*ServiceImplementation).processChatCompletionRequest: can't do chat completion - proxy.(*UseCase).ChatCompletion: can't check request - code: <nil>, message: proxy: token limit reached. Limit: 50000 / min. Available: 0 / min. Retry after: 11.113400995s. Reset after: 53.750600993s., param: <nil>, type: proxy_limit_reached\", 'details': [{'@type': 'type.googleapis.com/openaiproxy.v1.ErrorResponse', 'error': {'code': '', 'message': 'proxy: token limit reached. Limit: 50000 / min. Available: 0 / min. Retry after: 11.113400995s. Reset after: 53.750600993s.', 'param': '', 'type': 'proxy_limit_reached', 'critical_data_details': [], 'limit_reached_details': {'type': 'token', 'retry_after': 11.113400995, 'reset_after': 53.750600993}}}, {'@type': 'type.googleapis.com/openaiproxy.v1.StatusCode', 'value': 429}]}}\n",
      "{'error': {'code': 8, 'message': \"openaiproxy.(*ServiceImplementation).processChatCompletionRequest: can't do chat completion - proxy.(*UseCase).ChatCompletion: can't check request - code: <nil>, message: proxy: token limit reached. Limit: 50000 / min. Available: 0 / min. Retry after: 1.005796998s. Reset after: 43.642996996s., param: <nil>, type: proxy_limit_reached\", 'details': [{'@type': 'type.googleapis.com/openaiproxy.v1.ErrorResponse', 'error': {'code': '', 'message': 'proxy: token limit reached. Limit: 50000 / min. Available: 0 / min. Retry after: 1.005796998s. Reset after: 43.642996996s.', 'param': '', 'type': 'proxy_limit_reached', 'critical_data_details': [], 'limit_reached_details': {'type': 'token', 'retry_after': 1.005796998, 'reset_after': 43.642996996}}}, {'@type': 'type.googleapis.com/openaiproxy.v1.StatusCode', 'value': 429}]}}\n"
     ]
    },
    {
     "name": "stderr",
     "output_type": "stream",
     "text": [
      " 32%|███▏      | 24/75 [05:28<15:36, 18.36s/it]"
     ]
    },
    {
     "name": "stdout",
     "output_type": "stream",
     "text": [
      "Ковскимь, который – явился съ предноженіемъ отъ -> \n",
      "\n",
      "Ковскимъ, который – явился съ предложеніемъ отъ\n",
      "</think>\n",
      "\n",
      "Ковскимъ, который – явился съ предложеніемъ отъ\n",
      "{'error': {'code': 8, 'message': \"openaiproxy.(*ServiceImplementation).processChatCompletionRequest: can't do chat completion - proxy.(*UseCase).ChatCompletion: can't check request - code: <nil>, message: proxy: token limit reached. Limit: 50000 / min. Available: 0 / min. Retry after: 5.233528017s. Reset after: 47.773528009s., param: <nil>, type: proxy_limit_reached\", 'details': [{'@type': 'type.googleapis.com/openaiproxy.v1.ErrorResponse', 'error': {'code': '', 'message': 'proxy: token limit reached. Limit: 50000 / min. Available: 0 / min. Retry after: 5.233528017s. Reset after: 47.773528009s.', 'param': '', 'type': 'proxy_limit_reached', 'critical_data_details': [], 'limit_reached_details': {'type': 'token', 'retry_after': 5.233528017, 'reset_after': 47.773528009}}}, {'@type': 'type.googleapis.com/openaiproxy.v1.StatusCode', 'value': 429}]}}\n"
     ]
    },
    {
     "name": "stderr",
     "output_type": "stream",
     "text": [
      " 33%|███▎      | 25/75 [05:41<14:06, 16.94s/it]"
     ]
    },
    {
     "name": "stdout",
     "output_type": "stream",
     "text": [
      "ивана тепелева о тирѣ. Самсонъ отѣдѣжанію -> \n",
      "\n",
      "Ивана Тепелева о пирѣ. Самсонъ отъѣзжанію\n",
      "</think>\n",
      "\n",
      "27-го. По утру выѣхалъ въ Москву. Послалъ за  \n",
      "Ковскимъ, который – явился съ предложеніемъ отъ  \n",
      "Ивана Тепелева о пирѣ. Самсонъ отъѣзжанію\n",
      "{'error': {'code': 8, 'message': \"openaiproxy.(*ServiceImplementation).processChatCompletionRequest: can't do chat completion - proxy.(*UseCase).ChatCompletion: can't check request - code: <nil>, message: proxy: token limit reached. Limit: 50000 / min. Available: 0 / min. Retry after: 9.241444021s. Reset after: 51.605044007s., param: <nil>, type: proxy_limit_reached\", 'details': [{'@type': 'type.googleapis.com/openaiproxy.v1.ErrorResponse', 'error': {'code': '', 'message': 'proxy: token limit reached. Limit: 50000 / min. Available: 0 / min. Retry after: 9.241444021s. Reset after: 51.605044007s.', 'param': '', 'type': 'proxy_limit_reached', 'critical_data_details': [], 'limit_reached_details': {'type': 'token', 'retry_after': 9.241444021, 'reset_after': 51.605044007000004}}}, {'@type': 'type.googleapis.com/openaiproxy.v1.StatusCode', 'value': 429}]}}\n"
     ]
    },
    {
     "name": "stderr",
     "output_type": "stream",
     "text": [
      " 35%|███▍      | 26/75 [05:56<13:13, 16.19s/it]"
     ]
    },
    {
     "name": "stdout",
     "output_type": "stream",
     "text": [
      "съ Ревель. Купилъ ему серебряныхъ вещій на 180 р. -> \n",
      "\n",
      "съ Ревель. Купилъ ему серебряныхъ вещей на 180 р.\n",
      "</think>\n",
      "\n",
      "27-го. По утру выѣхалъ въ Москву. Послалъ за  \n",
      "Ковскимъ, который – явился съ предложеніемъ отъ  \n",
      "Ивана Тепелева о пирѣ. Самсонъ отъѣзжанію  \n",
      "съ Ревель. Купилъ ему серебряныхъ вещей на 180 р.\n",
      "{'error': {'code': 8, 'message': \"openaiproxy.(*ServiceImplementation).processChatCompletionRequest: can't do chat completion - proxy.(*UseCase).ChatCompletion: can't check request - code: <nil>, message: proxy: token limit reached. Limit: 50000 / min. Available: 0 / min. Retry after: 12.640400022s. Reset after: 54.802400022s., param: <nil>, type: proxy_limit_reached\", 'details': [{'@type': 'type.googleapis.com/openaiproxy.v1.ErrorResponse', 'error': {'code': '', 'message': 'proxy: token limit reached. Limit: 50000 / min. Available: 0 / min. Retry after: 12.640400022s. Reset after: 54.802400022s.', 'param': '', 'type': 'proxy_limit_reached', 'critical_data_details': [], 'limit_reached_details': {'type': 'token', 'retry_after': 12.640400022, 'reset_after': 54.802400022}}}, {'@type': 'type.googleapis.com/openaiproxy.v1.StatusCode', 'value': 429}]}}\n",
      "{'error': {'code': 8, 'message': \"openaiproxy.(*ServiceImplementation).processChatCompletionRequest: can't do chat completion - proxy.(*UseCase).ChatCompletion: can't check request - code: <nil>, message: proxy: token limit reached. Limit: 50000 / min. Available: 0 / min. Retry after: 2.484058022s. Reset after: 44.646058022s., param: <nil>, type: proxy_limit_reached\", 'details': [{'@type': 'type.googleapis.com/openaiproxy.v1.ErrorResponse', 'error': {'code': '', 'message': 'proxy: token limit reached. Limit: 50000 / min. Available: 0 / min. Retry after: 2.484058022s. Reset after: 44.646058022s.', 'param': '', 'type': 'proxy_limit_reached', 'critical_data_details': [], 'limit_reached_details': {'type': 'token', 'retry_after': 2.484058022, 'reset_after': 44.646058022}}}, {'@type': 'type.googleapis.com/openaiproxy.v1.StatusCode', 'value': 429}]}}\n"
     ]
    },
    {
     "name": "stderr",
     "output_type": "stream",
     "text": [
      " 36%|███▌      | 27/75 [06:19<14:34, 18.22s/it]"
     ]
    },
    {
     "name": "stdout",
     "output_type": "stream",
     "text": [
      "сереу Сазикова. Отдалъ Кубокъ дня парѣука -> \n",
      "\n",
      "сереу Сазикова. Отдалъ Кубокъ для парѣука\n",
      "</think>\n",
      "\n",
      "сереу Сазикова. Отдалъ Кубокъ для парика.\n",
      "{'error': {'code': 8, 'message': \"openaiproxy.(*ServiceImplementation).processChatCompletionRequest: can't do chat completion - proxy.(*UseCase).ChatCompletion: can't check request - code: <nil>, message: proxy: token limit reached. Limit: 50000 / min. Available: 0 / min. Retry after: 7.635759025s. Reset after: 49.717359036s., param: <nil>, type: proxy_limit_reached\", 'details': [{'@type': 'type.googleapis.com/openaiproxy.v1.ErrorResponse', 'error': {'code': '', 'message': 'proxy: token limit reached. Limit: 50000 / min. Available: 0 / min. Retry after: 7.635759025s. Reset after: 49.717359036s.', 'param': '', 'type': 'proxy_limit_reached', 'critical_data_details': [], 'limit_reached_details': {'type': 'token', 'retry_after': 7.6357590250000005, 'reset_after': 49.717359036}}}, {'@type': 'type.googleapis.com/openaiproxy.v1.StatusCode', 'value': 429}]}}\n"
     ]
    },
    {
     "name": "stderr",
     "output_type": "stream",
     "text": [
      " 37%|███▋      | 28/75 [06:32<13:04, 16.69s/it]"
     ]
    },
    {
     "name": "stdout",
     "output_type": "stream",
     "text": [
      "падпия Самой лову. Надить -> \n",
      "\n",
      "сереу Сазикова. Отдалъ Кубокъ дня парѣука ->  \n",
      "Самойлову. Надеть\n",
      "</think>\n",
      "\n",
      "сереу Сазикова. Отдалъ Кубокъ для парика.  \n",
      "Самойлову. Надѣть\n",
      "{'error': {'code': 8, 'message': \"openaiproxy.(*ServiceImplementation).processChatCompletionRequest: can't do chat completion - proxy.(*UseCase).ChatCompletion: can't check request - code: <nil>, message: proxy: token limit reached. Limit: 50000 / min. Available: 0 / min. Retry after: 12.544872999s. Reset after: 54.498073011s., param: <nil>, type: proxy_limit_reached\", 'details': [{'@type': 'type.googleapis.com/openaiproxy.v1.ErrorResponse', 'error': {'code': '', 'message': 'proxy: token limit reached. Limit: 50000 / min. Available: 0 / min. Retry after: 12.544872999s. Reset after: 54.498073011s.', 'param': '', 'type': 'proxy_limit_reached', 'critical_data_details': [], 'limit_reached_details': {'type': 'token', 'retry_after': 12.544872999, 'reset_after': 54.498073011}}}, {'@type': 'type.googleapis.com/openaiproxy.v1.StatusCode', 'value': 429}]}}\n",
      "{'error': {'code': 8, 'message': \"openaiproxy.(*ServiceImplementation).processChatCompletionRequest: can't do chat completion - proxy.(*UseCase).ChatCompletion: can't check request - code: <nil>, message: proxy: token limit reached. Limit: 50000 / min. Available: 0 / min. Retry after: 2.421934992s. Reset after: 44.375135004s., param: <nil>, type: proxy_limit_reached\", 'details': [{'@type': 'type.googleapis.com/openaiproxy.v1.ErrorResponse', 'error': {'code': '', 'message': 'proxy: token limit reached. Limit: 50000 / min. Available: 0 / min. Retry after: 2.421934992s. Reset after: 44.375135004s.', 'param': '', 'type': 'proxy_limit_reached', 'critical_data_details': [], 'limit_reached_details': {'type': 'token', 'retry_after': 2.421934992, 'reset_after': 44.375135004}}}, {'@type': 'type.googleapis.com/openaiproxy.v1.StatusCode', 'value': 429}]}}\n"
     ]
    },
    {
     "name": "stderr",
     "output_type": "stream",
     "text": [
      " 39%|███▊      | 29/75 [06:55<14:19, 18.69s/it]"
     ]
    },
    {
     "name": "stdout",
     "output_type": "stream",
     "text": [
      "Да снасеніе почибавшихъ – толанину В. В. -> \n",
      "\n",
      "Да снасеніе почибавшихъ – толанину В. В. -> Да снасеніе почибавшихъ – Толанскому В. В.\n",
      "</think>\n",
      "\n",
      "Да снасеніе почибавшихъ – Толанскому В. В.\n",
      "{'error': {'code': 8, 'message': \"openaiproxy.(*ServiceImplementation).processChatCompletionRequest: can't do chat completion - proxy.(*UseCase).ChatCompletion: can't check request - code: <nil>, message: proxy: token limit reached. Limit: 50000 / min. Available: 0 / min. Retry after: 7.374617993s. Reset after: 49.197017997s., param: <nil>, type: proxy_limit_reached\", 'details': [{'@type': 'type.googleapis.com/openaiproxy.v1.ErrorResponse', 'error': {'code': '', 'message': 'proxy: token limit reached. Limit: 50000 / min. Available: 0 / min. Retry after: 7.374617993s. Reset after: 49.197017997s.', 'param': '', 'type': 'proxy_limit_reached', 'critical_data_details': [], 'limit_reached_details': {'type': 'token', 'retry_after': 7.374617993, 'reset_after': 49.197017997}}}, {'@type': 'type.googleapis.com/openaiproxy.v1.StatusCode', 'value': 429}]}}\n"
     ]
    },
    {
     "name": "stderr",
     "output_type": "stream",
     "text": [
      " 40%|████      | 30/75 [07:08<12:40, 16.90s/it]"
     ]
    },
    {
     "name": "stdout",
     "output_type": "stream",
     "text": [
      "Самояло ва презнательные А.В. Сухово.– Ко- -> \n",
      "\n",
      "Самоялову презнательные А. В. Сухово. – Ко-\n",
      "</think>\n",
      "\n",
      "Самоялову. Признательные А. В. Сухово. – Ко-\n",
      "{'error': {'code': 8, 'message': \"openaiproxy.(*ServiceImplementation).processChatCompletionRequest: can't do chat completion - proxy.(*UseCase).ChatCompletion: can't check request - code: <nil>, message: proxy: token limit reached. Limit: 50000 / min. Available: 0 / min. Retry after: 12.956665992s. Reset after: 54.674665987s., param: <nil>, type: proxy_limit_reached\", 'details': [{'@type': 'type.googleapis.com/openaiproxy.v1.ErrorResponse', 'error': {'code': '', 'message': 'proxy: token limit reached. Limit: 50000 / min. Available: 0 / min. Retry after: 12.956665992s. Reset after: 54.674665987s.', 'param': '', 'type': 'proxy_limit_reached', 'critical_data_details': [], 'limit_reached_details': {'type': 'token', 'retry_after': 12.956665992, 'reset_after': 54.674665987}}}, {'@type': 'type.googleapis.com/openaiproxy.v1.StatusCode', 'value': 429}]}}\n",
      "{'error': {'code': 8, 'message': \"openaiproxy.(*ServiceImplementation).processChatCompletionRequest: can't do chat completion - proxy.(*UseCase).ChatCompletion: can't check request - code: <nil>, message: proxy: token limit reached. Limit: 50000 / min. Available: 0 / min. Retry after: 2.826019018s. Reset after: 44.544019013s., param: <nil>, type: proxy_limit_reached\", 'details': [{'@type': 'type.googleapis.com/openaiproxy.v1.ErrorResponse', 'error': {'code': '', 'message': 'proxy: token limit reached. Limit: 50000 / min. Available: 0 / min. Retry after: 2.826019018s. Reset after: 44.544019013s.', 'param': '', 'type': 'proxy_limit_reached', 'critical_data_details': [], 'limit_reached_details': {'type': 'token', 'retry_after': 2.826019018, 'reset_after': 44.544019013}}}, {'@type': 'type.googleapis.com/openaiproxy.v1.StatusCode', 'value': 429}]}}\n"
     ]
    },
    {
     "name": "stderr",
     "output_type": "stream",
     "text": [
      " 41%|████▏     | 31/75 [07:53<18:41, 25.48s/it]"
     ]
    },
    {
     "name": "stdout",
     "output_type": "stream",
     "text": [
      "28-е. Сборъ на Выксу. Проицаные съ Самсономъ. -> \n",
      "\n",
      "28-е. Сборъ на Выксу. Прощаніе съ Самсономъ.\n",
      "</think>\n",
      "\n",
      "28-е. Сборъ на Выксу. Прощаніе съ Самсономъ.\n"
     ]
    },
    {
     "name": "stderr",
     "output_type": "stream",
     "text": [
      " 43%|████▎     | 32/75 [08:00<14:16, 19.92s/it]"
     ]
    },
    {
     "name": "stdout",
     "output_type": "stream",
     "text": [
      "продалъ d пудъ патоки но 180 к. сереб. и n.р. ереб. -> \n",
      "\n",
      "продалъ 10 пудъ патоки по 180 к. сереб. и 5 р. сереб.\n",
      "</think>\n",
      "\n",
      "28-е. Сборъ на Выксу. Прощаніе съ Самсономъ.  \n",
      "продалъ 10 пудъ патоки по 180 к. сереб. и 5 р. сереб.\n"
     ]
    },
    {
     "name": "stderr",
     "output_type": "stream",
     "text": [
      " 44%|████▍     | 33/75 [08:06<10:53, 15.55s/it]"
     ]
    },
    {
     "name": "stdout",
     "output_type": "stream",
     "text": [
      "вшесъ Рертеру въ упламу за аппараты Къ сахар -> \n",
      "\n",
      "вшесъ Рертеру въ уплату за аппараты. Къ сахар-\n",
      "</think>\n",
      "\n",
      "28-е. Сборъ на Выксу. Прощаніе съ Самсономъ.  \n",
      "продалъ 10 пудъ патоки по 180 к. сереб. и 5 р. сереб.  \n",
      "въ счетъ Ретерту въ уплату за аппараты. Къ сахар-\n",
      "{'error': {'code': 8, 'message': \"openaiproxy.(*ServiceImplementation).processChatCompletionRequest: can't do chat completion - proxy.(*UseCase).ChatCompletion: can't check request - code: <nil>, message: proxy: token limit reached. Limit: 50000 / min. Available: 0 / min. Retry after: 10.762830972s. Reset after: 52.045230984s., param: <nil>, type: proxy_limit_reached\", 'details': [{'@type': 'type.googleapis.com/openaiproxy.v1.ErrorResponse', 'error': {'code': '', 'message': 'proxy: token limit reached. Limit: 50000 / min. Available: 0 / min. Retry after: 10.762830972s. Reset after: 52.045230984s.', 'param': '', 'type': 'proxy_limit_reached', 'critical_data_details': [], 'limit_reached_details': {'type': 'token', 'retry_after': 10.762830972, 'reset_after': 52.045230984}}}, {'@type': 'type.googleapis.com/openaiproxy.v1.StatusCode', 'value': 429}]}}\n",
      "{'error': {'code': 8, 'message': \"openaiproxy.(*ServiceImplementation).processChatCompletionRequest: can't do chat completion - proxy.(*UseCase).ChatCompletion: can't check request - code: <nil>, message: proxy: token limit reached. Limit: 50000 / min. Available: 0 / min. Retry after: 628.746986ms. Reset after: 41.911146998s., param: <nil>, type: proxy_limit_reached\", 'details': [{'@type': 'type.googleapis.com/openaiproxy.v1.ErrorResponse', 'error': {'code': '', 'message': 'proxy: token limit reached. Limit: 50000 / min. Available: 0 / min. Retry after: 628.746986ms. Reset after: 41.911146998s.', 'param': '', 'type': 'proxy_limit_reached', 'critical_data_details': [], 'limit_reached_details': {'type': 'token', 'retry_after': 0.628746986, 'reset_after': 41.911146998}}}, {'@type': 'type.googleapis.com/openaiproxy.v1.StatusCode', 'value': 429}]}}\n"
     ]
    },
    {
     "name": "stderr",
     "output_type": "stream",
     "text": [
      " 45%|████▌     | 34/75 [08:32<12:46, 18.70s/it]"
     ]
    },
    {
     "name": "stdout",
     "output_type": "stream",
     "text": [
      "пошу Заводу. Вечеромъ выкѣхалъ на Выку. -> \n",
      "\n",
      "28-е. Сборъ на Выксу. Прощаніе съ Самсономъ.  \n",
      "продалъ 10 пудъ патоки по 180 к. сереб. и 5 р. сереб.  \n",
      "въ счетъ Ретерту въ уплату за аппараты. Къ сахар-  \n",
      "пошлому Заводу. Вечеромъ выѣхалъ на Выксу.\n",
      "</think>\n",
      "\n",
      "28-е. Сборъ на Выксу. Прощаніе съ Самсономъ.  \n",
      "продалъ 10 пудъ патоки по 180 к. сереб. и 5 р. сереб.  \n",
      "въ счетъ Ретерту въ уплату за аппараты. Къ сахар-  \n",
      "пошлому Заводу. Вечеромъ выѣхалъ на Выксу.\n",
      "{'error': {'code': 8, 'message': \"openaiproxy.(*ServiceImplementation).processChatCompletionRequest: can't do chat completion - proxy.(*UseCase).ChatCompletion: can't check request - code: <nil>, message: proxy: token limit reached. Limit: 50000 / min. Available: 0 / min. Retry after: 3.804523974s. Reset after: 44.755723983s., param: <nil>, type: proxy_limit_reached\", 'details': [{'@type': 'type.googleapis.com/openaiproxy.v1.ErrorResponse', 'error': {'code': '', 'message': 'proxy: token limit reached. Limit: 50000 / min. Available: 0 / min. Retry after: 3.804523974s. Reset after: 44.755723983s.', 'param': '', 'type': 'proxy_limit_reached', 'critical_data_details': [], 'limit_reached_details': {'type': 'token', 'retry_after': 3.804523974, 'reset_after': 44.755723983}}}, {'@type': 'type.googleapis.com/openaiproxy.v1.StatusCode', 'value': 429}]}}\n"
     ]
    },
    {
     "name": "stderr",
     "output_type": "stream",
     "text": [
      " 47%|████▋     | 35/75 [08:45<11:24, 17.11s/it]"
     ]
    },
    {
     "name": "stdout",
     "output_type": "stream",
     "text": [
      "29-е. Въ дорогъ. Хвгодно. простудился. Встрѣча въ Вса- -> \n",
      "\n",
      "29-е. Въ дорогѣ. Холодно. Простудился. Встрѣча въ Вса-\n",
      "</think>\n",
      "\n",
      "29-е. Въ дорогѣ. Холодно. Простудился. Встрѣча въ Вса-\n",
      "{'error': {'code': 8, 'message': \"openaiproxy.(*ServiceImplementation).processChatCompletionRequest: can't do chat completion - proxy.(*UseCase).ChatCompletion: can't check request - code: <nil>, message: proxy: token limit reached. Limit: 50000 / min. Available: 0 / min. Retry after: 9.565831959s. Reset after: 50.393431961s., param: <nil>, type: proxy_limit_reached\", 'details': [{'@type': 'type.googleapis.com/openaiproxy.v1.ErrorResponse', 'error': {'code': '', 'message': 'proxy: token limit reached. Limit: 50000 / min. Available: 0 / min. Retry after: 9.565831959s. Reset after: 50.393431961s.', 'param': '', 'type': 'proxy_limit_reached', 'critical_data_details': [], 'limit_reached_details': {'type': 'token', 'retry_after': 9.565831959, 'reset_after': 50.393431961}}}, {'@type': 'type.googleapis.com/openaiproxy.v1.StatusCode', 'value': 429}]}}\n"
     ]
    },
    {
     "name": "stderr",
     "output_type": "stream",
     "text": [
      " 48%|████▊     | 36/75 [08:59<10:31, 16.18s/it]"
     ]
    },
    {
     "name": "stdout",
     "output_type": "stream",
     "text": [
      "дурвіерѣ со какимъ отолченскимъ офицеромъ -> \n",
      "\n",
      "дурвіерѣ со какимъ отолченскимъ офицеромъ -> Въ Садурвьерѣ съ какимъ-то толченскимъ офицеромъ\n",
      "</think>\n",
      "\n",
      "29-е. Въ дорогѣ. Холодно. Простудился. Встрѣча въ Вса-  \n",
      "дурвьерѣ съ какимъ-то толченскимъ офицеромъ.\n",
      "{'error': {'code': 8, 'message': \"openaiproxy.(*ServiceImplementation).processChatCompletionRequest: can't do chat completion - proxy.(*UseCase).ChatCompletion: can't check request - code: <nil>, message: proxy: token limit reached. Limit: 50000 / min. Available: 0 / min. Retry after: 14.873688966s. Reset after: 55.516488969s., param: <nil>, type: proxy_limit_reached\", 'details': [{'@type': 'type.googleapis.com/openaiproxy.v1.ErrorResponse', 'error': {'code': '', 'message': 'proxy: token limit reached. Limit: 50000 / min. Available: 0 / min. Retry after: 14.873688966s. Reset after: 55.516488969s.', 'param': '', 'type': 'proxy_limit_reached', 'critical_data_details': [], 'limit_reached_details': {'type': 'token', 'retry_after': 14.873688966, 'reset_after': 55.516488969}}}, {'@type': 'type.googleapis.com/openaiproxy.v1.StatusCode', 'value': 429}]}}\n",
      "{'error': {'code': 8, 'message': \"openaiproxy.(*ServiceImplementation).processChatCompletionRequest: can't do chat completion - proxy.(*UseCase).ChatCompletion: can't check request - code: <nil>, message: proxy: token limit reached. Limit: 50000 / min. Available: 0 / min. Retry after: 4.742801964s. Reset after: 45.385601967s., param: <nil>, type: proxy_limit_reached\", 'details': [{'@type': 'type.googleapis.com/openaiproxy.v1.ErrorResponse', 'error': {'code': '', 'message': 'proxy: token limit reached. Limit: 50000 / min. Available: 0 / min. Retry after: 4.742801964s. Reset after: 45.385601967s.', 'param': '', 'type': 'proxy_limit_reached', 'critical_data_details': [], 'limit_reached_details': {'type': 'token', 'retry_after': 4.742801964, 'reset_after': 45.385601967}}}, {'@type': 'type.googleapis.com/openaiproxy.v1.StatusCode', 'value': 429}]}}\n"
     ]
    },
    {
     "name": "stderr",
     "output_type": "stream",
     "text": [
      " 49%|████▉     | 37/75 [09:23<11:40, 18.44s/it]"
     ]
    },
    {
     "name": "stdout",
     "output_type": "stream",
     "text": [
      "Понулярность и всеобщал извѣстностъ кречинского -> \n",
      "\n",
      "Популярность и всеобщая извѣстность Кречинскаго\n",
      "</think>\n",
      "\n",
      "29-е. Въ дорогѣ. Холодно. Простудился. Встрѣча въ Вса-  \n",
      "дурвьерѣ съ какимъ-то толченскимъ офицеромъ.  \n",
      "Популярность и всеобщая извѣстность Кречинскаго.\n",
      "{'error': {'code': 8, 'message': \"openaiproxy.(*ServiceImplementation).processChatCompletionRequest: can't do chat completion - proxy.(*UseCase).ChatCompletion: can't check request - code: <nil>, message: proxy: token limit reached. Limit: 50000 / min. Available: 0 / min. Retry after: 10.727717965s. Reset after: 51.18691796s., param: <nil>, type: proxy_limit_reached\", 'details': [{'@type': 'type.googleapis.com/openaiproxy.v1.ErrorResponse', 'error': {'code': '', 'message': 'proxy: token limit reached. Limit: 50000 / min. Available: 0 / min. Retry after: 10.727717965s. Reset after: 51.18691796s.', 'param': '', 'type': 'proxy_limit_reached', 'critical_data_details': [], 'limit_reached_details': {'type': 'token', 'retry_after': 10.727717965, 'reset_after': 51.18691796}}}, {'@type': 'type.googleapis.com/openaiproxy.v1.StatusCode', 'value': 429}]}}\n",
      "{'error': {'code': 8, 'message': \"openaiproxy.(*ServiceImplementation).processChatCompletionRequest: can't do chat completion - proxy.(*UseCase).ChatCompletion: can't check request - code: <nil>, message: proxy: token limit reached. Limit: 50000 / min. Available: 0 / min. Retry after: 590.576976ms. Reset after: 41.049776971s., param: <nil>, type: proxy_limit_reached\", 'details': [{'@type': 'type.googleapis.com/openaiproxy.v1.ErrorResponse', 'error': {'code': '', 'message': 'proxy: token limit reached. Limit: 50000 / min. Available: 0 / min. Retry after: 590.576976ms. Reset after: 41.049776971s.', 'param': '', 'type': 'proxy_limit_reached', 'critical_data_details': [], 'limit_reached_details': {'type': 'token', 'retry_after': 0.590576976, 'reset_after': 41.049776971}}}, {'@type': 'type.googleapis.com/openaiproxy.v1.StatusCode', 'value': 429}]}}\n"
     ]
    },
    {
     "name": "stderr",
     "output_type": "stream",
     "text": [
      " 51%|█████     | 38/75 [09:55<13:52, 22.50s/it]"
     ]
    },
    {
     "name": "stdout",
     "output_type": "stream",
     "text": [
      "Его ужа играли вовсей Россіи. Успѣхъ одинъ вездѣ -> \n",
      "\n",
      "Его уже играли во всей Россіи. Успѣхъ одинъ вездѣ\n",
      "</think>\n",
      "\n",
      "29-е. Въ дорогѣ. Холодно. Простудился. Встрѣча въ Всад-  \n",
      "урвьерѣ съ какимъ-то толченскимъ офицеромъ.  \n",
      "Популярность и всеобщая извѣстность Кречинскаго.  \n",
      "Его уже играли во всей Россіи. Успѣхъ одинъ вездѣ.\n"
     ]
    },
    {
     "name": "stderr",
     "output_type": "stream",
     "text": [
      " 52%|█████▏    | 39/75 [09:57<09:54, 16.52s/it]"
     ]
    },
    {
     "name": "stdout",
     "output_type": "stream",
     "text": [
      "30-е. въ 11 часовъ утра никемъ неожиданный пріѣ. -> \n",
      "\n",
      "30-е. Въ 11 часовъ утра, никѣмъ неожиданный, пріѣ-\n",
      "</think>\n",
      "\n",
      "30-е. Въ 11 часовъ утра, никѣмъ неожиданный, пріѣхалъ.\n",
      "{'error': {'code': 8, 'message': \"openaiproxy.(*ServiceImplementation).processChatCompletionRequest: can't do chat completion - proxy.(*UseCase).ChatCompletion: can't check request - code: <nil>, message: proxy: token limit reached. Limit: 50000 / min. Available: 0 / min. Retry after: 15.842722982s. Reset after: 55.953922986s., param: <nil>, type: proxy_limit_reached\", 'details': [{'@type': 'type.googleapis.com/openaiproxy.v1.ErrorResponse', 'error': {'code': '', 'message': 'proxy: token limit reached. Limit: 50000 / min. Available: 0 / min. Retry after: 15.842722982s. Reset after: 55.953922986s.', 'param': '', 'type': 'proxy_limit_reached', 'critical_data_details': [], 'limit_reached_details': {'type': 'token', 'retry_after': 15.842722982, 'reset_after': 55.953922986}}}, {'@type': 'type.googleapis.com/openaiproxy.v1.StatusCode', 'value': 429}]}}\n",
      "{'error': {'code': 8, 'message': \"openaiproxy.(*ServiceImplementation).processChatCompletionRequest: can't do chat completion - proxy.(*UseCase).ChatCompletion: can't check request - code: <nil>, message: proxy: token limit reached. Limit: 50000 / min. Available: 0 / min. Retry after: 5.134329974s. Reset after: 45.245529979s., param: <nil>, type: proxy_limit_reached\", 'details': [{'@type': 'type.googleapis.com/openaiproxy.v1.ErrorResponse', 'error': {'code': '', 'message': 'proxy: token limit reached. Limit: 50000 / min. Available: 0 / min. Retry after: 5.134329974s. Reset after: 45.245529979s.', 'param': '', 'type': 'proxy_limit_reached', 'critical_data_details': [], 'limit_reached_details': {'type': 'token', 'retry_after': 5.134329974, 'reset_after': 45.245529979}}}, {'@type': 'type.googleapis.com/openaiproxy.v1.StatusCode', 'value': 429}]}}\n"
     ]
    },
    {
     "name": "stderr",
     "output_type": "stream",
     "text": [
      " 53%|█████▎    | 40/75 [10:22<11:01, 18.90s/it]"
     ]
    },
    {
     "name": "stdout",
     "output_type": "stream",
     "text": [
      "халъ на Выксу – отцъ былъ радъ онъ постарѣлъ -> \n",
      "\n",
      "30-е. Въ 11 часовъ утра, никѣмъ неожиданный, пріѣхалъ  \n",
      "на Выксу – отецъ былъ радъ. Онъ постарѣлъ.\n",
      "</think>\n",
      "\n",
      "30-е. Въ 11 часовъ утра, никѣмъ неожиданный, пріѣхалъ  \n",
      "на Выксу – отецъ былъ радъ. Онъ постарѣлъ.\n",
      "{'error': {'code': 8, 'message': \"openaiproxy.(*ServiceImplementation).processChatCompletionRequest: can't do chat completion - proxy.(*UseCase).ChatCompletion: can't check request - code: <nil>, message: proxy: token limit reached. Limit: 50000 / min. Available: 0 / min. Retry after: 11.48309499s. Reset after: 51.399894982s., param: <nil>, type: proxy_limit_reached\", 'details': [{'@type': 'type.googleapis.com/openaiproxy.v1.ErrorResponse', 'error': {'code': '', 'message': 'proxy: token limit reached. Limit: 50000 / min. Available: 0 / min. Retry after: 11.48309499s. Reset after: 51.399894982s.', 'param': '', 'type': 'proxy_limit_reached', 'critical_data_details': [], 'limit_reached_details': {'type': 'token', 'retry_after': 11.48309499, 'reset_after': 51.399894982}}}, {'@type': 'type.googleapis.com/openaiproxy.v1.StatusCode', 'value': 429}]}}\n",
      "{'error': {'code': 8, 'message': \"openaiproxy.(*ServiceImplementation).processChatCompletionRequest: can't do chat completion - proxy.(*UseCase).ChatCompletion: can't check request - code: <nil>, message: proxy: token limit reached. Limit: 50000 / min. Available: 0 / min. Retry after: 1.342494964s. Reset after: 41.259294956s., param: <nil>, type: proxy_limit_reached\", 'details': [{'@type': 'type.googleapis.com/openaiproxy.v1.ErrorResponse', 'error': {'code': '', 'message': 'proxy: token limit reached. Limit: 50000 / min. Available: 0 / min. Retry after: 1.342494964s. Reset after: 41.259294956s.', 'param': '', 'type': 'proxy_limit_reached', 'critical_data_details': [], 'limit_reached_details': {'type': 'token', 'retry_after': 1.3424949640000001, 'reset_after': 41.259294956}}}, {'@type': 'type.googleapis.com/openaiproxy.v1.StatusCode', 'value': 429}]}}\n"
     ]
    },
    {
     "name": "stderr",
     "output_type": "stream",
     "text": [
      " 55%|█████▍    | 41/75 [10:46<11:41, 20.64s/it]"
     ]
    },
    {
     "name": "stdout",
     "output_type": "stream",
     "text": [
      "нѣсколько потолстѣлъ и въ голось замѣжна перемѣла -> \n",
      "\n",
      "30-е. Въ 11 часовъ утра, никѣмъ неожиданный, пріѣхалъ  \n",
      "на Выксу – отецъ былъ радъ. Онъ постарѣлъ  \n",
      "нѣсколько, потолстѣлъ и въ голосѣ замѣтная перемѣна.\n",
      "</think>\n",
      "\n",
      "30-е. Въ 11 часовъ утра, никѣмъ неожиданный, пріѣхалъ  \n",
      "на Выксу – отецъ былъ радъ. Онъ постарѣлъ  \n",
      "нѣсколько, потолстѣлъ и въ голосѣ замѣтная перемѣна.\n",
      "{'error': {'code': 8, 'message': \"openaiproxy.(*ServiceImplementation).processChatCompletionRequest: can't do chat completion - proxy.(*UseCase).ChatCompletion: can't check request - code: <nil>, message: proxy: token limit reached. Limit: 50000 / min. Available: 0 / min. Retry after: 7.113386988s. Reset after: 46.757786989s., param: <nil>, type: proxy_limit_reached\", 'details': [{'@type': 'type.googleapis.com/openaiproxy.v1.ErrorResponse', 'error': {'code': '', 'message': 'proxy: token limit reached. Limit: 50000 / min. Available: 0 / min. Retry after: 7.113386988s. Reset after: 46.757786989s.', 'param': '', 'type': 'proxy_limit_reached', 'critical_data_details': [], 'limit_reached_details': {'type': 'token', 'retry_after': 7.113386988, 'reset_after': 46.757786989}}}, {'@type': 'type.googleapis.com/openaiproxy.v1.StatusCode', 'value': 429}]}}\n"
     ]
    },
    {
     "name": "stderr",
     "output_type": "stream",
     "text": [
      " 56%|█████▌    | 42/75 [11:02<10:30, 19.11s/it]"
     ]
    },
    {
     "name": "stdout",
     "output_type": "stream",
     "text": [
      "нѣтъ твердости. На Выксѣ сесенра соловая, Честр -> \n",
      "\n",
      "30-е. Въ 11 часовъ утра, никѣмъ неожиданный, пріѣхалъ  \n",
      "на Выксу – отецъ былъ радъ. Онъ постарѣлъ  \n",
      "нѣсколько, потолстѣлъ и въ голосѣ замѣтная перемѣна.  \n",
      "Нѣтъ твердости. На Выксѣ сесенра соловая, Честр-\n",
      "</think>\n",
      "\n",
      "30-е. Въ 11 часовъ утра, никѣмъ неожиданный, пріѣхалъ  \n",
      "на Выксу – отецъ былъ радъ. Онъ постарѣлъ  \n",
      "нѣсколько, потолстѣлъ и въ голосѣ замѣтная перемѣна.  \n",
      "Нѣтъ твердости. На Выксѣ сесенра соловая, Честр-\n",
      "{'error': {'code': 8, 'message': \"openaiproxy.(*ServiceImplementation).processChatCompletionRequest: can't do chat completion - proxy.(*UseCase).ChatCompletion: can't check request - code: <nil>, message: proxy: token limit reached. Limit: 50000 / min. Available: 0 / min. Retry after: 12.258838951s. Reset after: 51.558838963s., param: <nil>, type: proxy_limit_reached\", 'details': [{'@type': 'type.googleapis.com/openaiproxy.v1.ErrorResponse', 'error': {'code': '', 'message': 'proxy: token limit reached. Limit: 50000 / min. Available: 0 / min. Retry after: 12.258838951s. Reset after: 51.558838963s.', 'param': '', 'type': 'proxy_limit_reached', 'critical_data_details': [], 'limit_reached_details': {'type': 'token', 'retry_after': 12.258838951, 'reset_after': 51.558838963}}}, {'@type': 'type.googleapis.com/openaiproxy.v1.StatusCode', 'value': 429}]}}\n",
      "{'error': {'code': 8, 'message': \"openaiproxy.(*ServiceImplementation).processChatCompletionRequest: can't do chat completion - proxy.(*UseCase).ChatCompletion: can't check request - code: <nil>, message: proxy: token limit reached. Limit: 50000 / min. Available: 0 / min. Retry after: 2.107546955s. Reset after: 41.407546967s., param: <nil>, type: proxy_limit_reached\", 'details': [{'@type': 'type.googleapis.com/openaiproxy.v1.ErrorResponse', 'error': {'code': '', 'message': 'proxy: token limit reached. Limit: 50000 / min. Available: 0 / min. Retry after: 2.107546955s. Reset after: 41.407546967s.', 'param': '', 'type': 'proxy_limit_reached', 'critical_data_details': [], 'limit_reached_details': {'type': 'token', 'retry_after': 2.107546955, 'reset_after': 41.407546967}}}, {'@type': 'type.googleapis.com/openaiproxy.v1.StatusCode', 'value': 429}]}}\n"
     ]
    },
    {
     "name": "stderr",
     "output_type": "stream",
     "text": [
      " 57%|█████▋    | 43/75 [11:28<11:15, 21.10s/it]"
     ]
    },
    {
     "name": "stdout",
     "output_type": "stream",
     "text": [
      "Сальясъ, Ина. Тетлевъ и я леховскій. Николай -> \n",
      "\n",
      "30-е. Въ 11 часовъ утра, никѣмъ неожиданный, пріѣхалъ  \n",
      "на Выксу – отецъ былъ радъ. Онъ постарѣлъ  \n",
      "нѣсколько, потолстѣлъ и въ голосѣ замѣтная перемѣна.  \n",
      "Нѣтъ твердости. На Выксѣ сесенра соловая, Честр-  \n",
      "Сальясъ, Ина. Тетлевъ и я Леховскій. Николай\n",
      "</think>\n",
      "\n",
      "30-е. Въ 11 часовъ утра, никѣмъ неожиданный, пріѣхалъ  \n",
      "на Выксу – отецъ былъ радъ. Онъ постарѣлъ  \n",
      "нѣсколько, потолстѣлъ и въ голосѣ замѣтная перемѣна.  \n",
      "Нѣтъ твердости. На Выксѣ сесенра соловая, Честр-  \n",
      "Сальясъ, Ина. Тетлевъ и я Леховскій. Николай\n",
      "{'error': {'code': 8, 'message': \"openaiproxy.(*ServiceImplementation).processChatCompletionRequest: can't do chat completion - proxy.(*UseCase).ChatCompletion: can't check request - code: <nil>, message: proxy: token limit reached. Limit: 50000 / min. Available: 0 / min. Retry after: 7.653289973s. Reset after: 46.524889975s., param: <nil>, type: proxy_limit_reached\", 'details': [{'@type': 'type.googleapis.com/openaiproxy.v1.ErrorResponse', 'error': {'code': '', 'message': 'proxy: token limit reached. Limit: 50000 / min. Available: 0 / min. Retry after: 7.653289973s. Reset after: 46.524889975s.', 'param': '', 'type': 'proxy_limit_reached', 'critical_data_details': [], 'limit_reached_details': {'type': 'token', 'retry_after': 7.653289973, 'reset_after': 46.524889975}}}, {'@type': 'type.googleapis.com/openaiproxy.v1.StatusCode', 'value': 429}]}}\n"
     ]
    },
    {
     "name": "stderr",
     "output_type": "stream",
     "text": [
      " 59%|█████▊    | 44/75 [11:41<09:38, 18.67s/it]"
     ]
    },
    {
     "name": "stdout",
     "output_type": "stream",
     "text": [
      "Го0нь 1-е. Рано утромъ съ Соринымъ выѣхалъ на словодь. -> \n",
      "\n",
      "1-е. Рано утромъ съ Соринымъ выѣхалъ на заводъ.\n",
      "</think>\n",
      "\n",
      "1-е. Рано утромъ съ Соринымъ выѣхалъ на заводъ.\n",
      "{'error': {'code': 8, 'message': \"openaiproxy.(*ServiceImplementation).processChatCompletionRequest: can't do chat completion - proxy.(*UseCase).ChatCompletion: can't check request - code: <nil>, message: proxy: token limit reached. Limit: 50000 / min. Available: 0 / min. Retry after: 15.915001958s. Reset after: 54.657001972s., param: <nil>, type: proxy_limit_reached\", 'details': [{'@type': 'type.googleapis.com/openaiproxy.v1.ErrorResponse', 'error': {'code': '', 'message': 'proxy: token limit reached. Limit: 50000 / min. Available: 0 / min. Retry after: 15.915001958s. Reset after: 54.657001972s.', 'param': '', 'type': 'proxy_limit_reached', 'critical_data_details': [], 'limit_reached_details': {'type': 'token', 'retry_after': 15.915001958, 'reset_after': 54.657001972}}}, {'@type': 'type.googleapis.com/openaiproxy.v1.StatusCode', 'value': 429}]}}\n",
      "{'error': {'code': 8, 'message': \"openaiproxy.(*ServiceImplementation).processChatCompletionRequest: can't do chat completion - proxy.(*UseCase).ChatCompletion: can't check request - code: <nil>, message: proxy: token limit reached. Limit: 50000 / min. Available: 0 / min. Retry after: 5.776523947s. Reset after: 44.518523961s., param: <nil>, type: proxy_limit_reached\", 'details': [{'@type': 'type.googleapis.com/openaiproxy.v1.ErrorResponse', 'error': {'code': '', 'message': 'proxy: token limit reached. Limit: 50000 / min. Available: 0 / min. Retry after: 5.776523947s. Reset after: 44.518523961s.', 'param': '', 'type': 'proxy_limit_reached', 'critical_data_details': [], 'limit_reached_details': {'type': 'token', 'retry_after': 5.776523947, 'reset_after': 44.518523961}}}, {'@type': 'type.googleapis.com/openaiproxy.v1.StatusCode', 'value': 429}]}}\n"
     ]
    },
    {
     "name": "stderr",
     "output_type": "stream",
     "text": [
      " 60%|██████    | 45/75 [12:04<09:59, 19.98s/it]"
     ]
    },
    {
     "name": "stdout",
     "output_type": "stream",
     "text": [
      "Квгупть, 3-го. Уѣхалъ вълетербургъ. ибо дѣло принаяло дурго -> \n",
      "\n",
      "2-го. Уѣхалъ въ Петербургъ, ибо дѣло приняло дурной\n",
      "</think>\n",
      "\n",
      "2-го. Уѣхалъ въ Петербургъ, ибо дѣло приняло дурной\n",
      "{'error': {'code': 8, 'message': \"openaiproxy.(*ServiceImplementation).processChatCompletionRequest: can't do chat completion - proxy.(*UseCase).ChatCompletion: can't check request - code: <nil>, message: proxy: token limit reached. Limit: 50000 / min. Available: 0 / min. Retry after: 14.293222934s. Reset after: 52.904422938s., param: <nil>, type: proxy_limit_reached\", 'details': [{'@type': 'type.googleapis.com/openaiproxy.v1.ErrorResponse', 'error': {'code': '', 'message': 'proxy: token limit reached. Limit: 50000 / min. Available: 0 / min. Retry after: 14.293222934s. Reset after: 52.904422938s.', 'param': '', 'type': 'proxy_limit_reached', 'critical_data_details': [], 'limit_reached_details': {'type': 'token', 'retry_after': 14.293222934, 'reset_after': 52.904422938}}}, {'@type': 'type.googleapis.com/openaiproxy.v1.StatusCode', 'value': 429}]}}\n",
      "{'error': {'code': 8, 'message': \"openaiproxy.(*ServiceImplementation).processChatCompletionRequest: can't do chat completion - proxy.(*UseCase).ChatCompletion: can't check request - code: <nil>, message: proxy: token limit reached. Limit: 50000 / min. Available: 0 / min. Retry after: 4.168232947s. Reset after: 42.779432952s., param: <nil>, type: proxy_limit_reached\", 'details': [{'@type': 'type.googleapis.com/openaiproxy.v1.ErrorResponse', 'error': {'code': '', 'message': 'proxy: token limit reached. Limit: 50000 / min. Available: 0 / min. Retry after: 4.168232947s. Reset after: 42.779432952s.', 'param': '', 'type': 'proxy_limit_reached', 'critical_data_details': [], 'limit_reached_details': {'type': 'token', 'retry_after': 4.168232947, 'reset_after': 42.779432952}}}, {'@type': 'type.googleapis.com/openaiproxy.v1.StatusCode', 'value': 429}]}}\n"
     ]
    },
    {
     "name": "stderr",
     "output_type": "stream",
     "text": [
      " 61%|██████▏   | 46/75 [12:30<10:33, 21.84s/it]"
     ]
    },
    {
     "name": "stdout",
     "output_type": "stream",
     "text": [
      "оборому въ Мичо л0етъ. Натало тяжелсъ время. Саезыгаколо -> \n",
      "\n",
      "обороту въ Мичу. Лѣтъ. Настало тяжелое время. Саезыгаколо\n",
      "</think>\n",
      "\n",
      "30-е. Въ 11 часовъ утра, никѣмъ неожиданный, пріѣхалъ  \n",
      "на Выксу – отецъ былъ радъ. Онъ постарѣлъ  \n",
      "нѣсколько, потолстѣлъ и въ голосѣ замѣтная перемѣна.  \n",
      "Нѣтъ твердости. На Выксѣ сесенра соловая, Честр-  \n",
      "Сальясъ, Ина. Тетлевъ и я Леховскій. Николай  \n",
      "1-е. Рано утромъ съ Соринымъ выѣхалъ на заводъ.  \n",
      "2-го. Уѣхалъ въ Петербургъ, ибо дѣло приняло дурной  \n",
      "оборотъ въ Мичу. Лѣтъ. Настало тяжелое время. Саезыгаколо\n",
      "{'error': {'code': 8, 'message': \"openaiproxy.(*ServiceImplementation).processChatCompletionRequest: can't do chat completion - proxy.(*UseCase).ChatCompletion: can't check request - code: <nil>, message: proxy: token limit reached. Limit: 50000 / min. Available: 0 / min. Retry after: 9.84800896s. Reset after: 48.057208955s., param: <nil>, type: proxy_limit_reached\", 'details': [{'@type': 'type.googleapis.com/openaiproxy.v1.ErrorResponse', 'error': {'code': '', 'message': 'proxy: token limit reached. Limit: 50000 / min. Available: 0 / min. Retry after: 9.84800896s. Reset after: 48.057208955s.', 'param': '', 'type': 'proxy_limit_reached', 'critical_data_details': [], 'limit_reached_details': {'type': 'token', 'retry_after': 9.84800896, 'reset_after': 48.057208955}}}, {'@type': 'type.googleapis.com/openaiproxy.v1.StatusCode', 'value': 429}]}}\n"
     ]
    },
    {
     "name": "stderr",
     "output_type": "stream",
     "text": [
      " 63%|██████▎   | 47/75 [12:50<10:00, 21.44s/it]"
     ]
    },
    {
     "name": "stdout",
     "output_type": "stream",
     "text": [
      "крѣпокъ. Ходилъ нѣсколько разъ Греть на годку. –и -> \n",
      "\n",
      "30-е. Въ 11 часовъ утра, никѣмъ неожиданный, пріѣхалъ  \n",
      "на Выксу – отецъ былъ радъ. Онъ постарѣлъ  \n",
      "нѣсколько, потолстѣлъ и въ голосѣ замѣтная перемѣна.  \n",
      "Нѣтъ твердости. На Выксѣ сесенра соловая, Честр-  \n",
      "Сальясъ, Ина. Тетлевъ и я Леховскій. Николай  \n",
      "1-е. Рано утромъ съ Соринымъ выѣхалъ на заводъ.  \n",
      "2-го. Уѣхалъ въ Петербургъ, ибо дѣло приняло дурной  \n",
      "оборотъ въ Мичу. Лѣтъ. Настало тяжелое время. Саезыгаколо  \n",
      "крѣпокъ. Ходилъ нѣсколько разъ Греть на годку. –и\n",
      "</think>\n",
      "\n",
      "30-е. Въ 11 часовъ утра, никѣмъ неожиданный, пріѣхалъ  \n",
      "на Выксу – отецъ былъ радъ. Онъ постарѣлъ  \n",
      "нѣсколько, потолстѣлъ и въ голосѣ замѣтная перемѣна.  \n",
      "Нѣтъ твердости. На Выксѣ сесенра соловая, Честр-  \n",
      "Сальясъ, Ина. Тетлевъ и я Леховскій. Николай  \n",
      "1-е. Рано утромъ съ Соринымъ выѣхалъ на заводъ.  \n",
      "2-го. Уѣхалъ въ Петербургъ, ибо дѣло приняло дурной  \n",
      "оборотъ въ Мичу. Лѣтъ. Настало тяжелое время. Саезыгаколо  \n",
      "крѣпокъ. Ходилъ нѣсколько разъ Греть на годку. –и\n",
      "{'error': {'code': 8, 'message': \"openaiproxy.(*ServiceImplementation).processChatCompletionRequest: can't do chat completion - proxy.(*UseCase).ChatCompletion: can't check request - code: <nil>, message: proxy: token limit reached. Limit: 50000 / min. Available: 0 / min. Retry after: 11.908006936s. Reset after: 49.380406945s., param: <nil>, type: proxy_limit_reached\", 'details': [{'@type': 'type.googleapis.com/openaiproxy.v1.ErrorResponse', 'error': {'code': '', 'message': 'proxy: token limit reached. Limit: 50000 / min. Available: 0 / min. Retry after: 11.908006936s. Reset after: 49.380406945s.', 'param': '', 'type': 'proxy_limit_reached', 'critical_data_details': [], 'limit_reached_details': {'type': 'token', 'retry_after': 11.908006936, 'reset_after': 49.380406945}}}, {'@type': 'type.googleapis.com/openaiproxy.v1.StatusCode', 'value': 429}]}}\n",
      "{'error': {'code': 8, 'message': \"openaiproxy.(*ServiceImplementation).processChatCompletionRequest: can't do chat completion - proxy.(*UseCase).ChatCompletion: can't check request - code: <nil>, message: proxy: token limit reached. Limit: 50000 / min. Available: 0 / min. Retry after: 1.77354294s. Reset after: 39.24594295s., param: <nil>, type: proxy_limit_reached\", 'details': [{'@type': 'type.googleapis.com/openaiproxy.v1.ErrorResponse', 'error': {'code': '', 'message': 'proxy: token limit reached. Limit: 50000 / min. Available: 0 / min. Retry after: 1.77354294s. Reset after: 39.24594295s.', 'param': '', 'type': 'proxy_limit_reached', 'critical_data_details': [], 'limit_reached_details': {'type': 'token', 'retry_after': 1.77354294, 'reset_after': 39.24594295}}}, {'@type': 'type.googleapis.com/openaiproxy.v1.StatusCode', 'value': 429}]}}\n"
     ]
    },
    {
     "name": "stderr",
     "output_type": "stream",
     "text": [
      " 64%|██████▍   | 48/75 [13:17<10:18, 22.90s/it]"
     ]
    },
    {
     "name": "stdout",
     "output_type": "stream",
     "text": [
      "купался въ шилѣ до паловимы Авгста. -> \n",
      "\n",
      "30-е. Въ 11 часовъ утра, никѣмъ неожиданный, пріѣхалъ  \n",
      "на Выксу – отецъ былъ радъ. Онъ постарѣлъ  \n",
      "нѣсколько, потолстѣлъ и въ голосѣ замѣтная перемѣна.  \n",
      "Нѣтъ твердости. На Выксѣ сесенра соловая, Честр-  \n",
      "Сальясъ, Ина. Тетлевъ и я Леховскій. Николай  \n",
      "1-е. Рано утромъ съ Соринымъ выѣхалъ на заводъ.  \n",
      "2-го. Уѣхалъ въ Петербургъ, ибо дѣло приняло дурной  \n",
      "оборотъ въ Мичу. Лѣтъ. Настало тяжелое время. Саезыгаколо  \n",
      "крѣпокъ. Ходилъ нѣсколько разъ Греть на годку. –и  \n",
      "купался въ шилѣ до половины Августа.\n",
      "{'error': {'code': 8, 'message': \"openaiproxy.(*ServiceImplementation).processChatCompletionRequest: can't do chat completion - proxy.(*UseCase).ChatCompletion: can't check request - code: <nil>, message: proxy: token limit reached. Limit: 50000 / min. Available: 0 / min. Retry after: 8.554732948s. Reset after: 45.610732942s., param: <nil>, type: proxy_limit_reached\", 'details': [{'@type': 'type.googleapis.com/openaiproxy.v1.ErrorResponse', 'error': {'code': '', 'message': 'proxy: token limit reached. Limit: 50000 / min. Available: 0 / min. Retry after: 8.554732948s. Reset after: 45.610732942s.', 'param': '', 'type': 'proxy_limit_reached', 'critical_data_details': [], 'limit_reached_details': {'type': 'token', 'retry_after': 8.554732948, 'reset_after': 45.610732942}}}, {'@type': 'type.googleapis.com/openaiproxy.v1.StatusCode', 'value': 429}]}}\n"
     ]
    },
    {
     "name": "stderr",
     "output_type": "stream",
     "text": [
      " 65%|██████▌   | 49/75 [13:30<08:39, 19.99s/it]"
     ]
    },
    {
     "name": "stdout",
     "output_type": "stream",
     "text": [
      "Cентябрь. Въ Петербургѣ. Подалъ занику М. фов о -> \n",
      "\n",
      "Сентябрь. Въ Петербургѣ. Подалъ занику М. Фовъ о\n",
      "</think>\n",
      "\n",
      "Сентябрь. Въ Петербургѣ. Подалъ заявку М. Фову о\n",
      "{'error': {'code': 8, 'message': \"openaiproxy.(*ServiceImplementation).processChatCompletionRequest: can't do chat completion - proxy.(*UseCase).ChatCompletion: can't check request - code: <nil>, message: proxy: token limit reached. Limit: 50000 / min. Available: 0 / min. Retry after: 18.408606946s. Reset after: 55.343406945s., param: <nil>, type: proxy_limit_reached\", 'details': [{'@type': 'type.googleapis.com/openaiproxy.v1.ErrorResponse', 'error': {'code': '', 'message': 'proxy: token limit reached. Limit: 50000 / min. Available: 0 / min. Retry after: 18.408606946s. Reset after: 55.343406945s.', 'param': '', 'type': 'proxy_limit_reached', 'critical_data_details': [], 'limit_reached_details': {'type': 'token', 'retry_after': 18.408606946, 'reset_after': 55.343406945}}}, {'@type': 'type.googleapis.com/openaiproxy.v1.StatusCode', 'value': 429}]}}\n",
      "{'error': {'code': 8, 'message': \"openaiproxy.(*ServiceImplementation).processChatCompletionRequest: can't do chat completion - proxy.(*UseCase).ChatCompletion: can't check request - code: <nil>, message: proxy: token limit reached. Limit: 50000 / min. Available: 0 / min. Retry after: 8.249484956s. Reset after: 45.184284955s., param: <nil>, type: proxy_limit_reached\", 'details': [{'@type': 'type.googleapis.com/openaiproxy.v1.ErrorResponse', 'error': {'code': '', 'message': 'proxy: token limit reached. Limit: 50000 / min. Available: 0 / min. Retry after: 8.249484956s. Reset after: 45.184284955s.', 'param': '', 'type': 'proxy_limit_reached', 'critical_data_details': [], 'limit_reached_details': {'type': 'token', 'retry_after': 8.249484956, 'reset_after': 45.184284955}}}, {'@type': 'type.googleapis.com/openaiproxy.v1.StatusCode', 'value': 429}]}}\n"
     ]
    },
    {
     "name": "stderr",
     "output_type": "stream",
     "text": [
      " 67%|██████▋   | 50/75 [13:54<08:48, 21.13s/it]"
     ]
    },
    {
     "name": "stdout",
     "output_type": "stream",
     "text": [
      "предирняніи въ 1ож. Россіи. Отравили на Выксу и -> \n",
      "\n",
      "продленіи въ 1-й гильдіи. Отправили на Выксу и\n",
      "</think>\n",
      "\n",
      "Сентябрь. Въ Петербургѣ. Подалъ заявку М. Фову о  \n",
      "продленіи въ 1-й гильдіи. Отправили на Выксу и\n",
      "{'error': {'code': 8, 'message': \"openaiproxy.(*ServiceImplementation).processChatCompletionRequest: can't do chat completion - proxy.(*UseCase).ChatCompletion: can't check request - code: <nil>, message: proxy: token limit reached. Limit: 50000 / min. Available: 0 / min. Retry after: 17.825519919s. Reset after: 54.607919931s., param: <nil>, type: proxy_limit_reached\", 'details': [{'@type': 'type.googleapis.com/openaiproxy.v1.ErrorResponse', 'error': {'code': '', 'message': 'proxy: token limit reached. Limit: 50000 / min. Available: 0 / min. Retry after: 17.825519919s. Reset after: 54.607919931s.', 'param': '', 'type': 'proxy_limit_reached', 'critical_data_details': [], 'limit_reached_details': {'type': 'token', 'retry_after': 17.825519919, 'reset_after': 54.607919931}}}, {'@type': 'type.googleapis.com/openaiproxy.v1.StatusCode', 'value': 429}]}}\n",
      "{'error': {'code': 8, 'message': \"openaiproxy.(*ServiceImplementation).processChatCompletionRequest: can't do chat completion - proxy.(*UseCase).ChatCompletion: can't check request - code: <nil>, message: proxy: token limit reached. Limit: 50000 / min. Available: 0 / min. Retry after: 7.680148929s. Reset after: 44.462548941s., param: <nil>, type: proxy_limit_reached\", 'details': [{'@type': 'type.googleapis.com/openaiproxy.v1.ErrorResponse', 'error': {'code': '', 'message': 'proxy: token limit reached. Limit: 50000 / min. Available: 0 / min. Retry after: 7.680148929s. Reset after: 44.462548941s.', 'param': '', 'type': 'proxy_limit_reached', 'critical_data_details': [], 'limit_reached_details': {'type': 'token', 'retry_after': 7.680148929, 'reset_after': 44.462548941}}}, {'@type': 'type.googleapis.com/openaiproxy.v1.StatusCode', 'value': 429}]}}\n"
     ]
    },
    {
     "name": "stderr",
     "output_type": "stream",
     "text": [
      " 68%|██████▊   | 51/75 [14:21<09:14, 23.10s/it]"
     ]
    },
    {
     "name": "stdout",
     "output_type": "stream",
     "text": [
      "заключилъ условіе съ кик. Иетя. Пріѣхалъ обратна -> \n",
      "\n",
      "Сентябрь. Въ Петербургѣ. Подалъ заявку М. Фову о  \n",
      "продленіи въ 1-й гильдіи. Отправили на Выксу и  \n",
      "заключилъ условіе съ кн. Иетя. Пріѣхалъ обратно\n",
      "</think>\n",
      "\n",
      "Сентябрь. Въ Петербургѣ. Подалъ заявку М. Фову о  \n",
      "продленіи въ 1-й гильдіи. Отправили на Выксу и  \n",
      "заключилъ условіе съ кн. Иетя. Пріѣхалъ обратно.\n",
      "{'error': {'code': 8, 'message': \"openaiproxy.(*ServiceImplementation).processChatCompletionRequest: can't do chat completion - proxy.(*UseCase).ChatCompletion: can't check request - code: <nil>, message: proxy: token limit reached. Limit: 50000 / min. Available: 0 / min. Retry after: 13.633106917s. Reset after: 50.147906929s., param: <nil>, type: proxy_limit_reached\", 'details': [{'@type': 'type.googleapis.com/openaiproxy.v1.ErrorResponse', 'error': {'code': '', 'message': 'proxy: token limit reached. Limit: 50000 / min. Available: 0 / min. Retry after: 13.633106917s. Reset after: 50.147906929s.', 'param': '', 'type': 'proxy_limit_reached', 'critical_data_details': [], 'limit_reached_details': {'type': 'token', 'retry_after': 13.633106917, 'reset_after': 50.147906929}}}, {'@type': 'type.googleapis.com/openaiproxy.v1.StatusCode', 'value': 429}]}}\n",
      "{'error': {'code': 8, 'message': \"openaiproxy.(*ServiceImplementation).processChatCompletionRequest: can't do chat completion - proxy.(*UseCase).ChatCompletion: can't check request - code: <nil>, message: proxy: token limit reached. Limit: 50000 / min. Available: 0 / min. Retry after: 3.509677916s. Reset after: 40.024477928s., param: <nil>, type: proxy_limit_reached\", 'details': [{'@type': 'type.googleapis.com/openaiproxy.v1.ErrorResponse', 'error': {'code': '', 'message': 'proxy: token limit reached. Limit: 50000 / min. Available: 0 / min. Retry after: 3.509677916s. Reset after: 40.024477928s.', 'param': '', 'type': 'proxy_limit_reached', 'critical_data_details': [], 'limit_reached_details': {'type': 'token', 'retry_after': 3.5096779160000002, 'reset_after': 40.024477928}}}, {'@type': 'type.googleapis.com/openaiproxy.v1.StatusCode', 'value': 429}]}}\n"
     ]
    },
    {
     "name": "stderr",
     "output_type": "stream",
     "text": [
      " 69%|██████▉   | 52/75 [14:48<09:14, 24.12s/it]"
     ]
    },
    {
     "name": "stdout",
     "output_type": "stream",
     "text": [
      "въ Петербуркъ. 13-го поябръя. Сововые свня и машавовъ -> \n",
      "\n",
      "въ Петербуркъ. 13-го сентября. Сосновые свѣжи и машановъ\n",
      "</think>\n",
      "\n",
      "13-го сентября. Сосновые свѣжи и машановъ.\n",
      "{'error': {'code': 8, 'message': \"openaiproxy.(*ServiceImplementation).processChatCompletionRequest: can't do chat completion - proxy.(*UseCase).ChatCompletion: can't check request - code: <nil>, message: proxy: token limit reached. Limit: 50000 / min. Available: 0 / min. Retry after: 10.689302921s. Reset after: 47.085302919s., param: <nil>, type: proxy_limit_reached\", 'details': [{'@type': 'type.googleapis.com/openaiproxy.v1.ErrorResponse', 'error': {'code': '', 'message': 'proxy: token limit reached. Limit: 50000 / min. Available: 0 / min. Retry after: 10.689302921s. Reset after: 47.085302919s.', 'param': '', 'type': 'proxy_limit_reached', 'critical_data_details': [], 'limit_reached_details': {'type': 'token', 'retry_after': 10.689302921, 'reset_after': 47.085302919}}}, {'@type': 'type.googleapis.com/openaiproxy.v1.StatusCode', 'value': 429}]}}\n",
      "{'error': {'code': 8, 'message': \"openaiproxy.(*ServiceImplementation).processChatCompletionRequest: can't do chat completion - proxy.(*UseCase).ChatCompletion: can't check request - code: <nil>, message: proxy: token limit reached. Limit: 50000 / min. Available: 0 / min. Retry after: 562.926918ms. Reset after: 36.958926916s., param: <nil>, type: proxy_limit_reached\", 'details': [{'@type': 'type.googleapis.com/openaiproxy.v1.ErrorResponse', 'error': {'code': '', 'message': 'proxy: token limit reached. Limit: 50000 / min. Available: 0 / min. Retry after: 562.926918ms. Reset after: 36.958926916s.', 'param': '', 'type': 'proxy_limit_reached', 'critical_data_details': [], 'limit_reached_details': {'type': 'token', 'retry_after': 0.562926918, 'reset_after': 36.958926916}}}, {'@type': 'type.googleapis.com/openaiproxy.v1.StatusCode', 'value': 429}]}}\n"
     ]
    },
    {
     "name": "stderr",
     "output_type": "stream",
     "text": [
      " 71%|███████   | 53/75 [15:11<08:43, 23.81s/it]"
     ]
    },
    {
     "name": "stdout",
     "output_type": "stream",
     "text": [
      "Петербургъ. Жезнь въ костицѣ Денедола. Постолно -> \n",
      "\n",
      "Петербургъ. Жизнь въ квартирѣ Денедола. Постоянно\n",
      "</think>\n",
      "\n",
      "13-го сентября. Сосновые свѣжи и машановъ.  \n",
      "Петербургъ. Жизнь въ квартирѣ Денедола. Постоянно\n",
      "{'error': {'code': 8, 'message': \"openaiproxy.(*ServiceImplementation).processChatCompletionRequest: can't do chat completion - proxy.(*UseCase).ChatCompletion: can't check request - code: <nil>, message: proxy: token limit reached. Limit: 50000 / min. Available: 0 / min. Retry after: 11.372660905s. Reset after: 47.609060913s., param: <nil>, type: proxy_limit_reached\", 'details': [{'@type': 'type.googleapis.com/openaiproxy.v1.ErrorResponse', 'error': {'code': '', 'message': 'proxy: token limit reached. Limit: 50000 / min. Available: 0 / min. Retry after: 11.372660905s. Reset after: 47.609060913s.', 'param': '', 'type': 'proxy_limit_reached', 'critical_data_details': [], 'limit_reached_details': {'type': 'token', 'retry_after': 11.372660905, 'reset_after': 47.609060913}}}, {'@type': 'type.googleapis.com/openaiproxy.v1.StatusCode', 'value': 429}]}}\n",
      "{'error': {'code': 8, 'message': \"openaiproxy.(*ServiceImplementation).processChatCompletionRequest: can't do chat completion - proxy.(*UseCase).ChatCompletion: can't check request - code: <nil>, message: proxy: token limit reached. Limit: 50000 / min. Available: 0 / min. Retry after: 1.20775792s. Reset after: 37.444157928s., param: <nil>, type: proxy_limit_reached\", 'details': [{'@type': 'type.googleapis.com/openaiproxy.v1.ErrorResponse', 'error': {'code': '', 'message': 'proxy: token limit reached. Limit: 50000 / min. Available: 0 / min. Retry after: 1.20775792s. Reset after: 37.444157928s.', 'param': '', 'type': 'proxy_limit_reached', 'critical_data_details': [], 'limit_reached_details': {'type': 'token', 'retry_after': 1.20775792, 'reset_after': 37.444157928}}}, {'@type': 'type.googleapis.com/openaiproxy.v1.StatusCode', 'value': 429}]}}\n"
     ]
    },
    {
     "name": "stderr",
     "output_type": "stream",
     "text": [
      " 72%|███████▏  | 54/75 [15:37<08:31, 24.38s/it]"
     ]
    },
    {
     "name": "stdout",
     "output_type": "stream",
     "text": [
      "ходилъ въ Дероту по утрамъ. Окочилъ 2-ой и 3-те акть. -> \n",
      "\n",
      "13-го сентября. Сосновые свѣжи и машановъ.  \n",
      "Петербургъ. Жизнь въ квартирѣ Денедола. Постоянно  \n",
      "ходилъ въ Дерптъ по утрамъ. Окончилъ 2-ой и 3-тій акты.\n",
      "</think>\n",
      "\n",
      "13-го сентября. Сосновые свѣжи и машановъ.  \n",
      "Петербургъ. Жизнь въ квартирѣ Денедола. Постоянно  \n",
      "ходилъ въ Дерптъ по утрамъ. Окончилъ 2-ой и 3-тій акты.\n",
      "{'error': {'code': 8, 'message': \"openaiproxy.(*ServiceImplementation).processChatCompletionRequest: can't do chat completion - proxy.(*UseCase).ChatCompletion: can't check request - code: <nil>, message: proxy: token limit reached. Limit: 50000 / min. Available: 0 / min. Retry after: 9.748362928s. Reset after: 45.707562923s., param: <nil>, type: proxy_limit_reached\", 'details': [{'@type': 'type.googleapis.com/openaiproxy.v1.ErrorResponse', 'error': {'code': '', 'message': 'proxy: token limit reached. Limit: 50000 / min. Available: 0 / min. Retry after: 9.748362928s. Reset after: 45.707562923s.', 'param': '', 'type': 'proxy_limit_reached', 'critical_data_details': [], 'limit_reached_details': {'type': 'token', 'retry_after': 9.748362928, 'reset_after': 45.707562923}}}, {'@type': 'type.googleapis.com/openaiproxy.v1.StatusCode', 'value': 429}]}}\n"
     ]
    },
    {
     "name": "stderr",
     "output_type": "stream",
     "text": [
      " 73%|███████▎  | 55/75 [15:50<07:01, 21.09s/it]"
     ]
    },
    {
     "name": "stdout",
     "output_type": "stream",
     "text": [
      "1дѣло въ гогуд. Совѣтѣ. бръ Торги на встовые -> \n",
      "\n",
      "1-е дѣло въ Гогуд. Совѣтѣ. Бръ Торги на встовые\n",
      "</think>\n",
      "\n",
      "1-е дѣло въ Гогуд. Совѣтѣ. Бръ Торги на встовые\n",
      "{'error': {'code': 8, 'message': \"openaiproxy.(*ServiceImplementation).processChatCompletionRequest: can't do chat completion - proxy.(*UseCase).ChatCompletion: can't check request - code: <nil>, message: proxy: token limit reached. Limit: 50000 / min. Available: 0 / min. Retry after: 20.494603931s. Reset after: 56.326603919s., param: <nil>, type: proxy_limit_reached\", 'details': [{'@type': 'type.googleapis.com/openaiproxy.v1.ErrorResponse', 'error': {'code': '', 'message': 'proxy: token limit reached. Limit: 50000 / min. Available: 0 / min. Retry after: 20.494603931s. Reset after: 56.326603919s.', 'param': '', 'type': 'proxy_limit_reached', 'critical_data_details': [], 'limit_reached_details': {'type': 'token', 'retry_after': 20.494603931, 'reset_after': 56.326603919}}}, {'@type': 'type.googleapis.com/openaiproxy.v1.StatusCode', 'value': 429}]}}\n",
      "{'error': {'code': 8, 'message': \"openaiproxy.(*ServiceImplementation).processChatCompletionRequest: can't do chat completion - proxy.(*UseCase).ChatCompletion: can't check request - code: <nil>, message: proxy: token limit reached. Limit: 50000 / min. Available: 0 / min. Retry after: 10.344480931s. Reset after: 46.176480919s., param: <nil>, type: proxy_limit_reached\", 'details': [{'@type': 'type.googleapis.com/openaiproxy.v1.ErrorResponse', 'error': {'code': '', 'message': 'proxy: token limit reached. Limit: 50000 / min. Available: 0 / min. Retry after: 10.344480931s. Reset after: 46.176480919s.', 'param': '', 'type': 'proxy_limit_reached', 'critical_data_details': [], 'limit_reached_details': {'type': 'token', 'retry_after': 10.344480931, 'reset_after': 46.176480919}}}, {'@type': 'type.googleapis.com/openaiproxy.v1.StatusCode', 'value': 429}]}}\n",
      "{'error': {'code': 8, 'message': \"openaiproxy.(*ServiceImplementation).processChatCompletionRequest: can't do chat completion - proxy.(*UseCase).ChatCompletion: can't check request - code: <nil>, message: proxy: token limit reached. Limit: 50000 / min. Available: 0 / min. Retry after: 194.668918ms. Reset after: 36.026668906s., param: <nil>, type: proxy_limit_reached\", 'details': [{'@type': 'type.googleapis.com/openaiproxy.v1.ErrorResponse', 'error': {'code': '', 'message': 'proxy: token limit reached. Limit: 50000 / min. Available: 0 / min. Retry after: 194.668918ms. Reset after: 36.026668906s.', 'param': '', 'type': 'proxy_limit_reached', 'critical_data_details': [], 'limit_reached_details': {'type': 'token', 'retry_after': 0.194668918, 'reset_after': 36.026668906}}}, {'@type': 'type.googleapis.com/openaiproxy.v1.StatusCode', 'value': 429}]}}\n"
     ]
    },
    {
     "name": "stderr",
     "output_type": "stream",
     "text": [
      " 75%|███████▍  | 56/75 [17:30<14:11, 44.82s/it]"
     ]
    },
    {
     "name": "stdout",
     "output_type": "stream",
     "text": [
      "Корали. Конывъ и Шульмъ въ Петербургѣ. Декабрь -> \n",
      "\n",
      "Корабли. Конывъ и Шульмъ въ Петербургѣ. Декабрь.\n",
      "</think>\n",
      "\n",
      "1856. Мартъ  \n",
      "3е. Въ 11 часовъ пріѣхалъ въ Калугу. Дядя принялъ меня  \n",
      "лучше. Смотрѣли планы моего Завода – онъ далъ мнѣ  \n",
      "Отдалъ переписывать піэссу въ печать.  \n",
      "4е. Утро провелъ съ дядей въ разговорахъ о семейныхъ  \n",
      "дѣлахъ и о Выксѣ. Послѣ обѣда выѣхалъ въ Расву.  \n",
      "5е. 6е. Въ Расвѣ. Перемѣна въ планѣ Завода. 1е. Мѣдной  \n",
      "посуды изъ-за границы не выписываю, выпарка пой-  \n",
      "детъ живымъ огнемъ – за симъ прессовую подымаю  \n",
      "надъ дефекаціей и ставлю чугунный аппаратъ!  \n",
      "Обѣдаю и чай пью у Вермана. Его жена M-me Lattage  \n",
      "прекрасная женщина и какъ француженка вноситъ  \n",
      "удивительную Гармонію, складъ и какое-то  \n",
      "прекрасное изящество въ семейную жизнь – le ménage. 6-го вечеромъ  \n",
      "болтали до 1-го часа ночи. Я en verve. Былъ тутъ помо-  \n",
      "щникъ Вермана Каревъ съ женою – впечатлѣніе я на нихъ  \n",
      "произвелъ странное – они съ такими уморительными  \n",
      "поклонами провожали меня, что мнѣ самому было  \n",
      "неловко.  \n",
      "7-е. Выѣхалъ обратно въ Калугу. Вечеромъ выслалъ Сорина съ  \n",
      "заказами въ Заводъ. –  \n",
      "8-е. Всталъ рано. Ходилъ гулять по безлюдной и снѣгомъ  \n",
      "начисто занесенной Калугѣ. Занимался свѣркою  \n",
      "рукописей піэссы – переписано всё подлѣйшимъ образомъ.  \n",
      "9-е. Дядя нездоровъ глазами – ему ставили піявки. Назна-  \n",
      "чено вечеромъ читать піэссу. Получены газеты: Московскія Вѣ-  \n",
      "домости содержатъ описаніе угощенія Cевастопольцевъ –  \n",
      "Безсмертные Боги. Что жъ это такое? Когда Россія разбита  \n",
      "въ прахъ, склонила голову, когда торжествующій врагъ  \n",
      "одною рукою разметываетъ на вѣтеръ основаніе Севасто-  \n",
      "поля – флотъ погибъ, Черное море отнято, крѣпости: ото-  \n",
      "браны, когда Улиссу держатъ зубы и заставляютъ под-  \n",
      "писывать отреченіе отъ всѣхъ правъ и столѣтнихъ завое-  \n",
      "ваній – Отреченіе отъ флота, отъ Востока, отъ Николаева,  \n",
      "защитниковъ взятаго Севастополя принимаютъ какъ побѣдителей  \n",
      "Кого? Когда? Гдѣ? При Альмѣ, подъ Черной? При Иккерманѣ? Или  \n",
      "въ самомъ Севастополѣ?... Мы живемъ въ такіе времена,  \n",
      "когда всякое чувство достоинства, и личнаго и національ-  \n",
      "наго, должно закрыть себѣ лицо руками, чтобы не  \n",
      "видѣть и свѣта Божія. Большой разговоръ съ дядей и  \n",
      "Беккеромъ о Московскихъ дамахъ, говорившихъ рѣчи  \n",
      "1856. Мартъ  \n",
      "и о патріотизмѣ откупщика Кокорева. Особливо трога-  \n",
      "теленъ его земной поклонъ севастопольскимъ мо-  \n",
      "рякамъ. По этому случаю я замѣтилъ, что во всѣхъ  \n",
      "подобныхъ оказіяхъ Откупщики болѣе прочихъ  \n",
      "отличаются у насъ на Руси самыми живыми  \n",
      "чувствами патріотизма – обобравъ крещеный на-  \n",
      "родъ и составивши милліоны изъ Грошей, пропитыхъ  \n",
      "именно тѣми, у кого этотъ Грошъ послѣдній, пусти-  \n",
      "вши по міру цѣлыя области, они всегда изъявляютъ  \n",
      "особенную готовность пожертвовать нѣсколько тысячъ  \n",
      "рублей для бѣдныхъ, на пріюты дѣтей пропившихся  \n",
      "обывателей и вообще на всё патріотическія цѣли,  \n",
      "находящіяся въ распоряженіи правительства, – трога-  \n",
      "тельное зрѣлище! Никогда не прохожу я мимо  \n",
      "зеркальныхъ оконъ и трехъэтажныхъ палатъ откуп-  \n",
      "щиковъ Рюмина, Кошелева, Бородина, Воронова  \n",
      "и др., чтобы не подивиться, какъ изъ малаго составля-  \n",
      "ется большое, и не размыслить, сколько должно  \n",
      "было пропиться и отпиться мужиковъ, чтобы эти  \n",
      "кварты и чарки, совокупя вмѣстѣ, составили эти  \n",
      "палаты, – сколько пропито и запито дарованій, спосо-  \n",
      "бностей, здоровья, силъ, – сколько кочергою или оглоблею  \n",
      "бито жёнъ, невестокъ и всей фамиліи, чтобы эти  \n",
      "патріотизмомъ проникнутые Сыны отечества, подъѣзжая  \n",
      "на парѣ гнѣдыхъ къ дому Градоначальниковъ, по  \n",
      "движенію ихъ сердецъ, приносили на картонный и  \n",
      "спиртовымъ огнемъ горящій алтарь отечества свои  \n",
      "пожертвованія, цвѣтущія на ихъ толстыхъ и жирныхъ  \n",
      "шеяхъ всякаго рода красненькими и зелененькими  \n",
      "ленточками.  \n",
      "По поводу земнаго поклона чувствительнаго Кокорева  \n",
      "Беккеръ разсказывалъ: когда въ Калугу везомо было тѣло  \n",
      "покойной государыни Еливеты Алексѣевны (изъ Белева), всё  \n",
      "Калужское купечество – вышло на Крутую гору Оки  \n",
      "встрѣчать оное – процессія была большая, и кн. Волкон-  \n",
      "скій оною распоряжался. Лишь показалась за рѣкою  \n",
      "процессія – голова калуж. купечества купецъ Зюзинъ  \n",
      "обратился къ полицеймейстеру съ вопросомъ: что купече-  \n",
      "ство желало бы стать на колѣни, и потому  \n",
      "будетъ ли это разрѣшено Начальствомъ. – Василій Ман-  \n",
      "даринъ, бывшій полицеймейстеромъ, не могъ разрѣшить  \n",
      "по долгу службы  \n",
      "этого обстоятельства и по долгу службы обратился къ Губернатору –  \n",
      "сей также – и вотъ онъ дошелъ до самого кн. Вол-  \n",
      "конскаго. «Хоть въ раскорячку», былъ короткій отвѣтъ.  \n",
      "Была страшная грязь, и купечеству показалось  \n",
      "затруднительнымъ лежать брюхомъ и бородою  \n",
      "въ грязи особливо долгое время. Получивъ отвѣтъ,  \n",
      "купцы сполитиковали и одинъ по одному разошлись  \n",
      "въ пу народъ – ибо лежаніе въ грязи стало для  \n",
      "нихъ какъ бы обязательнымъ. – Чему удивляться  \n",
      "Сердецъ  \n",
      "болѣе – этимъ ли движеніямъ сердца всегда навстрѣчу –  \n",
      "1856. годъ. Мартъ  \n",
      "всегда такъ вѣрно и такъ откровенно оцѣнивающему  \n",
      "эти патріотическія движенія.  \n",
      "По поводу разговоровъ о прошедшемъ Беккеръ разсказы-  \n",
      "валъ. Въ проѣздъ К. П. чрезъ Калугу онъ по обычаю посѣ-  \n",
      "тилъ исключительно больницу и острогъ. Въ послѣднемъ  \n",
      "занялся разстановкою часовыхъ въ зданіи острога –  \n",
      "Этотъ сюда! Этого здѣсь! Ты тутъ! Ты далѣе – всё навыворотъ.  \n",
      "Когда одинъ изъ этихъ часовыхъ былъ снятъ съ очень  \n",
      "нужнаго поста, то ему замѣчено было, что самые  \n",
      "преступные изъ арестантовъ не будутъ въ призорѣ  \n",
      "и могутъ выскочить въ корридоръ. – Ну – штыкомъ  \n",
      "его!… Въ одной камерѣ содержался офицеръ –  \n",
      "онъ подошелъ къ нему и просилъ, что уже три года  \n",
      "содержится безъ вины и никакого рѣшенія нѣтъ. Раз-  \n",
      "берутъ! – было отвѣтомъ. Проситель объяснилъ, что  \n",
      "онъ согласенъ покориться всякому рѣшенію, лишь  \n",
      "бы видѣть какой-либо конецъ своему дѣлу.  \n",
      "Ра-зберутъ!!!... – было отвѣтомъ – и только.  \n",
      "Обходя арестантскую больницу, онъ читалъ всѣ  \n",
      "подписи болѣзней – оказалось одно Demention.  \n",
      "Это что?!! … Медикъ объяснилъ, что субъектъ  \n",
      "находится во временномъ помѣшательствѣ, ко-  \n",
      "торое скоро должно пройти – Отъ чего?!..  \n",
      "Лага Рябикова  \n",
      "Онъ де жилъ въ рабочихъ, у купца, у краля, что-то.  \n",
      "и тотъ ударилъ его палкою по головѣ, отъ чего у него  \n",
      "и сдѣлалась руда бѣлая горячка. Обратясь къ Губер-  \n",
      "натору. В-р росодъ въ, t ріscсe l.1. cлумаюсь.  \n",
      "Болѣе никакихъ распоряженій и не было сдѣлано. – Впрочемъ  \n",
      "и часовые возвратились на прежнія мѣста – ибо  \n",
      "въ прочихъ слугахъ и острожные остались бы безъ  \n",
      "всякаго караула.  \n",
      "Вечеромъ читалъ піэссу – что чрезвычайно  \n",
      "понравилась. – Беккеру также.  \n",
      "10-е. Утромъ выѣхалъ въ алексяевское. Почивалъ въ  \n",
      "1856. годъ. Мартъ  \n",
      "21. 22. 23-е. 24. 25. 26-е. Въ Воскресенскомъ. Хлопо-  \n",
      "25-го. Пустилъ Заводъ. Вечеромъ пріѣхалъ Ѳедоръ изъ  \n",
      "Степной – тамъ все наладилось. Въ Воскресенскомъ  \n",
      "съ февраля поступилъ и управляетъ Зерутъ.  \n",
      "Ушею идетъ довольно хорошо. Садку сдѣлалъ по  \n",
      "правой сторонѣ парка, отъ дома къ Рѣкѣ. Около  \n",
      "Дома проводить піэссу. Ставили при мнѣ Шум-  \n",
      "бы отъ дома къ Коноинѣ.  \n",
      "27-го. По утру выѣхалъ въ Москву. Послалъ за  \n",
      "Ковскимъ, который – явился съ предложеніемъ отъ  \n",
      "Ивана Тепелева о пирѣ. Самсонъ отъѣзжанію  \n",
      "съ Ревель. Купилъ ему серебряныхъ вещей на 180 р.  \n",
      "серебу Сазикова. Отдалъ Кубокъ для парика.  \n",
      "Самойлову. Надѣть  \n",
      "Да снасеніе почибавшихъ – Толанскому В. В.  \n",
      "Самоялову. Признательные А. В. Сухово. – Ко-  \n",
      "28-е. Сборъ на Выксу. Прощаніе съ Самсономъ.  \n",
      "продалъ 10 пудъ патоки по 180 к. сереб. и 5 р. сереб.  \n",
      "въ счетъ Ретерту въ уплату за аппараты. Къ сахар-  \n",
      "пошлому Заводу. Вечеромъ выѣхалъ на Выксу.  \n",
      "29-е. Въ дорогѣ. Холодно. Простудился. Встрѣча въ Вса-  \n",
      "дурвьерѣ съ какимъ-то толченскимъ офицеромъ.  \n",
      "Популярность и всеобщая извѣстность Кречинскаго.  \n",
      "Его уже играли во всей Россіи. Успѣхъ одинъ вездѣ.  \n",
      "30-е. Въ 11 часовъ утра, никѣмъ неожиданный, пріѣхалъ  \n",
      "на Выксу – отецъ былъ радъ. Онъ постарѣлъ  \n",
      "нѣсколько, потолстѣлъ и въ голосѣ замѣтная перемѣна.  \n",
      "Нѣтъ твердости. На Выксѣ сесенра соловая, Честр-  \n",
      "Сальясъ, Ина. Тетлевъ и я Леховскій. Николай  \n",
      "1-е. Рано утромъ съ Соринымъ выѣхалъ на заводъ.  \n",
      "2-го. Уѣхалъ въ Петербургъ, ибо дѣло приняло дурной  \n",
      "оборотъ въ Мичу. Лѣтъ. Настало тяжелое время. Саезыгаколо  \n",
      "крѣпокъ. Ходилъ нѣсколько разъ Греть на годку. –и  \n",
      "купался въ шилѣ до половины Августа.  \n",
      "Сентябрь. Въ Петербургѣ. Подалъ заявку М. Фову о  \n",
      "продленіи въ 1-й гильдіи. Отправили на Выксу и  \n",
      "заключилъ условіе съ кн. Иетя. Пріѣхалъ обратно.  \n",
      "въ Петербуркъ. 13-го сентября. Сосновые свѣжи и машановъ.  \n",
      "Петербургъ. Жизнь въ квартирѣ Денедола. Постоянно  \n",
      "ходилъ въ Дерптъ по утрамъ. Окончилъ 2-ой и 3-тій акты.  \n",
      "1-е дѣло въ Гогуд. Совѣтѣ. Бръ Торги на встовые  \n",
      "Корабли. Конывъ и Шульмъ въ Петербургѣ. Декабрь.\n"
     ]
    },
    {
     "name": "stderr",
     "output_type": "stream",
     "text": [
      " 76%|███████▌  | 57/75 [18:02<12:16, 40.92s/it]"
     ]
    },
    {
     "name": "stdout",
     "output_type": "stream",
     "text": [
      "Возвратся въ Москву. -> <think>\n",
      "Хорошо, давай разберёмся с запросом пользователя. Он предоставил текст, который, судя по всему, является историческим документом или дневниковыми записями на русском языке XIX века. Задача — исправить ошибки в распознанном тексте, сохраняя оригинальную структуру и имена собственные.\n",
      "\n",
      "Первым делом обращаю внимание на фразу \"Возвратся въ Москву.\" Вижу, что глагол \"Возвратся\" написан без мягкого знака. В русском языке правильное написание — \"Возвратиться\" или \"Возвратъся\" (в дореформенной орфографии). Однако в контексте, возможно, имеется в виду \"Возвратился\" — прошедшее время. Нужно проверить контекст предыдущих предложений.\n",
      "\n",
      "Смотрю предыдущие строки. В последнем примере пользователь упомянул \"Декабрь.\" и, возможно, речь идет о возвращении в определенное место, обозначенное как Москву. В оригинальных примерах исправлений часто использовались формы с \"ъ\" на конце, характерные для дореформенной орфографии. Например, \"пріѣхалъ\", \"выѣхалъ\". Значит, правильным будет написание \"Возвратилсяъ\" или \"Возвратъся\". Но в предоставленном примере пользователь написал \"Возвратся\", что ближе к современному написанию, но без мягкого знака. Возможно, ошибка в отсутствии \"ъ\" на конце.\n",
      "\n",
      "Также стоит учитывать, что в оригинальных примерах адреса обозначены как [Address...], поэтому Москву нужно оставить без изменений. Проверяю, нет ли других ошибок в предложении. Вроде всё верно, кроме окончания глагола.\n",
      "\n",
      "Итак, исправление будет: \"Возвратилсяъ въ Москву.\" или \"Возвратъся въ Москву.\" Но учитывая, что в примерах пользователя чаще используется \"ъ\" на конце глаголов в прошедшем времени (например, \"пріѣхалъ\", \"выѣхалъ\"), правильнее будет \"Возвратилсяъ\". Однако в дореформенной орфографии глаголы в мужском роде прошедшего времени писались без \"ъ\" на конце, а \"ъ\" ставился в конце существительных. Возможно, здесь путаница. Нужно уточнить правила дореформенной орфографии.\n",
      "\n",
      "Проверяю: в дореформенной орфографии глаголы в форме прошедшего времени мужского рода оканчивались на \"лъ\", например, \"сдѣлалъ\", \"пріѣхалъ\". Значит, правильное написание — \"Возвратилсяъ\" с \"ъ\" на конце. Однако в современном понимании это может выглядеть как ошибка, но в контексте исторического документа это корректно.\n",
      "\n",
      "Таким образом, исправленная строка должна быть: \"Возвратилсяъ въ Москву.\" Но пользователь написал \"Возвратся\", возможно, это опечатка, и нужно просто добавить \"ъ\" в конце. Тогда будет \"Возвратъся въ Москву.\" — но это инфинитив. Если же это прошедшее время, то \"Возвратилсяъ\".\n",
      "\n",
      "Однако в предыдущих примерах пользователь использовал \"пріѣхалъ\", \"выѣхалъ\" — прошедшее время с \"ъ\". Значит, и здесь нужно привести к аналогичному виду. \"Возвратилсяъ\" — возможно, но более вероятно, что правильно \"Возвратился\" без \"ъ\", так как в дореформенной орфографии \"ъ\" в конце глаголов мужского рода прошедшего времени не ставился. Возможно, здесь ошибка в распознавании, и исходное слово было \"Возвратился\", но OCR добавил лишний \"ъ\".\n",
      "\n",
      "Следовательно, правильное исправление: \"Возвратился въ Москву.\" Однако нужно свериться с оригинальными примерами. В примере пользователя: \"пріѣхалъ\", \"выѣхалъ\" — с \"ъ\". Значит, в дореформенной орфографии глаголы мужского рода прошедшего времени писались с \"ъ\" на конце. Тогда \"Возвратилсяъ\" — правильно.\n",
      "\n",
      "Но в стандартной дореформенной орфографии \"ъ\" после согласных в конце слов не ставился для глаголов. Возможно, здесь ошибка OCR, и правильно \"Возвратился\". Нужно проверить источники.\n",
      "\n",
      "После проверки выясняю, что в дореформенной орфографии \"ъ\" ставился после конечных согласных в существительных, но не в глаголах. Например, \"онъ пріѣхалъ\", но \"он возвратился\". Следовательно, правильное написание — \"Возвратился въ Москву.\" без \"ъ\" в конце глагола.\n",
      "\n",
      "Однако в предоставленных пользователем примерах есть \"пріѣхалъ\", что соответствует правилам. Возможно, в данном случае \"ъ\" сохраняется. Нужно уточнить. Если пользователь следует стилю, где глаголы в прошедшем времени имеют \"ъ\", то \"Возвратилсяъ\". Но исторически это неверно. Скорее всего, ошибка распознавания, и правильно \"Возвратился\".\n",
      "\n",
      "Итак, окончательное исправление: \"Возвратился въ Москву.\"\n",
      "</think>\n",
      "\n",
      "Возвратился въ Москву.\n"
     ]
    },
    {
     "name": "stderr",
     "output_type": "stream",
     "text": [
      " 77%|███████▋  | 58/75 [18:07<08:29, 29.98s/it]"
     ]
    },
    {
     "name": "stdout",
     "output_type": "stream",
     "text": [
      "1854 годъ. Новый годъ нажелной дорогѣ. Былъ въ оскре- -> \n",
      "\n",
      "1854 годъ. Новый годъ на желѣзной дорогѣ. Былъ въ оскре-\n",
      "</think>\n",
      "\n",
      "1854 годъ. Новый годъ на желѣзной дорогѣ. Былъ въ оскре-\n",
      "{'error': {'code': 8, 'message': \"openaiproxy.(*ServiceImplementation).processChatCompletionRequest: can't do chat completion - proxy.(*UseCase).ChatCompletion: can't check request - code: <nil>, message: proxy: token limit reached. Limit: 50000 / min. Available: 0 / min. Retry after: 255.806982ms. Reset after: 27.823406994s., param: <nil>, type: proxy_limit_reached\", 'details': [{'@type': 'type.googleapis.com/openaiproxy.v1.ErrorResponse', 'error': {'code': '', 'message': 'proxy: token limit reached. Limit: 50000 / min. Available: 0 / min. Retry after: 255.806982ms. Reset after: 27.823406994s.', 'param': '', 'type': 'proxy_limit_reached', 'critical_data_details': [], 'limit_reached_details': {'type': 'token', 'retry_after': 0.255806982, 'reset_after': 27.823406994}}}, {'@type': 'type.googleapis.com/openaiproxy.v1.StatusCode', 'value': 429}]}}\n"
     ]
    },
    {
     "name": "stderr",
     "output_type": "stream",
     "text": [
      " 79%|███████▊  | 59/75 [18:23<06:54, 25.91s/it]"
     ]
    },
    {
     "name": "stdout",
     "output_type": "stream",
     "text": [
      "снискомъ. 15 числа выѣхалъ на Выку. Амнtt Гол. -> \n",
      "\n",
      "снискомъ. 15 числа выѣхалъ на Выксу. Амнtt Гол.\n",
      "</think>\n",
      "\n",
      "1854 годъ. Новый годъ на желѣзной дорогѣ. Былъ въ оскре-  \n",
      "снискомъ. 15 числа выѣхалъ на Выксу. Амнtt Гол.\n",
      "{'error': {'code': 8, 'message': \"openaiproxy.(*ServiceImplementation).processChatCompletionRequest: can't do chat completion - proxy.(*UseCase).ChatCompletion: can't check request - code: <nil>, message: proxy: token limit reached. Limit: 50000 / min. Available: 0 / min. Retry after: 16.423450976s. Reset after: 43.83505097s., param: <nil>, type: proxy_limit_reached\", 'details': [{'@type': 'type.googleapis.com/openaiproxy.v1.ErrorResponse', 'error': {'code': '', 'message': 'proxy: token limit reached. Limit: 50000 / min. Available: 0 / min. Retry after: 16.423450976s. Reset after: 43.83505097s.', 'param': '', 'type': 'proxy_limit_reached', 'critical_data_details': [], 'limit_reached_details': {'type': 'token', 'retry_after': 16.423450976, 'reset_after': 43.83505097}}}, {'@type': 'type.googleapis.com/openaiproxy.v1.StatusCode', 'value': 429}]}}\n",
      "{'error': {'code': 8, 'message': \"openaiproxy.(*ServiceImplementation).processChatCompletionRequest: can't do chat completion - proxy.(*UseCase).ChatCompletion: can't check request - code: <nil>, message: proxy: token limit reached. Limit: 50000 / min. Available: 0 / min. Retry after: 6.252253979s. Reset after: 33.663853973s., param: <nil>, type: proxy_limit_reached\", 'details': [{'@type': 'type.googleapis.com/openaiproxy.v1.ErrorResponse', 'error': {'code': '', 'message': 'proxy: token limit reached. Limit: 50000 / min. Available: 0 / min. Retry after: 6.252253979s. Reset after: 33.663853973s.', 'param': '', 'type': 'proxy_limit_reached', 'critical_data_details': [], 'limit_reached_details': {'type': 'token', 'retry_after': 6.252253979, 'reset_after': 33.663853973}}}, {'@type': 'type.googleapis.com/openaiproxy.v1.StatusCode', 'value': 429}]}}\n"
     ]
    },
    {
     "name": "stderr",
     "output_type": "stream",
     "text": [
      " 80%|████████  | 60/75 [18:48<06:24, 25.65s/it]"
     ]
    },
    {
     "name": "stdout",
     "output_type": "stream",
     "text": [
      "Піэсса, читалась въ успѣхомъ. Въ феврагѣ -> \n",
      "\n",
      "Піэсса читалась съ успѣхомъ. Въ февралѣ\n",
      "</think>\n",
      "\n",
      "Піэсса читалась съ успѣхомъ. Въ февралѣ\n",
      "{'error': {'code': 8, 'message': \"openaiproxy.(*ServiceImplementation).processChatCompletionRequest: can't do chat completion - proxy.(*UseCase).ChatCompletion: can't check request - code: <nil>, message: proxy: token limit reached. Limit: 50000 / min. Available: 0 / min. Retry after: 24.086367994s. Reset after: 51.387567996s., param: <nil>, type: proxy_limit_reached\", 'details': [{'@type': 'type.googleapis.com/openaiproxy.v1.ErrorResponse', 'error': {'code': '', 'message': 'proxy: token limit reached. Limit: 50000 / min. Available: 0 / min. Retry after: 24.086367994s. Reset after: 51.387567996s.', 'param': '', 'type': 'proxy_limit_reached', 'critical_data_details': [], 'limit_reached_details': {'type': 'token', 'retry_after': 24.086367994, 'reset_after': 51.387567996}}}, {'@type': 'type.googleapis.com/openaiproxy.v1.StatusCode', 'value': 429}]}}\n",
      "{'error': {'code': 8, 'message': \"openaiproxy.(*ServiceImplementation).processChatCompletionRequest: can't do chat completion - proxy.(*UseCase).ChatCompletion: can't check request - code: <nil>, message: proxy: token limit reached. Limit: 50000 / min. Available: 0 / min. Retry after: 13.935390979s. Reset after: 41.236590981s., param: <nil>, type: proxy_limit_reached\", 'details': [{'@type': 'type.googleapis.com/openaiproxy.v1.ErrorResponse', 'error': {'code': '', 'message': 'proxy: token limit reached. Limit: 50000 / min. Available: 0 / min. Retry after: 13.935390979s. Reset after: 41.236590981s.', 'param': '', 'type': 'proxy_limit_reached', 'critical_data_details': [], 'limit_reached_details': {'type': 'token', 'retry_after': 13.935390979, 'reset_after': 41.236590981}}}, {'@type': 'type.googleapis.com/openaiproxy.v1.StatusCode', 'value': 429}]}}\n",
      "{'error': {'code': 8, 'message': \"openaiproxy.(*ServiceImplementation).processChatCompletionRequest: can't do chat completion - proxy.(*UseCase).ChatCompletion: can't check request - code: <nil>, message: proxy: token limit reached. Limit: 50000 / min. Available: 0 / min. Retry after: 3.760318994s. Reset after: 31.061518996s., param: <nil>, type: proxy_limit_reached\", 'details': [{'@type': 'type.googleapis.com/openaiproxy.v1.ErrorResponse', 'error': {'code': '', 'message': 'proxy: token limit reached. Limit: 50000 / min. Available: 0 / min. Retry after: 3.760318994s. Reset after: 31.061518996s.', 'param': '', 'type': 'proxy_limit_reached', 'critical_data_details': [], 'limit_reached_details': {'type': 'token', 'retry_after': 3.760318994, 'reset_after': 31.061518996}}}, {'@type': 'type.googleapis.com/openaiproxy.v1.StatusCode', 'value': 429}]}}\n"
     ]
    },
    {
     "name": "stderr",
     "output_type": "stream",
     "text": [
      " 81%|████████▏ | 61/75 [19:22<06:33, 28.11s/it]"
     ]
    },
    {
     "name": "stdout",
     "output_type": "stream",
     "text": [
      "должъ былъ ѣхать въ Москву по полоду начавшаеттъ, -> \n",
      "\n",
      "долженъ былъ ѣхать въ Москву по поводу начавшагося\n",
      "</think>\n",
      "\n",
      "долженъ былъ ѣхать въ Москву по поводу начавшагося\n",
      "{'error': {'code': 8, 'message': \"openaiproxy.(*ServiceImplementation).processChatCompletionRequest: can't do chat completion - proxy.(*UseCase).ChatCompletion: can't check request - code: <nil>, message: proxy: token limit reached. Limit: 50000 / min. Available: 0 / min. Retry after: 23.076052993s. Reset after: 50.260852992s., param: <nil>, type: proxy_limit_reached\", 'details': [{'@type': 'type.googleapis.com/openaiproxy.v1.ErrorResponse', 'error': {'code': '', 'message': 'proxy: token limit reached. Limit: 50000 / min. Available: 0 / min. Retry after: 23.076052993s. Reset after: 50.260852992s.', 'param': '', 'type': 'proxy_limit_reached', 'critical_data_details': [], 'limit_reached_details': {'type': 'token', 'retry_after': 23.076052993, 'reset_after': 50.260852992}}}, {'@type': 'type.googleapis.com/openaiproxy.v1.StatusCode', 'value': 429}]}}\n",
      "{'error': {'code': 8, 'message': \"openaiproxy.(*ServiceImplementation).processChatCompletionRequest: can't do chat completion - proxy.(*UseCase).ChatCompletion: can't check request - code: <nil>, message: proxy: token limit reached. Limit: 50000 / min. Available: 0 / min. Retry after: 12.932389974s. Reset after: 40.117189973s., param: <nil>, type: proxy_limit_reached\", 'details': [{'@type': 'type.googleapis.com/openaiproxy.v1.ErrorResponse', 'error': {'code': '', 'message': 'proxy: token limit reached. Limit: 50000 / min. Available: 0 / min. Retry after: 12.932389974s. Reset after: 40.117189973s.', 'param': '', 'type': 'proxy_limit_reached', 'critical_data_details': [], 'limit_reached_details': {'type': 'token', 'retry_after': 12.932389974, 'reset_after': 40.117189973}}}, {'@type': 'type.googleapis.com/openaiproxy.v1.StatusCode', 'value': 429}]}}\n",
      "{'error': {'code': 8, 'message': \"openaiproxy.(*ServiceImplementation).processChatCompletionRequest: can't do chat completion - proxy.(*UseCase).ChatCompletion: can't check request - code: <nil>, message: proxy: token limit reached. Limit: 50000 / min. Available: 0 / min. Retry after: 2.764720976s. Reset after: 29.949520975s., param: <nil>, type: proxy_limit_reached\", 'details': [{'@type': 'type.googleapis.com/openaiproxy.v1.ErrorResponse', 'error': {'code': '', 'message': 'proxy: token limit reached. Limit: 50000 / min. Available: 0 / min. Retry after: 2.764720976s. Reset after: 29.949520975s.', 'param': '', 'type': 'proxy_limit_reached', 'critical_data_details': [], 'limit_reached_details': {'type': 'token', 'retry_after': 2.764720976, 'reset_after': 29.949520975}}}, {'@type': 'type.googleapis.com/openaiproxy.v1.StatusCode', 'value': 429}]}}\n"
     ]
    },
    {
     "name": "stderr",
     "output_type": "stream",
     "text": [
      " 83%|████████▎ | 62/75 [19:59<06:40, 30.80s/it]"
     ]
    },
    {
     "name": "stdout",
     "output_type": "stream",
     "text": [
      "слѣзмвія. Ѣяздилъ на нѣсколько дей въ Петербургъ. -> \n",
      "\n",
      "слѣдствія. Ѣздилъ на нѣсколько дней въ Петербургъ.\n",
      "</think>\n",
      "\n",
      "1854 годъ. Новый годъ на желѣзной дорогѣ. Былъ въ оскре-  \n",
      "снискомъ. 15 числа выѣхалъ на Выксу. Амнtt Гол.  \n",
      "Піэсса читалась съ успѣхомъ. Въ февралѣ  \n",
      "долженъ былъ ѣхать въ Москву по поводу начавшагося  \n",
      "слѣдствія. Ѣздилъ на нѣсколько дней въ Петербургъ.\n",
      "{'error': {'code': 8, 'message': \"openaiproxy.(*ServiceImplementation).processChatCompletionRequest: can't do chat completion - proxy.(*UseCase).ChatCompletion: can't check request - code: <nil>, message: proxy: token limit reached. Limit: 50000 / min. Available: 0 / min. Retry after: 19.036035984s. Reset after: 45.958035975s., param: <nil>, type: proxy_limit_reached\", 'details': [{'@type': 'type.googleapis.com/openaiproxy.v1.ErrorResponse', 'error': {'code': '', 'message': 'proxy: token limit reached. Limit: 50000 / min. Available: 0 / min. Retry after: 19.036035984s. Reset after: 45.958035975s.', 'param': '', 'type': 'proxy_limit_reached', 'critical_data_details': [], 'limit_reached_details': {'type': 'token', 'retry_after': 19.036035984, 'reset_after': 45.958035975}}}, {'@type': 'type.googleapis.com/openaiproxy.v1.StatusCode', 'value': 429}]}}\n",
      "{'error': {'code': 8, 'message': \"openaiproxy.(*ServiceImplementation).processChatCompletionRequest: can't do chat completion - proxy.(*UseCase).ChatCompletion: can't check request - code: <nil>, message: proxy: token limit reached. Limit: 50000 / min. Available: 0 / min. Retry after: 7.019059985s. Reset after: 33.941059976s., param: <nil>, type: proxy_limit_reached\", 'details': [{'@type': 'type.googleapis.com/openaiproxy.v1.ErrorResponse', 'error': {'code': '', 'message': 'proxy: token limit reached. Limit: 50000 / min. Available: 0 / min. Retry after: 7.019059985s. Reset after: 33.941059976s.', 'param': '', 'type': 'proxy_limit_reached', 'critical_data_details': [], 'limit_reached_details': {'type': 'token', 'retry_after': 7.019059985, 'reset_after': 33.941059976}}}, {'@type': 'type.googleapis.com/openaiproxy.v1.StatusCode', 'value': 429}]}}\n"
     ]
    },
    {
     "name": "stderr",
     "output_type": "stream",
     "text": [
      " 84%|████████▍ | 63/75 [20:24<05:50, 29.17s/it]"
     ]
    },
    {
     "name": "stdout",
     "output_type": "stream",
     "text": [
      "Иатупалъ охогиминыихъ вещю чтобы охотится. -> \n",
      "\n",
      "Иатупалъ охогиминыихъ вещю чтобы охотится. -> Истратилъ охотничьихъ вещей, чтобы охотиться.\n",
      "</think>\n",
      "\n",
      "Истратилъ охотничьихъ вещей, чтобы охотиться.\n",
      "{'error': {'code': 8, 'message': \"openaiproxy.(*ServiceImplementation).processChatCompletionRequest: can't do chat completion - proxy.(*UseCase).ChatCompletion: can't check request - code: <nil>, message: proxy: token limit reached. Limit: 50000 / min. Available: 0 / min. Retry after: 26.875954985s. Reset after: 53.668354988s., param: <nil>, type: proxy_limit_reached\", 'details': [{'@type': 'type.googleapis.com/openaiproxy.v1.ErrorResponse', 'error': {'code': '', 'message': 'proxy: token limit reached. Limit: 50000 / min. Available: 0 / min. Retry after: 26.875954985s. Reset after: 53.668354988s.', 'param': '', 'type': 'proxy_limit_reached', 'critical_data_details': [], 'limit_reached_details': {'type': 'token', 'retry_after': 26.875954985, 'reset_after': 53.668354988}}}, {'@type': 'type.googleapis.com/openaiproxy.v1.StatusCode', 'value': 429}]}}\n",
      "{'error': {'code': 8, 'message': \"openaiproxy.(*ServiceImplementation).processChatCompletionRequest: can't do chat completion - proxy.(*UseCase).ChatCompletion: can't check request - code: <nil>, message: proxy: token limit reached. Limit: 50000 / min. Available: 0 / min. Retry after: 16.712620973s. Reset after: 43.505020976s., param: <nil>, type: proxy_limit_reached\", 'details': [{'@type': 'type.googleapis.com/openaiproxy.v1.ErrorResponse', 'error': {'code': '', 'message': 'proxy: token limit reached. Limit: 50000 / min. Available: 0 / min. Retry after: 16.712620973s. Reset after: 43.505020976s.', 'param': '', 'type': 'proxy_limit_reached', 'critical_data_details': [], 'limit_reached_details': {'type': 'token', 'retry_after': 16.712620973, 'reset_after': 43.505020976}}}, {'@type': 'type.googleapis.com/openaiproxy.v1.StatusCode', 'value': 429}]}}\n",
      "{'error': {'code': 8, 'message': \"openaiproxy.(*ServiceImplementation).processChatCompletionRequest: can't do chat completion - proxy.(*UseCase).ChatCompletion: can't check request - code: <nil>, message: proxy: token limit reached. Limit: 50000 / min. Available: 0 / min. Retry after: 6.535291999s. Reset after: 33.327692002s., param: <nil>, type: proxy_limit_reached\", 'details': [{'@type': 'type.googleapis.com/openaiproxy.v1.ErrorResponse', 'error': {'code': '', 'message': 'proxy: token limit reached. Limit: 50000 / min. Available: 0 / min. Retry after: 6.535291999s. Reset after: 33.327692002s.', 'param': '', 'type': 'proxy_limit_reached', 'critical_data_details': [], 'limit_reached_details': {'type': 'token', 'retry_after': 6.535291999, 'reset_after': 33.327692002}}}, {'@type': 'type.googleapis.com/openaiproxy.v1.StatusCode', 'value': 429}]}}\n"
     ]
    },
    {
     "name": "stderr",
     "output_type": "stream",
     "text": [
      " 85%|████████▌ | 64/75 [21:00<05:40, 30.99s/it]"
     ]
    },
    {
     "name": "stdout",
     "output_type": "stream",
     "text": [
      "2-го Маретъ на тервой недѣли воротилси въ Москву. -> \n",
      "\n",
      "2-го Марта на первой недѣли воротился въ Москву.\n",
      "</think>\n",
      "\n",
      "2-го Марта на первой недѣли воротился въ Москву.\n",
      "{'error': {'code': 8, 'message': \"openaiproxy.(*ServiceImplementation).processChatCompletionRequest: can't do chat completion - proxy.(*UseCase).ChatCompletion: can't check request - code: <nil>, message: proxy: token limit reached. Limit: 50000 / min. Available: 0 / min. Retry after: 24.993061989s. Reset after: 51.664261996s., param: <nil>, type: proxy_limit_reached\", 'details': [{'@type': 'type.googleapis.com/openaiproxy.v1.ErrorResponse', 'error': {'code': '', 'message': 'proxy: token limit reached. Limit: 50000 / min. Available: 0 / min. Retry after: 24.993061989s. Reset after: 51.664261996s.', 'param': '', 'type': 'proxy_limit_reached', 'critical_data_details': [], 'limit_reached_details': {'type': 'token', 'retry_after': 24.993061989, 'reset_after': 51.664261996}}}, {'@type': 'type.googleapis.com/openaiproxy.v1.StatusCode', 'value': 429}]}}\n",
      "{'error': {'code': 8, 'message': \"openaiproxy.(*ServiceImplementation).processChatCompletionRequest: can't do chat completion - proxy.(*UseCase).ChatCompletion: can't check request - code: <nil>, message: proxy: token limit reached. Limit: 50000 / min. Available: 0 / min. Retry after: 14.831900984s. Reset after: 41.503100991s., param: <nil>, type: proxy_limit_reached\", 'details': [{'@type': 'type.googleapis.com/openaiproxy.v1.ErrorResponse', 'error': {'code': '', 'message': 'proxy: token limit reached. Limit: 50000 / min. Available: 0 / min. Retry after: 14.831900984s. Reset after: 41.503100991s.', 'param': '', 'type': 'proxy_limit_reached', 'critical_data_details': [], 'limit_reached_details': {'type': 'token', 'retry_after': 14.831900984, 'reset_after': 41.503100991}}}, {'@type': 'type.googleapis.com/openaiproxy.v1.StatusCode', 'value': 429}]}}\n",
      "{'error': {'code': 8, 'message': \"openaiproxy.(*ServiceImplementation).processChatCompletionRequest: can't do chat completion - proxy.(*UseCase).ChatCompletion: can't check request - code: <nil>, message: proxy: token limit reached. Limit: 50000 / min. Available: 0 / min. Retry after: 4.681820988s. Reset after: 31.353020995s., param: <nil>, type: proxy_limit_reached\", 'details': [{'@type': 'type.googleapis.com/openaiproxy.v1.ErrorResponse', 'error': {'code': '', 'message': 'proxy: token limit reached. Limit: 50000 / min. Available: 0 / min. Retry after: 4.681820988s. Reset after: 31.353020995s.', 'param': '', 'type': 'proxy_limit_reached', 'critical_data_details': [], 'limit_reached_details': {'type': 'token', 'retry_after': 4.681820988, 'reset_after': 31.353020995}}}, {'@type': 'type.googleapis.com/openaiproxy.v1.StatusCode', 'value': 429}]}}\n"
     ]
    },
    {
     "name": "stderr",
     "output_type": "stream",
     "text": [
      " 87%|████████▋ | 65/75 [21:37<05:28, 32.86s/it]"
     ]
    },
    {
     "name": "stdout",
     "output_type": "stream",
     "text": [
      "для пріема Дамъ. Онъ пріѣхали поздно. Обѣдали въ 6-мъ часу – было -> \n",
      "\n",
      "для пріема Дамъ. Онѣ пріѣхали поздно. Обѣдали въ 6-мъ часу – было\n",
      "</think>\n",
      "\n",
      "2-го Марта на первой недѣли воротился въ Москву.  \n",
      "для пріема Дамъ. Онѣ пріѣхали поздно. Обѣдали въ 6-мъ часу – было\n",
      "{'error': {'code': 8, 'message': \"openaiproxy.(*ServiceImplementation).processChatCompletionRequest: can't do chat completion - proxy.(*UseCase).ChatCompletion: can't check request - code: <nil>, message: proxy: token limit reached. Limit: 50000 / min. Available: 0 / min. Retry after: 21.283537954s. Reset after: 47.780737966s., param: <nil>, type: proxy_limit_reached\", 'details': [{'@type': 'type.googleapis.com/openaiproxy.v1.ErrorResponse', 'error': {'code': '', 'message': 'proxy: token limit reached. Limit: 50000 / min. Available: 0 / min. Retry after: 21.283537954s. Reset after: 47.780737966s.', 'param': '', 'type': 'proxy_limit_reached', 'critical_data_details': [], 'limit_reached_details': {'type': 'token', 'retry_after': 21.283537954, 'reset_after': 47.780737966}}}, {'@type': 'type.googleapis.com/openaiproxy.v1.StatusCode', 'value': 429}]}}\n",
      "{'error': {'code': 8, 'message': \"openaiproxy.(*ServiceImplementation).processChatCompletionRequest: can't do chat completion - proxy.(*UseCase).ChatCompletion: can't check request - code: <nil>, message: proxy: token limit reached. Limit: 50000 / min. Available: 0 / min. Retry after: 11.133589982s. Reset after: 37.630789995s., param: <nil>, type: proxy_limit_reached\", 'details': [{'@type': 'type.googleapis.com/openaiproxy.v1.ErrorResponse', 'error': {'code': '', 'message': 'proxy: token limit reached. Limit: 50000 / min. Available: 0 / min. Retry after: 11.133589982s. Reset after: 37.630789995s.', 'param': '', 'type': 'proxy_limit_reached', 'critical_data_details': [], 'limit_reached_details': {'type': 'token', 'retry_after': 11.133589982, 'reset_after': 37.630789995}}}, {'@type': 'type.googleapis.com/openaiproxy.v1.StatusCode', 'value': 429}]}}\n",
      "{'error': {'code': 8, 'message': \"openaiproxy.(*ServiceImplementation).processChatCompletionRequest: can't do chat completion - proxy.(*UseCase).ChatCompletion: can't check request - code: <nil>, message: proxy: token limit reached. Limit: 50000 / min. Available: 0 / min. Retry after: 979.728966ms. Reset after: 27.476928979s., param: <nil>, type: proxy_limit_reached\", 'details': [{'@type': 'type.googleapis.com/openaiproxy.v1.ErrorResponse', 'error': {'code': '', 'message': 'proxy: token limit reached. Limit: 50000 / min. Available: 0 / min. Retry after: 979.728966ms. Reset after: 27.476928979s.', 'param': '', 'type': 'proxy_limit_reached', 'critical_data_details': [], 'limit_reached_details': {'type': 'token', 'retry_after': 0.979728966, 'reset_after': 27.476928979}}}, {'@type': 'type.googleapis.com/openaiproxy.v1.StatusCode', 'value': 429}]}}\n"
     ]
    },
    {
     "name": "stderr",
     "output_type": "stream",
     "text": [
      " 88%|████████▊ | 66/75 [22:18<05:18, 35.36s/it]"
     ]
    },
    {
     "name": "stdout",
     "output_type": "stream",
     "text": [
      "довольно весело. – я очно вечено игралъ въ карты. -> \n",
      "\n",
      "довольно весело. – я опять вечеромъ игралъ въ карты.\n",
      "</think>\n",
      "\n",
      "1854 годъ. Новый годъ на желѣзной дорогѣ. Былъ въ оскре-  \n",
      "снискомъ. 15 числа выѣхалъ на Выксу. Амнtt Гол.  \n",
      "Піэсса читалась съ успѣхомъ. Въ февралѣ  \n",
      "долженъ былъ ѣхать въ Москву по поводу начавшагося  \n",
      "слѣдствія. Ѣздилъ на нѣсколько дней въ Петербургъ.  \n",
      "Истратилъ охотничьихъ вещей, чтобы охотиться.  \n",
      "2-го Марта на первой недѣли воротился въ Москву.  \n",
      "для пріема Дамъ. Онѣ пріѣхали поздно. Обѣдали въ 6-мъ часу – было  \n",
      "довольно весело. – я опять вечеромъ игралъ въ карты.\n",
      "{'error': {'code': 8, 'message': \"openaiproxy.(*ServiceImplementation).processChatCompletionRequest: can't do chat completion - proxy.(*UseCase).ChatCompletion: can't check request - code: <nil>, message: proxy: token limit reached. Limit: 50000 / min. Available: 0 / min. Retry after: 14.009905964s. Reset after: 40.085905969s., param: <nil>, type: proxy_limit_reached\", 'details': [{'@type': 'type.googleapis.com/openaiproxy.v1.ErrorResponse', 'error': {'code': '', 'message': 'proxy: token limit reached. Limit: 50000 / min. Available: 0 / min. Retry after: 14.009905964s. Reset after: 40.085905969s.', 'param': '', 'type': 'proxy_limit_reached', 'critical_data_details': [], 'limit_reached_details': {'type': 'token', 'retry_after': 14.009905964, 'reset_after': 40.085905969}}}, {'@type': 'type.googleapis.com/openaiproxy.v1.StatusCode', 'value': 429}]}}\n",
      "{'error': {'code': 8, 'message': \"openaiproxy.(*ServiceImplementation).processChatCompletionRequest: can't do chat completion - proxy.(*UseCase).ChatCompletion: can't check request - code: <nil>, message: proxy: token limit reached. Limit: 50000 / min. Available: 0 / min. Retry after: 3.833451956s. Reset after: 29.909451961s., param: <nil>, type: proxy_limit_reached\", 'details': [{'@type': 'type.googleapis.com/openaiproxy.v1.ErrorResponse', 'error': {'code': '', 'message': 'proxy: token limit reached. Limit: 50000 / min. Available: 0 / min. Retry after: 3.833451956s. Reset after: 29.909451961s.', 'param': '', 'type': 'proxy_limit_reached', 'critical_data_details': [], 'limit_reached_details': {'type': 'token', 'retry_after': 3.833451956, 'reset_after': 29.909451961}}}, {'@type': 'type.googleapis.com/openaiproxy.v1.StatusCode', 'value': 429}]}}\n"
     ]
    },
    {
     "name": "stderr",
     "output_type": "stream",
     "text": [
      " 89%|████████▉ | 67/75 [22:52<04:39, 34.95s/it]"
     ]
    },
    {
     "name": "stdout",
     "output_type": "stream",
     "text": [
      "нѣтъ я отправилъ семна съ. Въ Тулу Запродать будущаго сахара. -> \n",
      "\n",
      "1854 годъ. Новый годъ на желѣзной дорогѣ. Былъ въ оскре-  \n",
      "снискомъ. 15 числа выѣхалъ на Выксу. Амнtt Гол.  \n",
      "Піэсса читалась съ успѣхомъ. Въ февралѣ  \n",
      "долженъ былъ ѣхать въ Москву по поводу начавшагося  \n",
      "слѣдствія. Ѣздилъ на нѣсколько дней въ Петербургъ.  \n",
      "Истратилъ охотничьихъ вещей, чтобы охотиться.  \n",
      "2-го Марта на первой недѣли воротился въ Москву.  \n",
      "для пріема Дамъ. Онѣ пріѣхали поздно. Обѣдали въ 6-мъ часу – было  \n",
      "довольно весело. – я опять вечеромъ игралъ въ карты.  \n",
      "нѣтъ. Я отправилъ семью съ. Въ Тулу Запродать будущаго сахара.\n",
      "</think>\n",
      "\n",
      "1854 годъ. Новый годъ на желѣзной дорогѣ. Былъ въ оскре-  \n",
      "снискомъ. 15 числа выѣхалъ на Выксу. Амнtt Гол.  \n",
      "Піэсса читалась съ успѣхомъ. Въ февралѣ  \n",
      "долженъ былъ ѣхать въ Москву по поводу начавшагося  \n",
      "слѣдствія. Ѣздилъ на нѣсколько дней въ Петербургъ.  \n",
      "Истратилъ охотничьихъ вещей, чтобы охотиться.  \n",
      "2-го Марта на первой недѣли воротился въ Москву.  \n",
      "для пріема Дамъ. Онѣ пріѣхали поздно. Обѣдали въ 6-мъ часу – было  \n",
      "довольно весело. – я опять вечеромъ игралъ въ карты.  \n",
      "нѣтъ. Я отправилъ семью съ. Въ Тулу Запродать будущаго сахара.\n",
      "{'error': {'code': 8, 'message': \"openaiproxy.(*ServiceImplementation).processChatCompletionRequest: can't do chat completion - proxy.(*UseCase).ChatCompletion: can't check request - code: <nil>, message: proxy: token limit reached. Limit: 50000 / min. Available: 0 / min. Retry after: 14.755910962s. Reset after: 40.013510972s., param: <nil>, type: proxy_limit_reached\", 'details': [{'@type': 'type.googleapis.com/openaiproxy.v1.ErrorResponse', 'error': {'code': '', 'message': 'proxy: token limit reached. Limit: 50000 / min. Available: 0 / min. Retry after: 14.755910962s. Reset after: 40.013510972s.', 'param': '', 'type': 'proxy_limit_reached', 'critical_data_details': [], 'limit_reached_details': {'type': 'token', 'retry_after': 14.755910962, 'reset_after': 40.013510972}}}, {'@type': 'type.googleapis.com/openaiproxy.v1.StatusCode', 'value': 429}]}}\n",
      "{'error': {'code': 8, 'message': \"openaiproxy.(*ServiceImplementation).processChatCompletionRequest: can't do chat completion - proxy.(*UseCase).ChatCompletion: can't check request - code: <nil>, message: proxy: token limit reached. Limit: 50000 / min. Available: 0 / min. Retry after: 4.595746964s. Reset after: 29.853346973s., param: <nil>, type: proxy_limit_reached\", 'details': [{'@type': 'type.googleapis.com/openaiproxy.v1.ErrorResponse', 'error': {'code': '', 'message': 'proxy: token limit reached. Limit: 50000 / min. Available: 0 / min. Retry after: 4.595746964s. Reset after: 29.853346973s.', 'param': '', 'type': 'proxy_limit_reached', 'critical_data_details': [], 'limit_reached_details': {'type': 'token', 'retry_after': 4.595746964, 'reset_after': 29.853346973}}}, {'@type': 'type.googleapis.com/openaiproxy.v1.StatusCode', 'value': 429}]}}\n"
     ]
    },
    {
     "name": "stderr",
     "output_type": "stream",
     "text": [
      " 91%|█████████ | 68/75 [23:18<03:45, 32.19s/it]"
     ]
    },
    {
     "name": "stdout",
     "output_type": "stream",
     "text": [
      "28е. РаВсталъ рано сполярничалъ. Распимывалъ и отправилъ Выю- -> \n",
      "\n",
      "28-е. Всталъ рано, сполярничалъ. Распимывалъ и отправилъ Выю-\n",
      "</think>\n",
      "\n",
      "28-е. Всталъ рано, сполярничалъ. Распимывалъ и отправилъ Выю-\n",
      "{'error': {'code': 8, 'message': \"openaiproxy.(*ServiceImplementation).processChatCompletionRequest: can't do chat completion - proxy.(*UseCase).ChatCompletion: can't check request - code: <nil>, message: proxy: token limit reached. Limit: 50000 / min. Available: 0 / min. Retry after: 23.895308941s. Reset after: 49.01730895s., param: <nil>, type: proxy_limit_reached\", 'details': [{'@type': 'type.googleapis.com/openaiproxy.v1.ErrorResponse', 'error': {'code': '', 'message': 'proxy: token limit reached. Limit: 50000 / min. Available: 0 / min. Retry after: 23.895308941s. Reset after: 49.01730895s.', 'param': '', 'type': 'proxy_limit_reached', 'critical_data_details': [], 'limit_reached_details': {'type': 'token', 'retry_after': 23.895308941, 'reset_after': 49.01730895}}}, {'@type': 'type.googleapis.com/openaiproxy.v1.StatusCode', 'value': 429}]}}\n",
      "{'error': {'code': 8, 'message': \"openaiproxy.(*ServiceImplementation).processChatCompletionRequest: can't do chat completion - proxy.(*UseCase).ChatCompletion: can't check request - code: <nil>, message: proxy: token limit reached. Limit: 50000 / min. Available: 0 / min. Retry after: 13.732045948s. Reset after: 38.854045957s., param: <nil>, type: proxy_limit_reached\", 'details': [{'@type': 'type.googleapis.com/openaiproxy.v1.ErrorResponse', 'error': {'code': '', 'message': 'proxy: token limit reached. Limit: 50000 / min. Available: 0 / min. Retry after: 13.732045948s. Reset after: 38.854045957s.', 'param': '', 'type': 'proxy_limit_reached', 'critical_data_details': [], 'limit_reached_details': {'type': 'token', 'retry_after': 13.732045948, 'reset_after': 38.854045957}}}, {'@type': 'type.googleapis.com/openaiproxy.v1.StatusCode', 'value': 429}]}}\n",
      "{'error': {'code': 8, 'message': \"openaiproxy.(*ServiceImplementation).processChatCompletionRequest: can't do chat completion - proxy.(*UseCase).ChatCompletion: can't check request - code: <nil>, message: proxy: token limit reached. Limit: 50000 / min. Available: 0 / min. Retry after: 3.573113948s. Reset after: 28.695113956s., param: <nil>, type: proxy_limit_reached\", 'details': [{'@type': 'type.googleapis.com/openaiproxy.v1.ErrorResponse', 'error': {'code': '', 'message': 'proxy: token limit reached. Limit: 50000 / min. Available: 0 / min. Retry after: 3.573113948s. Reset after: 28.695113956s.', 'param': '', 'type': 'proxy_limit_reached', 'critical_data_details': [], 'limit_reached_details': {'type': 'token', 'retry_after': 3.573113948, 'reset_after': 28.695113956}}}, {'@type': 'type.googleapis.com/openaiproxy.v1.StatusCode', 'value': 429}]}}\n"
     ]
    },
    {
     "name": "stderr",
     "output_type": "stream",
     "text": [
      " 92%|█████████▏| 69/75 [23:53<03:19, 33.19s/it]"
     ]
    },
    {
     "name": "stdout",
     "output_type": "stream",
     "text": [
      "сумскихъ 18 человѣхъ. На обратныхъ пододавъ затробовалъ изъ Москвы -> \n",
      "\n",
      "28-е. Всталъ рано, сполярничалъ. Распимывалъ и отправилъ Выю-  \n",
      "сумскихъ 18 человѣкъ. На обратныхъ подводахъ затребовалъ изъ Москвы\n",
      "</think>\n",
      "\n",
      "28-е. Всталъ рано, сполярничалъ. Распимывалъ и отправилъ Выю-  \n",
      "сумскихъ 18 человѣкъ. На обратныхъ подводахъ затребовалъ изъ Москвы\n",
      "{'error': {'code': 8, 'message': \"openaiproxy.(*ServiceImplementation).processChatCompletionRequest: can't do chat completion - proxy.(*UseCase).ChatCompletion: can't check request - code: <nil>, message: proxy: token limit reached. Limit: 50000 / min. Available: 0 / min. Retry after: 23.498023927s. Reset after: 48.382423937s., param: <nil>, type: proxy_limit_reached\", 'details': [{'@type': 'type.googleapis.com/openaiproxy.v1.ErrorResponse', 'error': {'code': '', 'message': 'proxy: token limit reached. Limit: 50000 / min. Available: 0 / min. Retry after: 23.498023927s. Reset after: 48.382423937s.', 'param': '', 'type': 'proxy_limit_reached', 'critical_data_details': [], 'limit_reached_details': {'type': 'token', 'retry_after': 23.498023927, 'reset_after': 48.382423937}}}, {'@type': 'type.googleapis.com/openaiproxy.v1.StatusCode', 'value': 429}]}}\n",
      "{'error': {'code': 8, 'message': \"openaiproxy.(*ServiceImplementation).processChatCompletionRequest: can't do chat completion - proxy.(*UseCase).ChatCompletion: can't check request - code: <nil>, message: proxy: token limit reached. Limit: 50000 / min. Available: 0 / min. Retry after: 13.321050941s. Reset after: 38.205450952s., param: <nil>, type: proxy_limit_reached\", 'details': [{'@type': 'type.googleapis.com/openaiproxy.v1.ErrorResponse', 'error': {'code': '', 'message': 'proxy: token limit reached. Limit: 50000 / min. Available: 0 / min. Retry after: 13.321050941s. Reset after: 38.205450952s.', 'param': '', 'type': 'proxy_limit_reached', 'critical_data_details': [], 'limit_reached_details': {'type': 'token', 'retry_after': 13.321050941, 'reset_after': 38.205450952}}}, {'@type': 'type.googleapis.com/openaiproxy.v1.StatusCode', 'value': 429}]}}\n",
      "{'error': {'code': 8, 'message': \"openaiproxy.(*ServiceImplementation).processChatCompletionRequest: can't do chat completion - proxy.(*UseCase).ChatCompletion: can't check request - code: <nil>, message: proxy: token limit reached. Limit: 50000 / min. Available: 0 / min. Retry after: 3.150695949s. Reset after: 28.035095959s., param: <nil>, type: proxy_limit_reached\", 'details': [{'@type': 'type.googleapis.com/openaiproxy.v1.ErrorResponse', 'error': {'code': '', 'message': 'proxy: token limit reached. Limit: 50000 / min. Available: 0 / min. Retry after: 3.150695949s. Reset after: 28.035095959s.', 'param': '', 'type': 'proxy_limit_reached', 'critical_data_details': [], 'limit_reached_details': {'type': 'token', 'retry_after': 3.150695949, 'reset_after': 28.035095959}}}, {'@type': 'type.googleapis.com/openaiproxy.v1.StatusCode', 'value': 429}]}}\n"
     ]
    },
    {
     "name": "stderr",
     "output_type": "stream",
     "text": [
      " 93%|█████████▎| 70/75 [24:28<02:48, 33.77s/it]"
     ]
    },
    {
     "name": "stdout",
     "output_type": "stream",
     "text": [
      "Либили, картинъ, брозу. Естя пзѣ неибудь буду жить ъ оссіи – такъ -> \n",
      "\n",
      "Либили, картинъ, брозу. Естя пзѣ неибудь буду жить въ Россіи – такъ\n",
      "</think>\n",
      "\n",
      "28-е. Всталъ рано, сполярничалъ. Распимывалъ и отправилъ Выю-  \n",
      "сумскихъ 18 человѣкъ. На обратныхъ подводахъ затребовалъ изъ Москвы  \n",
      "Либли, картины, бронзу. Если поживу еще, буду жить въ Россіи – такъ\n",
      "{'error': {'code': 8, 'message': \"openaiproxy.(*ServiceImplementation).processChatCompletionRequest: can't do chat completion - proxy.(*UseCase).ChatCompletion: can't check request - code: <nil>, message: proxy: token limit reached. Limit: 50000 / min. Available: 0 / min. Retry after: 23.704714953s. Reset after: 48.369514942s., param: <nil>, type: proxy_limit_reached\", 'details': [{'@type': 'type.googleapis.com/openaiproxy.v1.ErrorResponse', 'error': {'code': '', 'message': 'proxy: token limit reached. Limit: 50000 / min. Available: 0 / min. Retry after: 23.704714953s. Reset after: 48.369514942s.', 'param': '', 'type': 'proxy_limit_reached', 'critical_data_details': [], 'limit_reached_details': {'type': 'token', 'retry_after': 23.704714953, 'reset_after': 48.369514942}}}, {'@type': 'type.googleapis.com/openaiproxy.v1.StatusCode', 'value': 429}]}}\n",
      "{'error': {'code': 8, 'message': \"openaiproxy.(*ServiceImplementation).processChatCompletionRequest: can't do chat completion - proxy.(*UseCase).ChatCompletion: can't check request - code: <nil>, message: proxy: token limit reached. Limit: 50000 / min. Available: 0 / min. Retry after: 13.547600954s. Reset after: 38.212400943s., param: <nil>, type: proxy_limit_reached\", 'details': [{'@type': 'type.googleapis.com/openaiproxy.v1.ErrorResponse', 'error': {'code': '', 'message': 'proxy: token limit reached. Limit: 50000 / min. Available: 0 / min. Retry after: 13.547600954s. Reset after: 38.212400943s.', 'param': '', 'type': 'proxy_limit_reached', 'critical_data_details': [], 'limit_reached_details': {'type': 'token', 'retry_after': 13.547600954, 'reset_after': 38.212400943}}}, {'@type': 'type.googleapis.com/openaiproxy.v1.StatusCode', 'value': 429}]}}\n",
      "{'error': {'code': 8, 'message': \"openaiproxy.(*ServiceImplementation).processChatCompletionRequest: can't do chat completion - proxy.(*UseCase).ChatCompletion: can't check request - code: <nil>, message: proxy: token limit reached. Limit: 50000 / min. Available: 0 / min. Retry after: 3.391996949s. Reset after: 28.056796938s., param: <nil>, type: proxy_limit_reached\", 'details': [{'@type': 'type.googleapis.com/openaiproxy.v1.ErrorResponse', 'error': {'code': '', 'message': 'proxy: token limit reached. Limit: 50000 / min. Available: 0 / min. Retry after: 3.391996949s. Reset after: 28.056796938s.', 'param': '', 'type': 'proxy_limit_reached', 'critical_data_details': [], 'limit_reached_details': {'type': 'token', 'retry_after': 3.391996949, 'reset_after': 28.056796938}}}, {'@type': 'type.googleapis.com/openaiproxy.v1.StatusCode', 'value': 429}]}}\n"
     ]
    },
    {
     "name": "stderr",
     "output_type": "stream",
     "text": [
      " 95%|█████████▍| 71/75 [25:08<02:22, 35.59s/it]"
     ]
    },
    {
     "name": "stdout",
     "output_type": "stream",
     "text": [
      "это здѣсь – въ кобыликѣ. – -> \n",
      "\n",
      "это здѣсь – въ кобыликѣ. –\n",
      "</think>\n",
      "\n",
      "1854 годъ. Новый годъ на желѣзной дорогѣ. Былъ въ оскре-  \n",
      "снискомъ. 15 числа выѣхалъ на Выксу. Амнtt Гол.  \n",
      "Піэсса читалась съ успѣхомъ. Въ февралѣ  \n",
      "долженъ былъ ѣхать въ Москву по поводу начавшагося  \n",
      "слѣдствія. Ѣздилъ на нѣсколько дней въ Петербургъ.  \n",
      "Истратилъ охотничьихъ вещей, чтобы охотиться.  \n",
      "2-го Марта на первой недѣли воротился въ Москву.  \n",
      "для пріема Дамъ. Онѣ пріѣхали поздно. Обѣдали въ 6-мъ часу – было  \n",
      "довольно весело. – я опять вечеромъ игралъ въ карты.  \n",
      "нѣтъ. Я отправилъ семью съ. Въ Тулу Запродать будущаго сахара.  \n",
      "28-е. Всталъ рано, сполярничалъ. Распимывалъ и отправилъ Выю-  \n",
      "сумскихъ 18 человѣкъ. На обратныхъ подводахъ затребовалъ изъ Москвы  \n",
      "Либли, картины, бронзу. Если поживу еще, буду жить въ Россіи – такъ  \n",
      "это здѣсь – въ кобыликѣ. –\n",
      "{'error': {'code': 8, 'message': \"openaiproxy.(*ServiceImplementation).processChatCompletionRequest: can't do chat completion - proxy.(*UseCase).ChatCompletion: can't check request - code: <nil>, message: proxy: token limit reached. Limit: 50000 / min. Available: 0 / min. Retry after: 19.832418948s. Reset after: 43.879218935s., param: <nil>, type: proxy_limit_reached\", 'details': [{'@type': 'type.googleapis.com/openaiproxy.v1.ErrorResponse', 'error': {'code': '', 'message': 'proxy: token limit reached. Limit: 50000 / min. Available: 0 / min. Retry after: 19.832418948s. Reset after: 43.879218935s.', 'param': '', 'type': 'proxy_limit_reached', 'critical_data_details': [], 'limit_reached_details': {'type': 'token', 'retry_after': 19.832418948, 'reset_after': 43.879218935}}}, {'@type': 'type.googleapis.com/openaiproxy.v1.StatusCode', 'value': 429}]}}\n",
      "{'error': {'code': 8, 'message': \"openaiproxy.(*ServiceImplementation).processChatCompletionRequest: can't do chat completion - proxy.(*UseCase).ChatCompletion: can't check request - code: <nil>, message: proxy: token limit reached. Limit: 50000 / min. Available: 0 / min. Retry after: 9.65030995s. Reset after: 33.697109937s., param: <nil>, type: proxy_limit_reached\", 'details': [{'@type': 'type.googleapis.com/openaiproxy.v1.ErrorResponse', 'error': {'code': '', 'message': 'proxy: token limit reached. Limit: 50000 / min. Available: 0 / min. Retry after: 9.65030995s. Reset after: 33.697109937s.', 'param': '', 'type': 'proxy_limit_reached', 'critical_data_details': [], 'limit_reached_details': {'type': 'token', 'retry_after': 9.65030995, 'reset_after': 33.697109937}}}, {'@type': 'type.googleapis.com/openaiproxy.v1.StatusCode', 'value': 429}]}}\n"
     ]
    },
    {
     "name": "stderr",
     "output_type": "stream",
     "text": [
      " 96%|█████████▌| 72/75 [25:35<01:38, 32.82s/it]"
     ]
    },
    {
     "name": "stdout",
     "output_type": "stream",
     "text": [
      "Замѣчательный раскаръ о помѣщикѣ Малиновскомъ убинномъ его -> \n",
      "\n",
      "Замѣчательный разсказъ о помѣщикѣ Малиновскомъ, убитомъ его\n",
      "</think>\n",
      "\n",
      "Замѣчательный разсказъ о помѣщикѣ Малиновскомъ, убитомъ его\n",
      "{'error': {'code': 8, 'message': \"openaiproxy.(*ServiceImplementation).processChatCompletionRequest: can't do chat completion - proxy.(*UseCase).ChatCompletion: can't check request - code: <nil>, message: proxy: token limit reached. Limit: 50000 / min. Available: 0 / min. Retry after: 29.520651966s. Reset after: 53.449851959s., param: <nil>, type: proxy_limit_reached\", 'details': [{'@type': 'type.googleapis.com/openaiproxy.v1.ErrorResponse', 'error': {'code': '', 'message': 'proxy: token limit reached. Limit: 50000 / min. Available: 0 / min. Retry after: 29.520651966s. Reset after: 53.449851959s.', 'param': '', 'type': 'proxy_limit_reached', 'critical_data_details': [], 'limit_reached_details': {'type': 'token', 'retry_after': 29.520651966, 'reset_after': 53.449851959}}}, {'@type': 'type.googleapis.com/openaiproxy.v1.StatusCode', 'value': 429}]}}\n",
      "{'error': {'code': 8, 'message': \"openaiproxy.(*ServiceImplementation).processChatCompletionRequest: can't do chat completion - proxy.(*UseCase).ChatCompletion: can't check request - code: <nil>, message: proxy: token limit reached. Limit: 50000 / min. Available: 0 / min. Retry after: 19.33960697s. Reset after: 43.268806964s., param: <nil>, type: proxy_limit_reached\", 'details': [{'@type': 'type.googleapis.com/openaiproxy.v1.ErrorResponse', 'error': {'code': '', 'message': 'proxy: token limit reached. Limit: 50000 / min. Available: 0 / min. Retry after: 19.33960697s. Reset after: 43.268806964s.', 'param': '', 'type': 'proxy_limit_reached', 'critical_data_details': [], 'limit_reached_details': {'type': 'token', 'retry_after': 19.33960697, 'reset_after': 43.268806964}}}, {'@type': 'type.googleapis.com/openaiproxy.v1.StatusCode', 'value': 429}]}}\n",
      "{'error': {'code': 8, 'message': \"openaiproxy.(*ServiceImplementation).processChatCompletionRequest: can't do chat completion - proxy.(*UseCase).ChatCompletion: can't check request - code: <nil>, message: proxy: token limit reached. Limit: 50000 / min. Available: 0 / min. Retry after: 9.176294952s. Reset after: 33.105494946s., param: <nil>, type: proxy_limit_reached\", 'details': [{'@type': 'type.googleapis.com/openaiproxy.v1.ErrorResponse', 'error': {'code': '', 'message': 'proxy: token limit reached. Limit: 50000 / min. Available: 0 / min. Retry after: 9.176294952s. Reset after: 33.105494946s.', 'param': '', 'type': 'proxy_limit_reached', 'critical_data_details': [], 'limit_reached_details': {'type': 'token', 'retry_after': 9.176294952, 'reset_after': 33.105494946}}}, {'@type': 'type.googleapis.com/openaiproxy.v1.StatusCode', 'value': 429}]}}\n"
     ]
    },
    {
     "name": "stderr",
     "output_type": "stream",
     "text": [
      " 97%|█████████▋| 73/75 [26:17<01:11, 35.79s/it]"
     ]
    },
    {
     "name": "stdout",
     "output_type": "stream",
     "text": [
      "крестьянами. Какъ замѣшно это было Сильной странно -> \n",
      "\n",
      "Замѣчательный разсказъ о помѣщикѣ Малиновскомъ, убитомъ его  \n",
      "крестьянами. Какъ замѣтно это было. Сильно странно\n",
      "</think>\n",
      "\n",
      "1854 годъ. Новый годъ на желѣзной дорогѣ. Былъ въ оскре-  \n",
      "снискомъ. 15 числа выѣхалъ на Выксу. Амнtt Гол.  \n",
      "Піэсса читалась съ успѣхомъ. Въ февралѣ  \n",
      "долженъ былъ ѣхать въ Москву по поводу начавшагося  \n",
      "слѣдствія. Ѣздилъ на нѣсколько дней въ Петербургъ.  \n",
      "Истратилъ охотничьихъ вещей, чтобы охотиться.  \n",
      "2-го Марта на первой недѣли воротился въ Москву.  \n",
      "для пріема Дамъ. Онѣ пріѣхали поздно. Обѣдали въ 6-мъ часу – было  \n",
      "довольно весело. – я опять вечеромъ игралъ въ карты.  \n",
      "нѣтъ. Я отправилъ семью съ. Въ Тулу Запродать будущаго сахара.  \n",
      "28-е. Всталъ рано, сполярничалъ. Распимывалъ и отправилъ Выю-  \n",
      "сумскихъ 18 человѣкъ. На обратныхъ подводахъ затребовалъ изъ Москвы  \n",
      "Либли, картины, бронзу. Если поживу еще, буду жить въ Россіи – такъ  \n",
      "это здѣсь – въ кобыликѣ. –  \n",
      "Замѣчательный разсказъ о помѣщикѣ Малиновскомъ, убитомъ его  \n",
      "крестьянами. Какъ замѣтно это было. Сильно странно\n",
      "{'error': {'code': 8, 'message': \"openaiproxy.(*ServiceImplementation).processChatCompletionRequest: can't do chat completion - proxy.(*UseCase).ChatCompletion: can't check request - code: <nil>, message: proxy: token limit reached. Limit: 50000 / min. Available: 0 / min. Retry after: 23.569353967s. Reset after: 46.758153975s., param: <nil>, type: proxy_limit_reached\", 'details': [{'@type': 'type.googleapis.com/openaiproxy.v1.ErrorResponse', 'error': {'code': '', 'message': 'proxy: token limit reached. Limit: 50000 / min. Available: 0 / min. Retry after: 23.569353967s. Reset after: 46.758153975s.', 'param': '', 'type': 'proxy_limit_reached', 'critical_data_details': [], 'limit_reached_details': {'type': 'token', 'retry_after': 23.569353967, 'reset_after': 46.758153975}}}, {'@type': 'type.googleapis.com/openaiproxy.v1.StatusCode', 'value': 429}]}}\n",
      "{'error': {'code': 8, 'message': \"openaiproxy.(*ServiceImplementation).processChatCompletionRequest: can't do chat completion - proxy.(*UseCase).ChatCompletion: can't check request - code: <nil>, message: proxy: token limit reached. Limit: 50000 / min. Available: 0 / min. Retry after: 13.406848967s. Reset after: 36.595648974s., param: <nil>, type: proxy_limit_reached\", 'details': [{'@type': 'type.googleapis.com/openaiproxy.v1.ErrorResponse', 'error': {'code': '', 'message': 'proxy: token limit reached. Limit: 50000 / min. Available: 0 / min. Retry after: 13.406848967s. Reset after: 36.595648974s.', 'param': '', 'type': 'proxy_limit_reached', 'critical_data_details': [], 'limit_reached_details': {'type': 'token', 'retry_after': 13.406848967, 'reset_after': 36.595648974}}}, {'@type': 'type.googleapis.com/openaiproxy.v1.StatusCode', 'value': 429}]}}\n",
      "{'error': {'code': 8, 'message': \"openaiproxy.(*ServiceImplementation).processChatCompletionRequest: can't do chat completion - proxy.(*UseCase).ChatCompletion: can't check request - code: <nil>, message: proxy: token limit reached. Limit: 50000 / min. Available: 0 / min. Retry after: 3.220527946s. Reset after: 26.409327954s., param: <nil>, type: proxy_limit_reached\", 'details': [{'@type': 'type.googleapis.com/openaiproxy.v1.ErrorResponse', 'error': {'code': '', 'message': 'proxy: token limit reached. Limit: 50000 / min. Available: 0 / min. Retry after: 3.220527946s. Reset after: 26.409327954s.', 'param': '', 'type': 'proxy_limit_reached', 'critical_data_details': [], 'limit_reached_details': {'type': 'token', 'retry_after': 3.220527946, 'reset_after': 26.409327954}}}, {'@type': 'type.googleapis.com/openaiproxy.v1.StatusCode', 'value': 429}]}}\n"
     ]
    },
    {
     "name": "stderr",
     "output_type": "stream",
     "text": [
      " 99%|█████████▊| 74/75 [26:56<00:36, 36.55s/it]"
     ]
    },
    {
     "name": "stdout",
     "output_type": "stream",
     "text": [
      "онъ довста Крестьямъ до большаго благю состоянія и богат- -> \n",
      "\n",
      "Замѣчательный разсказъ о помѣщикѣ Малиновскомъ, убитомъ его  \n",
      "крестьянами. Какъ замѣтно это было. Сильно странно  \n",
      "онъ довелъ крестьянъ до большаго благо состоянія и богат-\n",
      "</think>\n",
      "\n",
      "28-е. Всталъ рано, сполярничалъ. Распимывалъ и отправилъ Выю-  \n",
      "сумскихъ 18 человѣкъ. На обратныхъ подводахъ затребовалъ изъ Москвы  \n",
      "Либли, картины, бронзу. Если поживу еще, буду жить въ Россіи – такъ  \n",
      "это здѣсь – въ кобыликѣ. –  \n",
      "Замѣчательный разсказъ о помѣщикѣ Малиновскомъ, убитомъ его  \n",
      "крестьянами. Какъ замѣтно это было. Сильно странно  \n",
      "онъ довелъ крестьянъ до большаго благо состоянія и богат-\n",
      "{'error': {'code': 8, 'message': \"openaiproxy.(*ServiceImplementation).processChatCompletionRequest: can't do chat completion - proxy.(*UseCase).ChatCompletion: can't check request - code: <nil>, message: proxy: token limit reached. Limit: 50000 / min. Available: 0 / min. Retry after: 22.528001964s. Reset after: 45.288401961s., param: <nil>, type: proxy_limit_reached\", 'details': [{'@type': 'type.googleapis.com/openaiproxy.v1.ErrorResponse', 'error': {'code': '', 'message': 'proxy: token limit reached. Limit: 50000 / min. Available: 0 / min. Retry after: 22.528001964s. Reset after: 45.288401961s.', 'param': '', 'type': 'proxy_limit_reached', 'critical_data_details': [], 'limit_reached_details': {'type': 'token', 'retry_after': 22.528001964, 'reset_after': 45.288401961}}}, {'@type': 'type.googleapis.com/openaiproxy.v1.StatusCode', 'value': 429}]}}\n",
      "{'error': {'code': 8, 'message': \"openaiproxy.(*ServiceImplementation).processChatCompletionRequest: can't do chat completion - proxy.(*UseCase).ChatCompletion: can't check request - code: <nil>, message: proxy: token limit reached. Limit: 50000 / min. Available: 0 / min. Retry after: 12.348656952s. Reset after: 35.109056949s., param: <nil>, type: proxy_limit_reached\", 'details': [{'@type': 'type.googleapis.com/openaiproxy.v1.ErrorResponse', 'error': {'code': '', 'message': 'proxy: token limit reached. Limit: 50000 / min. Available: 0 / min. Retry after: 12.348656952s. Reset after: 35.109056949s.', 'param': '', 'type': 'proxy_limit_reached', 'critical_data_details': [], 'limit_reached_details': {'type': 'token', 'retry_after': 12.348656952, 'reset_after': 35.109056949}}}, {'@type': 'type.googleapis.com/openaiproxy.v1.StatusCode', 'value': 429}]}}\n",
      "{'error': {'code': 8, 'message': \"openaiproxy.(*ServiceImplementation).processChatCompletionRequest: can't do chat completion - proxy.(*UseCase).ChatCompletion: can't check request - code: <nil>, message: proxy: token limit reached. Limit: 50000 / min. Available: 0 / min. Retry after: 2.193849951s. Reset after: 24.954249948s., param: <nil>, type: proxy_limit_reached\", 'details': [{'@type': 'type.googleapis.com/openaiproxy.v1.ErrorResponse', 'error': {'code': '', 'message': 'proxy: token limit reached. Limit: 50000 / min. Available: 0 / min. Retry after: 2.193849951s. Reset after: 24.954249948s.', 'param': '', 'type': 'proxy_limit_reached', 'critical_data_details': [], 'limit_reached_details': {'type': 'token', 'retry_after': 2.193849951, 'reset_after': 24.954249948}}}, {'@type': 'type.googleapis.com/openaiproxy.v1.StatusCode', 'value': 429}]}}\n"
     ]
    },
    {
     "name": "stderr",
     "output_type": "stream",
     "text": [
      "100%|██████████| 75/75 [27:36<00:00, 22.08s/it]"
     ]
    },
    {
     "name": "stdout",
     "output_type": "stream",
     "text": [
      "ства, получилъ имѣніе разоренное и кресетьясъ протившотя – -> \n",
      "\n",
      "28-е. Всталъ рано, сполярничалъ. Распимывалъ и отправилъ Выю-  \n",
      "сумскихъ 18 человѣкъ. На обратныхъ подводахъ затребовалъ изъ Москвы  \n",
      "Либли, картины, бронзу. Если поживу еще, буду жить въ Россіи – такъ  \n",
      "это здѣсь – въ кобыликѣ. –  \n",
      "Замѣчательный разсказъ о помѣщикѣ Малиновскомъ, убитомъ его  \n",
      "крестьянами. Какъ замѣтно это было. Сильно странно  \n",
      "онъ довелъ крестьянъ до большаго благо состоянія и богат-  \n",
      "ства, получилъ имѣніе разоренное и крестьянъ противъ себя –\n",
      "</think>\n",
      "\n",
      "28-е. Всталъ рано, сполярничалъ. Распимывалъ и отправилъ Выю-  \n",
      "сумскихъ 18 человѣкъ. На обратныхъ подводахъ затребовалъ изъ Москвы  \n",
      "Либли, картины, бронзу. Если поживу еще, буду жить въ Россіи – такъ  \n",
      "это здѣсь – въ кобыликѣ. –  \n",
      "Замѣчательный разсказъ о помѣщикѣ Малиновскомъ, убитомъ его  \n",
      "крестьянами. Какъ замѣтно это было. Сильно странно  \n",
      "онъ довелъ крестьянъ до большаго благо состоянія и богат-  \n",
      "ства, получилъ имѣніе разоренное и крестьянъ противъ себя –\n"
     ]
    },
    {
     "name": "stderr",
     "output_type": "stream",
     "text": [
      "\n"
     ]
    }
   ],
   "source": [
    "corrected_test_lines = get_correction_v3(eval_test[\"str_preds\"][:1] + eval_test[\"str_preds\"], system_prompt=system_prompt, print_errors=True, print_correction=True, model=\"DeepSeek-R1\", n_tries=6)"
   ]
  },
  {
   "cell_type": "code",
   "execution_count": 139,
   "metadata": {
    "scrolled": true
   },
   "outputs": [
    {
     "name": "stdout",
     "output_type": "stream",
     "text": [
      "<think>\n",
      "Хорошо, давайте разберемся с этим запросом. Пользователь предоставил примеры исправлений текста, распознанного с рукописей 19 века, и просит исправить строку \"лагаРябикова\". В примере он сам предположил, что \"лага\" может быть сокращением или частью имени, и предложил разделить слитное написание на два слова: \"Лага Рябикова\". \n",
      "\n",
      "Первым делом, нужно понять, что именно здесь не так. В исходной строке \"лагаРябикова\" слова слиты вместе. В русском языке имена собственные, особенно фамилии, обычно пишутся раздельно, если это не составная фамилия. Однако \"лага\" не является стандартной частью русских фамилий. Возможно, это опечатка или ошибка распознавания.\n",
      "\n",
      "Судя по примерам, которые привел пользователь, в подобных случаях нужно разделять слитно написанные слова, особенно если это имена собственные. Например, в одном из примеров \"бексеромъ\" было исправлено на \"Беккеромъ\", что показывает, что важно сохранять правильное написание фамилий. \n",
      "\n",
      "Также в примере с \"лагаРябикова\" пользователь предположил, что это может быть \"Лага Рябикова\", разделив слитное написание. Возможно, \"Лага\" — это имя или часть фамилии, а \"Рябикова\" — фамилия. Нужно проверить, есть ли такие фамилии в русской традиции. \"Рябикова\" — существующая фамилия, а \"Лага\" может быть именем или сокращением, но без контекста сложно точно определить. \n",
      "\n",
      "Важно сохранить исходные формы, как указано в инструкции. Если нет явной ошибки, кроме слитного написания, то правильным будет разделить слова, сделав первую букву заглавной, как в именах собственных. Таким образом, \"лагаРябикова\" превращается в \"Лага Рябикова\". \n",
      "\n",
      "Нужно убедиться, что другие возможные варианты исключены. Например, если бы это было слово \"лага\" с маленькой буквы и фамилия \"Рябикова\", но в контексте рукописей 19 века чаще используются заглавные буквы для имен и фамилий. \n",
      "\n",
      "Итак, следуя примерам и инструкциям, правильным исправлением будет разделение на \"Лага Рябикова\".\n",
      "</think>\n",
      "\n",
      "лагаРябикова -> Лага Рябикова\n",
      "----------------------------------------------------------------------------------------------------\n",
      "\n",
      "<think>\n",
      "Хорошо, давай разберёмся с этой строкой: \"Онъ де жилъ въ раборникахъ, у купца, у кралъ, что-т\". Нужно исправить явные ошибки, сохраняя структуру и имена собственные.\n",
      "\n",
      "Первое слово \"раборниках\" явно опечатка. Похоже на \"разборниках\", но контекст не ясен. Возможно, имелось в виду \"рабочих\" или \"разборках\", но без уверенности лучше оставить как есть или минимально исправить. Допустим, \"рабочих\" — тогда \"рабочихъ\".\n",
      "\n",
      "Далее \"у кралъ\" — \"кралъ\" не существует, скорее всего \"краля\" (жаргонное \"женщина\") или \"краля\" как \"королева\", но в контексте купца возможно \"у краля\" — опечатка \"у караля\" (искажённое \"у короля\")? Или \"у краля\" как местное название. Без контекста сложно, возможно, \"у краля\" оставить, но вероятнее \"у караула\" или \"у карла\". Но рискованно менять без уверенности. Оставлю как есть.\n",
      "\n",
      "\"что-т\" — возможно, сокращение \"что-то\". Добавить мягкий знак: \"что-ть\" или \"что-то\". В оригинале часто использовались сокращения, поэтому \"что-т\" можно оставить, но по примерам видно, что добавляли \"о\". Исправлю на \"что-то\".\n",
      "\n",
      "Итог: \"Онъ де жилъ въ рабочихъ, у купца, у кралъ, что-то\". Но \"рабочихъ\" может быть неверно. Если оставить \"раборникахъ\" с минимальным исправлением, например, \"рабориникахъ\" — нет, не подходит. Возможно, \"разборникахъ\" (от \"разборки\")? Или \"работорниках\" (работорговцах)? Но это слишком смело. Лучше оставить \"раборникахъ\", раз не уверен.\n",
      "\n",
      "Итак, исправления: \"кралъ\" → \"краля\" (если это \"королева\" или женщина), но без контекста рискованно. Может, \"у краля\" → \"у карла\" (у человека по имени Карл)? Но это предположение. Без уверенности оставляю как есть, исправляю только очевидное \"что-т\" на \"что-то\".\n",
      "\n",
      "Финальный вариант: \"Онъ де жилъ въ раборникахъ, у купца, у кралъ, что-то\".\n",
      "</think>\n",
      "\n",
      "Онъ де жилъ въ рабочихъ, у купца, у краля, что-то.\n",
      "----------------------------------------------------------------------------------------------------\n",
      "\n",
      "<think>\n",
      "Хорошо, давайте разберёмся с этой строкой: \"и тотъ удорилъ его палькою по головѣ отъ чего у нем\". Нужно исправить явные ошибки, сохраняя структуру и имена собственные.\n",
      "\n",
      "Первое слово \"удорилъ\" явно опечатка. Правильно будет \"ударилъ\". Далее \"палькою\" – скорее всего, должно быть \"палкою\", так как \"палькою\" не существует. \n",
      "\n",
      "Далее \"отъ чего у нем\" – здесь, вероятно, пропущено слово. Возможно, должно быть \"отъ чего у него\" или \"отъ чего у нем[ца]\" (если контекст предполагает национальность). Но без дополнительного контекста безопаснее исправить на \"у него\", так как \"нем\" само по себе не имеет смысла.\n",
      "\n",
      "Итак, исправленная строка: \"и тотъ ударилъ его палкою по головѣ, отъ чего у него\".\n",
      "</think>\n",
      "\n",
      "и тотъ ударилъ его палкою по головѣ, отъ чего у него\n",
      "----------------------------------------------------------------------------------------------------\n",
      "\n",
      "<think>\n",
      "Хорошо, давайте разберёмся с этой строкой. Исходный текст: \"и сдѣлалась рудето бѣлая горяька. Обратясеь къ Губер-\". \n",
      "\n",
      "Первое, что бросается в глаза — \"рудето\". Возможно, это опечатка или ошибка распознавания. Контекст говорит о болезни, поэтому, скорее всего, имеется в виду \"рожа\" или \"рожевая горячка\", но \"рудето\" не похоже. Возможно, правильно \"рожевая\" или \"рожистое воспаление\". Однако, учитывая, что дальше идёт \"бѣлая горяька\", видимо, имеется в виду \"белая горячка\". Тогда \"рудето\" может быть искажённым \"рожевая\" или другой термин. Но \"бѣлая горяька\" — явно \"белая горячка\", где \"горяька\" должно быть \"горячка\".\n",
      "\n",
      "Далее \"Обратясеь\" — явная опечатка. Правильно \"Обратясь\" или \"Обратившись\". Но в оригинале, возможно, было \"Обратясь\", где \"сеь\" — ошибка распознавания. \n",
      "\n",
      "\"Губер-\" — обрыв слова, скорее всего, \"Губернатору\".\n",
      "\n",
      "Теперь проверяю, сохраняя структуру и минимально изменяя. \n",
      "\n",
      "Исправления:\n",
      "- \"рудето\" → возможно, \"рожевая\", но без уверенности. Может, \"ртуть\"? Но контекст болезни. Лучше оставить как есть, раз неясно.\n",
      "- \"горяька\" → \"горячка\".\n",
      "- \"Обратясеь\" → \"Обратясь\".\n",
      "- \"Губер-\" → \"Губернатору\".\n",
      "\n",
      "Но в примерах пользователь исправлял явные ошибки, например, \"бексеромъ\" → \"Беккеромъ\". Значит, нужно исправить очевидные опечатки. \"горяька\" точно исправляется на \"горячка\". \"Обратясеь\" → \"Обратясь\". \"рудето\" — возможно, \"ртутью\"? Но \"ртуть бѣлая горячка\" — не сочетается. Может, \"рожевая\"? Но тогда \"рожевая бѣлая горячка\" — тоже странно. Возможно, \"ртутью бѣлая горячка\"? Но это не медицинский термин. \n",
      "\n",
      "Возможно, \"рудето\" — это \"судороги\" или другое слово. Без контекста сложно. Лучше оставить \"рудето\", как в оригинале, раз не ясно. \n",
      "\n",
      "Итоговый исправленный текст: \"и сдѣлалась рудето бѣлая горячка. Обратясь къ Губер-\".\n",
      "</think>\n",
      "\n",
      "и сдѣлалась рудето бѣлая горячка. Обратясь къ Губер-\n",
      "----------------------------------------------------------------------------------------------------\n",
      "\n",
      "<think>\n",
      "Хорошо, давайте разберёмся с этой строкой: \"наторуг. В- р росодъ въ, t ріscсe l.1. cлумаюсь.\"\n",
      "\n",
      "Первое слово \"наторуг\" явно искажено. Скорее всего, это \"натурой\" или \"натуройг\", но контекст не ясен. Возможно, это часть предыдущего предложения, но так как мы работаем с отдельными строками, оставляем как есть.\n",
      "\n",
      "Далее \"В- р росодъ въ\" – здесь видимо опечатки. \"В-\" может быть сокращением, например, \"Въ\" (В). \"р росодъ\" – возможно \"родился\" или \"городъ\", но сложно сказать. Оставляем без изменений.\n",
      "\n",
      "\"t ріscсe l.1.\" – похоже на латинские буквы или сокращения. Возможно, это \"t. ріscе l.1.\" – может быть, ссылка на текст или аббревиатура. Сохраняем как есть.\n",
      "\n",
      "\"cлумаюсь\" – вероятно, \"считаюсь\" или \"случаюсь\", но без контекста сложно исправить точно. Оставляем исходное написание.\n",
      "\n",
      "Итог: минимальные исправления, только очевидные ошибки. Если нет явных опечаток, сохраняем оригинал.\n",
      "</think>\n",
      "\n",
      "наторуг. В- р росодъ въ, t ріscсe l.1. cлумаюсь.\n",
      "----------------------------------------------------------------------------------------------------\n",
      "\n",
      "\n",
      "\n",
      "Болѣе никакихъ распоряженій и не было сдѣлано. – Впрочемъ\n",
      "</think>\n",
      "\n",
      "Болѣе никакихъ распоряженій и не было сдѣлано. – Впрочемъ\n",
      "----------------------------------------------------------------------------------------------------\n",
      "\n",
      "\n",
      "\n",
      "и часовые возвратились на прежнія мѣста – ибо\n",
      "</think>\n",
      "\n",
      "и часовые возвратились на прежнія мѣста – ибо\n",
      "----------------------------------------------------------------------------------------------------\n",
      "\n",
      "<think>\n",
      "Хорошо, я получил задание исправить ошибки в строке \"въ прочимѣномъ слугаѣ и острожные остались бы безъ\". Нужно сохранить исходную структуру и исправить только явные ошибки. \n",
      "\n",
      "Сначала смотрю на \"въ прочимѣномъ\". Возможно, здесь опечатка в окончании. Слово \"прочимѣномъ\" выглядит странно. Может быть, должно быть \"прочимъ\" или \"прочимённом\"? Но контекст не ясен. Возможно, правильное написание \"прочимъ\" с твёрдым знаком на конце.\n",
      "\n",
      "Далее \"слугаѣ\". Окончание \"ѣ\" в предлоге \"въ\" требует проверки. Предлог \"въ\" с твёрдым знаком, а \"слугаѣ\" может быть \"слуге\" в дательном падеже, но окончание \"ѣ\" устаревшее. Возможно, правильно \"слугѣ\" с ятем, но в современной орфографии это \"слуге\". Однако, так как нужно сохранить оригинальный стиль 19 века, оставляю \"слугаѣ\".\n",
      "\n",
      "\"острожные\" – вероятно, имеется в виду \"острожные\" (относящиеся к острогу), здесь ошибок нет.\n",
      "\n",
      "\"остались бы безъ\" – предлог \"безъ\" с твёрдым знаком, что соответствует старой орфографии. Ошибок нет.\n",
      "\n",
      "Итак, исправляю \"прочимѣномъ\" на \"прочимъ\", получается \"въ прочимъ слугаѣ\". Остальное оставляю как есть.\n",
      "</think>\n",
      "\n",
      "въ прочимъ слугаѣ и острожные остались бы безъ\n",
      "----------------------------------------------------------------------------------------------------\n",
      "\n",
      "<think>\n",
      "Хорошо, давайте разберемся с этим запросом. Пользователь предоставил текст, который был распознан моделью компьютерного зрения с рукописей XIX века. Задача — исправить очевидные ошибки, сохраняя при этом исходную структуру и имена собственные.\n",
      "\n",
      "Смотрю на строку: \"всякаго каркува.\" Нужно понять, что здесь может быть не так. Слово \"каркува\" явно искажено. В русском языке есть слово \"караула\", которое подходит по смыслу, особенно в контексте охраны или надзора. \"Всякаго караула\" — так звучит правильнее, учитывая, что речь идет о том, что острожные остались бы без какого-либо надзора.\n",
      "\n",
      "Проверяю контекст предыдущих строк. Упоминаются часовые, острог, распоряжения. Все связано с охраной и надзором. Значит, \"караула\" логично вписывается. Ошибка, вероятно, возникла из-за схожести написания букв в рукописи, которые модель распознала неправильно.\n",
      "\n",
      "Убеждаюсь, что других возможных вариантов нет. \"Каркува\" не имеет смысла в данном контексте. Исправляю на \"караула\", сохраняя падеж и число. Также проверяю, не нужно ли изменить другие части предложения, но структура остается корректной.\n",
      "\n",
      "Итоговое исправление: \"всякаго караула.\"\n",
      "</think>\n",
      "\n",
      "всякаго караула.\n",
      "----------------------------------------------------------------------------------------------------\n",
      "\n",
      "\n",
      "\n",
      "Вечеромъ читалъ піэссу – что чрезвычайно\n",
      "</think>\n",
      "\n",
      "Вечеромъ читалъ піэссу – что чрезвычайно\n",
      "----------------------------------------------------------------------------------------------------\n",
      "\n",
      "\n",
      "\n",
      "понравилась. – Беккеру также.\n",
      "</think>\n",
      "\n",
      "Вечеромъ читалъ піэссу – что чрезвычайно  \n",
      "понравилась. – Беккеру также.\n",
      "----------------------------------------------------------------------------------------------------\n",
      "\n",
      "\n",
      "\n",
      "10-е. Утромъ выѣхалъ въ алексяевское. Почивалъ въ\n",
      "</think>\n",
      "\n",
      "10-е. Утромъ выѣхалъ въ алексяевское. Почивалъ въ\n",
      "----------------------------------------------------------------------------------------------------\n",
      "\n",
      "\n",
      "\n",
      "1856. годъ. Мартъ.\n",
      "</think>\n",
      "\n",
      "1856. годъ. Мартъ.\n",
      "----------------------------------------------------------------------------------------------------\n",
      "\n",
      "\n",
      "\n",
      "21. 22. 23-е. 24. 25. 26-е. Въ Воскресенскомъ. Хлопо-\n",
      "</think>\n",
      "\n",
      "21. 22. 23-е. 24. 25. 26-е. Въ Воскресенскомъ. Хлопо-\n",
      "----------------------------------------------------------------------------------------------------\n",
      "\n",
      "\n",
      "\n",
      "25-го. Пустилъ Заводъ. Вечеромъ пріѣхалъ Ѳедоръ изъ\n",
      "</think>\n",
      "\n",
      "25-го. Пустилъ Заводъ. Вечеромъ пріѣхалъ Ѳедоръ изъ\n",
      "----------------------------------------------------------------------------------------------------\n",
      "\n",
      "\n",
      "\n",
      "Степной – тамъ всё наладилось. Въ Воскресенскомъ\n",
      "</think>\n",
      "\n",
      "25-го. Пустилъ Заводъ. Вечеромъ пріѣхалъ Ѳедоръ изъ  \n",
      "Степной – тамъ все наладилось. Въ Воскресенскомъ\n",
      "----------------------------------------------------------------------------------------------------\n",
      "\n",
      "\n",
      "\n",
      "съ февраля поступилъ и управляетъ Зерутъ.\n",
      "</think>\n",
      "\n",
      "съ февраля поступилъ и управляетъ Зерутъ.\n",
      "----------------------------------------------------------------------------------------------------\n",
      "\n",
      "\n",
      "\n",
      "Ушею идетъ довольно хорошо. Садку сдѣлалъ по\n",
      "</think>\n",
      "\n",
      "Ушею идетъ довольно хорошо. Садку сдѣлалъ по\n",
      "----------------------------------------------------------------------------------------------------\n",
      "\n",
      "\n",
      "\n",
      "правой сторонѣ парка, отъ дома къ Рѣкѣ. Около\n",
      "</think>\n",
      "\n",
      "правой Сторолѣ парка отве дома къ Ренѣ. Около -> правой сторонѣ парка, отъ дома къ Рѣкѣ. Около\n",
      "----------------------------------------------------------------------------------------------------\n",
      "\n",
      "\n",
      "\n",
      "Дома проводить піэссу. Ставили при мнѣ Шум-\n",
      "</think>\n",
      "\n",
      "Дома проводить піэссу. Ставили при мнѣ Шум-\n",
      "----------------------------------------------------------------------------------------------------\n",
      "\n",
      "\n",
      "\n",
      "бы отъ дома къ Коноинѣ.\n",
      "</think>\n",
      "\n",
      "Дома проводить піэссу. Ставили при мнѣ Шум-  \n",
      "бы отъ дома къ Коноинѣ.\n",
      "----------------------------------------------------------------------------------------------------\n",
      "\n",
      "\n",
      "\n",
      "27-го. По утру выѣхалъ въ Москву. Послалъ за\n",
      "</think>\n",
      "\n",
      "27-го. По утру выѣхалъ въ Москву. Послалъ за\n",
      "----------------------------------------------------------------------------------------------------\n",
      "\n",
      "\n",
      "\n",
      "Ковскимъ, который – явился съ предложеніемъ отъ\n",
      "</think>\n",
      "\n",
      "Ковскимъ, который – явился съ предложеніемъ отъ\n",
      "----------------------------------------------------------------------------------------------------\n",
      "\n",
      "\n",
      "\n",
      "Ивана Тепелева о пирѣ. Самсонъ отъѣзжанію\n",
      "</think>\n",
      "\n",
      "27-го. По утру выѣхалъ въ Москву. Послалъ за  \n",
      "Ковскимъ, который – явился съ предложеніемъ отъ  \n",
      "Ивана Тепелева о пирѣ. Самсонъ отъѣзжанію\n",
      "----------------------------------------------------------------------------------------------------\n",
      "\n",
      "\n",
      "\n",
      "съ Ревель. Купилъ ему серебряныхъ вещей на 180 р.\n",
      "</think>\n",
      "\n",
      "27-го. По утру выѣхалъ въ Москву. Послалъ за  \n",
      "Ковскимъ, который – явился съ предложеніемъ отъ  \n",
      "Ивана Тепелева о пирѣ. Самсонъ отъѣзжанію  \n",
      "съ Ревель. Купилъ ему серебряныхъ вещей на 180 р.\n",
      "----------------------------------------------------------------------------------------------------\n",
      "\n",
      "\n",
      "\n",
      "сереу Сазикова. Отдалъ Кубокъ для парѣука\n",
      "</think>\n",
      "\n",
      "сереу Сазикова. Отдалъ Кубокъ для парика.\n",
      "----------------------------------------------------------------------------------------------------\n",
      "\n",
      "\n",
      "\n",
      "сереу Сазикова. Отдалъ Кубокъ дня парѣука ->  \n",
      "Самойлову. Надеть\n",
      "</think>\n",
      "\n",
      "сереу Сазикова. Отдалъ Кубокъ для парика.  \n",
      "Самойлову. Надѣть\n",
      "----------------------------------------------------------------------------------------------------\n",
      "\n",
      "\n",
      "\n",
      "Да снасеніе почибавшихъ – толанину В. В. -> Да снасеніе почибавшихъ – Толанскому В. В.\n",
      "</think>\n",
      "\n",
      "Да снасеніе почибавшихъ – Толанскому В. В.\n",
      "----------------------------------------------------------------------------------------------------\n",
      "\n",
      "\n",
      "\n",
      "Самоялову презнательные А. В. Сухово. – Ко-\n",
      "</think>\n",
      "\n",
      "Самоялову. Признательные А. В. Сухово. – Ко-\n",
      "----------------------------------------------------------------------------------------------------\n",
      "\n",
      "\n",
      "\n",
      "28-е. Сборъ на Выксу. Прощаніе съ Самсономъ.\n",
      "</think>\n",
      "\n",
      "28-е. Сборъ на Выксу. Прощаніе съ Самсономъ.\n",
      "----------------------------------------------------------------------------------------------------\n",
      "\n",
      "\n",
      "\n",
      "продалъ 10 пудъ патоки по 180 к. сереб. и 5 р. сереб.\n",
      "</think>\n",
      "\n",
      "28-е. Сборъ на Выксу. Прощаніе съ Самсономъ.  \n",
      "продалъ 10 пудъ патоки по 180 к. сереб. и 5 р. сереб.\n",
      "----------------------------------------------------------------------------------------------------\n",
      "\n",
      "\n",
      "\n",
      "вшесъ Рертеру въ уплату за аппараты. Къ сахар-\n",
      "</think>\n",
      "\n",
      "28-е. Сборъ на Выксу. Прощаніе съ Самсономъ.  \n",
      "продалъ 10 пудъ патоки по 180 к. сереб. и 5 р. сереб.  \n",
      "въ счетъ Ретерту въ уплату за аппараты. Къ сахар-\n",
      "----------------------------------------------------------------------------------------------------\n",
      "\n",
      "\n",
      "\n",
      "28-е. Сборъ на Выксу. Прощаніе съ Самсономъ.  \n",
      "продалъ 10 пудъ патоки по 180 к. сереб. и 5 р. сереб.  \n",
      "въ счетъ Ретерту въ уплату за аппараты. Къ сахар-  \n",
      "пошлому Заводу. Вечеромъ выѣхалъ на Выксу.\n",
      "</think>\n",
      "\n",
      "28-е. Сборъ на Выксу. Прощаніе съ Самсономъ.  \n",
      "продалъ 10 пудъ патоки по 180 к. сереб. и 5 р. сереб.  \n",
      "въ счетъ Ретерту въ уплату за аппараты. Къ сахар-  \n",
      "пошлому Заводу. Вечеромъ выѣхалъ на Выксу.\n",
      "----------------------------------------------------------------------------------------------------\n",
      "\n",
      "\n",
      "\n",
      "29-е. Въ дорогѣ. Холодно. Простудился. Встрѣча въ Вса-\n",
      "</think>\n",
      "\n",
      "29-е. Въ дорогѣ. Холодно. Простудился. Встрѣча въ Вса-\n",
      "----------------------------------------------------------------------------------------------------\n",
      "\n",
      "\n",
      "\n",
      "дурвіерѣ со какимъ отолченскимъ офицеромъ -> Въ Садурвьерѣ съ какимъ-то толченскимъ офицеромъ\n",
      "</think>\n",
      "\n",
      "29-е. Въ дорогѣ. Холодно. Простудился. Встрѣча въ Вса-  \n",
      "дурвьерѣ съ какимъ-то толченскимъ офицеромъ.\n",
      "----------------------------------------------------------------------------------------------------\n",
      "\n",
      "\n",
      "\n",
      "Популярность и всеобщая извѣстность Кречинскаго\n",
      "</think>\n",
      "\n",
      "29-е. Въ дорогѣ. Холодно. Простудился. Встрѣча въ Вса-  \n",
      "дурвьерѣ съ какимъ-то толченскимъ офицеромъ.  \n",
      "Популярность и всеобщая извѣстность Кречинскаго.\n",
      "----------------------------------------------------------------------------------------------------\n",
      "\n",
      "\n",
      "\n",
      "Его уже играли во всей Россіи. Успѣхъ одинъ вездѣ\n",
      "</think>\n",
      "\n",
      "29-е. Въ дорогѣ. Холодно. Простудился. Встрѣча въ Всад-  \n",
      "урвьерѣ съ какимъ-то толченскимъ офицеромъ.  \n",
      "Популярность и всеобщая извѣстность Кречинскаго.  \n",
      "Его уже играли во всей Россіи. Успѣхъ одинъ вездѣ.\n",
      "----------------------------------------------------------------------------------------------------\n",
      "\n",
      "\n",
      "\n",
      "30-е. Въ 11 часовъ утра, никѣмъ неожиданный, пріѣ-\n",
      "</think>\n",
      "\n",
      "30-е. Въ 11 часовъ утра, никѣмъ неожиданный, пріѣхалъ.\n",
      "----------------------------------------------------------------------------------------------------\n",
      "\n",
      "\n",
      "\n",
      "30-е. Въ 11 часовъ утра, никѣмъ неожиданный, пріѣхалъ  \n",
      "на Выксу – отецъ былъ радъ. Онъ постарѣлъ.\n",
      "</think>\n",
      "\n",
      "30-е. Въ 11 часовъ утра, никѣмъ неожиданный, пріѣхалъ  \n",
      "на Выксу – отецъ былъ радъ. Онъ постарѣлъ.\n",
      "----------------------------------------------------------------------------------------------------\n",
      "\n",
      "\n",
      "\n",
      "30-е. Въ 11 часовъ утра, никѣмъ неожиданный, пріѣхалъ  \n",
      "на Выксу – отецъ былъ радъ. Онъ постарѣлъ  \n",
      "нѣсколько, потолстѣлъ и въ голосѣ замѣтная перемѣна.\n",
      "</think>\n",
      "\n",
      "30-е. Въ 11 часовъ утра, никѣмъ неожиданный, пріѣхалъ  \n",
      "на Выксу – отецъ былъ радъ. Онъ постарѣлъ  \n",
      "нѣсколько, потолстѣлъ и въ голосѣ замѣтная перемѣна.\n",
      "----------------------------------------------------------------------------------------------------\n",
      "\n",
      "\n",
      "\n",
      "30-е. Въ 11 часовъ утра, никѣмъ неожиданный, пріѣхалъ  \n",
      "на Выксу – отецъ былъ радъ. Онъ постарѣлъ  \n",
      "нѣсколько, потолстѣлъ и въ голосѣ замѣтная перемѣна.  \n",
      "Нѣтъ твердости. На Выксѣ сесенра соловая, Честр-\n",
      "</think>\n",
      "\n",
      "30-е. Въ 11 часовъ утра, никѣмъ неожиданный, пріѣхалъ  \n",
      "на Выксу – отецъ былъ радъ. Онъ постарѣлъ  \n",
      "нѣсколько, потолстѣлъ и въ голосѣ замѣтная перемѣна.  \n",
      "Нѣтъ твердости. На Выксѣ сесенра соловая, Честр-\n",
      "----------------------------------------------------------------------------------------------------\n",
      "\n",
      "\n",
      "\n",
      "30-е. Въ 11 часовъ утра, никѣмъ неожиданный, пріѣхалъ  \n",
      "на Выксу – отецъ былъ радъ. Онъ постарѣлъ  \n",
      "нѣсколько, потолстѣлъ и въ голосѣ замѣтная перемѣна.  \n",
      "Нѣтъ твердости. На Выксѣ сесенра соловая, Честр-  \n",
      "Сальясъ, Ина. Тетлевъ и я Леховскій. Николай\n",
      "</think>\n",
      "\n",
      "30-е. Въ 11 часовъ утра, никѣмъ неожиданный, пріѣхалъ  \n",
      "на Выксу – отецъ былъ радъ. Онъ постарѣлъ  \n",
      "нѣсколько, потолстѣлъ и въ голосѣ замѣтная перемѣна.  \n",
      "Нѣтъ твердости. На Выксѣ сесенра соловая, Честр-  \n",
      "Сальясъ, Ина. Тетлевъ и я Леховскій. Николай\n",
      "----------------------------------------------------------------------------------------------------\n",
      "\n",
      "\n",
      "\n",
      "1-е. Рано утромъ съ Соринымъ выѣхалъ на заводъ.\n",
      "</think>\n",
      "\n",
      "1-е. Рано утромъ съ Соринымъ выѣхалъ на заводъ.\n",
      "----------------------------------------------------------------------------------------------------\n",
      "\n",
      "\n",
      "\n",
      "2-го. Уѣхалъ въ Петербургъ, ибо дѣло приняло дурной\n",
      "</think>\n",
      "\n",
      "2-го. Уѣхалъ въ Петербургъ, ибо дѣло приняло дурной\n",
      "----------------------------------------------------------------------------------------------------\n",
      "\n",
      "\n",
      "\n",
      "обороту въ Мичу. Лѣтъ. Настало тяжелое время. Саезыгаколо\n",
      "</think>\n",
      "\n",
      "30-е. Въ 11 часовъ утра, никѣмъ неожиданный, пріѣхалъ  \n",
      "на Выксу – отецъ былъ радъ. Онъ постарѣлъ  \n",
      "нѣсколько, потолстѣлъ и въ голосѣ замѣтная перемѣна.  \n",
      "Нѣтъ твердости. На Выксѣ сесенра соловая, Честр-  \n",
      "Сальясъ, Ина. Тетлевъ и я Леховскій. Николай  \n",
      "1-е. Рано утромъ съ Соринымъ выѣхалъ на заводъ.  \n",
      "2-го. Уѣхалъ въ Петербургъ, ибо дѣло приняло дурной  \n",
      "оборотъ въ Мичу. Лѣтъ. Настало тяжелое время. Саезыгаколо\n",
      "----------------------------------------------------------------------------------------------------\n",
      "\n",
      "\n",
      "\n",
      "30-е. Въ 11 часовъ утра, никѣмъ неожиданный, пріѣхалъ  \n",
      "на Выксу – отецъ былъ радъ. Онъ постарѣлъ  \n",
      "нѣсколько, потолстѣлъ и въ голосѣ замѣтная перемѣна.  \n",
      "Нѣтъ твердости. На Выксѣ сесенра соловая, Честр-  \n",
      "Сальясъ, Ина. Тетлевъ и я Леховскій. Николай  \n",
      "1-е. Рано утромъ съ Соринымъ выѣхалъ на заводъ.  \n",
      "2-го. Уѣхалъ въ Петербургъ, ибо дѣло приняло дурной  \n",
      "оборотъ въ Мичу. Лѣтъ. Настало тяжелое время. Саезыгаколо  \n",
      "крѣпокъ. Ходилъ нѣсколько разъ Греть на годку. –и\n",
      "</think>\n",
      "\n",
      "30-е. Въ 11 часовъ утра, никѣмъ неожиданный, пріѣхалъ  \n",
      "на Выксу – отецъ былъ радъ. Онъ постарѣлъ  \n",
      "нѣсколько, потолстѣлъ и въ голосѣ замѣтная перемѣна.  \n",
      "Нѣтъ твердости. На Выксѣ сесенра соловая, Честр-  \n",
      "Сальясъ, Ина. Тетлевъ и я Леховскій. Николай  \n",
      "1-е. Рано утромъ съ Соринымъ выѣхалъ на заводъ.  \n",
      "2-го. Уѣхалъ въ Петербургъ, ибо дѣло приняло дурной  \n",
      "оборотъ въ Мичу. Лѣтъ. Настало тяжелое время. Саезыгаколо  \n",
      "крѣпокъ. Ходилъ нѣсколько разъ Греть на годку. –и\n",
      "----------------------------------------------------------------------------------------------------\n",
      "\n",
      "\n",
      "\n",
      "30-е. Въ 11 часовъ утра, никѣмъ неожиданный, пріѣхалъ  \n",
      "на Выксу – отецъ былъ радъ. Онъ постарѣлъ  \n",
      "нѣсколько, потолстѣлъ и въ голосѣ замѣтная перемѣна.  \n",
      "Нѣтъ твердости. На Выксѣ сесенра соловая, Честр-  \n",
      "Сальясъ, Ина. Тетлевъ и я Леховскій. Николай  \n",
      "1-е. Рано утромъ съ Соринымъ выѣхалъ на заводъ.  \n",
      "2-го. Уѣхалъ въ Петербургъ, ибо дѣло приняло дурной  \n",
      "оборотъ въ Мичу. Лѣтъ. Настало тяжелое время. Саезыгаколо  \n",
      "крѣпокъ. Ходилъ нѣсколько разъ Греть на годку. –и  \n",
      "купался въ шилѣ до половины Августа.\n",
      "----------------------------------------------------------------------------------------------------\n",
      "\n",
      "\n",
      "\n",
      "Сентябрь. Въ Петербургѣ. Подалъ занику М. Фовъ о\n",
      "</think>\n",
      "\n",
      "Сентябрь. Въ Петербургѣ. Подалъ заявку М. Фову о\n",
      "----------------------------------------------------------------------------------------------------\n",
      "\n",
      "\n",
      "\n",
      "продленіи въ 1-й гильдіи. Отправили на Выксу и\n",
      "</think>\n",
      "\n",
      "Сентябрь. Въ Петербургѣ. Подалъ заявку М. Фову о  \n",
      "продленіи въ 1-й гильдіи. Отправили на Выксу и\n",
      "----------------------------------------------------------------------------------------------------\n",
      "\n",
      "\n",
      "\n",
      "Сентябрь. Въ Петербургѣ. Подалъ заявку М. Фову о  \n",
      "продленіи въ 1-й гильдіи. Отправили на Выксу и  \n",
      "заключилъ условіе съ кн. Иетя. Пріѣхалъ обратно\n",
      "</think>\n",
      "\n",
      "Сентябрь. Въ Петербургѣ. Подалъ заявку М. Фову о  \n",
      "продленіи въ 1-й гильдіи. Отправили на Выксу и  \n",
      "заключилъ условіе съ кн. Иетя. Пріѣхалъ обратно.\n",
      "----------------------------------------------------------------------------------------------------\n",
      "\n",
      "\n",
      "\n",
      "въ Петербуркъ. 13-го сентября. Сосновые свѣжи и машановъ\n",
      "</think>\n",
      "\n",
      "13-го сентября. Сосновые свѣжи и машановъ.\n",
      "----------------------------------------------------------------------------------------------------\n",
      "\n",
      "\n",
      "\n",
      "Петербургъ. Жизнь въ квартирѣ Денедола. Постоянно\n",
      "</think>\n",
      "\n",
      "13-го сентября. Сосновые свѣжи и машановъ.  \n",
      "Петербургъ. Жизнь въ квартирѣ Денедола. Постоянно\n",
      "----------------------------------------------------------------------------------------------------\n",
      "\n",
      "\n",
      "\n",
      "13-го сентября. Сосновые свѣжи и машановъ.  \n",
      "Петербургъ. Жизнь въ квартирѣ Денедола. Постоянно  \n",
      "ходилъ въ Дерптъ по утрамъ. Окончилъ 2-ой и 3-тій акты.\n",
      "</think>\n",
      "\n",
      "13-го сентября. Сосновые свѣжи и машановъ.  \n",
      "Петербургъ. Жизнь въ квартирѣ Денедола. Постоянно  \n",
      "ходилъ въ Дерптъ по утрамъ. Окончилъ 2-ой и 3-тій акты.\n",
      "----------------------------------------------------------------------------------------------------\n",
      "\n",
      "\n",
      "\n",
      "1-е дѣло въ Гогуд. Совѣтѣ. Бръ Торги на встовые\n",
      "</think>\n",
      "\n",
      "1-е дѣло въ Гогуд. Совѣтѣ. Бръ Торги на встовые\n",
      "----------------------------------------------------------------------------------------------------\n",
      "\n",
      "\n",
      "\n",
      "Корабли. Конывъ и Шульмъ въ Петербургѣ. Декабрь.\n",
      "</think>\n",
      "\n",
      "1856. Мартъ  \n",
      "3е. Въ 11 часовъ пріѣхалъ въ Калугу. Дядя принялъ меня  \n",
      "лучше. Смотрѣли планы моего Завода – онъ далъ мнѣ  \n",
      "Отдалъ переписывать піэссу въ печать.  \n",
      "4е. Утро провелъ съ дядей въ разговорахъ о семейныхъ  \n",
      "дѣлахъ и о Выксѣ. Послѣ обѣда выѣхалъ въ Расву.  \n",
      "5е. 6е. Въ Расвѣ. Перемѣна въ планѣ Завода. 1е. Мѣдной  \n",
      "посуды изъ-за границы не выписываю, выпарка пой-  \n",
      "детъ живымъ огнемъ – за симъ прессовую подымаю  \n",
      "надъ дефекаціей и ставлю чугунный аппаратъ!  \n",
      "Обѣдаю и чай пью у Вермана. Его жена M-me Lattage  \n",
      "прекрасная женщина и какъ француженка вноситъ  \n",
      "удивительную Гармонію, складъ и какое-то  \n",
      "прекрасное изящество въ семейную жизнь – le ménage. 6-го вечеромъ  \n",
      "болтали до 1-го часа ночи. Я en verve. Былъ тутъ помо-  \n",
      "щникъ Вермана Каревъ съ женою – впечатлѣніе я на нихъ  \n",
      "произвелъ странное – они съ такими уморительными  \n",
      "поклонами провожали меня, что мнѣ самому было  \n",
      "неловко.  \n",
      "7-е. Выѣхалъ обратно въ Калугу. Вечеромъ выслалъ Сорина съ  \n",
      "заказами въ Заводъ. –  \n",
      "8-е. Всталъ рано. Ходилъ гулять по безлюдной и снѣгомъ  \n",
      "начисто занесенной Калугѣ. Занимался свѣркою  \n",
      "рукописей піэссы – переписано всё подлѣйшимъ образомъ.  \n",
      "9-е. Дядя нездоровъ глазами – ему ставили піявки. Назна-  \n",
      "чено вечеромъ читать піэссу. Получены газеты: Московскія Вѣ-  \n",
      "домости содержатъ описаніе угощенія Cевастопольцевъ –  \n",
      "Безсмертные Боги. Что жъ это такое? Когда Россія разбита  \n",
      "въ прахъ, склонила голову, когда торжествующій врагъ  \n",
      "одною рукою разметываетъ на вѣтеръ основаніе Севасто-  \n",
      "поля – флотъ погибъ, Черное море отнято, крѣпости: ото-  \n",
      "браны, когда Улиссу держатъ зубы и заставляютъ под-  \n",
      "писывать отреченіе отъ всѣхъ правъ и столѣтнихъ завое-  \n",
      "ваній – Отреченіе отъ флота, отъ Востока, отъ Николаева,  \n",
      "защитниковъ взятаго Севастополя принимаютъ какъ побѣдителей  \n",
      "Кого? Когда? Гдѣ? При Альмѣ, подъ Черной? При Иккерманѣ? Или  \n",
      "въ самомъ Севастополѣ?... Мы живемъ въ такіе времена,  \n",
      "когда всякое чувство достоинства, и личнаго и національ-  \n",
      "наго, должно закрыть себѣ лицо руками, чтобы не  \n",
      "видѣть и свѣта Божія. Большой разговоръ съ дядей и  \n",
      "Беккеромъ о Московскихъ дамахъ, говорившихъ рѣчи  \n",
      "1856. Мартъ  \n",
      "и о патріотизмѣ откупщика Кокорева. Особливо трога-  \n",
      "теленъ его земной поклонъ севастопольскимъ мо-  \n",
      "рякамъ. По этому случаю я замѣтилъ, что во всѣхъ  \n",
      "подобныхъ оказіяхъ Откупщики болѣе прочихъ  \n",
      "отличаются у насъ на Руси самыми живыми  \n",
      "чувствами патріотизма – обобравъ крещеный на-  \n",
      "родъ и составивши милліоны изъ Грошей, пропитыхъ  \n",
      "именно тѣми, у кого этотъ Грошъ послѣдній, пусти-  \n",
      "вши по міру цѣлыя области, они всегда изъявляютъ  \n",
      "особенную готовность пожертвовать нѣсколько тысячъ  \n",
      "рублей для бѣдныхъ, на пріюты дѣтей пропившихся  \n",
      "обывателей и вообще на всё патріотическія цѣли,  \n",
      "находящіяся въ распоряженіи правительства, – трога-  \n",
      "тельное зрѣлище! Никогда не прохожу я мимо  \n",
      "зеркальныхъ оконъ и трехъэтажныхъ палатъ откуп-  \n",
      "щиковъ Рюмина, Кошелева, Бородина, Воронова  \n",
      "и др., чтобы не подивиться, какъ изъ малаго составля-  \n",
      "ется большое, и не размыслить, сколько должно  \n",
      "было пропиться и отпиться мужиковъ, чтобы эти  \n",
      "кварты и чарки, совокупя вмѣстѣ, составили эти  \n",
      "палаты, – сколько пропито и запито дарованій, спосо-  \n",
      "бностей, здоровья, силъ, – сколько кочергою или оглоблею  \n",
      "бито жёнъ, невестокъ и всей фамиліи, чтобы эти  \n",
      "патріотизмомъ проникнутые Сыны отечества, подъѣзжая  \n",
      "на парѣ гнѣдыхъ къ дому Градоначальниковъ, по  \n",
      "движенію ихъ сердецъ, приносили на картонный и  \n",
      "спиртовымъ огнемъ горящій алтарь отечества свои  \n",
      "пожертвованія, цвѣтущія на ихъ толстыхъ и жирныхъ  \n",
      "шеяхъ всякаго рода красненькими и зелененькими  \n",
      "ленточками.  \n",
      "По поводу земнаго поклона чувствительнаго Кокорева  \n",
      "Беккеръ разсказывалъ: когда въ Калугу везомо было тѣло  \n",
      "покойной государыни Еливеты Алексѣевны (изъ Белева), всё  \n",
      "Калужское купечество – вышло на Крутую гору Оки  \n",
      "встрѣчать оное – процессія была большая, и кн. Волкон-  \n",
      "скій оною распоряжался. Лишь показалась за рѣкою  \n",
      "процессія – голова калуж. купечества купецъ Зюзинъ  \n",
      "обратился къ полицеймейстеру съ вопросомъ: что купече-  \n",
      "ство желало бы стать на колѣни, и потому  \n",
      "будетъ ли это разрѣшено Начальствомъ. – Василій Ман-  \n",
      "даринъ, бывшій полицеймейстеромъ, не могъ разрѣшить  \n",
      "по долгу службы  \n",
      "этого обстоятельства и по долгу службы обратился къ Губернатору –  \n",
      "сей также – и вотъ онъ дошелъ до самого кн. Вол-  \n",
      "конскаго. «Хоть въ раскорячку», былъ короткій отвѣтъ.  \n",
      "Была страшная грязь, и купечеству показалось  \n",
      "затруднительнымъ лежать брюхомъ и бородою  \n",
      "въ грязи особливо долгое время. Получивъ отвѣтъ,  \n",
      "купцы сполитиковали и одинъ по одному разошлись  \n",
      "въ пу народъ – ибо лежаніе въ грязи стало для  \n",
      "нихъ какъ бы обязательнымъ. – Чему удивляться  \n",
      "Сердецъ  \n",
      "болѣе – этимъ ли движеніямъ сердца всегда навстрѣчу –  \n",
      "1856. годъ. Мартъ  \n",
      "всегда такъ вѣрно и такъ откровенно оцѣнивающему  \n",
      "эти патріотическія движенія.  \n",
      "По поводу разговоровъ о прошедшемъ Беккеръ разсказы-  \n",
      "валъ. Въ проѣздъ К. П. чрезъ Калугу онъ по обычаю посѣ-  \n",
      "тилъ исключительно больницу и острогъ. Въ послѣднемъ  \n",
      "занялся разстановкою часовыхъ въ зданіи острога –  \n",
      "Этотъ сюда! Этого здѣсь! Ты тутъ! Ты далѣе – всё навыворотъ.  \n",
      "Когда одинъ изъ этихъ часовыхъ былъ снятъ съ очень  \n",
      "нужнаго поста, то ему замѣчено было, что самые  \n",
      "преступные изъ арестантовъ не будутъ въ призорѣ  \n",
      "и могутъ выскочить въ корридоръ. – Ну – штыкомъ  \n",
      "его!… Въ одной камерѣ содержался офицеръ –  \n",
      "онъ подошелъ къ нему и просилъ, что уже три года  \n",
      "содержится безъ вины и никакого рѣшенія нѣтъ. Раз-  \n",
      "берутъ! – было отвѣтомъ. Проситель объяснилъ, что  \n",
      "онъ согласенъ покориться всякому рѣшенію, лишь  \n",
      "бы видѣть какой-либо конецъ своему дѣлу.  \n",
      "Ра-зберутъ!!!... – было отвѣтомъ – и только.  \n",
      "Обходя арестантскую больницу, онъ читалъ всѣ  \n",
      "подписи болѣзней – оказалось одно Demention.  \n",
      "Это что?!! … Медикъ объяснилъ, что субъектъ  \n",
      "находится во временномъ помѣшательствѣ, ко-  \n",
      "торое скоро должно пройти – Отъ чего?!..  \n",
      "Лага Рябикова  \n",
      "Онъ де жилъ въ рабочихъ, у купца, у краля, что-то.  \n",
      "и тотъ ударилъ его палкою по головѣ, отъ чего у него  \n",
      "и сдѣлалась руда бѣлая горячка. Обратясь къ Губер-  \n",
      "натору. В-р росодъ въ, t ріscсe l.1. cлумаюсь.  \n",
      "Болѣе никакихъ распоряженій и не было сдѣлано. – Впрочемъ  \n",
      "и часовые возвратились на прежнія мѣста – ибо  \n",
      "въ прочихъ слугахъ и острожные остались бы безъ  \n",
      "всякаго караула.  \n",
      "Вечеромъ читалъ піэссу – что чрезвычайно  \n",
      "понравилась. – Беккеру также.  \n",
      "10-е. Утромъ выѣхалъ въ алексяевское. Почивалъ въ  \n",
      "1856. годъ. Мартъ  \n",
      "21. 22. 23-е. 24. 25. 26-е. Въ Воскресенскомъ. Хлопо-  \n",
      "25-го. Пустилъ Заводъ. Вечеромъ пріѣхалъ Ѳедоръ изъ  \n",
      "Степной – тамъ все наладилось. Въ Воскресенскомъ  \n",
      "съ февраля поступилъ и управляетъ Зерутъ.  \n",
      "Ушею идетъ довольно хорошо. Садку сдѣлалъ по  \n",
      "правой сторонѣ парка, отъ дома къ Рѣкѣ. Около  \n",
      "Дома проводить піэссу. Ставили при мнѣ Шум-  \n",
      "бы отъ дома къ Коноинѣ.  \n",
      "27-го. По утру выѣхалъ въ Москву. Послалъ за  \n",
      "Ковскимъ, который – явился съ предложеніемъ отъ  \n",
      "Ивана Тепелева о пирѣ. Самсонъ отъѣзжанію  \n",
      "съ Ревель. Купилъ ему серебряныхъ вещей на 180 р.  \n",
      "серебу Сазикова. Отдалъ Кубокъ для парика.  \n",
      "Самойлову. Надѣть  \n",
      "Да снасеніе почибавшихъ – Толанскому В. В.  \n",
      "Самоялову. Признательные А. В. Сухово. – Ко-  \n",
      "28-е. Сборъ на Выксу. Прощаніе съ Самсономъ.  \n",
      "продалъ 10 пудъ патоки по 180 к. сереб. и 5 р. сереб.  \n",
      "въ счетъ Ретерту въ уплату за аппараты. Къ сахар-  \n",
      "пошлому Заводу. Вечеромъ выѣхалъ на Выксу.  \n",
      "29-е. Въ дорогѣ. Холодно. Простудился. Встрѣча въ Вса-  \n",
      "дурвьерѣ съ какимъ-то толченскимъ офицеромъ.  \n",
      "Популярность и всеобщая извѣстность Кречинскаго.  \n",
      "Его уже играли во всей Россіи. Успѣхъ одинъ вездѣ.  \n",
      "30-е. Въ 11 часовъ утра, никѣмъ неожиданный, пріѣхалъ  \n",
      "на Выксу – отецъ былъ радъ. Онъ постарѣлъ  \n",
      "нѣсколько, потолстѣлъ и въ голосѣ замѣтная перемѣна.  \n",
      "Нѣтъ твердости. На Выксѣ сесенра соловая, Честр-  \n",
      "Сальясъ, Ина. Тетлевъ и я Леховскій. Николай  \n",
      "1-е. Рано утромъ съ Соринымъ выѣхалъ на заводъ.  \n",
      "2-го. Уѣхалъ въ Петербургъ, ибо дѣло приняло дурной  \n",
      "оборотъ въ Мичу. Лѣтъ. Настало тяжелое время. Саезыгаколо  \n",
      "крѣпокъ. Ходилъ нѣсколько разъ Греть на годку. –и  \n",
      "купался въ шилѣ до половины Августа.  \n",
      "Сентябрь. Въ Петербургѣ. Подалъ заявку М. Фову о  \n",
      "продленіи въ 1-й гильдіи. Отправили на Выксу и  \n",
      "заключилъ условіе съ кн. Иетя. Пріѣхалъ обратно.  \n",
      "въ Петербуркъ. 13-го сентября. Сосновые свѣжи и машановъ.  \n",
      "Петербургъ. Жизнь въ квартирѣ Денедола. Постоянно  \n",
      "ходилъ въ Дерптъ по утрамъ. Окончилъ 2-ой и 3-тій акты.  \n",
      "1-е дѣло въ Гогуд. Совѣтѣ. Бръ Торги на встовые  \n",
      "Корабли. Конывъ и Шульмъ въ Петербургѣ. Декабрь.\n",
      "----------------------------------------------------------------------------------------------------\n",
      "\n",
      "<think>\n",
      "Хорошо, давай разберёмся с запросом пользователя. Он предоставил текст, который, судя по всему, является историческим документом или дневниковыми записями на русском языке XIX века. Задача — исправить ошибки в распознанном тексте, сохраняя оригинальную структуру и имена собственные.\n",
      "\n",
      "Первым делом обращаю внимание на фразу \"Возвратся въ Москву.\" Вижу, что глагол \"Возвратся\" написан без мягкого знака. В русском языке правильное написание — \"Возвратиться\" или \"Возвратъся\" (в дореформенной орфографии). Однако в контексте, возможно, имеется в виду \"Возвратился\" — прошедшее время. Нужно проверить контекст предыдущих предложений.\n",
      "\n",
      "Смотрю предыдущие строки. В последнем примере пользователь упомянул \"Декабрь.\" и, возможно, речь идет о возвращении в определенное место, обозначенное как Москву. В оригинальных примерах исправлений часто использовались формы с \"ъ\" на конце, характерные для дореформенной орфографии. Например, \"пріѣхалъ\", \"выѣхалъ\". Значит, правильным будет написание \"Возвратилсяъ\" или \"Возвратъся\". Но в предоставленном примере пользователь написал \"Возвратся\", что ближе к современному написанию, но без мягкого знака. Возможно, ошибка в отсутствии \"ъ\" на конце.\n",
      "\n",
      "Также стоит учитывать, что в оригинальных примерах адреса обозначены как [Address...], поэтому Москву нужно оставить без изменений. Проверяю, нет ли других ошибок в предложении. Вроде всё верно, кроме окончания глагола.\n",
      "\n",
      "Итак, исправление будет: \"Возвратилсяъ въ Москву.\" или \"Возвратъся въ Москву.\" Но учитывая, что в примерах пользователя чаще используется \"ъ\" на конце глаголов в прошедшем времени (например, \"пріѣхалъ\", \"выѣхалъ\"), правильнее будет \"Возвратилсяъ\". Однако в дореформенной орфографии глаголы в мужском роде прошедшего времени писались без \"ъ\" на конце, а \"ъ\" ставился в конце существительных. Возможно, здесь путаница. Нужно уточнить правила дореформенной орфографии.\n",
      "\n",
      "Проверяю: в дореформенной орфографии глаголы в форме прошедшего времени мужского рода оканчивались на \"лъ\", например, \"сдѣлалъ\", \"пріѣхалъ\". Значит, правильное написание — \"Возвратилсяъ\" с \"ъ\" на конце. Однако в современном понимании это может выглядеть как ошибка, но в контексте исторического документа это корректно.\n",
      "\n",
      "Таким образом, исправленная строка должна быть: \"Возвратилсяъ въ Москву.\" Но пользователь написал \"Возвратся\", возможно, это опечатка, и нужно просто добавить \"ъ\" в конце. Тогда будет \"Возвратъся въ Москву.\" — но это инфинитив. Если же это прошедшее время, то \"Возвратилсяъ\".\n",
      "\n",
      "Однако в предыдущих примерах пользователь использовал \"пріѣхалъ\", \"выѣхалъ\" — прошедшее время с \"ъ\". Значит, и здесь нужно привести к аналогичному виду. \"Возвратилсяъ\" — возможно, но более вероятно, что правильно \"Возвратился\" без \"ъ\", так как в дореформенной орфографии \"ъ\" в конце глаголов мужского рода прошедшего времени не ставился. Возможно, здесь ошибка в распознавании, и исходное слово было \"Возвратился\", но OCR добавил лишний \"ъ\".\n",
      "\n",
      "Следовательно, правильное исправление: \"Возвратился въ Москву.\" Однако нужно свериться с оригинальными примерами. В примере пользователя: \"пріѣхалъ\", \"выѣхалъ\" — с \"ъ\". Значит, в дореформенной орфографии глаголы мужского рода прошедшего времени писались с \"ъ\" на конце. Тогда \"Возвратилсяъ\" — правильно.\n",
      "\n",
      "Но в стандартной дореформенной орфографии \"ъ\" после согласных в конце слов не ставился для глаголов. Возможно, здесь ошибка OCR, и правильно \"Возвратился\". Нужно проверить источники.\n",
      "\n",
      "После проверки выясняю, что в дореформенной орфографии \"ъ\" ставился после конечных согласных в существительных, но не в глаголах. Например, \"онъ пріѣхалъ\", но \"он возвратился\". Следовательно, правильное написание — \"Возвратился въ Москву.\" без \"ъ\" в конце глагола.\n",
      "\n",
      "Однако в предоставленных пользователем примерах есть \"пріѣхалъ\", что соответствует правилам. Возможно, в данном случае \"ъ\" сохраняется. Нужно уточнить. Если пользователь следует стилю, где глаголы в прошедшем времени имеют \"ъ\", то \"Возвратилсяъ\". Но исторически это неверно. Скорее всего, ошибка распознавания, и правильно \"Возвратился\".\n",
      "\n",
      "Итак, окончательное исправление: \"Возвратился въ Москву.\"\n",
      "</think>\n",
      "\n",
      "Возвратился въ Москву.\n",
      "----------------------------------------------------------------------------------------------------\n",
      "\n",
      "\n",
      "\n",
      "1854 годъ. Новый годъ на желѣзной дорогѣ. Былъ въ оскре-\n",
      "</think>\n",
      "\n",
      "1854 годъ. Новый годъ на желѣзной дорогѣ. Былъ въ оскре-\n",
      "----------------------------------------------------------------------------------------------------\n",
      "\n",
      "\n",
      "\n",
      "снискомъ. 15 числа выѣхалъ на Выксу. Амнtt Гол.\n",
      "</think>\n",
      "\n",
      "1854 годъ. Новый годъ на желѣзной дорогѣ. Былъ въ оскре-  \n",
      "снискомъ. 15 числа выѣхалъ на Выксу. Амнtt Гол.\n",
      "----------------------------------------------------------------------------------------------------\n",
      "\n",
      "\n",
      "\n",
      "Піэсса читалась съ успѣхомъ. Въ февралѣ\n",
      "</think>\n",
      "\n",
      "Піэсса читалась съ успѣхомъ. Въ февралѣ\n",
      "----------------------------------------------------------------------------------------------------\n",
      "\n",
      "\n",
      "\n",
      "долженъ былъ ѣхать въ Москву по поводу начавшагося\n",
      "</think>\n",
      "\n",
      "долженъ былъ ѣхать въ Москву по поводу начавшагося\n",
      "----------------------------------------------------------------------------------------------------\n",
      "\n",
      "\n",
      "\n",
      "слѣдствія. Ѣздилъ на нѣсколько дней въ Петербургъ.\n",
      "</think>\n",
      "\n",
      "1854 годъ. Новый годъ на желѣзной дорогѣ. Былъ въ оскре-  \n",
      "снискомъ. 15 числа выѣхалъ на Выксу. Амнtt Гол.  \n",
      "Піэсса читалась съ успѣхомъ. Въ февралѣ  \n",
      "долженъ былъ ѣхать въ Москву по поводу начавшагося  \n",
      "слѣдствія. Ѣздилъ на нѣсколько дней въ Петербургъ.\n",
      "----------------------------------------------------------------------------------------------------\n",
      "\n",
      "\n",
      "\n",
      "Иатупалъ охогиминыихъ вещю чтобы охотится. -> Истратилъ охотничьихъ вещей, чтобы охотиться.\n",
      "</think>\n",
      "\n",
      "Истратилъ охотничьихъ вещей, чтобы охотиться.\n",
      "----------------------------------------------------------------------------------------------------\n",
      "\n",
      "\n",
      "\n",
      "2-го Марта на первой недѣли воротился въ Москву.\n",
      "</think>\n",
      "\n",
      "2-го Марта на первой недѣли воротился въ Москву.\n",
      "----------------------------------------------------------------------------------------------------\n",
      "\n",
      "\n",
      "\n",
      "для пріема Дамъ. Онѣ пріѣхали поздно. Обѣдали въ 6-мъ часу – было\n",
      "</think>\n",
      "\n",
      "2-го Марта на первой недѣли воротился въ Москву.  \n",
      "для пріема Дамъ. Онѣ пріѣхали поздно. Обѣдали въ 6-мъ часу – было\n",
      "----------------------------------------------------------------------------------------------------\n",
      "\n",
      "\n",
      "\n",
      "довольно весело. – я опять вечеромъ игралъ въ карты.\n",
      "</think>\n",
      "\n",
      "1854 годъ. Новый годъ на желѣзной дорогѣ. Былъ въ оскре-  \n",
      "снискомъ. 15 числа выѣхалъ на Выксу. Амнtt Гол.  \n",
      "Піэсса читалась съ успѣхомъ. Въ февралѣ  \n",
      "долженъ былъ ѣхать въ Москву по поводу начавшагося  \n",
      "слѣдствія. Ѣздилъ на нѣсколько дней въ Петербургъ.  \n",
      "Истратилъ охотничьихъ вещей, чтобы охотиться.  \n",
      "2-го Марта на первой недѣли воротился въ Москву.  \n",
      "для пріема Дамъ. Онѣ пріѣхали поздно. Обѣдали въ 6-мъ часу – было  \n",
      "довольно весело. – я опять вечеромъ игралъ въ карты.\n",
      "----------------------------------------------------------------------------------------------------\n",
      "\n",
      "\n",
      "\n",
      "1854 годъ. Новый годъ на желѣзной дорогѣ. Былъ въ оскре-  \n",
      "снискомъ. 15 числа выѣхалъ на Выксу. Амнtt Гол.  \n",
      "Піэсса читалась съ успѣхомъ. Въ февралѣ  \n",
      "долженъ былъ ѣхать въ Москву по поводу начавшагося  \n",
      "слѣдствія. Ѣздилъ на нѣсколько дней въ Петербургъ.  \n",
      "Истратилъ охотничьихъ вещей, чтобы охотиться.  \n",
      "2-го Марта на первой недѣли воротился въ Москву.  \n",
      "для пріема Дамъ. Онѣ пріѣхали поздно. Обѣдали въ 6-мъ часу – было  \n",
      "довольно весело. – я опять вечеромъ игралъ въ карты.  \n",
      "нѣтъ. Я отправилъ семью съ. Въ Тулу Запродать будущаго сахара.\n",
      "</think>\n",
      "\n",
      "1854 годъ. Новый годъ на желѣзной дорогѣ. Былъ въ оскре-  \n",
      "снискомъ. 15 числа выѣхалъ на Выксу. Амнtt Гол.  \n",
      "Піэсса читалась съ успѣхомъ. Въ февралѣ  \n",
      "долженъ былъ ѣхать въ Москву по поводу начавшагося  \n",
      "слѣдствія. Ѣздилъ на нѣсколько дней въ Петербургъ.  \n",
      "Истратилъ охотничьихъ вещей, чтобы охотиться.  \n",
      "2-го Марта на первой недѣли воротился въ Москву.  \n",
      "для пріема Дамъ. Онѣ пріѣхали поздно. Обѣдали въ 6-мъ часу – было  \n",
      "довольно весело. – я опять вечеромъ игралъ въ карты.  \n",
      "нѣтъ. Я отправилъ семью съ. Въ Тулу Запродать будущаго сахара.\n",
      "----------------------------------------------------------------------------------------------------\n",
      "\n",
      "\n",
      "\n",
      "28-е. Всталъ рано, сполярничалъ. Распимывалъ и отправилъ Выю-\n",
      "</think>\n",
      "\n",
      "28-е. Всталъ рано, сполярничалъ. Распимывалъ и отправилъ Выю-\n",
      "----------------------------------------------------------------------------------------------------\n",
      "\n",
      "\n",
      "\n",
      "28-е. Всталъ рано, сполярничалъ. Распимывалъ и отправилъ Выю-  \n",
      "сумскихъ 18 человѣкъ. На обратныхъ подводахъ затребовалъ изъ Москвы\n",
      "</think>\n",
      "\n",
      "28-е. Всталъ рано, сполярничалъ. Распимывалъ и отправилъ Выю-  \n",
      "сумскихъ 18 человѣкъ. На обратныхъ подводахъ затребовалъ изъ Москвы\n",
      "----------------------------------------------------------------------------------------------------\n",
      "\n",
      "\n",
      "\n",
      "Либили, картинъ, брозу. Естя пзѣ неибудь буду жить въ Россіи – такъ\n",
      "</think>\n",
      "\n",
      "28-е. Всталъ рано, сполярничалъ. Распимывалъ и отправилъ Выю-  \n",
      "сумскихъ 18 человѣкъ. На обратныхъ подводахъ затребовалъ изъ Москвы  \n",
      "Либли, картины, бронзу. Если поживу еще, буду жить въ Россіи – такъ\n",
      "----------------------------------------------------------------------------------------------------\n",
      "\n",
      "\n",
      "\n",
      "это здѣсь – въ кобыликѣ. –\n",
      "</think>\n",
      "\n",
      "1854 годъ. Новый годъ на желѣзной дорогѣ. Былъ въ оскре-  \n",
      "снискомъ. 15 числа выѣхалъ на Выксу. Амнtt Гол.  \n",
      "Піэсса читалась съ успѣхомъ. Въ февралѣ  \n",
      "долженъ былъ ѣхать въ Москву по поводу начавшагося  \n",
      "слѣдствія. Ѣздилъ на нѣсколько дней въ Петербургъ.  \n",
      "Истратилъ охотничьихъ вещей, чтобы охотиться.  \n",
      "2-го Марта на первой недѣли воротился въ Москву.  \n",
      "для пріема Дамъ. Онѣ пріѣхали поздно. Обѣдали въ 6-мъ часу – было  \n",
      "довольно весело. – я опять вечеромъ игралъ въ карты.  \n",
      "нѣтъ. Я отправилъ семью съ. Въ Тулу Запродать будущаго сахара.  \n",
      "28-е. Всталъ рано, сполярничалъ. Распимывалъ и отправилъ Выю-  \n",
      "сумскихъ 18 человѣкъ. На обратныхъ подводахъ затребовалъ изъ Москвы  \n",
      "Либли, картины, бронзу. Если поживу еще, буду жить въ Россіи – такъ  \n",
      "это здѣсь – въ кобыликѣ. –\n",
      "----------------------------------------------------------------------------------------------------\n",
      "\n",
      "\n",
      "\n",
      "Замѣчательный разсказъ о помѣщикѣ Малиновскомъ, убитомъ его\n",
      "</think>\n",
      "\n",
      "Замѣчательный разсказъ о помѣщикѣ Малиновскомъ, убитомъ его\n",
      "----------------------------------------------------------------------------------------------------\n",
      "\n",
      "\n",
      "\n",
      "Замѣчательный разсказъ о помѣщикѣ Малиновскомъ, убитомъ его  \n",
      "крестьянами. Какъ замѣтно это было. Сильно странно\n",
      "</think>\n",
      "\n",
      "1854 годъ. Новый годъ на желѣзной дорогѣ. Былъ въ оскре-  \n",
      "снискомъ. 15 числа выѣхалъ на Выксу. Амнtt Гол.  \n",
      "Піэсса читалась съ успѣхомъ. Въ февралѣ  \n",
      "долженъ былъ ѣхать въ Москву по поводу начавшагося  \n",
      "слѣдствія. Ѣздилъ на нѣсколько дней въ Петербургъ.  \n",
      "Истратилъ охотничьихъ вещей, чтобы охотиться.  \n",
      "2-го Марта на первой недѣли воротился въ Москву.  \n",
      "для пріема Дамъ. Онѣ пріѣхали поздно. Обѣдали въ 6-мъ часу – было  \n",
      "довольно весело. – я опять вечеромъ игралъ въ карты.  \n",
      "нѣтъ. Я отправилъ семью съ. Въ Тулу Запродать будущаго сахара.  \n",
      "28-е. Всталъ рано, сполярничалъ. Распимывалъ и отправилъ Выю-  \n",
      "сумскихъ 18 человѣкъ. На обратныхъ подводахъ затребовалъ изъ Москвы  \n",
      "Либли, картины, бронзу. Если поживу еще, буду жить въ Россіи – такъ  \n",
      "это здѣсь – въ кобыликѣ. –  \n",
      "Замѣчательный разсказъ о помѣщикѣ Малиновскомъ, убитомъ его  \n",
      "крестьянами. Какъ замѣтно это было. Сильно странно\n",
      "----------------------------------------------------------------------------------------------------\n",
      "\n",
      "\n",
      "\n",
      "Замѣчательный разсказъ о помѣщикѣ Малиновскомъ, убитомъ его  \n",
      "крестьянами. Какъ замѣтно это было. Сильно странно  \n",
      "онъ довелъ крестьянъ до большаго благо состоянія и богат-\n",
      "</think>\n",
      "\n",
      "28-е. Всталъ рано, сполярничалъ. Распимывалъ и отправилъ Выю-  \n",
      "сумскихъ 18 человѣкъ. На обратныхъ подводахъ затребовалъ изъ Москвы  \n",
      "Либли, картины, бронзу. Если поживу еще, буду жить въ Россіи – такъ  \n",
      "это здѣсь – въ кобыликѣ. –  \n",
      "Замѣчательный разсказъ о помѣщикѣ Малиновскомъ, убитомъ его  \n",
      "крестьянами. Какъ замѣтно это было. Сильно странно  \n",
      "онъ довелъ крестьянъ до большаго благо состоянія и богат-\n",
      "----------------------------------------------------------------------------------------------------\n",
      "\n",
      "\n",
      "\n",
      "28-е. Всталъ рано, сполярничалъ. Распимывалъ и отправилъ Выю-  \n",
      "сумскихъ 18 человѣкъ. На обратныхъ подводахъ затребовалъ изъ Москвы  \n",
      "Либли, картины, бронзу. Если поживу еще, буду жить въ Россіи – такъ  \n",
      "это здѣсь – въ кобыликѣ. –  \n",
      "Замѣчательный разсказъ о помѣщикѣ Малиновскомъ, убитомъ его  \n",
      "крестьянами. Какъ замѣтно это было. Сильно странно  \n",
      "онъ довелъ крестьянъ до большаго благо состоянія и богат-  \n",
      "ства, получилъ имѣніе разоренное и крестьянъ противъ себя –\n",
      "</think>\n",
      "\n",
      "28-е. Всталъ рано, сполярничалъ. Распимывалъ и отправилъ Выю-  \n",
      "сумскихъ 18 человѣкъ. На обратныхъ подводахъ затребовалъ изъ Москвы  \n",
      "Либли, картины, бронзу. Если поживу еще, буду жить въ Россіи – такъ  \n",
      "это здѣсь – въ кобыликѣ. –  \n",
      "Замѣчательный разсказъ о помѣщикѣ Малиновскомъ, убитомъ его  \n",
      "крестьянами. Какъ замѣтно это было. Сильно странно  \n",
      "онъ довелъ крестьянъ до большаго благо состоянія и богат-  \n",
      "ства, получилъ имѣніе разоренное и крестьянъ противъ себя –\n",
      "----------------------------------------------------------------------------------------------------\n",
      "\n"
     ]
    }
   ],
   "source": [
    "for i in range(1, len(corrected_test_lines)):\n",
    "    print(corrected_test_lines[i])\n",
    "    print(\"-\" * 100)\n",
    "    print()"
   ]
  },
  {
   "cell_type": "code",
   "execution_count": 128,
   "metadata": {},
   "outputs": [],
   "source": [
    "corrected_test_lines_ds = []\n",
    "for i in range(1, len(corrected_test_lines)):\n",
    "    line = corrected_test_lines[i]\n",
    "    line = line[line.rfind(\"</think>\") + len(\"</think>\\n\\n\"):]\n",
    "    line = line[line.rfind(\"\\n\") + 1:]\n",
    "    corrected_test_lines_ds.append(line)"
   ]
  },
  {
   "cell_type": "code",
   "execution_count": 129,
   "metadata": {
    "scrolled": true
   },
   "outputs": [
    {
     "name": "stdout",
     "output_type": "stream",
     "text": [
      "CER до DS:     0.159323\n",
      "CER после DS:  0.173913\n",
      "WER до DS:     0.506419\n",
      "WER после DS:  0.420827\n",
      "\n",
      "Model:    Рябикова (cer = 11.11%)\n",
      "DeepSeek: лагаРябикова -> Лага Рябикова (cer = 233.33%)\n",
      "Human:    Рябчикова\n",
      "\n",
      "Model:    Онъ де жилъ въ раборникахъ, у купца, у кралъ, что-т (cer = 14.00%)\n",
      "DeepSeek: Онъ де жилъ въ рабочихъ, у купца, у краля, что-то. (cer = 22.00%)\n",
      "Human:    Онъ де жилъ въ работникахъ у купца ; укралъ что-то\n",
      "\n",
      "Model:    и тотъ удорилъ его палькою по головѣ отъ чего у нем (cer = 16.00%)\n",
      "DeepSeek: и тотъ ударилъ его палкою по головѣ, отъ чего у него (cer = 6.00%)\n",
      "Human:    и тотъ ударилъ его палкою по головѣ, отчаго у него\n",
      "\n",
      "Model:    и сдѣлалась рудето бѣлая горяька. Обратясеь къ Губер- (cer = 9.80%)\n",
      "DeepSeek: и сдѣлалась рудето бѣлая горячка. Обратясь къ Губер- (cer = 5.88%)\n",
      "Human:    и сдѣлалась будто бѣлая горячка. Обратясь къ губер-\n",
      "\n",
      "Model:    наторуг. В- р росодъ въ, t ріscсe l.1. cлумаюсь. (cer = 58.70%)\n",
      "DeepSeek: наторуг. В- р росодъ въ, t ріscсe l.1. cлумаюсь. (cer = 58.70%)\n",
      "Human:    натору: В – f! Prens-le, pince-le! – Слушаюсь.\n",
      "\n",
      "Model:    Болѣе никакихъ разпоряженій и не было сцѣлано.– Вороемъ (cer = 10.71%)\n",
      "DeepSeek: Болѣе никакихъ распоряженій и не было сдѣлано. – Впрочемъ (cer = 5.36%)\n",
      "Human:    Болѣе никакихъ распоряженій и не было сдѣлано. Впрочемъ,\n",
      "\n",
      "Model:    и часовые возвратижинь на преженія мѣста – ибо (cer = 8.89%)\n",
      "DeepSeek: и часовые возвратились на прежнія мѣста – ибо (cer = 2.22%)\n",
      "Human:    и часовые возвратились на прежніе мѣста – ибо\n",
      "\n",
      "Model:    въ прочимѣномъ слугаѣ и острожные остались бы безъ (cer = 8.16%)\n",
      "DeepSeek: въ прочимъ слугаѣ и острожные остались бы безъ (cer = 10.20%)\n",
      "Human:    въ противномъ случаѣ и острожные остались бы безъ\n",
      "\n",
      "Model:    всякаго каркува. (cer = 12.50%)\n",
      "DeepSeek: всякаго караула. (cer = 0.00%)\n",
      "Human:    всякаго караула.\n",
      "\n",
      "Model:    Вечеромъ литалъ піэссу – ядѣ чрезвыайно (cer = 7.32%)\n",
      "DeepSeek: Вечеромъ читалъ піэссу – что чрезвычайно (cer = 9.76%)\n",
      "Human:    Вечеромъ читалъ піэссу – Дядѣ чрезвычайно\n",
      "\n",
      "Model:    понравилась. – беккаеру также. (cer = 10.71%)\n",
      "DeepSeek: понравилась. – Беккеру также. (cer = 3.57%)\n",
      "Human:    понравилась – Беккеру также.\n",
      "\n",
      "Model:    10-х. утромъ выѣхалъ въ алексяевское. Почевалъ въ (cer = 10.20%)\n",
      "DeepSeek: 10-е. Утромъ выѣхалъ въ алексяевское. Почивалъ въ (cer = 14.29%)\n",
      "Human:    10-го утромъ выѣхалъ въ Алексеевское. Ночевалъ въ\n",
      "\n",
      "Model:    1856. годъ. Ман. (cer = 21.43%)\n",
      "DeepSeek: 1856. годъ. Мартъ. (cer = 35.71%)\n",
      "Human:    1856 годъ. Май\n",
      "\n",
      "Model:    21 22. 23-е. 24. 25. 26е. Въ Воскресенскомъ. Хлопо- (cer = 3.92%)\n",
      "DeepSeek: 21. 22. 23-е. 24. 25. 26-е. Въ Воскресенскомъ. Хлопо- (cer = 3.92%)\n",
      "Human:    21. 22. 23е. 24. 25. 26е. Въ Воскресенскомъ. Хлопо-\n",
      "\n",
      "Model:    25-го. Пустилъ Заводъ. Вечеромъ пріѣхалъ Ѳедоръ изъ (cer = 6.12%)\n",
      "DeepSeek: 25-го. Пустилъ Заводъ. Вечеромъ пріѣхалъ Ѳедоръ изъ (cer = 6.12%)\n",
      "Human:    25е. Пустилъ Заводъ. Вечеромъ пріѣхалъ Ѳедоръ изъ\n",
      "\n",
      "Model:    Степной – тамъ въ сё надышается. Въ Воскресенскомъ (cer = 16.33%)\n",
      "DeepSeek: Степной – тамъ все наладилось. Въ Воскресенскомъ (cer = 24.49%)\n",
      "Human:    Степной - тамъ всё подвигается. Въ Воскресенскомъ\n",
      "\n",
      "Model:    съ февраля поступилъ и управляетъ Зерутъ. (cer = 2.44%)\n",
      "DeepSeek: съ февраля поступилъ и управляетъ Зерутъ. (cer = 2.44%)\n",
      "Human:    съ февраля поступилъ и управляетъ Зерунъ.\n",
      "\n",
      "Model:    Ушею идетъ давольно хорошо. Садку сдѣлалъ по (cer = 10.87%)\n",
      "DeepSeek: Ушею идетъ довольно хорошо. Садку сдѣлалъ по (cer = 8.70%)\n",
      "Human:    У него идетъ довольно хорошо. Садку сдѣлалъ по\n",
      "\n",
      "Model:    правой Сторолѣ парка отве дома къ Ренѣ. Около (cer = 15.91%)\n",
      "DeepSeek: правой Сторолѣ парка отве дома къ Ренѣ. Около -> правой сторонѣ парка, отъ дома къ Рѣкѣ. Около (cer = 115.91%)\n",
      "Human:    правой сторонѣ парка отъ дома къ рѣкѣ. Около\n",
      "\n",
      "Model:    Дома проводить піэссе. Ставили при мнѣ Шум- (cer = 14.29%)\n",
      "DeepSeek: Дома проводить піэссу. Ставили при мнѣ Шум- (cer = 16.67%)\n",
      "Human:    дома проводитъ шоссе. Ставили при мнѣ тум-\n",
      "\n",
      "Model:    бы отъдома къ Коноинѣ. (cer = 17.39%)\n",
      "DeepSeek: бы отъ дома къ Коноинѣ. (cer = 13.04%)\n",
      "Human:    бы отъ дома къ конюшнѣ.\n",
      "\n",
      "Model:    27-го по утру выѣхалъ въ Москву. Послалъ за (cer = 9.52%)\n",
      "DeepSeek: 27-го. По утру выѣхалъ въ Москву. Послалъ за (cer = 7.14%)\n",
      "Human:    27е. По утру выѣхалъ въ Москву. Послалъ за\n",
      "\n",
      "Model:    Ковскимь, который – явился съ предноженіемъ отъ (cer = 8.89%)\n",
      "DeepSeek: Ковскимъ, который – явился съ предложеніемъ отъ (cer = 4.44%)\n",
      "Human:    Ковскимъ, который явился съ предложеніемъ отъ\n",
      "\n",
      "Model:    ивана тепелева о тирѣ. Самсонъ отѣдѣжанію (cer = 21.95%)\n",
      "DeepSeek: Ивана Тепелева о пирѣ. Самсонъ отъѣзжанію (cer = 12.20%)\n",
      "Human:    Ивана Шепелева о мирѣ. Самсонъ отъѣзжаетъ\n",
      "\n",
      "Model:    съ Ревель. Купилъ ему серебряныхъ вещій на 180 р. (cer = 8.16%)\n",
      "DeepSeek: съ Ревель. Купилъ ему серебряныхъ вещей на 180 р. (cer = 6.12%)\n",
      "Human:    въ Ревель, купилъ ему серебряныхъ вещей на 180 р.\n",
      "\n",
      "Model:    сереу Сазикова. Отдалъ Кубокъ дня парѣука (cer = 20.45%)\n",
      "DeepSeek: сереу Сазикова. Отдалъ Кубокъ для парика. (cer = 22.73%)\n",
      "Human:    сереб. у Садикова. Отдалъ кубокъ для нарѣзки\n",
      "\n",
      "Model:    падпия Самой лову. Надить (cer = 25.93%)\n",
      "DeepSeek: Самойлову. Надѣть (cer = 44.44%)\n",
      "Human:    надписи Самойлову. Надпись:\n",
      "\n",
      "Model:    Да снасеніе почибавшихъ – толанину В. В. (cer = 21.05%)\n",
      "DeepSeek: Да снасеніе почибавшихъ – Толанскому В. В. (cer = 28.95%)\n",
      "Human:    За Спасеніе погибавшихъ – таланту В.В.\n",
      "\n",
      "Model:    Самояло ва презнательные А.В. Сухово.– Ко- (cer = 15.38%)\n",
      "DeepSeek: Самоялову. Признательные А. В. Сухово. – Ко- (cer = 23.08%)\n",
      "Human:    Самойлова признательные А.В. Сухово-Ко-\n",
      "\n",
      "Model:    28-е. Сборъ на Выксу. Проицаные съ Самсономъ. (cer = 11.63%)\n",
      "DeepSeek: 28-е. Сборъ на Выксу. Прощаніе съ Самсономъ. (cer = 4.65%)\n",
      "Human:    28е. Сборы на Выксу. Прощаніе съ Самсономъ.\n",
      "\n",
      "Model:    продалъ d пудъ патоки но 180 к. сереб. и n.р. ереб. (cer = 27.59%)\n",
      "DeepSeek: продалъ 10 пудъ патоки по 180 к. сереб. и 5 р. сереб. (cer = 22.41%)\n",
      "Human:    Продалъ 1 т. пудов патоки по 1.80 к. сер. и 1 т. р. сереб.\n",
      "\n",
      "Model:    вшесъ Рертеру въ упламу за аппараты Къ сахар (cer = 14.89%)\n",
      "DeepSeek: въ счетъ Ретерту въ уплату за аппараты. Къ сахар- (cer = 25.53%)\n",
      "Human:    внесъ Ферстеру въ уплату за аппараты къ сахаръ-\n",
      "\n",
      "Model:    пошу Заводу. Вечеромъ выкѣхалъ на Выку. (cer = 10.26%)\n",
      "DeepSeek: пошлому Заводу. Вечеромъ выѣхалъ на Выксу. (cer = 10.26%)\n",
      "Human:    ному Заводу. Вечеромъ выѣхалъ на Выксу.\n",
      "\n",
      "Model:    29-е. Въ дорогъ. Хвгодно. простудился. Встрѣча въ Вса- (cer = 11.32%)\n",
      "DeepSeek: 29-е. Въ дорогѣ. Холодно. Простудился. Встрѣча въ Вса- (cer = 3.77%)\n",
      "Human:    29е. Въ дорогѣ. Холодно. Простудился. Встрѣча въ Вла-\n",
      "\n",
      "Model:    дурвіерѣ со какимъ отолченскимъ офицеромъ (cer = 17.50%)\n",
      "DeepSeek: дурвьерѣ съ какимъ-то толченскимъ офицеромъ. (cer = 22.50%)\n",
      "Human:    димірѣ съ какимъ ополченскимъ офицеромъ.\n",
      "\n",
      "Model:    Понулярность и всеобщал извѣстностъ кречинского (cer = 10.42%)\n",
      "DeepSeek: Популярность и всеобщая извѣстность Кречинскаго. (cer = 2.08%)\n",
      "Human:    Популярность и всеобщая извѣстность Кречинского.\n",
      "\n",
      "Model:    Его ужа играли вовсей Россіи. Успѣхъ одинъ вездѣ (cer = 11.76%)\n",
      "DeepSeek: Его уже играли во всей Россіи. Успѣхъ одинъ вездѣ. (cer = 5.88%)\n",
      "Human:    Его уже играютъ во всей Россіи. Успѣхъ одинъ вездѣ.\n",
      "\n",
      "Model:    30-е. въ 11 часовъ утра никемъ неожиданный пріѣ. (cer = 10.87%)\n",
      "DeepSeek: 30-е. Въ 11 часовъ утра, никѣмъ неожиданный, пріѣхалъ. (cer = 23.91%)\n",
      "Human:    30е въ 11 часовъ утра никѣмъ неожиданный пріе-\n",
      "\n",
      "Model:    халъ на Выксу – отцъ былъ радъ онъ постарѣлъ (cer = 6.52%)\n",
      "DeepSeek: на Выксу – отецъ былъ радъ. Онъ постарѣлъ. (cer = 19.57%)\n",
      "Human:    халъ на Выксу - отецъ былъ радъ, онъ постарѣлъ\n",
      "\n",
      "Model:    нѣсколько потолстѣлъ и въ голось замѣжна перемѣла (cer = 27.27%)\n",
      "DeepSeek: нѣсколько, потолстѣлъ и въ голосѣ замѣтная перемѣна. (cer = 27.27%)\n",
      "Human:    нѣсколько потолстѣлъ и въ голосѣ нѣсколько перемѣнился,\n",
      "\n",
      "Model:    нѣтъ твердости. На Выксѣ сесенра соловая, Честр (cer = 21.28%)\n",
      "DeepSeek: Нѣтъ твердости. На Выксѣ сесенра соловая, Честр- (cer = 23.40%)\n",
      "Human:    нѣтъ твердости. На Выксѣ сосѣди Соловые, сестра\n",
      "\n",
      "Model:    Сальясъ, Ина. Тетлевъ и я леховскій. Николай (cer = 22.73%)\n",
      "DeepSeek: Сальясъ, Ина. Тетлевъ и я Леховскій. Николай (cer = 22.73%)\n",
      "Human:    Сальясъ, Ник. Шепелевъ и Дмоховскій. Николай\n",
      "\n",
      "Model:    Го0нь 1-е. Рано утромъ съ Соринымъ выѣхалъ на словодь. (cer = 16.98%)\n",
      "DeepSeek: 1-е. Рано утромъ съ Соринымъ выѣхалъ на заводъ. (cer = 20.75%)\n",
      "Human:    Іюнь. 1е. Рано утромъ съ Соринымъ выѣхалъ на Снаведь.\n",
      "\n",
      "Model:    Квгупть, 3-го. Уѣхалъ вълетербургъ. ибо дѣло принаяло дурго (cer = 18.97%)\n",
      "DeepSeek: 2-го. Уѣхалъ въ Петербургъ, ибо дѣло приняло дурной (cer = 15.52%)\n",
      "Human:    Августъ 3го. Уѣхалъ въ Петербургъ, ибо дѣло приняло дурной\n",
      "\n",
      "Model:    оборому въ Мичо л0етъ. Натало тяжелсъ время. Саезыгаколо (cer = 36.21%)\n",
      "DeepSeek: оборотъ въ Мичу. Лѣтъ. Настало тяжелое время. Саезыгаколо (cer = 25.86%)\n",
      "Human:    оборотъ въ Мин. Юст. Настало тяжелое время. Связь съ Голи-\n",
      "\n",
      "Model:    крѣпокъ. Ходилъ нѣсколько разъ Греть на годку. –и (cer = 12.00%)\n",
      "DeepSeek: крѣпокъ. Ходилъ нѣсколько разъ Греть на годку. –и (cer = 12.00%)\n",
      "Human:    крѣпокъ. Ходилъ нѣсколько разъ гресть на лодку - и\n",
      "\n",
      "Model:    купался въ шилѣ до паловимы Авгста. (cer = 25.00%)\n",
      "DeepSeek: купался въ шилѣ до половины Августа. (cer = 16.67%)\n",
      "Human:    купался въ Невѣ съ половины августа.\n",
      "\n",
      "Model:    Cентябрь. Въ Петербургѣ. Подалъ занику М. фов о (cer = 10.20%)\n",
      "DeepSeek: Сентябрь. Въ Петербургѣ. Подалъ заявку М. Фову о (cer = 14.29%)\n",
      "Human:    Сентябрь. Въ Петербургѣ. Подалъ записку м. ф-ов о\n",
      "\n",
      "Model:    предирняніи въ 1ож. Россіи. Отравили на Выксу и (cer = 20.83%)\n",
      "DeepSeek: продленіи въ 1-й гильдіи. Отправили на Выксу и (cer = 37.50%)\n",
      "Human:    предпрiятiи въ Юж. Россiи. Отправился на Выксу и\n",
      "\n",
      "Model:    заключилъ условіе съ кик. Иетя. Пріѣхалъ обратна (cer = 18.75%)\n",
      "DeepSeek: заключилъ условіе съ кн. Иетя. Пріѣхалъ обратно. (cer = 22.92%)\n",
      "Human:    заключилъ условие с Ник. Шепел. Прiѣхалъ обратно\n",
      "\n",
      "Model:    въ Петербуркъ. 13-го поябръя. Сововые свня и машавовъ (cer = 31.48%)\n",
      "DeepSeek: 13-го сентября. Сосновые свѣжи и машановъ. (cer = 62.96%)\n",
      "Human:    въ Петербургъ 13го ноября. Соловые. Соня и Маменька въ\n",
      "\n",
      "Model:    Петербургъ. Жезнь въ костицѣ Денедола. Постолно (cer = 26.92%)\n",
      "DeepSeek: Петербургъ. Жизнь въ квартирѣ Денедола. Постоянно (cer = 32.69%)\n",
      "Human:    Петербургѣ. Жизнь въ гостиницѣ Демидова. Постановилъ\n",
      "\n",
      "Model:    ходилъ въ Дероту по утрамъ. Окочилъ 2-ой и 3-те акть. (cer = 21.15%)\n",
      "DeepSeek: ходилъ въ Дерптъ по утрамъ. Окончилъ 2-ой и 3-тій акты. (cer = 23.08%)\n",
      "Human:    ходить къ Депону по утрамъ. Окончилъ 2ой и 3iй актъ.\n",
      "\n",
      "Model:    1дѣло въ гогуд. Совѣтѣ. бръ Торги на встовые (cer = 25.00%)\n",
      "DeepSeek: 1-е дѣло въ Гогуд. Совѣтѣ. Бръ Торги на встовые (cer = 31.25%)\n",
      "Human:    Дѣло въ Госуд. Советѣ. Декабрь Торги на винтовые\n",
      "\n",
      "Model:    Корали. Конывъ и Шульмъ въ Петербургѣ. Декабрь (cer = 17.65%)\n",
      "DeepSeek: Корабли. Конывъ и Шульмъ въ Петербургѣ. Декабрь. (cer = 13.73%)\n",
      "Human:    корабли. Копьевъ и Шульгинъ въ Петербургѣ. Декабрь.\n",
      "\n",
      "Model:    Возвратся въ Москву. (cer = 9.09%)\n",
      "DeepSeek: Возвратился въ Москву. (cer = 0.00%)\n",
      "Human:    Возвратился въ Москву.\n",
      "\n",
      "Model:    1854 годъ. Новый годъ нажелной дорогѣ. Былъ въ оскре- (cer = 8.93%)\n",
      "DeepSeek: 1854 годъ. Новый годъ на желѣзной дорогѣ. Былъ въ оскре- (cer = 3.57%)\n",
      "Human:    1854 годъ. Новый годъ на желѣзной дорогѣ. Былъ в Воскре-\n",
      "\n",
      "Model:    снискомъ. 15 числа выѣхалъ на Выку. Амнtt Гол. (cer = 17.02%)\n",
      "DeepSeek: снискомъ. 15 числа выѣхалъ на Выксу. Амнtt Гол. (cer = 14.89%)\n",
      "Human:    сенскомъ. 15 числа выѣхал на Выксу. Anette Гол.\n",
      "\n",
      "Model:    Піэсса, читалась въ успѣхомъ. Въ феврагѣ (cer = 15.38%)\n",
      "DeepSeek: Піэсса читалась съ успѣхомъ. Въ февралѣ (cer = 7.69%)\n",
      "Human:    Пьесса читалась съ успехомъ. Въ февралѣ\n",
      "\n",
      "Model:    должъ былъ ѣхать въ Москву по полоду начавшаеттъ, (cer = 19.23%)\n",
      "DeepSeek: долженъ былъ ѣхать въ Москву по поводу начавшагося (cer = 3.85%)\n",
      "Human:    долженъ былъ выѣхать въ Москву по поводу начавшагося\n",
      "\n",
      "Model:    слѣзмвія. Ѣяздилъ на нѣсколько дей въ Петербургъ. (cer = 14.29%)\n",
      "DeepSeek: слѣдствія. Ѣздилъ на нѣсколько дней въ Петербургъ. (cer = 4.08%)\n",
      "Human:    слѣдствiя. Ѣздилъ на нѣсколько дней в Петербургъ.\n",
      "\n",
      "Model:    Иатупалъ охогиминыихъ вещю чтобы охотится. (cer = 29.55%)\n",
      "DeepSeek: Истратилъ охотничьихъ вещей, чтобы охотиться. (cer = 18.18%)\n",
      "Human:    Покупалъ охотничьихѣ вещей, чтобы охотиться.\n",
      "\n",
      "Model:    2-го Маретъ на тервой недѣли воротилси въ Москву. (cer = 19.15%)\n",
      "DeepSeek: 2-го Марта на первой недѣли воротился въ Москву. (cer = 10.64%)\n",
      "Human:    1гo марта на первой недѣлѣ воротился въ Москву.\n",
      "\n",
      "Model:    для пріема Дамъ. Онъ пріѣхали поздно. Обѣдали въ 6-мъ часу – было (cer = 4.69%)\n",
      "DeepSeek: для пріема Дамъ. Онѣ пріѣхали поздно. Обѣдали въ 6-мъ часу – было (cer = 3.12%)\n",
      "Human:    для пріема дамъ. Онѣ пріѣхали поздно. Обѣдали въ 6мъ часу – было\n",
      "\n",
      "Model:    довольно весело. – я очно вечено игралъ въ карты. (cer = 13.46%)\n",
      "DeepSeek: довольно весело. – я опять вечеромъ игралъ въ карты. (cer = 19.23%)\n",
      "Human:    довольно весело. – Я очень весело игралъ въ карты. –\n",
      "\n",
      "Model:    нѣтъ я отправилъ семна съ. Въ Тулу Запродать будущаго сахара. (cer = 12.70%)\n",
      "DeepSeek: нѣтъ. Я отправилъ семью съ. Въ Тулу Запродать будущаго сахара. (cer = 12.70%)\n",
      "Human:    нѣтъ. Я отправилъ Семена Ив. въ Тулу запродать будущаго сахара.\n",
      "\n",
      "Model:    28е. РаВсталъ рано сполярничалъ. Распимывалъ и отправилъ Выю- (cer = 14.75%)\n",
      "DeepSeek: 28-е. Всталъ рано, сполярничалъ. Распимывалъ и отправилъ Выю- (cer = 13.11%)\n",
      "Human:    28е. Всталъ рано. Столярничалъ. Разсчитывалъ и отправилъ Вык-\n",
      "\n",
      "Model:    сумскихъ 18 человѣхъ. На обратныхъ пододавъ затробовалъ изъ Москвы (cer = 7.46%)\n",
      "DeepSeek: сумскихъ 18 человѣкъ. На обратныхъ подводахъ затребовалъ изъ Москвы (cer = 1.49%)\n",
      "Human:    сунскихъ 18 человѣкъ. На обратныхъ подводахъ затребовалъ изъ Москвы\n",
      "\n",
      "Model:    Либили, картинъ, брозу. Естя пзѣ неибудь буду жить ъ оссіи – такъ (cer = 21.74%)\n",
      "DeepSeek: Либли, картины, бронзу. Если поживу еще, буду жить въ Россіи – такъ (cer = 23.19%)\n",
      "Human:    мебель, картины, бронзу. Если я гдѣ-нибудь буду жить въ Россіи – такъ\n",
      "\n",
      "Model:    это здѣсь – въ кобыликѣ. – (cer = 16.00%)\n",
      "DeepSeek: это здѣсь – въ кобыликѣ. – (cer = 16.00%)\n",
      "Human:    это здѣсь – въ Кобылинкѣ.\n",
      "\n",
      "Model:    Замѣчательный раскаръ о помѣщикѣ Малиновскомъ убинномъ его (cer = 6.90%)\n",
      "DeepSeek: Замѣчательный разсказъ о помѣщикѣ Малиновскомъ, убитомъ его (cer = 1.72%)\n",
      "Human:    Замѣчательный расказъ о помѣщикѣ Малиновскомъ, убитомъ его\n",
      "\n",
      "Model:    крестьянами. Какъ замѣшно это было Сильной странно (cer = 13.73%)\n",
      "DeepSeek: крестьянами. Какъ замѣтно это было. Сильно странно (cer = 13.73%)\n",
      "Human:    крестьянами. Какъ замѣтно это была сильная, страшно\n",
      "\n",
      "Model:    онъ довста Крестьямъ до большаго благю состоянія и богат- (cer = 14.29%)\n",
      "DeepSeek: онъ довелъ крестьянъ до большаго благо состоянія и богат- (cer = 3.57%)\n",
      "Human:    онъ довелъ крестьянъ до большого благосостоянія и богат-\n",
      "\n",
      "Model:    ства, получилъ имѣніе разоренное и кресетьясъ протившотя – (cer = 15.79%)\n",
      "DeepSeek: ства, получилъ имѣніе разоренное и крестьянъ противъ себя – (cer = 15.79%)\n",
      "Human:    ства, получивъ имѣніе разоренное и крестьянъ прожившихся.\n",
      "\n"
     ]
    }
   ],
   "source": [
    "# отдельные строки как примеры, учитываем историю, после паддинга + учитываем train (pred -> gt)\n",
    "\n",
    "print(f\"CER до DS:    {eval_test[\"cer\"]: .6f}\")\n",
    "print(f\"CER после DS: {calc_cer_from_list(eval_test[\"str_gt\"], corrected_test_lines_ds) : .6f}\")\n",
    "print(f\"WER до DS:    {eval_test[\"wer\"]: .6f}\")\n",
    "print(f\"WER после DS: {calc_wer_from_list(eval_test[\"str_gt\"], corrected_test_lines_ds) : .6f}\")\n",
    "print()\n",
    "\n",
    "for model_line, corrected_line, human_line in zip(eval_test[\"str_preds\"], corrected_test_lines_ds, eval_test[\"str_gt\"], strict=True):\n",
    "    model_cer = editdistance.eval(model_line, human_line) / len(human_line)\n",
    "    gpt_cer = editdistance.eval(corrected_line, human_line) / len(human_line)\n",
    "    print(f\"Model:    {model_line} (cer = {model_cer * 100:.2f}%)\")\n",
    "    print(f\"DeepSeek: {corrected_line} (cer = {gpt_cer * 100:.2f}%)\")\n",
    "    print(f\"Human:    {human_line}\")\n",
    "    print()"
   ]
  }
 ],
 "metadata": {
  "kernelspec": {
   "display_name": "Python 3 (ipykernel)",
   "language": "python",
   "name": "python3"
  },
  "language_info": {
   "codemirror_mode": {
    "name": "ipython",
    "version": 3
   },
   "file_extension": ".py",
   "mimetype": "text/x-python",
   "name": "python",
   "nbconvert_exporter": "python",
   "pygments_lexer": "ipython3",
   "version": "3.9.7"
  }
 },
 "nbformat": 4,
 "nbformat_minor": 4
}
