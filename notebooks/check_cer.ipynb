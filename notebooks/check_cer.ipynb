{
 "cells": [
  {
   "cell_type": "code",
   "execution_count": 1,
   "id": "0a6f312b-9554-45f6-97b8-db3f8e279b4f",
   "metadata": {
    "execution": {
     "iopub.execute_input": "2024-11-30T20:20:25.247240Z",
     "iopub.status.busy": "2024-11-30T20:20:25.245257Z",
     "iopub.status.idle": "2024-11-30T20:20:25.282064Z",
     "shell.execute_reply": "2024-11-30T20:20:25.277032Z",
     "shell.execute_reply.started": "2024-11-30T20:20:25.247240Z"
    }
   },
   "outputs": [],
   "source": [
    "import os\n",
    "import editdistance"
   ]
  },
  {
   "cell_type": "code",
   "execution_count": 2,
   "id": "52712efa-5646-4106-b478-a160203abac6",
   "metadata": {
    "execution": {
     "iopub.execute_input": "2024-11-30T20:20:25.290032Z",
     "iopub.status.busy": "2024-11-30T20:20:25.289034Z",
     "iopub.status.idle": "2024-11-30T20:20:25.313041Z",
     "shell.execute_reply": "2024-11-30T20:20:25.309039Z",
     "shell.execute_reply.started": "2024-11-30T20:20:25.290032Z"
    }
   },
   "outputs": [],
   "source": [
    "train_names = ['11', '15', '17', '17об', '18об', '19', '19об', '20', '20об', '21', '21об', '22', '23', '23об', '24', '24об', '25', '25об', '26', '26об', '27', '27об', '28', '28об', '29', '29об', '2об', '30об', '31', '31об', '32', '32об', '33', '33об', '34', '34об', '35', '35об', '36', '38', '38об', '39', '39об', '40', '40об', '41', '41об', '42', '42об', '43', '43об', '44', '45об', '46', '46об', '47', '47об', '48', '48об', '49', '49об', '50', '50об', '51', '51об', '52', '52об', '53', '53об', '54', '54об', '55', '55об', '56', '56об', '57', '57об', '58']     \n",
    "val_names = ['58об', '59', '59об', '60', '60об']\n",
    "test_names = ['61', '75', '75об', '7об', '95']"
   ]
  },
  {
   "cell_type": "code",
   "execution_count": 3,
   "id": "f9c9cc0c-678c-486a-9f17-4f75404bca01",
   "metadata": {
    "execution": {
     "iopub.execute_input": "2024-11-30T20:20:25.322039Z",
     "iopub.status.busy": "2024-11-30T20:20:25.321041Z",
     "iopub.status.idle": "2024-11-30T20:20:25.346628Z",
     "shell.execute_reply": "2024-11-30T20:20:25.340604Z",
     "shell.execute_reply.started": "2024-11-30T20:20:25.322039Z"
    }
   },
   "outputs": [],
   "source": [
    "model_text_path = \"../../Подстрочник/Дневник_С-К/438-1-219/Model_text\"\n",
    "human_text_path = \"../../Подстрочник/Дневник_С-К/438-1-219/Human_text\""
   ]
  },
  {
   "cell_type": "code",
   "execution_count": 4,
   "id": "5758817a-73ae-496d-87f0-705c550a61ab",
   "metadata": {
    "execution": {
     "iopub.execute_input": "2024-11-30T20:20:25.358618Z",
     "iopub.status.busy": "2024-11-30T20:20:25.354619Z",
     "iopub.status.idle": "2024-11-30T20:20:25.391617Z",
     "shell.execute_reply": "2024-11-30T20:20:25.388618Z",
     "shell.execute_reply.started": "2024-11-30T20:20:25.358618Z"
    }
   },
   "outputs": [],
   "source": [
    "def get_cer_from_lines(human_lines, model_lines, skip_hashtag=True):\n",
    "    # Убираем пустую строку в конце\n",
    "    if human_lines[-1].strip() == \"\":\n",
    "        human_lines = human_lines[:-1]\n",
    "    if model_lines[-1].strip() == \"\":\n",
    "        model_lines = model_lines[:-1]\n",
    "    if len(human_lines) != len(model_lines):\n",
    "        return None\n",
    "    cer_sum = 0\n",
    "    n_chars_gt = 0\n",
    "    n_evaluated_lines = 0\n",
    "    for human_line, model_line in zip(human_lines, model_lines):\n",
    "        human_line = human_line.strip()\n",
    "        model_line = model_line.strip()\n",
    "        if skip_hashtag and \"#\" in human_line:\n",
    "            continue\n",
    "        if human_line[-1] == \"$\":\n",
    "            human_line = human_line[:-1]\n",
    "        if model_line[-1] == \"$\":\n",
    "            model_line = model_line[:-1]\n",
    "        #print(human_line,\":\", model_line)\n",
    "        cer_sum += editdistance.eval(human_line, model_line)\n",
    "        n_chars_gt += len(human_line)\n",
    "        n_evaluated_lines += 1\n",
    "        #print(cer_sum, n_chars_gt)\n",
    "    return cer_sum, n_chars_gt, n_evaluated_lines"
   ]
  },
  {
   "cell_type": "code",
   "execution_count": 5,
   "id": "11fc4cb3-e477-49f6-b0bf-80aaa30d4dcd",
   "metadata": {
    "execution": {
     "iopub.execute_input": "2024-11-30T20:20:25.398625Z",
     "iopub.status.busy": "2024-11-30T20:20:25.395621Z",
     "iopub.status.idle": "2024-11-30T20:20:25.424618Z",
     "shell.execute_reply": "2024-11-30T20:20:25.419628Z",
     "shell.execute_reply.started": "2024-11-30T20:20:25.398625Z"
    }
   },
   "outputs": [],
   "source": [
    "def get_cer(names, name_prefix=\"438-1-219 л\"):\n",
    "    cer_sum = 0\n",
    "    n_chars_gt = 0\n",
    "    n_evaluated_lines = 0\n",
    "    for human_name in os.listdir(human_text_path):\n",
    "        if human_name[len(name_prefix):-4] in names:\n",
    "            with open(os.path.join(human_text_path, human_name), \"r\", encoding=\"utf-8-sig\") as human_file:\n",
    "                human_lines = human_file.readlines()\n",
    "            with open(os.path.join(model_text_path, human_name), \"r\", encoding=\"utf-8-sig\") as model_file:\n",
    "                model_lines = model_file.readlines()\n",
    "            cer_from_lines = get_cer_from_lines(human_lines, model_lines)\n",
    "            if cer_from_lines is None:\n",
    "                print(f\"len(human_lines) != len(model_lines) for {human_name[len(name_prefix):-4]}\")\n",
    "            else:\n",
    "                cer_sum += cer_from_lines[0]\n",
    "                n_chars_gt += cer_from_lines[1]\n",
    "                n_evaluated_lines += cer_from_lines[2]\n",
    "\n",
    "    return {\"cer\": cer_sum / n_chars_gt, \"n_evaluated_lines\": n_evaluated_lines}"
   ]
  },
  {
   "cell_type": "code",
   "execution_count": 6,
   "id": "db3a3e66-036a-47a5-a1dd-598c1081b4f9",
   "metadata": {
    "execution": {
     "iopub.execute_input": "2024-11-30T20:20:25.428642Z",
     "iopub.status.busy": "2024-11-30T20:20:25.426633Z",
     "iopub.status.idle": "2024-11-30T20:20:25.562757Z",
     "shell.execute_reply": "2024-11-30T20:20:25.559979Z",
     "shell.execute_reply.started": "2024-11-30T20:20:25.428642Z"
    },
    "scrolled": true
   },
   "outputs": [
    {
     "name": "stdout",
     "output_type": "stream",
     "text": [
      "len(human_lines) != len(model_lines) for 25\n",
      "len(human_lines) != len(model_lines) for 2об\n",
      "len(human_lines) != len(model_lines) for 39об\n",
      "len(human_lines) != len(model_lines) for 55\n"
     ]
    },
    {
     "data": {
      "text/plain": [
       "{'cer': 0.08114695105993196, 'n_evaluated_lines': 1440}"
      ]
     },
     "execution_count": 6,
     "metadata": {},
     "output_type": "execute_result"
    }
   ],
   "source": [
    "get_cer(train_names)"
   ]
  },
  {
   "cell_type": "code",
   "execution_count": 7,
   "id": "88014a47-6613-4c2d-bee3-774f18482cd6",
   "metadata": {
    "execution": {
     "iopub.execute_input": "2024-11-30T20:20:25.571000Z",
     "iopub.status.busy": "2024-11-30T20:20:25.569998Z",
     "iopub.status.idle": "2024-11-30T20:20:25.613044Z",
     "shell.execute_reply": "2024-11-30T20:20:25.606096Z",
     "shell.execute_reply.started": "2024-11-30T20:20:25.571000Z"
    }
   },
   "outputs": [
    {
     "data": {
      "text/plain": [
       "{'cer': 0.2970104369361401, 'n_evaluated_lines': 119}"
      ]
     },
     "execution_count": 7,
     "metadata": {},
     "output_type": "execute_result"
    }
   ],
   "source": [
    "get_cer(val_names)"
   ]
  },
  {
   "cell_type": "code",
   "execution_count": 8,
   "id": "c3defda0-baaf-442d-a22d-020abed908b1",
   "metadata": {
    "execution": {
     "iopub.execute_input": "2024-11-30T20:20:25.620596Z",
     "iopub.status.busy": "2024-11-30T20:20:25.616606Z",
     "iopub.status.idle": "2024-11-30T20:20:25.674985Z",
     "shell.execute_reply": "2024-11-30T20:20:25.668241Z",
     "shell.execute_reply.started": "2024-11-30T20:20:25.620596Z"
    }
   },
   "outputs": [
    {
     "data": {
      "text/plain": [
       "{'cer': 0.23698435277382646, 'n_evaluated_lines': 74}"
      ]
     },
     "execution_count": 8,
     "metadata": {},
     "output_type": "execute_result"
    }
   ],
   "source": [
    "get_cer(test_names)"
   ]
  }
 ],
 "metadata": {
  "kernelspec": {
   "display_name": "Python 3 (ipykernel)",
   "language": "python",
   "name": "python3"
  },
  "language_info": {
   "codemirror_mode": {
    "name": "ipython",
    "version": 3
   },
   "file_extension": ".py",
   "mimetype": "text/x-python",
   "name": "python",
   "nbconvert_exporter": "python",
   "pygments_lexer": "ipython3",
   "version": "3.9.7"
  }
 },
 "nbformat": 4,
 "nbformat_minor": 5
}
